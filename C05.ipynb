{
 "cells": [
  {
   "cell_type": "markdown",
   "id": "24c5c810",
   "metadata": {},
   "source": [
    "---\n",
    "# INTERMEDIATE PYTHON PROGRAMMING\n",
    "# CHAPTER 5 - Use of AI, Data Visualization & Getting Started with Cloud Computing\n",
    "---"
   ]
  },
  {
   "cell_type": "markdown",
   "id": "56eba3b0-3ea1-4e74-9886-964be9968c10",
   "metadata": {},
   "source": [
    "# Use of AI for Programming Learning and Programming Productivity\n",
    "\n",
    "![Github Copilot](https://code.visualstudio.com/assets/docs/copilot/shared/github-copilot-social.png)\n",
    "\n",
    "## AI for Programming Learning\n",
    "- Chatbots guide you through concepts like **loops**, **functions**, and **object-oriented programming**\n",
    "- Auto-generated code explanations\n",
    "- AI can translate code from one language to other languages\n",
    "- It provides quick solutions for common errors and best practices.\n",
    "\n",
    "## AI for Programming Productivity\n",
    "- Code Assistant - code completion, generate code snippets\n",
    "- Debugging - identify errors and recommend fixes instantly\n",
    "- Generate comments and documentation, making the code more readable.\n",
    "\n",
    "Many Dev Tools come with built-in AI features.  Some already have generative AI features. **Github Copilot** is an example.  Other similar products include Tabnine, CodeWhisperer. \n",
    "\n",
    "[Click here to find out more about Github Copilot](https://github.com/features/copilot)\n",
    "\n",
    "\n"
   ]
  },
  {
   "cell_type": "markdown",
   "id": "badbd6e7-4155-42f1-bf30-824b8faacfb2",
   "metadata": {},
   "source": [
    "## Sample Data for Practicing Generative AI Prompts\n",
    "\n",
    "This part will demonstrates how to use GenAI to generate program codes and use them in notebook."
   ]
  },
  {
   "cell_type": "markdown",
   "id": "80f0a911-3b1f-46f2-b8ae-df75225ce669",
   "metadata": {},
   "source": [
    "### Importing pandas"
   ]
  },
  {
   "cell_type": "code",
   "execution_count": null,
   "id": "3c43bb31-b632-4d77-a564-643fc8f88302",
   "metadata": {},
   "outputs": [],
   "source": [
    "import pandas as pd"
   ]
  },
  {
   "cell_type": "markdown",
   "id": "8b8cd375-1a5e-4209-8887-104c93b9457b",
   "metadata": {},
   "source": [
    "### Creating `students` sample DataFrame"
   ]
  },
  {
   "cell_type": "code",
   "execution_count": null,
   "id": "9bc0cdbb-3520-4cbb-928a-0928077fae94",
   "metadata": {
    "scrolled": true
   },
   "outputs": [],
   "source": [
    "students = pd.DataFrame({\n",
    "    \"StudentID\": [\"1001\", \"1002\", \"1003\", \"1004\", \"1005\"],\n",
    "    \"Name\": [\"Andy\", \"Ben\", \"Cathy\", \"Debra\", \"Eva\"],\n",
    "    \"Age\": [20, 22, 23, 22, 21],\n",
    "    \"Sex\": [\"male\", \"male\", \"female\", \"female\", \"female\"],\n",
    "    \"Year\": [1, 3, 4, 3, 2]\n",
    "})\n",
    "students.set_index('StudentID', inplace=True) # set StudentID as indexing column\n",
    "students"
   ]
  },
  {
   "cell_type": "code",
   "execution_count": null,
   "id": "b098201d-f145-4d59-927a-0d4142ba8e67",
   "metadata": {},
   "outputs": [],
   "source": [
    "students"
   ]
  },
  {
   "cell_type": "markdown",
   "id": "d52764f0-2e83-437f-8411-48b8e3eb0ed9",
   "metadata": {},
   "source": [
    "### Showing meta data"
   ]
  },
  {
   "cell_type": "code",
   "execution_count": null,
   "id": "a48ce9ec-733b-469a-a348-15fc2f53ff0b",
   "metadata": {},
   "outputs": [],
   "source": [
    "students.info()"
   ]
  },
  {
   "cell_type": "code",
   "execution_count": null,
   "id": "2e6314e2-d5c9-4e6e-ac87-59290240ea36",
   "metadata": {},
   "outputs": [],
   "source": [
    "students.index"
   ]
  },
  {
   "cell_type": "markdown",
   "id": "d53082e1-7711-4fc0-92e4-6e0c1e09cb3e",
   "metadata": {},
   "source": [
    "## Prompt Examples\n",
    "Let's use Microsoft Copilot to practice.\n",
    "\n",
    "Go to [https://copilot.microsoft.com/](https://copilot.microsoft.com/) and use the following prompt for practicing\n",
    "\n",
    "### simple prompts\n",
    "- simple prompts are shorter  \n",
    "- quicker to type  \n",
    "- the codes provided are usually not directly usable, instead it need revising  \n",
    "```\n",
    "pandas select row or rows\n",
    "\n",
    "explain pandas iloc function\n",
    "\n",
    "compare pandas iloc function to loc function\n",
    "\n",
    "delete row in pandas dataframe\n",
    "\n",
    "pandas drop a column\n",
    "\n",
    "explain pandas dataframe dropna() function\n",
    "\n",
    "```"
   ]
  },
  {
   "cell_type": "code",
   "execution_count": null,
   "id": "ec68dcce-6120-451c-86c6-23c77d5b4dcb",
   "metadata": {},
   "outputs": [],
   "source": []
  },
  {
   "cell_type": "code",
   "execution_count": null,
   "id": "a8a72461-3b48-4f95-b951-f252c0e90395",
   "metadata": {},
   "outputs": [],
   "source": []
  },
  {
   "cell_type": "code",
   "execution_count": null,
   "id": "81ce8d03-7350-45da-af4a-bd329632edc2",
   "metadata": {},
   "outputs": [],
   "source": []
  },
  {
   "cell_type": "code",
   "execution_count": null,
   "id": "cf7c702a-facc-4778-8781-c6fee283c447",
   "metadata": {},
   "outputs": [],
   "source": []
  },
  {
   "cell_type": "markdown",
   "id": "9b45b57b-7e06-4676-ae73-46925511a53f",
   "metadata": {},
   "source": [
    "### complex prompts ###\n",
    "- longer, more specific\n",
    "- take more efforts to describe and type\n",
    "- the codes provided are very likely directly usable in your notebook\n",
    "\n",
    "```\n",
    "a pandas dataframe named 'students', how to delete the column named 'Name'\n",
    "\n",
    "a pandas dataframe named 'students', how to delete the column named 'Name' and 'Sex'\n",
    "\n",
    "a pandas dataframe named 'students', show all the rows that have 'female' value for 'Sex' column\n",
    "\n",
    "a pandas dataframe named 'students', show all the rows that have 'female' value for 'Sex' column or value for 'Year' column is '3'\n",
    "```"
   ]
  },
  {
   "cell_type": "code",
   "execution_count": null,
   "id": "1da58a5a-638a-4823-b9cd-b93428e53a49",
   "metadata": {},
   "outputs": [],
   "source": []
  },
  {
   "cell_type": "code",
   "execution_count": null,
   "id": "a1a14b99-e900-4cb6-ae13-e5bdc6ba1f06",
   "metadata": {},
   "outputs": [],
   "source": []
  },
  {
   "cell_type": "code",
   "execution_count": null,
   "id": "19e71563-85d1-4925-94c1-e20705143847",
   "metadata": {},
   "outputs": [],
   "source": []
  },
  {
   "cell_type": "code",
   "execution_count": null,
   "id": "fa056c56-a06d-4a5d-bd5e-2cc5424a9e52",
   "metadata": {},
   "outputs": [],
   "source": []
  },
  {
   "cell_type": "markdown",
   "id": "b574e6fa-f644-4503-88a7-529d814cea31",
   "metadata": {},
   "source": [
    "# WHAT IS DATA VISUALIZATION?\n",
    "\n",
    "![Data Visualization](https://echarts.apache.org/en/asset/theme/thumb/vintage.png?_v_=20240226)\n",
    "\n",
    "Data visualization is the process of representing data graphically to **make complex information easier to understand and analyze**. It uses charts, graphs, maps, and other visual formats to reveal patterns, trends, and relationships within data.\n",
    "\n",
    "Data visualization is widely used in business analytics, scientific research, finance, healthcare, and AI to extract valuable insights."
   ]
  },
  {
   "cell_type": "markdown",
   "id": "27ba39de-0afb-4daf-915b-fc5d24c4bcf7",
   "metadata": {},
   "source": [
    "## Why is Data Visualization Important?\n",
    "\n",
    "**Simplifies Complex Data** – Helps make large datasets more digestible.\n",
    "\n",
    "**Enhances Decision-Making** – Identifies trends and insights quickly.\n",
    "\n",
    "**Highlights Patterns & Outliers** – Makes anomalies and correlations easier to spot.\n",
    "\n",
    "**Engages & Communicates Effectively** – Improves storytelling with data."
   ]
  },
  {
   "cell_type": "markdown",
   "id": "ebbf224c",
   "metadata": {},
   "source": [
    "## Introduce Types for Charts\n",
    "\n",
    "![Chart Types](https://res.cloudinary.com/dry8rzbyx/image/fetch/s--qnRgKQnZ--/f_auto/q_auto/c_scale,w_550/https://www.knime.com/sites/default/files/public/2024-03/echarts-blog-header.jpg)\n",
    "\n",
    "1. **Bar Chart** 📊  Used to compare categories or groups using rectangular bars.  \n",
    "Example: Comparing sales revenue across different product categories.\n",
    "1. **Line Chart** 📈  Shows trends over time by connecting data points with a continuous line.  \n",
    "Example: Tracking stock prices or temperature changes.\n",
    "1. **Pie Chart** 🥧  Represents proportions in a circular format, dividing sections based on percentage values.  \n",
    "Example: Market share distribution among competitors.  \n",
    "1. **Scatter Plot** ⚫  Displays relationships between two continuous variables, highlighting correlations.  \n",
    "Example: Examining height vs. weight of individuals.\n",
    "1. **Histogram** 📉  Used to show the distribution of data, grouping values into bins.  \n",
    "Example: Examining student test score frequency.\n",
    "1. **Heatmap** 🔥  Represents density or intensity using colors in a grid format.  \n",
    "Example: Website click heatmaps or correlation matrices.\n",
    "1. **Box Plot** (Box-and-Whisker Plot) 📦  Summarizes data distribution through quartiles and identifies outliers.  \n",
    "Example: Analyzing salary distributions across industries.\n",
    "\n",
    "Each chart serves a unique purpose depending on the dataset and the insights needed."
   ]
  },
  {
   "attachments": {},
   "cell_type": "markdown",
   "id": "13274a41-6637-4f4f-aec5-354939a666f0",
   "metadata": {},
   "source": [
    "## When to use which type of chart\n",
    "There are so many ways to visualise data – how do we know which one to pick?\n",
    "\n",
    "Financial Times compiles this [Visual Vocabulary](https://ft-interactive.github.io/visual-vocabulary/) help you understand different types of charts and when to use them.\n",
    "\n",
    "![Visual Vocabulary](./images/ft-visual-vocabulary.png)"
   ]
  },
  {
   "cell_type": "markdown",
   "id": "a33ca5e1",
   "metadata": {},
   "source": [
    "# Matplotlib Introduction\n",
    "Matplotlib is a low level graph plotting library for python."
   ]
  },
  {
   "cell_type": "markdown",
   "id": "b59b386a",
   "metadata": {},
   "source": [
    "## Import `matplotlib`\n",
    "\n",
    "Most of the features that we will use belong to `pyplot` submodule.\n",
    "\n",
    "The sub module is usually imported as `plt` alias.\n",
    "\n",
    "```\n",
    "import numpy as np\n",
    "import pandas as pd\n",
    "import matplotlib.pyplot as plt\n",
    "%matplotlib inline\n",
    "```\n",
    "\n",
    "`%matplotlib inline` is a magic function used in Jupyter Notebook to display matplotlib plots directly within the notebook instead of opening a separate window.\n",
    "\n",
    "You can try to ask AI to explain it\n",
    "```\n",
    "what is python %matplotlib inline\n",
    "```\n",
    "\n",
    "If your chart is not showing up, it's probably because of the notebook backend issue.  try run `%matplotlib inline` again.  If it still doesn't work, add `plt.show()` as the last line of each chart generation."
   ]
  },
  {
   "cell_type": "code",
   "execution_count": null,
   "id": "4c1ce5eb",
   "metadata": {},
   "outputs": [],
   "source": [
    "import numpy as np\n",
    "import pandas as pd\n",
    "import matplotlib.pyplot as plt\n",
    "%matplotlib inline"
   ]
  },
  {
   "cell_type": "markdown",
   "id": "1d3a46c4",
   "metadata": {},
   "source": [
    "## Simple Line Plot\n",
    "\n",
    "**Syntax**:\n",
    "\n",
    "Use `plot()` function to draw points.\n",
    "\n",
    "By default, the `plot()` function draws a **line** from point to point.\n",
    "\n",
    "It takes TWO parameters to make a point: \n",
    "\n",
    "* `x` is an array containing the points on the x-axis.\n",
    "\n",
    "* `y` is an array containing the points on the y-axis.\n",
    "\n",
    "```\n",
    "plt.plot(x, y)\n",
    "```\n",
    "\n",
    "* `x`: a numpy array for x-axis\n",
    "* `y`: a numpy array for y-axis\n",
    "\n",
    "**`plot()` function generates line plot by default**:\n",
    "```\n",
    "n = np.arange(1,11) # a range of number from 1 to 10\n",
    "\n",
    "plt.plot(n, n*2)\n",
    "```\n"
   ]
  },
  {
   "cell_type": "code",
   "execution_count": null,
   "id": "b41410f1",
   "metadata": {},
   "outputs": [],
   "source": [
    "n = np.arange(1,11) # a range of number from 1 to 10\n",
    "plt.plot(n, n*2)"
   ]
  },
  {
   "cell_type": "markdown",
   "id": "84350ff1",
   "metadata": {},
   "source": [
    "## Plot Without Line (Markers Only)\n",
    "\n",
    "Add a third parameter to specify the marker so as to plot without line. \n",
    "\n",
    "```\n",
    "plt.plot(n, n*2, 'o') # the third parameter 'o' is the marker shape\n",
    "```"
   ]
  },
  {
   "cell_type": "code",
   "execution_count": null,
   "id": "3b98abd9",
   "metadata": {},
   "outputs": [],
   "source": [
    "plt.plot(n, n*2, 'o') # the third parameter 'o' is the marker shape"
   ]
  },
  {
   "cell_type": "markdown",
   "id": "2074e42d",
   "metadata": {},
   "source": [
    "## Other Marker Shapes\n",
    "\n",
    "Other markers to consider:\n",
    "\n",
    "- `'o'`\tCircle\t\n",
    "- `'*'`\tStar\t\n",
    "- `'.'`\tPoint\t\n",
    "- `','`\tPixel\t\n",
    "- `'x'`\tX\t\n",
    "- `'X'`\tX (filled)\t\n",
    "- `'+'`\tPlus\t\n",
    "- `'P'`\tPlus (filled)\t\n",
    "- `'s'`\tSquare\t\n",
    "- `'D'`\tDiamond\t\n",
    "- `'d'`\tDiamond (thin)\t\n",
    "- `'p'`\tPentagon\t\n",
    "- `'H'`\tHexagon\t\n",
    "- `'h'`\tHexagon\t\n",
    "- `'v'`\tTriangle Down\t\n",
    "- `'^'`\tTriangle Up\t\n",
    "- `'<'`\tTriangle Left\t\n",
    "- `'>'`\tTriangle Right\t\n",
    "- `'1'`\tTri Down\t\n",
    "- `'2'`\tTri Up\t\n",
    "- `'3'`\tTri Left\t\n",
    "- `'4'`\tTri Right\t\n",
    "- `'|'`\tVline\t\n",
    "- `'_'`\tHline\n",
    "\n",
    "Examples:\n",
    "```\n",
    "plt.plot(n, n*2, 'D') # diamond marker\n",
    "```"
   ]
  },
  {
   "cell_type": "code",
   "execution_count": null,
   "id": "ba74be54",
   "metadata": {},
   "outputs": [],
   "source": [
    "plt.plot(n, n*2, 'D') # diamond marker"
   ]
  },
  {
   "cell_type": "markdown",
   "id": "4856997b",
   "metadata": {},
   "source": [
    "## Plotting Both Line and Markers\n",
    "\n",
    "Add a parameter name `marker` to your function to keep both line and markers.\n",
    "\n",
    "**Examples**:\n",
    "```\n",
    "n = np.arange(1,11) # a range of number from 1 to 10\n",
    "plt.plot(n, n*2, marker='D') # diamond marker\n",
    "```\n",
    "\n",
    "**Specifying Marker Size**:\n",
    "```\n",
    "n = np.arange(1,11) # a range of number from 1 to 10\n",
    "plt.plot(n, n*2, marker='o', ms=10) # ms: marker size\n",
    "```\n",
    "\n",
    "**Specifying Marker Fill Color**:\n",
    "```\n",
    "plt.plot(n, n*2, marker='o', mfc='#FF00FF') # mfc is marker fill color\n",
    "```"
   ]
  },
  {
   "cell_type": "code",
   "execution_count": null,
   "id": "39f2ee35",
   "metadata": {},
   "outputs": [],
   "source": [
    "plt.plot(n, n*2, marker='o', mfc='#FF00FF') # mfc is marker fill color"
   ]
  },
  {
   "cell_type": "markdown",
   "id": "1a765e85",
   "metadata": {},
   "source": [
    "## Line Styles\n",
    "\n",
    "Add parameter `ls` to specify the line style\n",
    "\n",
    "* `-`: solid line\n",
    "* `:`: dotted line\n",
    "* `--`: dashed line\n",
    "* `-.`: dashdot line\n",
    "\n",
    "Example:\n",
    "```\n",
    "plt.plot(n, n*2, ls=\":\") # ls: line style\n",
    "```\n",
    "\n",
    "Add `color` or `c` parameter to specify the line color\n",
    "```\n",
    "plt.plot(n, n*2, color=\"purple\") # color: line color\n",
    "```"
   ]
  },
  {
   "cell_type": "code",
   "execution_count": null,
   "id": "57fdcdb1",
   "metadata": {},
   "outputs": [],
   "source": [
    "plt.plot(n, n*2, color=\"purple\") # color: line color"
   ]
  },
  {
   "cell_type": "markdown",
   "id": "84d0324a",
   "metadata": {},
   "source": [
    "## Help with `plot()` function\n",
    "\n",
    "Type\n",
    "```\n",
    "?plt.plot\n",
    "```\n",
    "\n",
    "or\n",
    "\n",
    "```\n",
    "help(plt.plot)\n",
    "```"
   ]
  },
  {
   "cell_type": "code",
   "execution_count": null,
   "id": "fa2c0625",
   "metadata": {},
   "outputs": [],
   "source": [
    "?plt.plot"
   ]
  },
  {
   "cell_type": "markdown",
   "id": "d33c6174-34c9-4889-b716-63459e867c44",
   "metadata": {},
   "source": [
    "## Plot with Real Data\n",
    "\n",
    "**import graduates.csv data file**\n",
    "```\n",
    "gra = pd.read_csv('./data/graduates.csv') \n",
    "```"
   ]
  },
  {
   "cell_type": "code",
   "execution_count": null,
   "id": "29d443d2",
   "metadata": {},
   "outputs": [],
   "source": [
    "gra = pd.read_csv('./data/graduates.csv')"
   ]
  },
  {
   "cell_type": "code",
   "execution_count": null,
   "id": "00696297",
   "metadata": {
    "scrolled": true
   },
   "outputs": [],
   "source": [
    "gra"
   ]
  },
  {
   "cell_type": "markdown",
   "id": "74bad8eb-8dc1-462f-8092-e9b90cfddb7a",
   "metadata": {},
   "source": [
    "**use `unique()` function to list possible column value**\n",
    "```\n",
    "gra['AcademicYear'].unique()\n",
    "gra['LevelOfStudy'].unique()\n",
    "gra['ProgrammeCategory'].unique()\n",
    "gra['Sex'].unique()\n",
    "```"
   ]
  },
  {
   "cell_type": "code",
   "execution_count": null,
   "id": "681d8180-002e-42c3-ae93-ae2cfff2ead0",
   "metadata": {},
   "outputs": [],
   "source": [
    "gra['AcademicYear'].unique()"
   ]
  },
  {
   "cell_type": "code",
   "execution_count": null,
   "id": "fc939521-0900-4a1d-911e-be5249da2c33",
   "metadata": {},
   "outputs": [],
   "source": [
    "gra['LevelOfStudy'].unique()"
   ]
  },
  {
   "cell_type": "code",
   "execution_count": null,
   "id": "3a5fc350-a374-44d9-b6a0-d04afdd18073",
   "metadata": {},
   "outputs": [],
   "source": [
    "gra['ProgrammeCategory'].unique()"
   ]
  },
  {
   "cell_type": "code",
   "execution_count": null,
   "id": "dc39d8ce-0960-435b-a883-c68cdf545c8f",
   "metadata": {},
   "outputs": [],
   "source": [
    "gra['Sex'].unique()"
   ]
  },
  {
   "cell_type": "markdown",
   "id": "10f9edac-d43c-456b-b675-d821619bd6f2",
   "metadata": {
    "jp-MarkdownHeadingCollapsed": true
   },
   "source": [
    "**select subset of undergraduate in 'Business and Management' and male students only**\n",
    "```\n",
    "ug_bm_m = gra[(gra['LevelOfStudy']=='Undergraduate') \n",
    "                    & (gra['ProgrammeCategory']=='Business and Management') \n",
    "                    & (gra['Sex']=='Male')]\n",
    "ug_bm_m.head() # shows the rows previews\n",
    "ug_bm_m.info() # show dataframe information\n",
    "```"
   ]
  },
  {
   "cell_type": "code",
   "execution_count": null,
   "id": "8d66150e",
   "metadata": {},
   "outputs": [],
   "source": [
    "ug_bm_m = gra[(gra['LevelOfStudy']=='Undergraduate') \n",
    "                    & (gra['ProgrammeCategory']=='Business and Management') \n",
    "                    & (gra['Sex']=='Male')]"
   ]
  },
  {
   "cell_type": "code",
   "execution_count": null,
   "id": "2b1d8e2c-1f8f-4fad-bddb-ddf6773598af",
   "metadata": {},
   "outputs": [],
   "source": [
    "ug_bm_m.head() # shows the rows previews"
   ]
  },
  {
   "cell_type": "code",
   "execution_count": null,
   "id": "07bab99d-5c1b-475f-bb10-1fa1820b8122",
   "metadata": {},
   "outputs": [],
   "source": [
    "ug_bm_m.info() # show dataframe information"
   ]
  },
  {
   "cell_type": "markdown",
   "id": "fb1b7359-ff12-4563-b3cb-1cef47d66d61",
   "metadata": {
    "jp-MarkdownHeadingCollapsed": true
   },
   "source": [
    "**Extact the required columns in the format of numpy array for x-axis and y-axis**\n",
    "\n",
    "extract `AcademicYear` column as `year` numpy array\n",
    "```\n",
    "year = ug_bm_m['AcademicYear']\n",
    "```\n",
    "\n",
    "extract `Headcount` column as `headcount` numpy array\n",
    "```\n",
    "headcount = ug_bm_m['Headcount'] \n",
    "```\n",
    "\n",
    "`year` as x-axis and `headcount` as y-axis\n",
    "```\n",
    "plt.plot(year, headcount)\n",
    "```"
   ]
  },
  {
   "cell_type": "code",
   "execution_count": null,
   "id": "e8108073-01a6-4b2c-a029-961ecf7f876e",
   "metadata": {},
   "outputs": [],
   "source": [
    "year = ug_bm_m['AcademicYear']"
   ]
  },
  {
   "cell_type": "code",
   "execution_count": null,
   "id": "50283169-7fa2-45d9-bc5a-feb19702c2f5",
   "metadata": {},
   "outputs": [],
   "source": [
    "headcount = ug_bm_m['Headcount'] "
   ]
  },
  {
   "cell_type": "code",
   "execution_count": null,
   "id": "4c79453b-a0fb-4a43-925a-84fbb20581d3",
   "metadata": {},
   "outputs": [],
   "source": [
    "plt.plot(year, headcount)"
   ]
  },
  {
   "cell_type": "markdown",
   "id": "8dc4cf1a-d8db-4397-aa86-213afce13dca",
   "metadata": {
    "jp-MarkdownHeadingCollapsed": true
   },
   "source": [
    "**Plot without providing x column**:\n",
    "\n",
    "you can plot without providing x-axis. the index number/row number will be automatically used as values for x-axis\n",
    "```\n",
    "plt.plot(headcount) \n",
    "```"
   ]
  },
  {
   "cell_type": "code",
   "execution_count": null,
   "id": "2563f567",
   "metadata": {},
   "outputs": [],
   "source": [
    "plt.plot(headcount)"
   ]
  },
  {
   "cell_type": "markdown",
   "id": "3626b9d2",
   "metadata": {},
   "source": [
    "## Rotating the xtickes\n",
    "\n",
    "Call `xticks()` function to rotate the xticks.  \n",
    "\n",
    "It requires a `rotation` degree in as parameter.\n",
    "\n",
    "Example:\n",
    "```\n",
    "plt.xticks(rotation=90)\n",
    "plt.plot(year, headcount)\n",
    "```"
   ]
  },
  {
   "cell_type": "code",
   "execution_count": null,
   "id": "95c34715",
   "metadata": {},
   "outputs": [],
   "source": [
    "plt.xticks(rotation=90)\n",
    "plt.plot(year, headcount)"
   ]
  },
  {
   "cell_type": "markdown",
   "id": "bd86f31d",
   "metadata": {},
   "source": [
    "## Setting Title\n",
    "\n",
    "**Use `title()` function to add plot title**\n",
    "\n",
    "Example:\n",
    "```\n",
    "plt.title('Undergraduate Students \\n Business and Management')\n",
    "\n",
    "plt.plot(year, headcount)\n",
    "```\n",
    "\n",
    "You can specify title location with `loc` paremeter\n",
    "```\n",
    "plt.title('Undergraduate Students \\n Business and Management', loc=\"right\")\n",
    "plt.title('Undergraduate Students \\n Business and Management', loc=\"left\")\n",
    "\n",
    "```\n",
    "\n",
    "You can specify title font size with `fontsize` parameter\n",
    "```\n",
    "plt.title('Undergraduate Students \\n Business and Management', fontsize=22) \n",
    "```"
   ]
  },
  {
   "cell_type": "code",
   "execution_count": null,
   "id": "6801f96f",
   "metadata": {},
   "outputs": [],
   "source": [
    "plt.title('Undergraduate Students \\n Business and Management') \n",
    "plt.plot(year, headcount)"
   ]
  },
  {
   "cell_type": "markdown",
   "id": "46062e13",
   "metadata": {},
   "source": [
    "## Setting Axis Labels\n",
    "\n",
    "**Use `xlabel()` and `ylabel()` to add axis labels**\n",
    "\n",
    "Example:\n",
    "```\n",
    "plt.xlabel('Academic Year')\n",
    "plt.xticks(rotation=60)\n",
    "plt.ylabel('Student Headcount', fontsize=14)\n",
    "plt.plot(year, headcount)\n",
    "```"
   ]
  },
  {
   "cell_type": "code",
   "execution_count": null,
   "id": "811c5efc",
   "metadata": {},
   "outputs": [],
   "source": [
    "plt.xlabel('Academic Year')\n",
    "plt.ylabel('Student Headcount', fontsize=14)\n",
    "plt.xticks(rotation=60)\n",
    "plt.plot(year, headcount)"
   ]
  },
  {
   "cell_type": "markdown",
   "id": "6291fe1c",
   "metadata": {},
   "source": [
    "## Plotting Multiple Lines\n",
    "\n",
    "You can plot multiple lines simply by adding more `plot()` function.\n",
    "\n",
    "**Extracting Female undergraduate in 'Business and Management' for another plot**\n",
    "```\n",
    "ug_bm_f = gra[(gra['LevelOfStudy']=='Undergraduate') \n",
    "                    & (gra['ProgrammeCategory']=='Business and Management') \n",
    "                    & (gra['Sex']=='Female')]\n",
    "```\n",
    "\n",
    "**Plotting multiple lines**\n",
    "```\n",
    "plt.plot(ug_bm_f['AcademicYear'], ug_bm_f['Headcount'])\n",
    "plt.plot(ug_bm_m['AcademicYear'], ug_bm_m['Headcount'])\n",
    "```"
   ]
  },
  {
   "cell_type": "code",
   "execution_count": null,
   "id": "50753e3a",
   "metadata": {},
   "outputs": [],
   "source": [
    "ug_bm_f = gra[(gra['LevelOfStudy']=='Undergraduate') \n",
    "                    & (gra['ProgrammeCategory']=='Business and Management') \n",
    "                    & (gra['Sex']=='Female')]\n",
    "ug_bm_f.head()"
   ]
  },
  {
   "cell_type": "code",
   "execution_count": null,
   "id": "b59e32f2",
   "metadata": {},
   "outputs": [],
   "source": [
    "plt.plot(ug_bm_f['AcademicYear'], ug_bm_f['Headcount'])\n",
    "plt.plot(ug_bm_m['AcademicYear'], ug_bm_m['Headcount'])"
   ]
  },
  {
   "cell_type": "markdown",
   "id": "649cd10d",
   "metadata": {},
   "source": [
    "## Add Labels to Line and Show Legend\n",
    "\n",
    "\n",
    "**Adding Labels and Color to Plots**\n",
    "In the above plots, you can't tell which line is which. \n",
    "\n",
    "Let's add label and color to differentiate the lines\n",
    "```\n",
    "plt.plot(ug_bm_f['AcademicYear'], ug_bm_f['Headcount'], label = \"Female\", c=\"tomato\")\n",
    "\n",
    "plt.plot(ug_bm_m['AcademicYear'], ug_bm_m['Headcount'], label = \"Male\")\n",
    "\n",
    "plt.legend() # call this function to show legend\n",
    "```\n",
    "\n",
    "You can change the location of legend if it's blocking your lines\n",
    "```\n",
    "plt.legend(loc=\"center right\")\n",
    "```"
   ]
  },
  {
   "cell_type": "code",
   "execution_count": null,
   "id": "6cb633de",
   "metadata": {},
   "outputs": [],
   "source": [
    "plt.plot(ug_bm_f['AcademicYear'], ug_bm_f['Headcount'], label = \"Female\", c=\"tomato\")\n",
    "plt.plot(ug_bm_m['AcademicYear'], ug_bm_m['Headcount'], label = \"Male\")\n",
    "plt.legend()"
   ]
  },
  {
   "cell_type": "markdown",
   "id": "2cb36f50",
   "metadata": {},
   "source": [
    "## Configuring Grid Lines\n",
    "\n",
    "**Call `grid()` function to configure grid line**\n",
    "\n",
    "Example:\n",
    "```\n",
    "plt.plot(ug_bm_f['AcademicYear'], ug_bm_f['Headcount'], label = \"Female\", c=\"tomato\")\n",
    "\n",
    "plt.plot(ug_bm_m['AcademicYear'], ug_bm_m['Headcount'], label = \"Male\")\n",
    "\n",
    "plt.grid() # shows both x and y axis grid lines\n",
    "\n",
    "plt.grid(axis='y') # shows y-axis grid lines only\n",
    "\n",
    "plt.grid(axis='x') # shows x-axis grid lines only\n",
    "\n",
    "```\n",
    "\n",
    "**Configuring `color` and `linewidth`**\n",
    "```\n",
    "plt.grid(c=\"purple\", linewidth=0.1)\n",
    "```\n",
    "\n",
    "\n",
    "**Check help for more on configuring grid lines**\n",
    "```\n",
    "?plt.grid\n",
    "help(plt.grid)\n",
    "```\n"
   ]
  },
  {
   "cell_type": "code",
   "execution_count": null,
   "id": "96be359d",
   "metadata": {},
   "outputs": [],
   "source": [
    "plt.plot(ug_bm_f['AcademicYear'], ug_bm_f['Headcount'], label = \"Female\", c=\"tomato\")\n",
    "plt.plot(ug_bm_m['AcademicYear'], ug_bm_m['Headcount'], label = \"Male\")\n",
    "plt.grid() # shows both x and y axis grid lines\n",
    "plt.grid(axis='y') # shows y-axis grid lines only\n",
    "plt.grid(axis='x') # shows x-axis grid lines only\n",
    "plt.grid(c=\"purple\", linewidth=0.1)"
   ]
  },
  {
   "cell_type": "markdown",
   "id": "d88632b9-cdce-4d54-8d9c-0fb05610a20c",
   "metadata": {},
   "source": [
    "## Subplots\n",
    "\n",
    "To draw multiple plots in one figure, use `subplot()` function to specify the the number of `row`, `column` and the `position` of current plot.\n",
    "\n",
    "**Example 1: 1 Row x 2 Columns**\n",
    "```\n",
    "plt.subplot(1,2,1) # the first two number are row and column while the last number is position\n",
    "plt.plot(ug_bm_f['AcademicYear'], ug_bm_f['Headcount'], label = \"Female\", c=\"tomato\")\n",
    "plt.title(\"Female\")\n",
    "\n",
    "plt.subplot(1,2,2)\n",
    "plt.plot(ug_bm_m['AcademicYear'], ug_bm_m['Headcount'], label = \"Male\")\n",
    "plt.title(\"Male\")\n",
    "```"
   ]
  },
  {
   "cell_type": "code",
   "execution_count": null,
   "id": "8f3c2a97",
   "metadata": {},
   "outputs": [],
   "source": [
    "plt.subplot(1,2,1) # the first two number are row and column while the last number is position\n",
    "plt.plot(ug_bm_f['AcademicYear'], ug_bm_f['Headcount'], label = \"Female\", c=\"tomato\")\n",
    "plt.title(\"Female\")\n",
    "\n",
    "plt.subplot(1,2,2)\n",
    "plt.plot(ug_bm_m['AcademicYear'], ug_bm_m['Headcount'], label = \"Male\")\n",
    "plt.title(\"Male\")\n"
   ]
  },
  {
   "cell_type": "markdown",
   "id": "39ad5e4c-204d-471c-aee0-0bb61d1bf73f",
   "metadata": {},
   "source": [
    "**Example 2: Two Rows x 1 Column**\n",
    "```\n",
    "plt.subplot(2,1,1)\n",
    "plt.plot(ug_bm_f['AcademicYear'], ug_bm_f['Headcount'], label = \"Female\", c=\"tomato\")\n",
    "plt.title(\"Female\")\n",
    "\n",
    "plt.subplot(2,1,2)\n",
    "plt.plot(ug_bm_m['AcademicYear'], ug_bm_m['Headcount'], label = \"Male\")\n",
    "plt.title(\"Male\")\n",
    "```"
   ]
  },
  {
   "cell_type": "code",
   "execution_count": null,
   "id": "65a20bf3",
   "metadata": {},
   "outputs": [],
   "source": [
    "plt.subplot(2,1,1)\n",
    "plt.plot(ug_bm_f['AcademicYear'], ug_bm_f['Headcount'], label = \"Female\", c=\"tomato\")\n",
    "plt.title(\"Female\")\n",
    "\n",
    "plt.subplot(2,1,2)\n",
    "plt.plot(ug_bm_m['AcademicYear'], ug_bm_m['Headcount'], label = \"Male\")\n",
    "plt.title(\"Male\")"
   ]
  },
  {
   "cell_type": "markdown",
   "id": "1a84feb2",
   "metadata": {},
   "source": [
    "## Bar Plot\n",
    "\n",
    "bar plot can be either vertical or horizontal"
   ]
  },
  {
   "cell_type": "markdown",
   "id": "65291ba3",
   "metadata": {},
   "source": [
    "**Example**:\n",
    "\n",
    "```\n",
    "plt.bar(ug_bm_m['AcademicYear'], ug_bm_m['Headcount'])\n",
    "```"
   ]
  },
  {
   "cell_type": "code",
   "execution_count": null,
   "id": "a05b82b9",
   "metadata": {},
   "outputs": [],
   "source": [
    "plt.bar(ug_bm_m['AcademicYear'], ug_bm_m['Headcount'])"
   ]
  },
  {
   "cell_type": "markdown",
   "id": "befd9584",
   "metadata": {},
   "source": [
    "**Example:**\n",
    "```\n",
    "plt.barh(ug_bm_m['AcademicYear'], ug_bm_m['Headcount'])\n",
    "```"
   ]
  },
  {
   "cell_type": "code",
   "execution_count": null,
   "id": "9974d8c0",
   "metadata": {},
   "outputs": [],
   "source": [
    "plt.barh(ug_bm_m['AcademicYear'], ug_bm_m['Headcount'])"
   ]
  },
  {
   "cell_type": "markdown",
   "id": "67f45ab7",
   "metadata": {},
   "source": [
    "## Histograms\n",
    "\n",
    "A histogram is a graph showing frequency distributions.\n",
    "```\n",
    "heights = np.random.normal(170, 10, 250)\n",
    "print(heights)\n",
    "\n",
    "plt.hist(heights)\n",
    "```\n",
    "\n"
   ]
  },
  {
   "cell_type": "code",
   "execution_count": null,
   "id": "0f166101",
   "metadata": {},
   "outputs": [],
   "source": [
    "heights = np.random.normal(170, 10, 250)\n",
    "print(heights)\n",
    "\n",
    "plt.hist(heights)"
   ]
  },
  {
   "cell_type": "markdown",
   "id": "7439b7f1-6c5d-4473-b098-19ce1ea21097",
   "metadata": {},
   "source": [
    "## Pie Chart\n",
    "\n",
    "Pie Chart lets you emphasize the portion of whole.\n",
    "\n",
    "**Use `unique()` function to show the distinct values of a column**\n",
    "```\n",
    "gra['LevelOfStudy'].unique()\n",
    "gra['ProgrammeCategory'].unique()\n",
    "```"
   ]
  },
  {
   "cell_type": "code",
   "execution_count": null,
   "id": "d6a94206-cbbc-4180-ac77-b3f7a80b253f",
   "metadata": {},
   "outputs": [],
   "source": [
    "gra['LevelOfStudy'].unique()"
   ]
  },
  {
   "cell_type": "code",
   "execution_count": null,
   "id": "ba5feb9f-dde8-4632-a16c-15de8a016d1d",
   "metadata": {},
   "outputs": [],
   "source": [
    "gra['ProgrammeCategory'].unique()"
   ]
  },
  {
   "cell_type": "markdown",
   "id": "fe410617-5977-4cce-81e2-8f85f79483c3",
   "metadata": {},
   "source": [
    "**Exacting Rows**\n",
    "```\n",
    "engr_m_2023 = gra[(gra['ProgrammeCategory']==\"Engineering and Technology\") &\n",
    "             (gra['Sex']=='Male') &\n",
    "             (gra['AcademicYear']=='2023/24')]\n",
    "\n",
    "ug_m_2023 = gra[(gra['LevelOfStudy']==\"Undergraduate\") &\n",
    "             (gra['Sex']=='Male') &\n",
    "             (gra['AcademicYear']=='2023/24')]\n",
    "```"
   ]
  },
  {
   "cell_type": "code",
   "execution_count": null,
   "id": "9d9259ce",
   "metadata": {},
   "outputs": [],
   "source": [
    "engr_m_2023 = gra[(gra['ProgrammeCategory']==\"Engineering and Technology\") &\n",
    "             (gra['Sex']=='Male') &\n",
    "             (gra['AcademicYear']=='2023/24')]\n",
    "\n",
    "ug_m_2023 = gra[(gra['LevelOfStudy']==\"Undergraduate\") &\n",
    "             (gra['Sex']=='Male') &\n",
    "             (gra['AcademicYear']=='2023/24')]"
   ]
  },
  {
   "cell_type": "markdown",
   "id": "2ac39699-847e-46cc-85b3-a51ca06fae54",
   "metadata": {},
   "source": [
    "**Plotting Pie-chart with Labels**\n",
    "```\n",
    "plt.pie(engr_m_2023['Headcount'], labels=engr_m_2023['LevelOfStudy'])\n",
    "plt.show()\n",
    "\n",
    "plt.pie(ug_m_2023['Headcount'], labels=ug_m_2023['ProgrammeCategory'])\n",
    "plt.show()\n",
    "```"
   ]
  },
  {
   "cell_type": "code",
   "execution_count": null,
   "id": "3ef44ed1",
   "metadata": {},
   "outputs": [],
   "source": [
    "plt.pie(engr_m_2023['Headcount'], labels=engr_m_2023['LevelOfStudy'])"
   ]
  },
  {
   "cell_type": "code",
   "execution_count": null,
   "id": "5b500979-6e92-4e17-864b-20f54bd23f1c",
   "metadata": {},
   "outputs": [],
   "source": [
    "plt.pie(engr_m_2023['Headcount'], labels=engr_m_2023['LevelOfStudy'])\n",
    "plt.show()"
   ]
  },
  {
   "cell_type": "code",
   "execution_count": null,
   "id": "a3f351b0",
   "metadata": {},
   "outputs": [],
   "source": [
    "plt.pie(ug_m_2023['Headcount'], labels=ug_m_2023['ProgrammeCategory'])\n",
    "plt.show()"
   ]
  },
  {
   "cell_type": "markdown",
   "id": "8188c5f0",
   "metadata": {
    "scrolled": true
   },
   "source": [
    "## Saving charts for later use\n",
    "\n",
    "Use `savefig()` function export generated charts as external files so that you can use them in your Power Point presentation or Word reports.\n",
    "\n",
    "```\n",
    "plt.pie(ug_m_2023['Headcount'], labels=ug_m_2023['ProgrammeCategory'])\n",
    "plt.savefig(\"./charts/pie.png\")\n",
    "plt.show()\n",
    "```"
   ]
  },
  {
   "cell_type": "code",
   "execution_count": null,
   "id": "fb907aed",
   "metadata": {},
   "outputs": [],
   "source": [
    "plt.pie(ug_m_2023['Headcount'], labels=ug_m_2023['ProgrammeCategory'])\n",
    "plt.savefig(\"./charts/pie.png\")\n",
    "plt.show()"
   ]
  },
  {
   "cell_type": "markdown",
   "id": "f7a51289",
   "metadata": {},
   "source": [
    "## More on Matplotlib\n",
    "[Matplotlib Tutorial](https://matplotlib.org/stable/tutorials/index.html)"
   ]
  },
  {
   "cell_type": "markdown",
   "id": "c5d6b620-17f6-44ad-b5bf-624784f69c5d",
   "metadata": {},
   "source": [
    "# Using Pandas Built-in Plotting\n",
    "\n",
    "The plot method on `Series` and `DataFrame` is just a simple wrapper around Matplotlib `plt.plot()`\n",
    "\n",
    "Using the Pandas built-in plotting is very handy. "
   ]
  },
  {
   "cell_type": "markdown",
   "id": "f8d5943a",
   "metadata": {},
   "source": [
    "## Importing Packages\n",
    "\n",
    "**Required Imports**\n",
    "```\n",
    "import numpy as np\n",
    "import pandas as pd\n",
    "import matplotlib.pyplot as plt\n",
    "import seaborn as sns\n",
    "```\n",
    "\n",
    "**plot inline**:\n",
    "```\n",
    "%matplotlib inline\n",
    "```"
   ]
  },
  {
   "cell_type": "markdown",
   "id": "7c7e6d2d-8098-4e4f-a2b7-324daf07d14c",
   "metadata": {},
   "source": [
    "**reading students data file**\n",
    "```\n",
    "students = pd.read_excel('./data/students.xlsx') \n",
    "```"
   ]
  },
  {
   "cell_type": "code",
   "execution_count": null,
   "id": "bf31f2b5",
   "metadata": {},
   "outputs": [],
   "source": [
    "students = pd.read_excel('./data/students.xlsx') \n",
    "students"
   ]
  },
  {
   "cell_type": "markdown",
   "id": "94b54ab4-0e0a-4437-b8c9-447cc693d689",
   "metadata": {},
   "source": [
    "**simple plot**\n",
    "```\n",
    "students.plot()\n",
    "\n",
    "students.plot.bar()\n",
    "\n",
    "students.plot(x='AcademicYear', y='Undergraduate')\n",
    "```\n",
    "\n",
    "The built-in plot is good enough to grab an early insight about your data.\n",
    "\n",
    "When you need some theming and styling on your plots, go for Seaborn"
   ]
  },
  {
   "cell_type": "code",
   "execution_count": null,
   "id": "cf1ee0fd",
   "metadata": {},
   "outputs": [],
   "source": [
    "students.plot()"
   ]
  },
  {
   "cell_type": "code",
   "execution_count": null,
   "id": "2e258bb5-7921-418f-a1a0-103bdf47369f",
   "metadata": {},
   "outputs": [],
   "source": [
    "students.plot.bar()"
   ]
  },
  {
   "cell_type": "code",
   "execution_count": null,
   "id": "67b56f08",
   "metadata": {},
   "outputs": [],
   "source": [
    "students.plot(x='AcademicYear', y='Undergraduate')"
   ]
  },
  {
   "cell_type": "markdown",
   "id": "bbde0964",
   "metadata": {},
   "source": [
    "## Pandas Built-in Plot Types\n",
    "\n",
    "Beside the default line-plot, you can choose the following plot types.\n",
    "\n",
    "* `bar` or `barh` for bar plots\n",
    "* `hist` for histogram\n",
    "* `box` for boxplot\n",
    "* `kde` or ‘density’ for density plots\n",
    "* `area` for area plots\n",
    "* `scatter` for scatter plots\n",
    "* `hexbin` for hexagonal bin plots\n",
    "* `pie` for pie plots\n",
    "\n",
    "\n",
    "Example:\n",
    "```\n",
    "students.plot(kind='bar')\n",
    "\n",
    "students.plot(kind='kde')\n",
    "\n",
    "students.plot(kind='box')\n",
    "plt.xticks(rotation=90)\n",
    "\n",
    "students.plot(x='AcademicYear', y='Undergraduate')\n",
    "```\n",
    "\n",
    "alternative syntax:\n",
    "```\n",
    "students.plot.bar()\n",
    "students.plot.bar(stacked=True)\n",
    "students.plot.kde()\n",
    "\n",
    "```"
   ]
  },
  {
   "cell_type": "code",
   "execution_count": null,
   "id": "7a1ed9c2",
   "metadata": {},
   "outputs": [],
   "source": [
    "students.plot(kind='bar')"
   ]
  },
  {
   "cell_type": "code",
   "execution_count": null,
   "id": "f13c056e",
   "metadata": {},
   "outputs": [],
   "source": [
    "students.plot(kind='kde')"
   ]
  },
  {
   "cell_type": "code",
   "execution_count": null,
   "id": "9c53daa6",
   "metadata": {},
   "outputs": [],
   "source": [
    "students.plot(kind='box')\n",
    "plt.xticks(rotation=90)"
   ]
  },
  {
   "cell_type": "code",
   "execution_count": null,
   "id": "18a0ec5c",
   "metadata": {},
   "outputs": [],
   "source": [
    "students.plot(x='AcademicYear', y='Undergraduate')"
   ]
  },
  {
   "cell_type": "markdown",
   "id": "8661b8d0",
   "metadata": {},
   "source": [
    "## More on pandas chart visualization\n",
    "\n",
    "[Pandas Chart Visualization](https://pandas.pydata.org/docs/user_guide/visualization.html)"
   ]
  },
  {
   "cell_type": "markdown",
   "id": "60f0ee7b",
   "metadata": {},
   "source": [
    "# Using Seaborn\n",
    "\n",
    "* Seaborn is a library that uses Matplotlib underneath to plot graphs.\n",
    "* Matplotlib usually requires numpy array as parameter while seaborn is friendly to pandas `DataFrame`. (Remember: `DataFrame` is the best form for data analysis?)\n",
    "* Seaborn offers built-in themes/styles and therefore makes plotting easier.\n",
    "* Seaborn is not to replace Matplotlib but complete Matplotlib.  \n",
    "* Seaborn and Matplotlib are usually used together."
   ]
  },
  {
   "cell_type": "markdown",
   "id": "0fdbb2ea",
   "metadata": {},
   "source": [
    "## Required Imports\n",
    "```\n",
    "import numpy as np\n",
    "import pandas as pd\n",
    "import matplotlib.pyplot as plt\n",
    "import seaborn as sns\n",
    "%matplotlib inline\n",
    "```"
   ]
  },
  {
   "cell_type": "code",
   "execution_count": null,
   "id": "4fbc5262",
   "metadata": {},
   "outputs": [],
   "source": [
    "import numpy as np\n",
    "import pandas as pd\n",
    "import matplotlib.pyplot as plt\n",
    "import seaborn as sns\n",
    "%matplotlib inline"
   ]
  },
  {
   "cell_type": "markdown",
   "id": "e053da33",
   "metadata": {},
   "source": [
    "## Built-in Seaborn Data Sets\n",
    "\n",
    "Use the following command to load the names of built-in data sets\n",
    "```\n",
    "sns.get_dataset_names()\n",
    "```\n",
    "\n",
    "To load built-in data set\n",
    "```\n",
    "iris = sns.load_dataset('iris')\n",
    "```\n",
    "\n",
    "Simple Scatter Plot\n",
    "```\n",
    "sns.scatterplot(data=iris, x='sepal_length', y='sepal_width')\n",
    "sns.scatterplot(data=iris, x='petal_length', y='petal_width')\n",
    "```"
   ]
  },
  {
   "cell_type": "code",
   "execution_count": null,
   "id": "6df246e9",
   "metadata": {},
   "outputs": [],
   "source": [
    "sns.get_dataset_names()"
   ]
  },
  {
   "cell_type": "code",
   "execution_count": null,
   "id": "96aea762-c29d-4179-bd68-de926f87cd80",
   "metadata": {},
   "outputs": [],
   "source": [
    "iris = sns.load_dataset('iris')"
   ]
  },
  {
   "cell_type": "code",
   "execution_count": null,
   "id": "95e8721a-395e-40d4-8c6f-76780fabe472",
   "metadata": {},
   "outputs": [],
   "source": [
    "sns.scatterplot(data=iris, x='sepal_length', y='sepal_width')"
   ]
  },
  {
   "cell_type": "code",
   "execution_count": null,
   "id": "c901e63d-8b03-43e0-8b8b-d55981e0fa96",
   "metadata": {},
   "outputs": [],
   "source": [
    "sns.scatterplot(data=iris, x='petal_length', y='petal_width')"
   ]
  },
  {
   "cell_type": "markdown",
   "id": "83de0e46",
   "metadata": {},
   "source": [
    "## Loading Data\n",
    "\n",
    "**Reading CSV File**\n",
    "```\n",
    "gra = pd.read_csv('./data/graduates.csv') \n",
    "```\n",
    "\n",
    "**Extracting Rows**\n",
    "```\n",
    "ug_bm_m = gra[(gra['LevelOfStudy']=='Undergraduate') \n",
    "                    & (gra['ProgrammeCategory']=='Business and Management') \n",
    "                    & (gra['Sex']=='Male')]\n",
    "```\n",
    "\n",
    "**Extracting the column required for plotting**\n",
    "```\n",
    "year = ug_bm_m['AcademicYear']\n",
    "headcount = ug_bm_m['Headcount']\n",
    "```"
   ]
  },
  {
   "cell_type": "code",
   "execution_count": null,
   "id": "ac2d72ae",
   "metadata": {},
   "outputs": [],
   "source": [
    "gra = pd.read_csv('./data/graduates.csv') "
   ]
  },
  {
   "cell_type": "code",
   "execution_count": null,
   "id": "4042886b-4590-4a36-8379-d927770a92d6",
   "metadata": {},
   "outputs": [],
   "source": [
    "ug_bm_m = gra[(gra['LevelOfStudy']=='Undergraduate') \n",
    "                    & (gra['ProgrammeCategory']=='Business and Management') \n",
    "                    & (gra['Sex']=='Male')]"
   ]
  },
  {
   "cell_type": "code",
   "execution_count": null,
   "id": "8105a3d7-bee9-420f-9ca1-dc2c594167d9",
   "metadata": {},
   "outputs": [],
   "source": [
    "year = ug_bm_m['AcademicYear']\n",
    "year"
   ]
  },
  {
   "cell_type": "code",
   "execution_count": null,
   "id": "20085b2d-19c4-478b-bed8-a0dc4de2d7d8",
   "metadata": {},
   "outputs": [],
   "source": [
    "headcount = ug_bm_m['Headcount']\n",
    "headcount"
   ]
  },
  {
   "cell_type": "markdown",
   "id": "97f37326",
   "metadata": {},
   "source": [
    "## Matplotlib Style\n",
    "\n",
    "Before we switching to Seaborn, let's generate a Matplotlib style chart here so that you compare side-by-side and see how different between Matplotlib charts and Seaborn charts.\n",
    "```\n",
    "plt.plot(year, headcount)\n",
    "```"
   ]
  },
  {
   "cell_type": "code",
   "execution_count": null,
   "id": "cccee6ea",
   "metadata": {},
   "outputs": [],
   "source": [
    "plt.plot(year, headcount)"
   ]
  },
  {
   "cell_type": "markdown",
   "id": "8a192948",
   "metadata": {},
   "source": [
    "## Set to Seaborn Style\n",
    "\n",
    "Call `set()` function to activate seaborn style\n",
    "\n",
    "activate to seaborn style\n",
    "```\n",
    "sns.set() \n",
    "```\n",
    "\n",
    "use matplotlib plot() function for plotting\n",
    "```\n",
    "plt.plot(year, headcount) \n",
    "```"
   ]
  },
  {
   "cell_type": "code",
   "execution_count": null,
   "id": "b35583e5",
   "metadata": {},
   "outputs": [],
   "source": [
    "sns.set() \n",
    "plt.plot(year, headcount) "
   ]
  },
  {
   "cell_type": "markdown",
   "id": "c6fa534e",
   "metadata": {},
   "source": [
    "## Seaborn and Matplotlib are Usually Used Together\n",
    "\n",
    "In the example below, we call seaborn's `set()` to activate Seaborn style. \n",
    "\n",
    "Then we use matplotlib's `xticks()` to set x tick roration degree and also call its `plot()` function for plot generation.\n",
    "\n",
    "**Example:**\n",
    "```\n",
    "plt.xticks(rotation=90) # calling Matplotlib xticks rotation function\n",
    "plt.plot(year, headcount)\n",
    "\n",
    "```"
   ]
  },
  {
   "cell_type": "code",
   "execution_count": null,
   "id": "77122f65",
   "metadata": {},
   "outputs": [],
   "source": [
    "sns.set() \n",
    "plt.xticks(rotation=90) # calling Matplotlib xticks rotation function\n",
    "plt.plot(year, headcount)"
   ]
  },
  {
   "cell_type": "markdown",
   "id": "fce5068d",
   "metadata": {},
   "source": [
    "## Style\n",
    "Seaborn splits the Matplotlib parameters into two groups\n",
    "\n",
    "* Plot styles\n",
    "* Plot scale\n",
    "\n",
    "\n",
    "Use seaborn's `set_style()` function to manipulate the styles.\n",
    "\n",
    "Below are some themes\n",
    "* `darkgrid`\n",
    "* `whitegrid`\n",
    "* `dark`\n",
    "* `white`\n",
    "* `ticks`\n",
    "\n",
    "**Example**:\n",
    "```\n",
    "sns.set_style('white')\n",
    "plt.plot(year, headcount)\n",
    "```\n",
    "\n",
    "**More on `set_style()`**:\n",
    "\n",
    "[set_style()](https://seaborn.pydata.org/generated/seaborn.set_style.html)"
   ]
  },
  {
   "cell_type": "code",
   "execution_count": null,
   "id": "b3f5e9c7",
   "metadata": {},
   "outputs": [],
   "source": [
    "sns.set_style('white')\n",
    "plt.plot(year, headcount)"
   ]
  },
  {
   "cell_type": "markdown",
   "id": "2bc398fc",
   "metadata": {},
   "source": [
    "## Removing Axes Spines\n",
    "\n",
    "Call `despine()` function to remove the spine to achieve a **cleaner** output.\n",
    "\n",
    "```\n",
    "sns.set_style('white')\n",
    "sns.despine()\n",
    "plt.plot(year, headcount)\n",
    "```"
   ]
  },
  {
   "cell_type": "code",
   "execution_count": null,
   "id": "cdd78d1b",
   "metadata": {},
   "outputs": [],
   "source": [
    "sns.set_style('white')\n",
    "sns.despine()\n",
    "plt.plot(year, headcount)"
   ]
  },
  {
   "cell_type": "markdown",
   "id": "60f434b0",
   "metadata": {},
   "source": [
    "## Customizing Axes Style\n",
    "\n",
    "Call `sns.axes_style()` to show the current axes style.\n",
    "```\n",
    "sns.axes_style()\n",
    "```\n",
    "\n",
    "**To change the axes style**:\n",
    "```\n",
    "sns.set_style(\"darkgrid\", {'axes.facecolor': 'yellow', 'grid.color': '.8'})\n",
    "plt.plot(year, headcount)\n",
    "\n",
    "sns.set_style(\"darkgrid\", {'axes.facecolor': 'white', 'grid.color': '.8'})\n",
    "plt.plot(year, headcount)\n",
    "\n",
    "```"
   ]
  },
  {
   "cell_type": "code",
   "execution_count": null,
   "id": "1679c8e1",
   "metadata": {},
   "outputs": [],
   "source": [
    "sns.axes_style()\n",
    "sns.set_style(\"darkgrid\", {'axes.facecolor': 'yellow', 'grid.color': '.8'})\n",
    "plt.plot(year, headcount)"
   ]
  },
  {
   "cell_type": "code",
   "execution_count": null,
   "id": "299f0e54",
   "metadata": {},
   "outputs": [],
   "source": [
    "sns.set_style(\"darkgrid\", {'axes.facecolor': 'white', 'grid.color': '.8'})\n",
    "plt.plot(year, headcount)"
   ]
  },
  {
   "cell_type": "markdown",
   "id": "7bb099ec",
   "metadata": {},
   "source": [
    "## Default Color Palettes\n",
    "\n",
    "**Use `color_palette()` to give colors to plots and adding more aesthetic value to it**\n",
    "\n",
    "```\n",
    "current_palette = sns.color_palette()\n",
    "sns.palplot(current_palette) # paplot() functions plot the array of colors horizontally\n",
    "plt.show()\n",
    "```"
   ]
  },
  {
   "cell_type": "code",
   "execution_count": null,
   "id": "85a6ffc5",
   "metadata": {},
   "outputs": [],
   "source": [
    "current_palette = sns.color_palette()\n",
    "sns.palplot(current_palette) # paplot() functions plot the array of colors horizontally\n",
    "plt.show()"
   ]
  },
  {
   "cell_type": "markdown",
   "id": "acb66a66",
   "metadata": {},
   "source": [
    "## Ready to Use Palette\n",
    "\n",
    "**Some built-in seaborn color palette**:\n",
    "* `deep`\n",
    "* `muted`\n",
    "* `bright`\n",
    "* `pastel`\n",
    "* `dark`\n",
    "* `colorblind`\n",
    "\n",
    "**Show the palette**:\n",
    "```\n",
    "sns.palplot(sns.color_palette('pastel')) \n",
    "plt.show()\n",
    "```\n",
    "\n",
    "**Show more palettes**:\n",
    "```\n",
    "sns.color_palette(\"Set1\")\n",
    "sns.color_palette(\"Set2\")\n",
    "sns.color_palette(\"Set3\")\n",
    "```"
   ]
  },
  {
   "cell_type": "code",
   "execution_count": null,
   "id": "8a0d015f",
   "metadata": {},
   "outputs": [],
   "source": [
    "sns.palplot(sns.color_palette('pastel')) \n",
    "plt.show()"
   ]
  },
  {
   "cell_type": "markdown",
   "id": "f41021bd",
   "metadata": {},
   "source": [
    "## Reset Style\n",
    "\n",
    "call `reset_defaults()` to reset the seaborn style.\n",
    "\n",
    "```\n",
    "sns.reset_defaults()\n",
    "%matplotlib inline\n",
    "```"
   ]
  },
  {
   "cell_type": "code",
   "execution_count": null,
   "id": "4fcdb45a",
   "metadata": {},
   "outputs": [],
   "source": [
    "sns.reset_defaults()\n",
    "%matplotlib inline"
   ]
  },
  {
   "cell_type": "markdown",
   "id": "938eea5b",
   "metadata": {},
   "source": [
    "## Line Plot\n",
    "\n",
    "**Examples: undergraduate business management (male students only)**\n",
    "```\n",
    "ug_bm_m\n",
    "sns.lineplot(x='AcademicYear', y='Headcount', data=ug_bm_m)\n",
    "```"
   ]
  },
  {
   "cell_type": "code",
   "execution_count": null,
   "id": "28497d0a",
   "metadata": {},
   "outputs": [],
   "source": [
    "ug_bm_m\n",
    "sns.lineplot(x='AcademicYear', y='Headcount', data=ug_bm_m)"
   ]
  },
  {
   "cell_type": "markdown",
   "id": "d4d77a9c",
   "metadata": {},
   "source": [
    "**Examples: undergraduate business management**\n",
    "```\n",
    "ug_bm = gra[(gra['LevelOfStudy']=='Undergraduate') \n",
    "                    & (gra['ProgrammeCategory']=='Business and Management')]\n",
    "ug_bm\n",
    "\n",
    "\n",
    "plt.xticks(rotation=90)\n",
    "sns.lineplot(x='AcademicYear', \n",
    "             y='Headcount', \n",
    "             data=ug_bm, \n",
    "             hue='Sex', \n",
    "             marker='o')\n",
    "```"
   ]
  },
  {
   "cell_type": "code",
   "execution_count": null,
   "id": "6e2b78b0",
   "metadata": {},
   "outputs": [],
   "source": [
    "ug_bm = gra[(gra['LevelOfStudy']=='Undergraduate') \n",
    "                    & (gra['ProgrammeCategory']=='Business and Management')]\n",
    "ug_bm"
   ]
  },
  {
   "cell_type": "code",
   "execution_count": null,
   "id": "cb5cc1b5",
   "metadata": {},
   "outputs": [],
   "source": [
    "plt.xticks(rotation=90)\n",
    "sns.lineplot(x='AcademicYear', \n",
    "             y='Headcount', \n",
    "             data=ug_bm, \n",
    "             hue='Sex', \n",
    "             marker='o')"
   ]
  },
  {
   "cell_type": "markdown",
   "id": "b207509c",
   "metadata": {},
   "source": [
    "**Examples: undergraduate female student**\n",
    "```\n",
    "ug_f = gra[(gra['LevelOfStudy']=='Undergraduate') \n",
    "                    & (gra['Sex']=='Female')]\n",
    "ug_f\n",
    "\n",
    "plt.xticks(rotation=90)\n",
    "sns.lineplot(x='AcademicYear', y='Headcount', data=ug_f, hue='ProgrammeCategory')\n",
    "plt.legend(loc='upper left')\n",
    "```"
   ]
  },
  {
   "cell_type": "code",
   "execution_count": null,
   "id": "7cdb965a",
   "metadata": {},
   "outputs": [],
   "source": [
    "ug_f = gra[(gra['LevelOfStudy']=='Undergraduate') \n",
    "                    & (gra['Sex']=='Female')]\n",
    "ug_f"
   ]
  },
  {
   "cell_type": "code",
   "execution_count": null,
   "id": "f403c746",
   "metadata": {},
   "outputs": [],
   "source": [
    "plt.xticks(rotation=90)\n",
    "sns.lineplot(x='AcademicYear', y='Headcount', data=ug_f, hue='ProgrammeCategory')\n",
    "plt.legend(loc='upper left')"
   ]
  },
  {
   "cell_type": "markdown",
   "id": "46dda7ef",
   "metadata": {},
   "source": [
    "## Scatter Plot\n",
    "\n",
    "```\n",
    "plt.xticks(rotation=90)\n",
    "sns.scatterplot(x='AcademicYear', \n",
    "                y='Headcount', \n",
    "                data=ug_bm, \n",
    "                hue='Sex')\n",
    "```"
   ]
  },
  {
   "cell_type": "code",
   "execution_count": null,
   "id": "12cf5e6a",
   "metadata": {},
   "outputs": [],
   "source": [
    "plt.xticks(rotation=90)\n",
    "sns.scatterplot(x='AcademicYear', \n",
    "                y='Headcount', \n",
    "                data=ug_bm, \n",
    "                hue='Sex')"
   ]
  },
  {
   "cell_type": "markdown",
   "id": "a75f99f5",
   "metadata": {},
   "source": [
    "## Bar Plot\n",
    "\n",
    "```\n",
    "sns.color_palette(\"Set1\")\n",
    "```\n",
    "\n",
    "```\n",
    "sns.barplot(x='AcademicYear', \n",
    "            y='Headcount', \n",
    "            data=ug_bm_m, \n",
    "            hue='Headcount',\n",
    "            palette=sns.color_palette(\"Set1\")\n",
    "           )\n",
    "```\n"
   ]
  },
  {
   "cell_type": "code",
   "execution_count": null,
   "id": "b99c7c22-c61a-44dd-9c79-d16cd50bcd4c",
   "metadata": {},
   "outputs": [],
   "source": [
    "sns.color_palette(\"Set1\")"
   ]
  },
  {
   "cell_type": "code",
   "execution_count": null,
   "id": "9a1b359e-c552-463d-9d96-aab16942ee56",
   "metadata": {},
   "outputs": [],
   "source": [
    "sns.barplot(x='AcademicYear', \n",
    "            y='Headcount', \n",
    "            data=ug_bm_m, \n",
    "            hue='Headcount',\n",
    "            palette=sns.color_palette(\"Set1\")\n",
    "           )"
   ]
  },
  {
   "cell_type": "markdown",
   "id": "5c335dc6",
   "metadata": {},
   "source": [
    "## Pie Chart\n",
    "\n",
    "```\n",
    "ug_m_2023 = gra[(gra['LevelOfStudy']=='Undergraduate') \n",
    "                    & (gra['Sex']=='Male')\n",
    "                    & (gra['AcademicYear']=='2023/24')]\n",
    "ug_m_2023\n",
    "\n",
    "colors = sns.color_palette('pastel')\n",
    "plt.pie(ug_m_2023['Headcount'], labels=ug_m_2023['ProgrammeCategory'], colors=colors)\n",
    "plt.show()\n",
    "\n",
    "colors = sns.color_palette('dark')\n",
    "plt.pie(ug_m_2023['Headcount'], labels=ug_m_2023['ProgrammeCategory'], colors=colors)\n",
    "plt.show()\n",
    "```"
   ]
  },
  {
   "cell_type": "code",
   "execution_count": null,
   "id": "e05efdc5",
   "metadata": {},
   "outputs": [],
   "source": [
    "ug_m_2023 = gra[(gra['LevelOfStudy']=='Undergraduate') \n",
    "                    & (gra['Sex']=='Male')\n",
    "                    & (gra['AcademicYear']=='2023/24')]\n",
    "ug_m_2023"
   ]
  },
  {
   "cell_type": "code",
   "execution_count": null,
   "id": "05cfc198",
   "metadata": {},
   "outputs": [],
   "source": [
    "colors = sns.color_palette('pastel')\n",
    "plt.pie(ug_m_2023['Headcount'], labels=ug_m_2023['ProgrammeCategory'], colors=colors)\n",
    "plt.show()"
   ]
  },
  {
   "cell_type": "code",
   "execution_count": null,
   "id": "7ace370e",
   "metadata": {},
   "outputs": [],
   "source": [
    "colors = sns.color_palette('dark')\n",
    "plt.pie(ug_m_2023['Headcount'], labels=ug_m_2023['ProgrammeCategory'], colors=colors)\n",
    "plt.show()"
   ]
  },
  {
   "cell_type": "markdown",
   "id": "bcc045e3",
   "metadata": {},
   "source": [
    "## Boxplots\n",
    "\n",
    "```\n",
    "ug_f\n",
    "\n",
    "sns.catplot(x=\"ProgrammeCategory\", y=\"Headcount\", kind=\"box\", data=ug_f)\n",
    "plt.xticks(rotation=90)\n",
    "\n",
    "ug = gra[gra['LevelOfStudy']=='Undergraduate']\n",
    "ug\n",
    "\n",
    "sns.catplot(x=\"ProgrammeCategory\", y=\"Headcount\", hue='Sex', kind=\"box\", data=ug)\n",
    "plt.xticks(rotation=90)\n",
    "```"
   ]
  },
  {
   "cell_type": "code",
   "execution_count": null,
   "id": "a5e152c4-e48b-441c-86ac-67b1205af8b3",
   "metadata": {},
   "outputs": [],
   "source": [
    "ug_f"
   ]
  },
  {
   "cell_type": "code",
   "execution_count": null,
   "id": "e3f704ac-3bb8-4e7a-a9d3-43fb06eb60d8",
   "metadata": {},
   "outputs": [],
   "source": [
    "sns.catplot(x=\"ProgrammeCategory\", y=\"Headcount\", kind=\"box\", data=ug_f)\n",
    "plt.xticks(rotation=90)"
   ]
  },
  {
   "cell_type": "code",
   "execution_count": null,
   "id": "9c5d9bbe",
   "metadata": {},
   "outputs": [],
   "source": [
    "ug = gra[gra['LevelOfStudy']=='Undergraduate']\n",
    "ug"
   ]
  },
  {
   "cell_type": "code",
   "execution_count": null,
   "id": "d8217e4b",
   "metadata": {},
   "outputs": [],
   "source": [
    "sns.catplot(x=\"ProgrammeCategory\", y=\"Headcount\", hue='Sex', kind=\"box\", data=ug)\n",
    "plt.xticks(rotation=90)"
   ]
  },
  {
   "cell_type": "markdown",
   "id": "1b747e57",
   "metadata": {},
   "source": [
    "## Build Your Own Palette\n",
    "\n",
    "**Use `color_palette()` function to build you own palette**\n",
    "\n",
    "```\n",
    "sns.color_palette(n_colors=4) # specify number of colors to use\n",
    "sns.palplot(sns.color_palette(\"Reds\")) # specify a base color. Don't forget the ending 's'\n",
    "sns.color_palette(\"light:purple\") # light theme for a chosen color\n",
    "sns.color_palette(\"light:#5A9\") # light theme for a chosen color\n",
    "sns.color_palette(\"dark:#f00\") # dark theme for a chosen color\n",
    "sns.color_palette(\"blend:#f00,#00F\") # blending from one color to another color\n",
    "```\n",
    "\n",
    "**To reset style to default**\n",
    "```\n",
    "sns.reset_defaults()\n",
    "\n",
    "```\n",
    "\n",
    "**More on `color_palette()`**:\n",
    "\n",
    "[seaborn.color_palette](https://seaborn.pydata.org/generated/seaborn.color_palette.html#seaborn.color_palette)"
   ]
  },
  {
   "cell_type": "markdown",
   "id": "1d36512d",
   "metadata": {},
   "source": [
    "##### specify `n_colors`\n",
    "\n",
    "```\n",
    "sns.color_palette(n_colors=4)\n",
    "plt.pie(ug_m_2023['Headcount'], \n",
    "        labels=ug_m_2023['ProgrammeCategory'], \n",
    "        colors=sns.color_palette(n_colors=4))\n",
    "plt.show()\n",
    "```"
   ]
  },
  {
   "cell_type": "code",
   "execution_count": null,
   "id": "01972bf7",
   "metadata": {},
   "outputs": [],
   "source": [
    "sns.color_palette(n_colors=4)\n",
    "plt.pie(ug_m_2023['Headcount'], \n",
    "        labels=ug_m_2023['ProgrammeCategory'], \n",
    "        colors=sns.color_palette(n_colors=4))\n",
    "plt.show()"
   ]
  },
  {
   "cell_type": "markdown",
   "id": "9eeec0c6",
   "metadata": {},
   "source": [
    "### specify fading color series\n",
    "\n",
    "```\n",
    "sns.color_palette(\"Greens\")\n",
    "plt.pie(ug_m_2023['Headcount'], \n",
    "        labels=ug_m_2023['ProgrammeCategory'], \n",
    "        colors=sns.color_palette(\"Greens\"))\n",
    "plt.show()\n",
    "```"
   ]
  },
  {
   "cell_type": "code",
   "execution_count": null,
   "id": "b0960b67",
   "metadata": {},
   "outputs": [],
   "source": [
    "sns.color_palette(\"Greens\")\n",
    "plt.pie(ug_m_2023['Headcount'], \n",
    "        labels=ug_m_2023['ProgrammeCategory'], \n",
    "        colors=sns.color_palette(\"Greens\"))\n",
    "plt.show()"
   ]
  },
  {
   "cell_type": "markdown",
   "id": "3a4ccf53",
   "metadata": {},
   "source": [
    "### specify light color series using color name\n",
    "\n",
    "```\n",
    "sns.color_palette(\"light:purple\")\n",
    "plt.pie(ug_m_2023['Headcount'], \n",
    "        labels=ug_m_2023['ProgrammeCategory'], \n",
    "        colors=sns.color_palette(\"light:purple\"))\n",
    "plt.show()\n",
    "```"
   ]
  },
  {
   "cell_type": "code",
   "execution_count": null,
   "id": "2f8888a2",
   "metadata": {},
   "outputs": [],
   "source": [
    "sns.color_palette(\"light:purple\")\n",
    "plt.pie(ug_m_2023['Headcount'], \n",
    "        labels=ug_m_2023['ProgrammeCategory'], \n",
    "        colors=sns.color_palette(\"light:purple\"))\n",
    "plt.show()"
   ]
  },
  {
   "cell_type": "markdown",
   "id": "c8eb8383",
   "metadata": {},
   "source": [
    "### specify light color series using color code\n",
    "\n",
    "```\n",
    "sns.color_palette(\"light:#5A9\")\n",
    "plt.pie(ug_m_2023['Headcount'], \n",
    "        labels=ug_m_2023['ProgrammeCategory'], \n",
    "        colors=sns.color_palette(\"light:#5A9\"))\n",
    "plt.show()\n",
    "```"
   ]
  },
  {
   "cell_type": "code",
   "execution_count": null,
   "id": "b3fa1150",
   "metadata": {},
   "outputs": [],
   "source": [
    "sns.color_palette(\"light:#5A9\")\n",
    "plt.pie(ug_m_2023['Headcount'], \n",
    "        labels=ug_m_2023['ProgrammeCategory'], \n",
    "        colors=sns.color_palette(\"light:#5A9\"))\n",
    "plt.show()"
   ]
  },
  {
   "cell_type": "code",
   "execution_count": null,
   "id": "961737a7",
   "metadata": {},
   "outputs": [],
   "source": []
  },
  {
   "cell_type": "markdown",
   "id": "283f3403",
   "metadata": {},
   "source": [
    "### specify dark color series\n",
    "\n",
    "```\n",
    "sns.color_palette(\"dark:#f00\")\n",
    "plt.pie(ug_m_2023['Headcount'], \n",
    "        labels=ug_m_2023['ProgrammeCategory'], \n",
    "        colors=sns.color_palette(\"dark:#f00\"))\n",
    "plt.show()\n",
    "```"
   ]
  },
  {
   "cell_type": "code",
   "execution_count": null,
   "id": "8809091c",
   "metadata": {},
   "outputs": [],
   "source": [
    "sns.color_palette(\"dark:#f00\")\n",
    "plt.pie(ug_m_2023['Headcount'], \n",
    "        labels=ug_m_2023['ProgrammeCategory'], \n",
    "        colors=sns.color_palette(\"dark:#f00\"))\n",
    "plt.show()"
   ]
  },
  {
   "cell_type": "markdown",
   "id": "b4345b14",
   "metadata": {},
   "source": [
    "### specify blend color series\n",
    "\n",
    "```\n",
    "sns.color_palette(\"blend:#f00,#00F\")\n",
    "plt.pie(ug_m_2023['Headcount'], \n",
    "        labels=ug_m_2023['ProgrammeCategory'], \n",
    "        colors=sns.color_palette(\"blend:#f00,#00F\"))\n",
    "plt.show()\n",
    "```"
   ]
  },
  {
   "cell_type": "code",
   "execution_count": null,
   "id": "75ad8032",
   "metadata": {},
   "outputs": [],
   "source": [
    "sns.color_palette(\"blend:#f00,#00F\")\n",
    "plt.pie(ug_m_2023['Headcount'], \n",
    "        labels=ug_m_2023['ProgrammeCategory'], \n",
    "        colors=sns.color_palette(\"blend:#f00,#00F\"))\n",
    "plt.show()"
   ]
  },
  {
   "cell_type": "markdown",
   "id": "11d02476",
   "metadata": {},
   "source": [
    "## Grouping and Groups' Aggregation\n",
    "\n",
    "```\n",
    "grouped_by_level = gra.groupby(['LevelOfStudy', 'AcademicYear'])\n",
    "\n",
    "type(grouped_by_level)\n",
    "\n",
    "grouped_by_level.agg(\"sum\")\n",
    "\n",
    "plt.xticks(rotation=90)\n",
    "sns.lineplot(x='AcademicYear', y='Headcount', \n",
    "             data=grouped_by_level.agg(\"sum\"),\n",
    "             hue='LevelOfStudy')\n",
    "sns.set_style('whitegrid')\n",
    "```\n"
   ]
  },
  {
   "cell_type": "code",
   "execution_count": null,
   "id": "96629e53",
   "metadata": {},
   "outputs": [],
   "source": [
    "grouped_by_level = gra.groupby(['LevelOfStudy', 'AcademicYear'])"
   ]
  },
  {
   "cell_type": "code",
   "execution_count": null,
   "id": "8fd16d03",
   "metadata": {},
   "outputs": [],
   "source": [
    "type(grouped_by_level)"
   ]
  },
  {
   "cell_type": "code",
   "execution_count": null,
   "id": "a7f36550",
   "metadata": {},
   "outputs": [],
   "source": [
    "grouped_by_level.agg(\"sum\")"
   ]
  },
  {
   "cell_type": "code",
   "execution_count": null,
   "id": "8e118a03",
   "metadata": {},
   "outputs": [],
   "source": [
    "plt.xticks(rotation=90)\n",
    "sns.lineplot(x='AcademicYear', y='Headcount', \n",
    "             data=grouped_by_level.agg(\"sum\"),\n",
    "             hue='LevelOfStudy')\n",
    "sns.set_style('whitegrid')"
   ]
  },
  {
   "cell_type": "markdown",
   "id": "cc1bcc5b",
   "metadata": {},
   "source": [
    "## Seaborn Example Gallery\n",
    "\n",
    "Check the webpage below for seaborn example gallery.\n",
    "\n",
    "[Seaborn Example Gallery](https://seaborn.pydata.org/examples/index.html)"
   ]
  },
  {
   "cell_type": "markdown",
   "id": "f085dd43",
   "metadata": {},
   "source": [
    "# JSON Live Data Loading & Visualization\n",
    "\n"
   ]
  },
  {
   "cell_type": "markdown",
   "id": "0cbef705-dba8-4ef1-a7f9-6fb3627e61f8",
   "metadata": {},
   "source": [
    "## HTTP `requests` \n",
    "\n",
    "`requests` is the python package to get data by HTTP request\n",
    "\n",
    "**To import**\n",
    "\n",
    "```\n",
    "import requests\n",
    "```"
   ]
  },
  {
   "cell_type": "code",
   "execution_count": null,
   "id": "2470f9f8",
   "metadata": {},
   "outputs": [],
   "source": [
    "import requests"
   ]
  },
  {
   "cell_type": "markdown",
   "id": "271b40c7-b363-45d4-93e7-d2c2c1aafe61",
   "metadata": {},
   "source": [
    "**Provide a web page url (link) that you want to fetch data from**\n",
    "```\n",
    "hk_weather_api = 'https://data.weather.gov.hk/weatherAPI/opendata/weather.php?dataType=fnd&lang=tc'\n",
    "hk_weather_api\n",
    "```"
   ]
  },
  {
   "cell_type": "code",
   "execution_count": null,
   "id": "9fda5083",
   "metadata": {},
   "outputs": [],
   "source": [
    "hk_weather_api = 'https://data.weather.gov.hk/weatherAPI/opendata/weather.php?dataType=fnd&lang=tc'\n",
    "hk_weather_api"
   ]
  },
  {
   "cell_type": "markdown",
   "id": "9e44d9a2-3d96-441a-96e6-cb7361ba7ff1",
   "metadata": {},
   "source": [
    "**Issue HTTP GET requests and save server's response as variable `weather_responose`**\n",
    "```\n",
    "weather_response = requests.get(hk_weather_api)\n",
    "```"
   ]
  },
  {
   "cell_type": "markdown",
   "id": "8275a59b-dded-4fc0-910d-69fd05233261",
   "metadata": {},
   "source": [
    "## Starting HTTP request"
   ]
  },
  {
   "cell_type": "code",
   "execution_count": null,
   "id": "2087b517",
   "metadata": {},
   "outputs": [],
   "source": [
    "weather_response = requests.get(hk_weather_api)"
   ]
  },
  {
   "cell_type": "code",
   "execution_count": null,
   "id": "b33e997f-89e8-4529-99a7-abd8cec5e26f",
   "metadata": {},
   "outputs": [],
   "source": [
    "weather_response"
   ]
  },
  {
   "cell_type": "markdown",
   "id": "d59dc6fb-3ed3-485f-955d-1da612c0451c",
   "metadata": {},
   "source": [
    "**Exploring the response from server**\n",
    "\n",
    "* `weather_response.status_code` # returns 200 if everything has gone fine \n",
    "* `weather_response.headers` # descriptive headers about server's response\n",
    "* `weather_response.headers['content-type']` # returns 'application/json; charset=utf-8'\n",
    "* `weather_response.encoding` # returns ''utf-8''\n",
    "* `weather_response.text` # retrieve server's response in plain text format. type of str\n",
    "* `weather_response.json()` # retrieve server's response in json format, type of dict"
   ]
  },
  {
   "cell_type": "code",
   "execution_count": null,
   "id": "27f3fb7f",
   "metadata": {},
   "outputs": [],
   "source": [
    "weather_response.status_code # returns 200 if everything has gone fine"
   ]
  },
  {
   "cell_type": "code",
   "execution_count": null,
   "id": "b0250af4",
   "metadata": {},
   "outputs": [],
   "source": [
    "weather_response.headers # descriptive headers about server's response"
   ]
  },
  {
   "cell_type": "code",
   "execution_count": null,
   "id": "675efa80",
   "metadata": {},
   "outputs": [],
   "source": [
    "weather_response.headers['content-type'] # returns 'application/json; charset=utf-8'"
   ]
  },
  {
   "cell_type": "code",
   "execution_count": null,
   "id": "f229040e",
   "metadata": {},
   "outputs": [],
   "source": [
    "weather_response.encoding # returns ''utf-8''"
   ]
  },
  {
   "cell_type": "code",
   "execution_count": null,
   "id": "f11298ee",
   "metadata": {},
   "outputs": [],
   "source": [
    "weather_response.text # retrieve server's response in plain text format. type of str"
   ]
  },
  {
   "cell_type": "code",
   "execution_count": null,
   "id": "c3d6c2fb",
   "metadata": {},
   "outputs": [],
   "source": [
    "weather_response.json() # retrieve server's response in json format, type of dict"
   ]
  },
  {
   "cell_type": "markdown",
   "id": "58e8ec74-b54b-4026-920a-3ac1c4d9633e",
   "metadata": {},
   "source": [
    "## Retrieving Data From JSON Object (Dictionary)\n",
    "\n",
    "**How to retrieve JSON child element**\n",
    "```\n",
    "weather_9_days = weather_response.json()\n",
    "type(weather_9_days) # json data as stored as Python dictionary\n",
    "weather_9_days['generalSituation']\n",
    "weather_9_days['weatherForecast']\n",
    "weather_9_days['weatherForecast'][0]\n",
    "weather_9_days['weatherForecast'][0]['week']\n",
    "weather_9_days['weatherForecast'][0]['forecastWeather']\n",
    "```"
   ]
  },
  {
   "cell_type": "code",
   "execution_count": null,
   "id": "48a026d8",
   "metadata": {},
   "outputs": [],
   "source": [
    "weather_9_days = weather_response.json()"
   ]
  },
  {
   "cell_type": "code",
   "execution_count": null,
   "id": "2486e7f7",
   "metadata": {},
   "outputs": [],
   "source": [
    "weather_9_days"
   ]
  },
  {
   "cell_type": "code",
   "execution_count": null,
   "id": "4ba07835",
   "metadata": {},
   "outputs": [],
   "source": [
    "type(weather_9_days) # json data as stored as Python dictionary"
   ]
  },
  {
   "cell_type": "code",
   "execution_count": null,
   "id": "0f45d6a4",
   "metadata": {},
   "outputs": [],
   "source": [
    "weather_9_days['generalSituation']"
   ]
  },
  {
   "cell_type": "code",
   "execution_count": null,
   "id": "e07c6279",
   "metadata": {},
   "outputs": [],
   "source": [
    "weather_9_days['weatherForecast'][0]"
   ]
  },
  {
   "cell_type": "code",
   "execution_count": null,
   "id": "3c484eab",
   "metadata": {},
   "outputs": [],
   "source": [
    "weather_9_days['weatherForecast'][0]['week']"
   ]
  },
  {
   "cell_type": "code",
   "execution_count": null,
   "id": "ac12fc44",
   "metadata": {},
   "outputs": [],
   "source": [
    "weather_9_days['weatherForecast'][0]['forecastWeather']"
   ]
  },
  {
   "cell_type": "markdown",
   "id": "f6d10e38-5257-41bf-8485-bd19622861c6",
   "metadata": {},
   "source": [
    "## Ploting Weather Forecast\n",
    "\n",
    "**Retrieving weatherForecast element**\n",
    "```\n",
    "forecast = weather_9_days['weatherForecast']\n",
    "forecast\n",
    "type(forecast)\n",
    "```"
   ]
  },
  {
   "cell_type": "code",
   "execution_count": null,
   "id": "c89fa304",
   "metadata": {},
   "outputs": [],
   "source": [
    "forecast = weather_9_days['weatherForecast']\n",
    "forecast\n",
    "type(forecast)"
   ]
  },
  {
   "cell_type": "code",
   "execution_count": null,
   "id": "56db678a-d490-46da-9f35-fb951cf5787f",
   "metadata": {},
   "outputs": [],
   "source": [
    "forecast"
   ]
  },
  {
   "cell_type": "markdown",
   "id": "dcadae90-2a7a-48e9-9230-8664edd10158",
   "metadata": {},
   "source": [
    "## Normalizing JSON dictionary to `DataFrame`"
   ]
  },
  {
   "cell_type": "markdown",
   "id": "379cb1c1-4d7b-4f77-ae05-36deebe88c6e",
   "metadata": {},
   "source": [
    "**Retrieve weatherForecast attribute and convert to DataFrame as flatten attributes**\n",
    "```\n",
    "forecast_normalized = pd.json_normalize(forecast, sep='_')\n",
    "type(forecast_normalized)\n",
    "forecast_normalized.info()\n",
    "sns.lineplot(x='forecastDate', y='forecastMaxtemp_value', data=forecast_normalized)\n",
    "```"
   ]
  },
  {
   "cell_type": "code",
   "execution_count": null,
   "id": "77a6e923",
   "metadata": {},
   "outputs": [],
   "source": [
    "forecast_normalized = pd.json_normalize(forecast, sep='_')\n",
    "forecast_normalized"
   ]
  },
  {
   "cell_type": "code",
   "execution_count": null,
   "id": "d3a6867d-e7bf-4c60-b249-f9be81870276",
   "metadata": {},
   "outputs": [],
   "source": [
    "type(forecast_normalized)"
   ]
  },
  {
   "cell_type": "markdown",
   "id": "3d9af512-e535-4cbf-86c6-cf7759ca2597",
   "metadata": {},
   "source": [
    "## Plotting"
   ]
  },
  {
   "cell_type": "code",
   "execution_count": null,
   "id": "1a123996-0db4-4b17-b450-8ab60457ab3f",
   "metadata": {},
   "outputs": [],
   "source": [
    "sns.lineplot(x='forecastDate', y='forecastMaxtemp_value', data=forecast_normalized)"
   ]
  },
  {
   "cell_type": "markdown",
   "id": "dd66de29-43c0-43c6-9682-1d8524008ac3",
   "metadata": {},
   "source": [
    "**Multiple Plots**\n",
    "```\n",
    "sns.set_style('darkgrid')\n",
    "plt.xticks(rotation=90)\n",
    "sns.lineplot(x='forecastDate', \n",
    "             y='forecastMaxtemp_value', \n",
    "             data=weather_normalized, \n",
    "             label='Max Temp', \n",
    "             marker='o')\n",
    "\n",
    "sns.lineplot(x='forecastDate', \n",
    "             y='forecastMintemp_value', \n",
    "             data=weather_normalized, \n",
    "             label='Min Temp', \n",
    "             marker='o')\n",
    "```"
   ]
  },
  {
   "cell_type": "code",
   "execution_count": null,
   "id": "af120f97",
   "metadata": {},
   "outputs": [],
   "source": [
    "sns.set_style('darkgrid')\n",
    "plt.xticks(rotation=90)\n",
    "sns.lineplot(x='forecastDate', \n",
    "             y='forecastMaxtemp_value', \n",
    "             data=forecast_normalized, \n",
    "             label='Max Temp', \n",
    "             marker='o')\n",
    "\n",
    "sns.lineplot(x='forecastDate', \n",
    "             y='forecastMintemp_value', \n",
    "             data=forecast_normalized, \n",
    "             label='Min Temp', \n",
    "             marker='o')"
   ]
  },
  {
   "cell_type": "markdown",
   "id": "01be2bf1-5f2e-4342-8035-3c34760c57b7",
   "metadata": {},
   "source": [
    "# EXERCISE: Interbank Liquidity\n",
    "\n",
    "**The link for retrieving `daily figures interbank liquidity`**\n",
    "```\n",
    "inter_bank_liq_url = \"https://api.hkma.gov.hk/public/market-data-and-statistics/daily-monetary-statistics/daily-figures-interbank-liquidity\"\n",
    "inter_bank_liq_url\n",
    "```"
   ]
  },
  {
   "cell_type": "markdown",
   "id": "1a262bb3-207e-44fe-9046-f252d958ea72",
   "metadata": {},
   "source": [
    "## Constructing API url"
   ]
  },
  {
   "cell_type": "code",
   "execution_count": null,
   "id": "9cbad8e2",
   "metadata": {},
   "outputs": [],
   "source": [
    "inter_bank_liq_url = \"https://api.hkma.gov.hk/public/market-data-and-statistics/daily-monetary-statistics/daily-figures-interbank-liquidity\"\n",
    "inter_bank_liq_url"
   ]
  },
  {
   "cell_type": "markdown",
   "id": "babd1fcb-7cfc-4107-a3d9-5c6f97f369d5",
   "metadata": {},
   "source": [
    "**HTTP Request**\n",
    "```\n",
    "inter_liq_response = requests.get(inter_bank_liq_url)\n",
    "type(inter_liq_response) # returns requests.models.Response\n",
    "inter_liq_json = inter_liq_response.json()\n",
    "type(inter_liq_json) # returns Dict\n",
    "type(inter_liq_json[\"result\"][\"records\"]) # returns list\n",
    "```"
   ]
  },
  {
   "cell_type": "code",
   "execution_count": null,
   "id": "2b3b8ef0",
   "metadata": {},
   "outputs": [],
   "source": [
    "inter_liq_response = requests.get(inter_bank_liq_url)"
   ]
  },
  {
   "cell_type": "code",
   "execution_count": null,
   "id": "7caba215",
   "metadata": {},
   "outputs": [],
   "source": [
    "type(inter_liq_response) # returns requests.models.Response"
   ]
  },
  {
   "cell_type": "markdown",
   "id": "fa2af57d-0951-43bd-ab13-17db1275eacc",
   "metadata": {},
   "source": [
    "## Converting HTTP request to JSON object"
   ]
  },
  {
   "cell_type": "code",
   "execution_count": null,
   "id": "bc7e532d-87d2-4f0d-9275-8ec19c0e797f",
   "metadata": {},
   "outputs": [],
   "source": [
    "inter_liq_json = inter_liq_response.json()"
   ]
  },
  {
   "cell_type": "code",
   "execution_count": null,
   "id": "6a36ead4-7168-491c-9bb8-64fefbe23d1a",
   "metadata": {},
   "outputs": [],
   "source": [
    "type(inter_liq_json) # returns Dict"
   ]
  },
  {
   "cell_type": "code",
   "execution_count": null,
   "id": "5f6a62d4-9bda-4e3b-9cc2-aa74de985c6b",
   "metadata": {},
   "outputs": [],
   "source": [
    "len(inter_liq_json)"
   ]
  },
  {
   "cell_type": "code",
   "execution_count": null,
   "id": "deb0e9f4-6f2a-4d7f-90b2-eecc9c5c27ab",
   "metadata": {},
   "outputs": [],
   "source": [
    "inter_liq_json"
   ]
  },
  {
   "cell_type": "code",
   "execution_count": null,
   "id": "b4282cb8-22f4-4428-a3d8-52d66e35970a",
   "metadata": {},
   "outputs": [],
   "source": [
    "inter_liq_json[\"result\"][\"records\"]"
   ]
  },
  {
   "cell_type": "code",
   "execution_count": null,
   "id": "a3886149-f035-4a37-938b-d5ae05b206df",
   "metadata": {},
   "outputs": [],
   "source": [
    "type(inter_liq_json[\"result\"][\"records\"])"
   ]
  },
  {
   "cell_type": "markdown",
   "id": "c5e6ae69-516b-4b7b-954e-927671d786ec",
   "metadata": {},
   "source": [
    "## Converting JSON to Pandas `DataFrame`\n",
    "\n",
    "```\n",
    "inter_bank_liq_df = pd.DataFrame(inter_liq_json[\"result\"][\"records\"])\n",
    "```"
   ]
  },
  {
   "cell_type": "code",
   "execution_count": null,
   "id": "22e426b6",
   "metadata": {},
   "outputs": [],
   "source": [
    "inter_bank_liq_df = pd.DataFrame(inter_liq_json[\"result\"][\"records\"])"
   ]
  },
  {
   "cell_type": "code",
   "execution_count": null,
   "id": "49b447cc-72f7-4b2d-804c-d81b1cf5030c",
   "metadata": {},
   "outputs": [],
   "source": [
    "type(inter_bank_liq_df)"
   ]
  },
  {
   "cell_type": "code",
   "execution_count": null,
   "id": "6f704b70",
   "metadata": {},
   "outputs": [],
   "source": [
    "inter_bank_liq_df.head(10)"
   ]
  },
  {
   "cell_type": "code",
   "execution_count": null,
   "id": "bf4eb10a-51b1-4198-854a-c9b683c0e3d0",
   "metadata": {},
   "outputs": [],
   "source": [
    "inter_bank_liq_df[2:5]"
   ]
  },
  {
   "cell_type": "markdown",
   "id": "b670f677-15ef-4b7f-88f9-567944cfe600",
   "metadata": {},
   "source": [
    "**Let's try to directly `inter_liq_json` to JSON object and see what happen**\n",
    "```\n",
    "pd.DataFrame(inter_liq_json)\n",
    "pd.json_normalize(inter_liq_json)\n",
    "```\n",
    "\n",
    "The results are NOT quite what we want."
   ]
  },
  {
   "cell_type": "code",
   "execution_count": null,
   "id": "992f00e7-0fa6-4ff3-9e28-d4d0c139baae",
   "metadata": {},
   "outputs": [],
   "source": [
    "pd.DataFrame(inter_liq_json)"
   ]
  },
  {
   "cell_type": "code",
   "execution_count": null,
   "id": "70ad0e3a-cb60-4e18-9451-f27e2fd9b479",
   "metadata": {},
   "outputs": [],
   "source": [
    "pd.json_normalize(inter_liq_json)"
   ]
  },
  {
   "cell_type": "markdown",
   "id": "a90b2584-1336-461e-8c03-6ad012058dd4",
   "metadata": {},
   "source": [
    "## Data Tidying\n",
    "- Reverse the order / sort by data in an ascending order\n",
    "- reset the index number for rows"
   ]
  },
  {
   "cell_type": "code",
   "execution_count": null,
   "id": "a472c936-75e6-43a9-ba0e-0176427ee0fb",
   "metadata": {},
   "outputs": [],
   "source": [
    "inter_bank_liq_df = inter_bank_liq_df.sort_values(by=\"end_of_date\")\n",
    "inter_bank_liq_df"
   ]
  },
  {
   "cell_type": "code",
   "execution_count": null,
   "id": "e2012abc-52ba-465d-a239-9496fdd27043",
   "metadata": {},
   "outputs": [],
   "source": [
    "inter_bank_liq_df = inter_bank_liq_df.reset_index(drop=True)\n",
    "inter_bank_liq_df"
   ]
  },
  {
   "cell_type": "code",
   "execution_count": null,
   "id": "56ab44e5-6967-474e-a9c3-a87d57a296b6",
   "metadata": {},
   "outputs": [],
   "source": [
    "inter_bank_liq_df.head()"
   ]
  },
  {
   "cell_type": "markdown",
   "id": "8e28fcfa-a30d-4bd9-8f8a-676af3498697",
   "metadata": {},
   "source": [
    "## Plotting\n",
    "\n",
    "```\n",
    "inter_bank_liq_df.plot() # pandas built-in plots. use all the number column for plotting. Not a good plot.\n",
    "```"
   ]
  },
  {
   "cell_type": "code",
   "execution_count": null,
   "id": "cab08964",
   "metadata": {},
   "outputs": [],
   "source": [
    "inter_bank_liq_df.plot() # pandas built-in plots. use all the number column for plotting. Not a good plot."
   ]
  },
  {
   "cell_type": "code",
   "execution_count": null,
   "id": "f8f472aa",
   "metadata": {},
   "outputs": [],
   "source": [
    "inter_bank_liq_df.plot(y='hibor_fixing_1m') # pandas built-in plots"
   ]
  },
  {
   "cell_type": "code",
   "execution_count": null,
   "id": "00ed0f85-d65a-4ce9-8659-db7aac7150ab",
   "metadata": {},
   "outputs": [],
   "source": [
    "inter_bank_liq_df.plot(y='hibor_fixing_1m') # pandas built-in plots"
   ]
  },
  {
   "cell_type": "code",
   "execution_count": null,
   "id": "1cdc430d",
   "metadata": {},
   "outputs": [],
   "source": [
    "inter_bank_liq_df.info()"
   ]
  },
  {
   "cell_type": "markdown",
   "id": "824d2dac-e9f8-4069-bee9-3d6e3d0b503d",
   "metadata": {},
   "source": [
    "**hibor_fixing_1m & hibo_overngith Overlay**\n",
    "```\n",
    "plt.xticks(rotation=90)\n",
    "plt.xticks([]) # removes xticks\n",
    "plt.yticks([]) # removes yticks\n",
    "sns.lineplot(x='end_of_date', y='hibor_fixing_1m', data=inter_bank_liq_df, label=\"Hibor One Month\")\n",
    "sns.lineplot(x='end_of_date', y='hibor_overnight', data=inter_bank_liq_df, label=\"Hibor Overnight\")\n",
    "```"
   ]
  },
  {
   "cell_type": "code",
   "execution_count": null,
   "id": "7466d432-69de-477b-991b-d61b91adc6e4",
   "metadata": {},
   "outputs": [],
   "source": [
    "plt.xticks(rotation=90)\n",
    "plt.xticks([]) # removes xticks\n",
    "plt.yticks([]) # removes yticks\n",
    "sns.lineplot(x='end_of_date', y='hibor_fixing_1m', data=inter_bank_liq_df, label=\"Hibor One Month\")\n",
    "sns.lineplot(x='end_of_date', y='hibor_overnight', data=inter_bank_liq_df, label=\"Hibor Overnight\")"
   ]
  },
  {
   "cell_type": "markdown",
   "id": "d35475c1-c507-4e63-88c1-8c607e5de16d",
   "metadata": {},
   "source": [
    "# Introduction to Cloud Computing\n",
    "\n",
    "## What is Cloud Computing?\n",
    "Cloud computing is the delivery of computing services—including **servers**, **storage**, **databases**, **networking**, **software**, and **analytics** over the internet instead of using physical hardware or local servers.\n",
    "\n",
    "![](https://upload.wikimedia.org/wikipedia/commons/b/b5/Cloud_computing.svg)\n",
    "\n",
    "**A more user friendly definition**  \n",
    "computer resources (software or hardware) by rental"
   ]
  },
  {
   "cell_type": "markdown",
   "id": "fcfe4841-0f92-44d2-8331-b51c1278a8fb",
   "metadata": {},
   "source": [
    "## Types of Cloud Computing\n",
    "- **Infrastructure as a Service (IaaS)** – Provides virtual machines, storage, and networks (e.g., AWS EC2, Azure Virtual Machines).\n",
    "\n",
    "- **Platform as a Service (PaaS)** – Offers development environments to build applications (e.g., Google App Engine, Azure App Services).\n",
    "\n",
    "- **Software as a Service (SaaS)** – Delivers software over the internet (e.g., Gmail, Dropbox, Microsoft 365)."
   ]
  },
  {
   "cell_type": "markdown",
   "id": "97fbbd45-7deb-4088-8348-a2baf307797b",
   "metadata": {},
   "source": [
    "## Deployment Models\n",
    "\n",
    "- **Public Cloud** – Shared infrastructure for multiple users (AWS, Azure, Google Cloud).\n",
    "\n",
    "- **Private Cloud** – Dedicated resources for a single organization (on-premise or hosted).\n",
    "\n",
    "- **Hybrid Cloud** – A mix of public and private clouds for flexibility."
   ]
  },
  {
   "cell_type": "markdown",
   "id": "eade689c-7737-49fe-89be-de9cfaa26a89",
   "metadata": {},
   "source": [
    "## Major Cloud Providers\n",
    "\n",
    "The major cloud providers dominating the market today are:\n",
    "\n",
    "- **Amazon Web Services (AWS)** – The largest cloud provider, offering a vast range of services including computing, storage, AI, and machine learning.\n",
    "- **Microsoft Azure** – A strong competitor to AWS, widely used for enterprise solutions, hybrid cloud, and AI-powered services.\n",
    "- **Google Cloud Platform (GCP)** – Known for its data analytics, AI, and Kubernetes-based cloud solutions.\n",
    "- **IBM Cloud** – Focuses on AI, blockchain, and enterprise cloud solutions.\n",
    "- **Oracle Cloud** – Specializes in database and enterprise applications.\n",
    "- **Alibaba Cloud** – A leading cloud provider in Asia, offering scalable cloud computing and AI services.\n",
    "\n",
    "These providers offer Infrastructure as a Service (IaaS), Platform as a Service (PaaS), and Software as a Service (SaaS) to businesses worldwide. "
   ]
  },
  {
   "cell_type": "markdown",
   "id": "5b3fe738-04d0-4085-9de0-d98adac22e6d",
   "metadata": {},
   "source": [
    "## Accepting Invitation to Join AWS Academy\n",
    "You will receive Sunny's invitation to join AWS Academy (a free yet brilliant platform for university students to learn cloud skills.  It's by invitation only).  The invitation email will be directly from AWS Academy.  \n",
    "\n",
    "If you don't see the invitation email, check your junk mail folder.\n",
    "\n",
    "Follow the instructions in the invitation email to register and activate your AWS Academy account. You will have **USD50** free credits to try various cloud products on AWS cloud (it's a lab environment, it shutdowns itself every 4 hours.  But you can start it up again as you wish)\n",
    "\n",
    "In google search engine, google `aws academy student login` for the login page of AWS Academy.\n",
    "\n",
    "Or you can directly go to this address [https://awsacademy.instructure.com/](https://awsacademy.instructure.com/)"
   ]
  },
  {
   "cell_type": "code",
   "execution_count": null,
   "id": "460ce3d7-c415-406c-a697-05531494eea7",
   "metadata": {},
   "outputs": [],
   "source": []
  },
  {
   "cell_type": "code",
   "execution_count": null,
   "id": "e8aa90ca-9b7e-4a82-bd60-46b50ffc5335",
   "metadata": {},
   "outputs": [],
   "source": []
  },
  {
   "cell_type": "code",
   "execution_count": null,
   "id": "c86f5fdb-1957-4707-8ef9-507f6f5c437c",
   "metadata": {},
   "outputs": [],
   "source": []
  }
 ],
 "metadata": {
  "kernelspec": {
   "display_name": "Python [conda env:base] *",
   "language": "python",
   "name": "conda-base-py"
  },
  "language_info": {
   "codemirror_mode": {
    "name": "ipython",
    "version": 3
   },
   "file_extension": ".py",
   "mimetype": "text/x-python",
   "name": "python",
   "nbconvert_exporter": "python",
   "pygments_lexer": "ipython3",
   "version": "3.12.4"
  }
 },
 "nbformat": 4,
 "nbformat_minor": 5
}
