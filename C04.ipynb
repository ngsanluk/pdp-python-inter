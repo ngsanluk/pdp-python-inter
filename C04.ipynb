{
 "cells": [
  {
   "cell_type": "markdown",
   "metadata": {},
   "source": [
    "---\n",
    "# INTERMEDIATE PYTHON PROGRAMMING\n",
    "# CHAPTER 4 - Web Scraping Using BeautifulSoup\n",
    "---\n"
   ]
  },
  {
   "cell_type": "markdown",
   "metadata": {},
   "source": [
    "# WEB SCRAPING INTRODUCTION\n",
    "\n",
    "When open data source is not an option, you can write your own Python codes to grab data from the web. \n",
    " This is known as web scraping.  \n",
    "![](https://www.promptcloud.com/wp-content/uploads/2024/03/1_CxVccbFGtv6W2qlq0A4hxw-1024x499.png.webp)\n",
    "\n",
    "\n",
    "**However, do pay attention to**\n",
    "- Grabbing data from HTML is not always easy (HTML codes are often messy)\n",
    "- Many websites implement data protections to prevent data grabbing\n",
    "- Modern web application generates web content on the fly when the actual content is loading at the client side.  That meas the HTML page is empty at the begining while progressively loading client-side JavaScript.\n",
    "- Websites have their terms and condition on assessing their data.  (In our case, we are just doing this for learning purpose.  So we will be fine.)"
   ]
  },
  {
   "cell_type": "markdown",
   "metadata": {},
   "source": [
    "## Use `pandas.read_html()` when you can\n",
    "\n",
    "Before you actually implement your scraping code, consider if easy approach would do the job.  In this section, we use pandas built-in function `read_html()` to read webpage that contains targeted data in the format of HTML table.\n",
    "\n",
    "Below is a HTML table codes and its corresponding appearance in browser.\n",
    "![](https://dotnettutorials.net/wp-content/uploads/2021/11/word-image-533.png)\n",
    "\n",
    "Use `read_html()` function to read a `url` (the address of a targeted webpage) that you know contains your wanted data in **HTML table** form.   \n",
    "\n",
    "**E.g.**:\n",
    "```\n",
    "    pd.read_html(\"WEB-PAGE-URL\", headers=headers)\n",
    "```"
   ]
  },
  {
   "cell_type": "markdown",
   "metadata": {},
   "source": [
    "## `pandas.read_html()` Syntax\n",
    "`pandas.read_html()` function requires a **web page link** that you want to grab table(s).  There is chance that the pages contains multiple tables.  Therefore the returned result of `pandas.read_html()` is type of python `list` (or also widely known as array)."
   ]
  },
  {
   "cell_type": "markdown",
   "metadata": {},
   "source": [
    "### Import required packages\n",
    "\n",
    "We need `numpy`, `pandas` and `requests`  packages to get the job done. `requests` is for triggering HTTP network requests.\n",
    "\n",
    "```\n",
    "import numpy as np\n",
    "import pandas as pd\n",
    "import requests\n",
    "```"
   ]
  },
  {
   "cell_type": "code",
   "execution_count": null,
   "metadata": {},
   "outputs": [],
   "source": [
    "import numpy as np\n",
    "import pandas as pd\n",
    "import requests"
   ]
  },
  {
   "cell_type": "markdown",
   "metadata": {},
   "source": [
    "### Declare url and read url\n",
    "```\n",
    "sp500_divident_yield_by_month_url = 'https://www.multpl.com/s-p-500-dividend-yield/table/by-month'\n",
    "sp500_divident_yield_by_month_url\n",
    "```"
   ]
  },
  {
   "cell_type": "code",
   "execution_count": null,
   "metadata": {},
   "outputs": [],
   "source": [
    "sp500_divident_yield_by_month_url = 'https://www.multpl.com/s-p-500-dividend-yield/table/by-month'\n",
    "sp500_divident_yield_by_month_url"
   ]
  },
  {
   "cell_type": "markdown",
   "metadata": {},
   "source": [
    "### Read the url\n",
    "\n",
    "**Call `read_html()` function here**\n",
    "```\n",
    "raw_html_tbl = pd.read_html(sp500_divident_yield_by_month_url)\n",
    "```"
   ]
  },
  {
   "cell_type": "code",
   "execution_count": null,
   "metadata": {},
   "outputs": [],
   "source": [
    "raw_html_tbl = pd.read_html(sp500_divident_yield_by_month_url)"
   ]
  },
  {
   "cell_type": "code",
   "execution_count": null,
   "metadata": {},
   "outputs": [],
   "source": [
    "raw_html_tbl"
   ]
  },
  {
   "cell_type": "markdown",
   "metadata": {},
   "source": [
    "### Check it's type\n",
    "\n",
    "`type(raw_html_tbl)`\n",
    "\n",
    "It should say `list`"
   ]
  },
  {
   "cell_type": "code",
   "execution_count": null,
   "metadata": {},
   "outputs": [],
   "source": [
    "type(raw_html_tbl)"
   ]
  },
  {
   "cell_type": "markdown",
   "metadata": {},
   "source": [
    "### Check how many tables are retrieved\n",
    "\n",
    "There could be more than 1 table in the returned result and therefore it requires use `[ ]` with **index number** to tell which table you like to access.  \n",
    "\n",
    "Sometimes, there are zero table in the returned result and therefore make sure you codes do proper checking on the result before you try to grab data from tables.\n",
    "\n",
    "Calling `len()` function would tell you how many tables are in the retuned result.\n"
   ]
  },
  {
   "cell_type": "code",
   "execution_count": null,
   "metadata": {},
   "outputs": [],
   "source": [
    "len(raw_html_tbl)"
   ]
  },
  {
   "cell_type": "markdown",
   "metadata": {},
   "source": [
    "### Retrieve the table by `[ ]` operation\n",
    "\n",
    "Retrieve the table by `[ ]` operation together with correct index number\n",
    "\n",
    "the index number starts `0` and therefore you use `0`to refer to the first table the code below get the \n",
    "first table in the result\n",
    "\n",
    "`raw_html_tbl[0]`"
   ]
  },
  {
   "cell_type": "code",
   "execution_count": null,
   "metadata": {
    "scrolled": true
   },
   "outputs": [],
   "source": [
    "raw_html_tbl[0]"
   ]
  },
  {
   "cell_type": "markdown",
   "metadata": {},
   "source": [
    "### Check the type of the first table\n",
    "\n",
    "It shows content in `DataFrame` and this is good becasues `DataFrame` (structured data) is best for data analysis.\n",
    "\n",
    "`type(raw_html_tbl[0])`"
   ]
  },
  {
   "cell_type": "code",
   "execution_count": null,
   "metadata": {},
   "outputs": [],
   "source": [
    "type(raw_html_tbl[0])"
   ]
  },
  {
   "cell_type": "markdown",
   "metadata": {},
   "source": [
    "**Code below will produce an error as in the result there is only one table.**"
   ]
  },
  {
   "cell_type": "code",
   "execution_count": null,
   "metadata": {},
   "outputs": [],
   "source": [
    "raw_html_tbl[1]"
   ]
  },
  {
   "cell_type": "markdown",
   "metadata": {},
   "source": [
    "### let's create a variable to store our table"
   ]
  },
  {
   "cell_type": "code",
   "execution_count": null,
   "metadata": {},
   "outputs": [],
   "source": [
    "sp500 = raw_html_tbl[0]\n",
    "sp500"
   ]
  },
  {
   "cell_type": "markdown",
   "metadata": {},
   "source": [
    "### Access meta-data and actual data of the `sp500` data-frame\n",
    "\n",
    "Tables dat are grabbed and presented to you in the form of pandas `DataFrame`, so use any functions or attributes that you known available by `DataFrame` to query the data.\n",
    "\n",
    "```\n",
    "sp500.shape\n",
    "sp500.head()\n",
    "sp500.tail()\n",
    "sp500.info()\n",
    "sp500.describe()\n",
    "sp500[0:5]\n",
    "```"
   ]
  },
  {
   "cell_type": "code",
   "execution_count": null,
   "metadata": {},
   "outputs": [],
   "source": [
    "sp500.shape"
   ]
  },
  {
   "cell_type": "code",
   "execution_count": null,
   "metadata": {
    "scrolled": true
   },
   "outputs": [],
   "source": [
    "sp500.head()"
   ]
  },
  {
   "cell_type": "code",
   "execution_count": null,
   "metadata": {
    "scrolled": true
   },
   "outputs": [],
   "source": [
    "sp500.tail()"
   ]
  },
  {
   "cell_type": "code",
   "execution_count": null,
   "metadata": {
    "scrolled": true
   },
   "outputs": [],
   "source": [
    "sp500.info()"
   ]
  },
  {
   "cell_type": "code",
   "execution_count": null,
   "metadata": {},
   "outputs": [],
   "source": [
    "sp500.describe()"
   ]
  },
  {
   "cell_type": "code",
   "execution_count": null,
   "metadata": {},
   "outputs": [],
   "source": [
    "sp500[0:10]"
   ]
  },
  {
   "cell_type": "markdown",
   "metadata": {},
   "source": [
    "### Data Tidying\n",
    "- Getting Rid of Unwanted Characters\n",
    "- Convert percentage strinp to float value\n",
    "\n",
    "Use strip() function to get rid of `'â\\x80 '` and `%`character"
   ]
  },
  {
   "cell_type": "code",
   "execution_count": null,
   "metadata": {},
   "outputs": [],
   "source": [
    "sp500[\"Value\"][0]"
   ]
  },
  {
   "cell_type": "code",
   "execution_count": null,
   "metadata": {},
   "outputs": [],
   "source": [
    "sp500[\"Value\"][0].strip(\"â\\x80 \")"
   ]
  },
  {
   "cell_type": "code",
   "execution_count": null,
   "metadata": {},
   "outputs": [],
   "source": [
    "sp500[\"Value\"][0].strip(\"â\\x80 \").strip('%')"
   ]
  },
  {
   "cell_type": "code",
   "execution_count": null,
   "metadata": {},
   "outputs": [],
   "source": [
    "sp500[\"Value\"]"
   ]
  },
  {
   "cell_type": "markdown",
   "metadata": {},
   "source": [
    "### Cleaning and transforming the `Value` column\n",
    "This part involves using lamdba (a short form of function).  We define that short function so that each piece of data from `Value` column will trigger a function call which gets rid of unwanted symbol and convert to `float` type.\n",
    "\n",
    "Here we add an extra column named `Percent` to store the cleaned and converted `Value` column."
   ]
  },
  {
   "cell_type": "code",
   "execution_count": null,
   "metadata": {},
   "outputs": [],
   "source": [
    "sp500[\"Percent\"] = sp500[\"Value\"].apply(lambda x: float(x.strip(\"â\\x80 \").strip(\"%\")) / 100)"
   ]
  },
  {
   "cell_type": "markdown",
   "metadata": {},
   "source": [
    "### Here we drop the unwanted `Value` column"
   ]
  },
  {
   "cell_type": "code",
   "execution_count": null,
   "metadata": {},
   "outputs": [],
   "source": [
    "sp500.drop(columns = ['Value'], inplace=True)"
   ]
  },
  {
   "cell_type": "code",
   "execution_count": null,
   "metadata": {},
   "outputs": [],
   "source": [
    "print(sp500)"
   ]
  },
  {
   "cell_type": "markdown",
   "metadata": {},
   "source": [
    "### Another Table Reading Example"
   ]
  },
  {
   "cell_type": "markdown",
   "metadata": {},
   "source": [
    "Copy and paste the following page to a browser to take a glance on the page.  It contains two tables.\n",
    "\n",
    "`https://www.w3schools.com/html/html_tables.asp`"
   ]
  },
  {
   "cell_type": "code",
   "execution_count": null,
   "metadata": {},
   "outputs": [],
   "source": [
    "url2 = 'https://www.w3schools.com/html/html_tables.asp'"
   ]
  },
  {
   "cell_type": "code",
   "execution_count": null,
   "metadata": {},
   "outputs": [],
   "source": [
    "tables = pd.read_html(url2)"
   ]
  },
  {
   "cell_type": "code",
   "execution_count": null,
   "metadata": {},
   "outputs": [],
   "source": [
    "len(tables)"
   ]
  },
  {
   "cell_type": "code",
   "execution_count": null,
   "metadata": {},
   "outputs": [],
   "source": [
    "tables[0]"
   ]
  },
  {
   "cell_type": "code",
   "execution_count": null,
   "metadata": {},
   "outputs": [],
   "source": [
    "tables[1]"
   ]
  },
  {
   "cell_type": "markdown",
   "metadata": {},
   "source": [
    "## `read_html()` doesn't always work\n",
    "\n",
    "- There are too many broken HTML codes out there\n",
    "- Data are always presented in the format of table\n",
    "- Some websites implement blocking policy\n",
    "- Modern webpage involving more and more JavaScript programming.  A webpage might start EMPTY at first and actual page contents are generated by client-side.\n",
    "\n",
    "**The following `read_html()` call fails**  \n",
    "It throws `HTTPError: HTTP Error 403: Forbidden`\n",
    "```\n",
    "hkej_url = 'https://stock360.hkej.com/marketWatch/Top20/topGainers'\n",
    "raw_html_tbl2 = pd.read_html(hkej_url)\n",
    "raw_html_tbl2\n",
    "```\n",
    "\n",
    "The following cell will generate `HTTPError: HTTP Error 403: Forbidden`"
   ]
  },
  {
   "cell_type": "code",
   "execution_count": null,
   "metadata": {},
   "outputs": [],
   "source": [
    "hkej_url = 'https://stock360.hkej.com/marketWatch/Top20/topGainers'\n",
    "raw_html_tbl2 = pd.read_html(hkej_url)\n",
    "raw_html_tbl2"
   ]
  },
  {
   "cell_type": "markdown",
   "metadata": {},
   "source": [
    "# USING `BeautifulSoup` TO AUTOMATE DATA GRABBING\n",
    "\n",
    "You can extract HTML elements from complex HTML codes by using BeautifulSoup.  \n",
    "\n",
    "**BeautifulSoup** is a popular web scraping tool.  **Scrapy** and **Selenium** are also widely used."
   ]
  },
  {
   "cell_type": "markdown",
   "metadata": {},
   "source": [
    "## Using Browser Dev Tools to Explore HTML/CSS/JavaScript\n",
    "\n",
    "We will use the Developer Tools function by Google Chrome browser to explore how HTML, CSS and JavaScript work together to present a modern webpage. \n",
    "\n",
    "If you don't have Google Chrome Browser, click below to download and instll.  \n",
    "[Download Google Chrome](https://www.google.com/intl/en_hk/chrome/)"
   ]
  },
  {
   "cell_type": "markdown",
   "metadata": {},
   "source": [
    "## Chrome Dev Tool\n",
    "\n",
    "It helps developers debug, inspect, and optimize web pages for performance, security, and responsiveness.\n",
    "\n",
    "At any empty area of a web page, right-click and choose **Inspect** to open up dev tool.  \n",
    "\n",
    "Let's have some fun with dev tool.  You will be amazed how much it can do and these features are only known by developer, not regular users.\n",
    "\n",
    "![Chrome Dev Tool](https://developer.chrome.com/static/docs/devtools/overview/image/elements-panel-546127ed29eac.png)"
   ]
  },
  {
   "cell_type": "markdown",
   "metadata": {},
   "source": [
    "## Let's try to create a very simple web page \n",
    "\n",
    "Let's user [JSFiddle](https://jsfiddle.net/)\n",
    "\n",
    "![](https://b6land.github.io/assets/imgs/2024-01-14/jsFiddle.png)"
   ]
  },
  {
   "cell_type": "markdown",
   "metadata": {},
   "source": [
    "## Check if `beautifulsoup4` is already installed\n",
    "\n",
    "Run the following magic command to check if beautifulsoup4 is installed on your computer.  \n",
    "`!conda list beautifulsoup4`"
   ]
  },
  {
   "cell_type": "code",
   "execution_count": null,
   "metadata": {},
   "outputs": [],
   "source": [
    "!conda list beautifulsoup4"
   ]
  },
  {
   "cell_type": "markdown",
   "metadata": {},
   "source": [
    "\n",
    "If beautifulsoup4 is NOT installed, run the following magic commnad to install it.  \n",
    "\n",
    "`!conda install beautifulsoup4`"
   ]
  },
  {
   "cell_type": "markdown",
   "metadata": {},
   "source": [
    "## Import `BeautifulSoup`\n",
    "Import `BeautifulSoup` before you use it\n",
    "\n",
    "```\n",
    "from bs4 import BeautifulSoup\n",
    "```"
   ]
  },
  {
   "cell_type": "code",
   "execution_count": null,
   "metadata": {},
   "outputs": [],
   "source": [
    "from bs4 import BeautifulSoup"
   ]
  },
  {
   "cell_type": "markdown",
   "metadata": {},
   "source": [
    "## Let's start with simple dummy HTML\n",
    "\n",
    "**Declare the following HTML documents**\n",
    "\n",
    "```\n",
    "html_doc = \"\"\"<!DOCTYPE html>\n",
    "<html lang=\"en\" dir=\"ltr\">\n",
    "  <head>\n",
    "    <meta charset=\"utf-8\" />\n",
    "    <meta name=\"viewport\" content=\"width=device-width, initial-scale=1.0\" />\n",
    "    <title>Today's News</title>\n",
    "    <style>\n",
    "      #website-name {\n",
    "        color: rgb(164, 11, 11);\n",
    "      }\n",
    "      #website-name span {\n",
    "        color: black;\n",
    "        font-size: 0.5em;\n",
    "      }\n",
    "      .news-title {\n",
    "        text-transform: uppercase;\n",
    "      }\n",
    "      h2 {\n",
    "        color: rgb(164, 11, 11);\n",
    "      }\n",
    "\n",
    "      article {\n",
    "        border-bottom: solid 1px grey;\n",
    "      }\n",
    "\n",
    "      aside {\n",
    "        border: solid 1px #ccc;\n",
    "        padding: 10px;\n",
    "      }\n",
    "    </style>\n",
    "  </head>\n",
    "  <body>\n",
    "    <h1 id=\"website-name\">Today's News <span>(An ABC Company)</span></h1>\n",
    "    <b id=\"today\" class=\"date-style\">Date: 2025-04-30</b>\n",
    "    <hr />\n",
    "    <main>\n",
    "      <article id=\"cover-story\">\n",
    "        <h2 class=\"news-title\">News 001</h2>\n",
    "        <a href=\"news001.html\" class=\"news-cover-photo\" id=\"cover-story-photo\"\n",
    "          ><img\n",
    "            src=\"https://placehold.co/600x400?text=Dummy+Photo+1\"\n",
    "            alt=\"photo\"\n",
    "        /></a>\n",
    "        <br /><i>2025-01-01</i>\n",
    "        <p>\n",
    "          <b>News 001</b> dolor sit amet, consectetur adipisicing elit, sed do\n",
    "          eiusmod tempor incididunt ut labore et dolore magna aliqua. Ut enim ad\n",
    "          minim veniam, quis nostrud exercitation ullamco laboris nisi ut\n",
    "          aliquip ex ea commodo consequat. Duis aute irure dolor in\n",
    "          reprehenderit in voluptate velit esse cillum dolore eu fugiat nulla\n",
    "          pariatur. Excepteur sint occaecat cupidatat non proident, sunt in\n",
    "          culpa qui officia deserunt mollit anim id est laborum.\n",
    "        </p>\n",
    "      </article>\n",
    "\n",
    "      <article class=\"featured\">\n",
    "        <h2 class=\"news-title\">News 002</h2>\n",
    "        <a href=\"news002.html\" class=\"news-cover-photo\"\n",
    "          ><img\n",
    "            src=\"https://placehold.co/600x400?text=Dummy+Photo+2\"\n",
    "            alt=\"photo\"\n",
    "        /></a>\n",
    "        <br /><i>2025-01-01</i>\n",
    "        <p>\n",
    "          <b>News 002</b> dolor sit amet, consectetur adipisicing elit, sed do\n",
    "          eiusmod tempor incididunt ut labore et dolore magna aliqua. Ut enim ad\n",
    "          minim veniam, quis nostrud exercitation ullamco laboris nisi ut\n",
    "          aliquip ex ea commodo consequat. Duis aute irure dolor in\n",
    "          reprehenderit in voluptate velit esse cillum dolore eu fugiat nulla\n",
    "          pariatur. Excepteur sint occaecat cupidatat non proident, sunt in\n",
    "          culpa qui officia deserunt mollit anim id est laborum.\n",
    "        </p>\n",
    "      </article>\n",
    "\n",
    "      <article class=\"featured\">\n",
    "        <h2 class=\"news-title\">News 003</h2>\n",
    "        <a href=\"news003.html\" class=\"news-cover-photo\"\n",
    "          ><img\n",
    "            src=\"https://placehold.co/600x400?text=Dummy+Photo+3\"\n",
    "            alt=\"photo\"\n",
    "        /></a>\n",
    "        <br /><i>2025-01-01</i>\n",
    "        <p>\n",
    "          <b>News 003</b> dolor sit amet, consectetur adipisicing elit, sed do\n",
    "          eiusmod tempor incididunt ut labore et dolore magna aliqua. Ut enim ad\n",
    "          minim veniam, quis nostrud exercitation ullamco laboris nisi ut\n",
    "          aliquip ex ea commodo consequat. Duis aute irure dolor in\n",
    "          reprehenderit in voluptate velit esse cillum dolore eu fugiat nulla\n",
    "          pariatur. Excepteur sint occaecat cupidatat non proident, sunt in\n",
    "          culpa qui officia deserunt mollit anim id est laborum.\n",
    "        </p>\n",
    "      </article>\n",
    "    </main>\n",
    "\n",
    "    <aside class=\"related-news\">\n",
    "      <h2 id=\"related-news-section-heading\">Related News</h2>\n",
    "      <a href=\"news001.html\" class=\"related-news-link\">News 101</a><br />\n",
    "      <a href=\"news002.html\" class=\"related-news-link\">News 102</a><br />\n",
    "      <a href=\"news003.html\" class=\"related-news-link\">News 103</a><br />\n",
    "      <a href=\"news004.html\" class=\"related-news-link\">News 104</a><br />\n",
    "      <a href=\"news005.html\" class=\"related-news-link\">News 105</a><br />\n",
    "      <button class=\"related-news-link\">Show more</button>\n",
    "    </aside>\n",
    "\n",
    "    <hr />\n",
    "    <footer><span>ABC Company</span>. All rights reserved.</footer>\n",
    "  </body>\n",
    "</html>\n",
    "\"\"\"\n",
    "```"
   ]
  },
  {
   "cell_type": "code",
   "execution_count": null,
   "metadata": {},
   "outputs": [],
   "source": [
    "html_doc = \"\"\"<!DOCTYPE html>\n",
    "<html lang=\"en\" dir=\"ltr\">\n",
    "  <head>\n",
    "    <meta charset=\"utf-8\" />\n",
    "    <meta name=\"viewport\" content=\"width=device-width, initial-scale=1.0\" />\n",
    "    <title>Today's News</title>\n",
    "    <style>\n",
    "      #website-name {\n",
    "        color: rgb(164, 11, 11);\n",
    "      }\n",
    "      #website-name span {\n",
    "        color: black;\n",
    "        font-size: 0.5em;\n",
    "      }\n",
    "      .news-title {\n",
    "        text-transform: uppercase;\n",
    "      }\n",
    "      h2 {\n",
    "        color: rgb(164, 11, 11);\n",
    "      }\n",
    "\n",
    "      article {\n",
    "        border-bottom: solid 1px grey;\n",
    "      }\n",
    "\n",
    "      aside {\n",
    "        border: solid 1px #ccc;\n",
    "        padding: 10px;\n",
    "      }\n",
    "    </style>\n",
    "  </head>\n",
    "  <body>\n",
    "    <h1 id=\"website-name\">Today's News <span>(An ABC Company)</span></h1>\n",
    "    <b id=\"today\" class=\"date-style\">Date: 2025-04-30</b>\n",
    "    <hr />\n",
    "    <main>\n",
    "      <article id=\"cover-story\">\n",
    "        <h2 class=\"news-title\">News 001</h2>\n",
    "        <a href=\"news001.html\" class=\"news-cover-photo\" id=\"cover-story-photo\"\n",
    "          ><img\n",
    "            src=\"https://placehold.co/600x400?text=Dummy+Photo+1\"\n",
    "            alt=\"photo\"\n",
    "        /></a>\n",
    "        <br /><i>2025-01-01</i>\n",
    "        <p>\n",
    "          <b>News 001</b> dolor sit amet, consectetur adipisicing elit, sed do\n",
    "          eiusmod tempor incididunt ut labore et dolore magna aliqua. Ut enim ad\n",
    "          minim veniam, quis nostrud exercitation ullamco laboris nisi ut\n",
    "          aliquip ex ea commodo consequat. Duis aute irure dolor in\n",
    "          reprehenderit in voluptate velit esse cillum dolore eu fugiat nulla\n",
    "          pariatur. Excepteur sint occaecat cupidatat non proident, sunt in\n",
    "          culpa qui officia deserunt mollit anim id est laborum.\n",
    "        </p>\n",
    "      </article>\n",
    "\n",
    "      <article class=\"featured\">\n",
    "        <h2 class=\"news-title\">News 002</h2>\n",
    "        <a href=\"news002.html\" class=\"news-cover-photo\"\n",
    "          ><img\n",
    "            src=\"https://placehold.co/600x400?text=Dummy+Photo+2\"\n",
    "            alt=\"photo\"\n",
    "        /></a>\n",
    "        <br /><i>2025-01-01</i>\n",
    "        <p>\n",
    "          <b>News 002</b> dolor sit amet, consectetur adipisicing elit, sed do\n",
    "          eiusmod tempor incididunt ut labore et dolore magna aliqua. Ut enim ad\n",
    "          minim veniam, quis nostrud exercitation ullamco laboris nisi ut\n",
    "          aliquip ex ea commodo consequat. Duis aute irure dolor in\n",
    "          reprehenderit in voluptate velit esse cillum dolore eu fugiat nulla\n",
    "          pariatur. Excepteur sint occaecat cupidatat non proident, sunt in\n",
    "          culpa qui officia deserunt mollit anim id est laborum.\n",
    "        </p>\n",
    "      </article>\n",
    "\n",
    "      <article class=\"featured\">\n",
    "        <h2 class=\"news-title\">News 003</h2>\n",
    "        <a href=\"news003.html\" class=\"news-cover-photo\"\n",
    "          ><img\n",
    "            src=\"https://placehold.co/600x400?text=Dummy+Photo+3\"\n",
    "            alt=\"photo\"\n",
    "        /></a>\n",
    "        <br /><i>2025-01-01</i>\n",
    "        <p>\n",
    "          <b>News 003</b> dolor sit amet, consectetur adipisicing elit, sed do\n",
    "          eiusmod tempor incididunt ut labore et dolore magna aliqua. Ut enim ad\n",
    "          minim veniam, quis nostrud exercitation ullamco laboris nisi ut\n",
    "          aliquip ex ea commodo consequat. Duis aute irure dolor in\n",
    "          reprehenderit in voluptate velit esse cillum dolore eu fugiat nulla\n",
    "          pariatur. Excepteur sint occaecat cupidatat non proident, sunt in\n",
    "          culpa qui officia deserunt mollit anim id est laborum.\n",
    "        </p>\n",
    "      </article>\n",
    "    </main>\n",
    "\n",
    "    <aside class=\"related-news\">\n",
    "      <h2 id=\"related-news-section-heading\">Related News</h2>\n",
    "      <a href=\"news001.html\" class=\"related-news-link\">News 101</a><br />\n",
    "      <a href=\"news002.html\" class=\"related-news-link\">News 102</a><br />\n",
    "      <a href=\"news003.html\" class=\"related-news-link\">News 103</a><br />\n",
    "      <a href=\"news004.html\" class=\"related-news-link\">News 104</a><br />\n",
    "      <a href=\"news005.html\" class=\"related-news-link\">News 105</a><br />\n",
    "      <button class=\"related-news-link\">Show more</button>\n",
    "    </aside>\n",
    "\n",
    "    <hr />\n",
    "    <footer><span>ABC Company</span>. All rights reserved.</footer>\n",
    "  </body>\n",
    "</html>\n",
    "\n",
    "\"\"\""
   ]
  },
  {
   "cell_type": "markdown",
   "metadata": {},
   "source": [
    "### Createing BeautifulSoup Object\n",
    "\n",
    "Create BeautifulSoup object with HTML string (`html_doc`) and specify a parser (in this case, `html.parser`)\n",
    "\n",
    "`soup = BeautifulSoup(html_doc, 'html.parser')`\n",
    "\n",
    "A parser converts raw web page content into a structured format.  There are many parser options.  They are built to do the same job but handle different situation.\n",
    "- Use `html.parser` for simple HTML parsing (default, no installation needed).\n",
    "- Use `lxml` for speed and XML support.\n",
    "- Use `html5lib` for handling poorly formatted HTML."
   ]
  },
  {
   "cell_type": "code",
   "execution_count": null,
   "metadata": {},
   "outputs": [],
   "source": [
    "soup = BeautifulSoup(html_doc, 'html.parser')"
   ]
  },
  {
   "cell_type": "markdown",
   "metadata": {},
   "source": [
    "## Use `prettify()` function to show clear HTML codes\n",
    "\n",
    "The following command will display a neat output\n",
    "```\n",
    "print(soup.prettify())\n",
    "```"
   ]
  },
  {
   "cell_type": "code",
   "execution_count": null,
   "metadata": {},
   "outputs": [],
   "source": [
    "print(soup.prettify())"
   ]
  },
  {
   "cell_type": "markdown",
   "metadata": {},
   "source": [
    "##  Use `find()` function to retrieve child elements\n",
    "\n",
    "A HTML file is usually long.  It can easy contain hundred or thousand of lines of code.  We can we `find()` function to target our tag.\n",
    "\n",
    "Examples:\n",
    "```\n",
    "soup.find('title')\n",
    "type(soup.find('title'))\n",
    "soup.find('h1')\n",
    "soup.find('p')\n",
    "p = soup.find('p')\n",
    "type(p)\n",
    "```\n",
    "`find()` _function will only return ONE SINGLE element even if there are multiple matched_"
   ]
  },
  {
   "cell_type": "code",
   "execution_count": null,
   "metadata": {},
   "outputs": [],
   "source": [
    "soup.find('title')"
   ]
  },
  {
   "cell_type": "code",
   "execution_count": null,
   "metadata": {},
   "outputs": [],
   "source": [
    "type(soup.find('title'))"
   ]
  },
  {
   "cell_type": "code",
   "execution_count": null,
   "metadata": {},
   "outputs": [],
   "source": [
    "soup.find('h1')"
   ]
  },
  {
   "cell_type": "code",
   "execution_count": null,
   "metadata": {},
   "outputs": [],
   "source": [
    "soup.find('p')"
   ]
  },
  {
   "cell_type": "code",
   "execution_count": null,
   "metadata": {},
   "outputs": [],
   "source": [
    "a_paragraph = soup.find('p')\n",
    "type(a_paragraph)"
   ]
  },
  {
   "cell_type": "markdown",
   "metadata": {},
   "source": [
    "## Retrieve tag's content\n",
    "\n",
    "Use the following properties name to get the contents of a tag  \n",
    "\n",
    "- `.text`\tExtracts all text within an element, including **nested tags**.\n",
    "  Useful for grabbing full text content of an element  \n",
    "\n",
    "- `.string`\tReturns text only if the element has a single text node, otherwise `None`.\n",
    "  Works when an element contains direct text without nested tags  \n",
    "\n",
    "- `.content`\tRetrieves the raw binary content (bytes) of an HTML element.\n",
    "  Useful for extracting non-text elements like images  "
   ]
  },
  {
   "cell_type": "markdown",
   "metadata": {},
   "source": [
    "### let's retrieve a simple tag WITHOUT child tag"
   ]
  },
  {
   "cell_type": "code",
   "execution_count": null,
   "metadata": {},
   "outputs": [],
   "source": [
    "a_heading_2 = soup.find('h2')"
   ]
  },
  {
   "cell_type": "code",
   "execution_count": null,
   "metadata": {},
   "outputs": [],
   "source": [
    "a_heading_2"
   ]
  },
  {
   "cell_type": "code",
   "execution_count": null,
   "metadata": {},
   "outputs": [],
   "source": [
    "a_heading_2.text"
   ]
  },
  {
   "cell_type": "code",
   "execution_count": null,
   "metadata": {},
   "outputs": [],
   "source": [
    "a_heading_2.string"
   ]
  },
  {
   "cell_type": "markdown",
   "metadata": {},
   "source": [
    "### let's retrieve a tag with child tag"
   ]
  },
  {
   "cell_type": "code",
   "execution_count": null,
   "metadata": {},
   "outputs": [],
   "source": [
    "a_paragraph = soup.find('p')"
   ]
  },
  {
   "cell_type": "code",
   "execution_count": null,
   "metadata": {},
   "outputs": [],
   "source": [
    "a_paragraph.text"
   ]
  },
  {
   "cell_type": "code",
   "execution_count": null,
   "metadata": {},
   "outputs": [],
   "source": [
    "a_paragraph.string # this get nothing as the paragraph has nested child tag"
   ]
  },
  {
   "cell_type": "markdown",
   "metadata": {},
   "source": [
    "## `find()` vs. `find_all`"
   ]
  },
  {
   "cell_type": "markdown",
   "metadata": {},
   "source": [
    "- `find()` - finds the first matching HTML tag/element.  \n",
    "   Retuns single element (Tag object) or `None` if not found.  \n",
    "   Extracting a single heading (`<h2>`), first paragraph, etc.\n",
    "- `find_all()` - finds all matching HTML tag/elements.  \n",
    "   Returns a list of Tag objects (empty list if no match).  \n",
    "   Extracting all links (`<h2>`)."
   ]
  },
  {
   "cell_type": "code",
   "execution_count": null,
   "metadata": {},
   "outputs": [],
   "source": [
    "soup.find('h2')"
   ]
  },
  {
   "cell_type": "code",
   "execution_count": null,
   "metadata": {},
   "outputs": [],
   "source": [
    "type(soup.find('h2'))"
   ]
  },
  {
   "cell_type": "code",
   "execution_count": null,
   "metadata": {},
   "outputs": [],
   "source": [
    "soup.find_all('h2')"
   ]
  },
  {
   "cell_type": "markdown",
   "metadata": {},
   "source": [
    "---\n",
    "**Check the type**\n",
    "When you use `find_all`, it returns a ResultSet (a list of item found)"
   ]
  },
  {
   "cell_type": "code",
   "execution_count": null,
   "metadata": {},
   "outputs": [],
   "source": [
    "type(soup.find_all('h2'))"
   ]
  },
  {
   "cell_type": "markdown",
   "metadata": {},
   "source": [
    "---\n",
    "**Use `[]` to refer to an item in the resultset**\n",
    "\n",
    "`soup.find_all('h2')[0]`"
   ]
  },
  {
   "cell_type": "code",
   "execution_count": null,
   "metadata": {},
   "outputs": [],
   "source": [
    "# returns the first one: use 0 as index\n",
    "soup.find_all('h2')[0]"
   ]
  },
  {
   "cell_type": "code",
   "execution_count": null,
   "metadata": {},
   "outputs": [],
   "source": [
    "# returns the second one: use 1 as index\n",
    "soup.find_all('h2')[1] "
   ]
  },
  {
   "cell_type": "code",
   "execution_count": null,
   "metadata": {},
   "outputs": [],
   "source": [
    "# returns the last one: use -1 as index\n",
    "soup.find_all('h2')[-1]"
   ]
  },
  {
   "cell_type": "code",
   "execution_count": null,
   "metadata": {},
   "outputs": [],
   "source": [
    "# returns the second last one: use -2 as index\n",
    "soup.find_all('h2')[-2]"
   ]
  },
  {
   "cell_type": "markdown",
   "metadata": {},
   "source": [
    "## find by tag name, class name or id\n",
    "You can find target tag by it's tag name, tag's class or id attributes  \n",
    "\n",
    "![](https://codetheweb.blog/assets/img/posts/html-syntax/tag-structure-2.png)\n",
    "\n",
    "### by tag names / element name\n",
    "This approach is easy.  But this approach will usually targeting TOO  MANY tags (considing a HTML page can easily contain thousand of lines\n",
    "```\n",
    "find('h1')\n",
    "find('h2')\n",
    "find('p')\n",
    "```\n",
    "### by css `class_` attribute\n",
    "This approach let you target tags with certain css class name.  Parameter name is `class_` instead of `class`, because `class` is a reserved keyword in Python\n",
    "```\n",
    "soup.find_all(class_='news-title')\n",
    "soup.find_all(class_='featured')\n",
    "\n",
    "```\n",
    "### by `id` attribute\n",
    "Use id when targeting unique elements.  \n",
    "_Note_\n",
    "- `id` is a unique value among a HTML document. So you should expecting only one matched tag.  \n",
    "- However there could be exception as it's quite common that HMTL codes are buggy and messy.\n",
    "```\n",
    "soup.find_all(id='website-name')\n",
    "soup.find_all(id='related-news-section-heading')\n",
    "```\n"
   ]
  },
  {
   "cell_type": "code",
   "execution_count": null,
   "metadata": {},
   "outputs": [],
   "source": [
    "soup.find_all('h2')"
   ]
  },
  {
   "cell_type": "code",
   "execution_count": null,
   "metadata": {},
   "outputs": [],
   "source": [
    "soup.find_all(class_='news-title')"
   ]
  },
  {
   "cell_type": "code",
   "execution_count": null,
   "metadata": {},
   "outputs": [],
   "source": [
    "soup.find_all(id='website-name')"
   ]
  },
  {
   "cell_type": "code",
   "execution_count": null,
   "metadata": {},
   "outputs": [],
   "source": [
    "soup.find_all(id='related-news-section-heading')"
   ]
  },
  {
   "cell_type": "markdown",
   "metadata": {},
   "source": [
    "## Use  `.` to refer a child element\n",
    "To retrieve the `<title>` child tag, use `soup.title`\n",
    "\n",
    "Or other child elements\n",
    "```\n",
    "soup.meta\n",
    "soup.h1\n",
    "soup.h2\n",
    "soup.footer\n",
    "```\n",
    "\n",
    "This approach will only return ONE object"
   ]
  },
  {
   "cell_type": "code",
   "execution_count": null,
   "metadata": {},
   "outputs": [],
   "source": [
    "soup.title"
   ]
  },
  {
   "cell_type": "code",
   "execution_count": null,
   "metadata": {},
   "outputs": [],
   "source": [
    "soup.meta"
   ]
  },
  {
   "cell_type": "code",
   "execution_count": null,
   "metadata": {},
   "outputs": [],
   "source": [
    "soup.h1"
   ]
  },
  {
   "cell_type": "code",
   "execution_count": null,
   "metadata": {},
   "outputs": [],
   "source": [
    "soup.h1.span"
   ]
  },
  {
   "cell_type": "code",
   "execution_count": null,
   "metadata": {},
   "outputs": [],
   "source": [
    "soup.h1.span.text"
   ]
  },
  {
   "cell_type": "code",
   "execution_count": null,
   "metadata": {},
   "outputs": [],
   "source": [
    "soup.h2"
   ]
  },
  {
   "cell_type": "code",
   "execution_count": null,
   "metadata": {},
   "outputs": [],
   "source": [
    "soup.footer"
   ]
  },
  {
   "cell_type": "markdown",
   "metadata": {},
   "source": [
    "## Getting a tag\n",
    "```\n",
    "a_tag = soup.title \n",
    "a_tag.name\n",
    "```"
   ]
  },
  {
   "cell_type": "code",
   "execution_count": null,
   "metadata": {},
   "outputs": [],
   "source": [
    "soup.title"
   ]
  },
  {
   "cell_type": "code",
   "execution_count": null,
   "metadata": {},
   "outputs": [],
   "source": [
    "a_tag = soup.title "
   ]
  },
  {
   "cell_type": "code",
   "execution_count": null,
   "metadata": {},
   "outputs": [],
   "source": [
    "a_tag.name"
   ]
  },
  {
   "cell_type": "code",
   "execution_count": null,
   "metadata": {},
   "outputs": [],
   "source": [
    "a_tag.text"
   ]
  },
  {
   "cell_type": "code",
   "execution_count": null,
   "metadata": {},
   "outputs": [],
   "source": [
    "a_tag.string"
   ]
  },
  {
   "cell_type": "markdown",
   "metadata": {},
   "source": [
    "## Get the parent tag\n",
    "`.parent` gives the parent tag of current tag\n",
    "```\n",
    "a_tag.parent\n",
    "a_tag.parent.name\n",
    "a_tag.parent.string\n",
    "```"
   ]
  },
  {
   "cell_type": "code",
   "execution_count": null,
   "metadata": {},
   "outputs": [],
   "source": [
    "a_tag"
   ]
  },
  {
   "cell_type": "code",
   "execution_count": null,
   "metadata": {},
   "outputs": [],
   "source": [
    "a_tag.parent"
   ]
  },
  {
   "cell_type": "code",
   "execution_count": null,
   "metadata": {},
   "outputs": [],
   "source": [
    "a_tag.parent.name"
   ]
  },
  {
   "cell_type": "code",
   "execution_count": null,
   "metadata": {},
   "outputs": [],
   "source": [
    "a_tag.parent.text"
   ]
  },
  {
   "cell_type": "markdown",
   "metadata": {},
   "source": [
    "## Tag attributes\n",
    "\n",
    "The diagram below explain what is a tag's attributes.\n",
    "![](https://www.scientecheasy.com/wp-content/uploads/2023/03/img-html-attributes.png)\n",
    "\n",
    "Showing attribute\n",
    "```\n",
    "a_tag = soup.a\n",
    "a_tag\n",
    "a_tag[\"class\"]\n",
    "a_tag[\"href\"]\n",
    "a_tag[\"id\"]\n",
    "a_tag.attrs\n",
    "```\n",
    "\n",
    "`.attrs` lists all attributes"
   ]
  },
  {
   "cell_type": "code",
   "execution_count": null,
   "metadata": {},
   "outputs": [],
   "source": [
    "a_tag = soup.a\n",
    "a_tag"
   ]
  },
  {
   "cell_type": "code",
   "execution_count": null,
   "metadata": {},
   "outputs": [],
   "source": [
    "a_tag[\"class\"]"
   ]
  },
  {
   "cell_type": "code",
   "execution_count": null,
   "metadata": {},
   "outputs": [],
   "source": [
    "a_tag[\"href\"]"
   ]
  },
  {
   "cell_type": "code",
   "execution_count": null,
   "metadata": {},
   "outputs": [],
   "source": [
    "a_tag[\"id\"]"
   ]
  },
  {
   "cell_type": "code",
   "execution_count": null,
   "metadata": {},
   "outputs": [],
   "source": [
    "a_tag.attrs # show all the attributes of a tag"
   ]
  },
  {
   "cell_type": "markdown",
   "metadata": {},
   "source": [
    "## Specifying both `tag` name and `class` name\n",
    "\n",
    "We previously use `class_` to find matching elemenet, this approach will return all type of HTML tag that has a matching CSS class name. \n",
    "`soup.find_all(class_='related-news-link')`\n",
    "\n",
    "We can include `tag` name as the first parameter to narrowing search only for certain type of HTML tags\n",
    "\n",
    "This searches for `<a>` tag with css class named `related-news-link`   \n",
    "`soup.find_all('a', class_='related-news-link')`\n",
    "\n",
    "This searches for `<button>` tag with css class named `related-news-link`  \n",
    "`soup.find_all('button', class_='related-news-link')`\n"
   ]
  },
  {
   "cell_type": "code",
   "execution_count": null,
   "metadata": {},
   "outputs": [],
   "source": [
    "soup.find_all(class_='related-news-link')"
   ]
  },
  {
   "cell_type": "code",
   "execution_count": null,
   "metadata": {},
   "outputs": [],
   "source": [
    "soup.find_all('a', class_='related-news-link')"
   ]
  },
  {
   "cell_type": "code",
   "execution_count": null,
   "metadata": {},
   "outputs": [],
   "source": [
    "soup.find_all('button', class_='related-news-link')"
   ]
  },
  {
   "cell_type": "markdown",
   "metadata": {},
   "source": [
    "## Limiting the number in the search result\n",
    "\n",
    "Use `limit` parameter to specify how many items you are expecting\n",
    "\n",
    "In the following example, we limit the search to **TWO**\n",
    "```\n",
    "soup.find_all('h2', limit=2) \n",
    "\n",
    "```"
   ]
  },
  {
   "cell_type": "code",
   "execution_count": null,
   "metadata": {},
   "outputs": [],
   "source": [
    "soup.find_all('h2')"
   ]
  },
  {
   "cell_type": "code",
   "execution_count": null,
   "metadata": {},
   "outputs": [],
   "source": [
    "soup.find_all('h2', limit=2)"
   ]
  },
  {
   "cell_type": "markdown",
   "metadata": {},
   "source": [
    "## Search by using advanced CSS selectors\n",
    "If you are an experienced HTML/CSS coding, you can use complex css selector to be more targeted on small part of the HTML contents.  \n",
    "\n",
    "Here we use `select()` function by specifying `css selector` as parameter.  It returns all the matching elements.\n",
    "```\n",
    "soup.select('body b')\n",
    "soup.select('p b')\n",
    "soup.select('body>b')\n",
    "soup.select('body>p>b')\n",
    "```"
   ]
  },
  {
   "cell_type": "code",
   "execution_count": null,
   "metadata": {},
   "outputs": [],
   "source": [
    "soup.select('h2')"
   ]
  },
  {
   "cell_type": "code",
   "execution_count": null,
   "metadata": {},
   "outputs": [],
   "source": [
    "soup.select('article h2')"
   ]
  },
  {
   "cell_type": "code",
   "execution_count": null,
   "metadata": {},
   "outputs": [],
   "source": [
    "soup.select('aside h2')"
   ]
  },
  {
   "cell_type": "code",
   "execution_count": null,
   "metadata": {},
   "outputs": [],
   "source": [
    "soup.select('b')"
   ]
  },
  {
   "cell_type": "code",
   "execution_count": null,
   "metadata": {},
   "outputs": [],
   "source": [
    "soup.select('body>b')"
   ]
  },
  {
   "cell_type": "code",
   "execution_count": null,
   "metadata": {
    "scrolled": true
   },
   "outputs": [],
   "source": [
    "soup.select('article>p>b')"
   ]
  },
  {
   "cell_type": "code",
   "execution_count": null,
   "metadata": {},
   "outputs": [],
   "source": []
  },
  {
   "cell_type": "markdown",
   "metadata": {},
   "source": [
    "# PRACTICAL SCRPAING USING `requests` PACKAGE\n",
    "In the previous section, we use a simple **HTML strings** to demonstrate the how to `find()`, `find_all()` and `select()` HTML tags/elements in our targeted HTML string becuase actually web page usually are very long and messy.  We learn BeautifulSoup skills by process a simple document.\n",
    "\n",
    "In real life, we need to initiate **HTTP request** to webpage(s) over the internet directly and convert the returned HTML texts to a BeautifulSoup object.  \n",
    "\n",
    "To issue HTTPS request, we need to import `requests` package.\n",
    "![HTTP Protocol](https://miro.medium.com/v2/resize:fit:853/1*8-fT6K1o6nHiBRxKppcqOg.png)"
   ]
  },
  {
   "cell_type": "markdown",
   "metadata": {},
   "source": [
    "## Imporint packages"
   ]
  },
  {
   "cell_type": "code",
   "execution_count": null,
   "metadata": {},
   "outputs": [],
   "source": [
    "import requests\n",
    "from bs4 import BeautifulSoup"
   ]
  },
  {
   "cell_type": "markdown",
   "metadata": {},
   "source": [
    "## Defining `User-Agent` for HTTP Request Header\n",
    "\n",
    "Defining a `User-Agent` when web scraping is important because many websites check this header to determine whether the request is coming from a browser or a bot.  \n",
    "\n",
    "If a request lacks a User-Agent or looks suspicious, websites may block or rate-limit it.\n",
    "\n",
    "**Why Use a User-Agent?** \n",
    "1. Avoid Blocks & Restrictions – Websites may reject requests from bots or unknown sources.\n",
    "2. Mimic a Real Browser – Helps make the request appear more like human activity.\n",
    "3. Access Site Content Properly – Some sites serve different content based on the User-Agent.\n",
    "4. Bypass Captchas or Anti-Bot Measures – Many sites block automated scraping tools.\n",
    "\n",
    "In Python, headers are defined using `dict` type.\n",
    "```\n",
    "headers = {\n",
    "    \"User-Agent\": \"Mozilla/5.0 (Windows NT 10.0; Win64; x64)\"\n",
    "}\n",
    "```"
   ]
  },
  {
   "cell_type": "code",
   "execution_count": null,
   "metadata": {},
   "outputs": [],
   "source": [
    "headers = {\n",
    "    \"User-Agent\": \"Mozilla/5.0 (Windows NT 10.0; Win64; x64)\"\n",
    "}"
   ]
  },
  {
   "cell_type": "markdown",
   "metadata": {},
   "source": [
    "## Calling `requests.get()` function\n",
    "\n",
    "We need to pass extra parameter `hearders` when calling `get()` function.\n",
    "\n",
    "```\n",
    "response = requests.get(\"https://hk.yahoo.com\", headers=headers)\n",
    "```\n",
    "\n",
    "The HTTP Response from server is stored as `response` for later use."
   ]
  },
  {
   "cell_type": "code",
   "execution_count": null,
   "metadata": {},
   "outputs": [],
   "source": [
    "response = requests.get(\"https://hk.yahoo.com\", headers=headers)"
   ]
  },
  {
   "cell_type": "markdown",
   "metadata": {},
   "source": [
    "## Checking on `response` \n",
    "\n",
    "Use`.status_code` to check the response status code.\n",
    "\n",
    "To retrieve response body, you  refer to response `.text` or `.content` attribute\n",
    "- Use `.text` when you need the response as a readable string (e.g., web pages, JSON).\n",
    "- Use `.content` when working with binary data like images, PDFs, or file downloads."
   ]
  },
  {
   "cell_type": "code",
   "execution_count": null,
   "metadata": {},
   "outputs": [],
   "source": [
    "response.status_code"
   ]
  },
  {
   "cell_type": "code",
   "execution_count": null,
   "metadata": {
    "scrolled": true
   },
   "outputs": [],
   "source": [
    "response.text"
   ]
  },
  {
   "cell_type": "code",
   "execution_count": null,
   "metadata": {},
   "outputs": [],
   "source": [
    "response.content"
   ]
  },
  {
   "cell_type": "code",
   "execution_count": null,
   "metadata": {},
   "outputs": [],
   "source": [
    "response.url"
   ]
  },
  {
   "cell_type": "markdown",
   "metadata": {},
   "source": [
    "## Converting Response Text to BeautifulSoup Object\n",
    "yahoo = BeautifulSoup(response.content, \"html.parser\")"
   ]
  },
  {
   "cell_type": "code",
   "execution_count": null,
   "metadata": {
    "scrolled": true
   },
   "outputs": [],
   "source": [
    "yahoo = BeautifulSoup(response.content, \"html.parser\")\n",
    "yahoo"
   ]
  },
  {
   "cell_type": "code",
   "execution_count": null,
   "metadata": {},
   "outputs": [],
   "source": [
    "yahoo.find('title')"
   ]
  },
  {
   "cell_type": "code",
   "execution_count": null,
   "metadata": {},
   "outputs": [],
   "source": [
    "yahoo.find_all('meta')"
   ]
  },
  {
   "cell_type": "code",
   "execution_count": null,
   "metadata": {},
   "outputs": [],
   "source": [
    "yahoo.find(id='module-featurebar')"
   ]
  },
  {
   "cell_type": "code",
   "execution_count": null,
   "metadata": {
    "scrolled": true
   },
   "outputs": [],
   "source": [
    "yahoo.find(id='module-featurebar').text"
   ]
  },
  {
   "cell_type": "code",
   "execution_count": null,
   "metadata": {
    "scrolled": true
   },
   "outputs": [],
   "source": [
    "yahoo.find_all(class_='apac-ntk-item')"
   ]
  },
  {
   "cell_type": "code",
   "execution_count": null,
   "metadata": {
    "scrolled": true
   },
   "outputs": [],
   "source": [
    "type(yahoo.find_all(class_='apac-ntk-item'))"
   ]
  },
  {
   "cell_type": "code",
   "execution_count": null,
   "metadata": {
    "scrolled": true
   },
   "outputs": [],
   "source": [
    "yahoo.find_all(class_='apac-ntk-item')[0]"
   ]
  },
  {
   "cell_type": "code",
   "execution_count": null,
   "metadata": {
    "scrolled": true
   },
   "outputs": [],
   "source": [
    "yahoo.find_all(class_='apac-ntk-item')[0].text"
   ]
  },
  {
   "cell_type": "code",
   "execution_count": null,
   "metadata": {
    "scrolled": true
   },
   "outputs": [],
   "source": [
    "yahoo.find_all(class_='apac-ntk-item')[0].attrs"
   ]
  },
  {
   "cell_type": "code",
   "execution_count": null,
   "metadata": {},
   "outputs": [],
   "source": [
    "yahoo.find_all(class_='apac-ntk-item')[0]['class']"
   ]
  },
  {
   "cell_type": "code",
   "execution_count": null,
   "metadata": {},
   "outputs": [],
   "source": [
    "yahoo.find_all(class_='apac-ntk-item')[0]['href']"
   ]
  }
 ],
 "metadata": {
  "kernelspec": {
   "display_name": "Python [conda env:base] *",
   "language": "python",
   "name": "conda-base-py"
  },
  "language_info": {
   "codemirror_mode": {
    "name": "ipython",
    "version": 3
   },
   "file_extension": ".py",
   "mimetype": "text/x-python",
   "name": "python",
   "nbconvert_exporter": "python",
   "pygments_lexer": "ipython3",
   "version": "3.12.4"
  },
  "toc": {
   "base_numbering": 1,
   "nav_menu": {},
   "number_sections": true,
   "sideBar": true,
   "skip_h1_title": false,
   "title_cell": "Table of Contents",
   "title_sidebar": "Contents",
   "toc_cell": false,
   "toc_position": {},
   "toc_section_display": true,
   "toc_window_display": true
  }
 },
 "nbformat": 4,
 "nbformat_minor": 4
}
