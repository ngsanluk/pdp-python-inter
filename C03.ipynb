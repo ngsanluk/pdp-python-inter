{
 "cells": [
  {
   "cell_type": "markdown",
   "id": "23f1aeb0-1824-4a5c-a0df-6ef5ccc61528",
   "metadata": {},
   "source": [
    "---\n",
    "# INTERMEDIATE PYTHON PROGRAMMING\n",
    "# CHAPTER 3 - Workflow, Open Data Landscape & Processing JSON Data\n",
    "---\n"
   ]
  },
  {
   "cell_type": "markdown",
   "id": "22034dbd-ba11-443e-9d0d-6f51bcf02129",
   "metadata": {},
   "source": [
    "# WHAT IS DATA SCIENCE WORKFLOW?\n",
    "\n",
    "Workflow is the preferred step-by-step procedure to complete a complex data science task.\n",
    "\n",
    "![R Data Science Workflow](https://d33wubrfki0l68.cloudfront.net/571b056757d68e6df81a3e3853f54d3c76ad6efc/32d37/diagrams/data-science.png)\n",
    "\n",
    "Some common steps in data science include: **exploring data**; **wrangling data**; **visualizing data** and **modeling** (for machine learning).\n",
    "\n",
    "These steps are NOT necessarily carried out in linear. They are usually iterative. Company/team might have very different steps for the sake of intended productivity and efficiency consideration.\n"
   ]
  },
  {
   "cell_type": "markdown",
   "id": "96b54e46-74a9-4d5c-8a53-45dc962690e8",
   "metadata": {},
   "source": [
    "# COMMON DATA FORMATS\n",
    "\n",
    "![](https://www.researchgate.net/publication/236860222/figure/fig4/AS:669293989593114@1536583530877/Unstructured-semi-structured-and-structured-data.png)\n",
    "\n",
    "## Structured Data Formats\n",
    "- **CSV (Comma-Separated Values)** – Stores tabular data in plain text, with values separated by commas.\n",
    "- **Excel** - Excel is a commonly used data source in data science projects due to its accessibility, familiarity, and ability to handle structured tabular data.\n",
    "- **SQL Databases** – Relational database storage where data is organized into tables with relationships.\n",
    "\n",
    "## Semi-Structured &\n",
    "- **JSON (JavaScript Object Notation)** – A lightweight, human-readable format often used in APIs and web applications.\n",
    "- **XML (eXtensible Markup Language)** – A structured format used for storing and transporting data.\n",
    "- **YAML (Yet Another Markup Language)** – A human-friendly format used for configuration files.\n",
    "\n",
    "\n",
    "##  Unstructured Formats\n",
    "- **Binary Formats** – Includes images (PNG, JPEG), videos (MP4), and other non-text data types.\n",
    "- **TXT Files** – Simple unformatted text files for storing raw data.\n",
    "\n",
    "Each format has specific advantages. CSV (structured) is simple and widely supported, JSON (semi-structure) is flexible and commonly used in web apps."
   ]
  },
  {
   "cell_type": "markdown",
   "id": "cfb1de8b-ee30-493f-a5f2-c3b8447e6010",
   "metadata": {},
   "source": [
    "# OPEN DATA LANDSCAPE\n",
    "- Open data refers to publicly available data that can be freely accessed, used, and shared by anyone, without restrictions or costly barriers. \n",
    "- It is typically structured or (at least semi-structure) in a way that enables easy analysis\n",
    "- It is often released by governments, organizations, or researchers to promote transparency, innovation, and collaboration. \n",
    "- Open data can cover various domains, including government statistics, scientific research, environmental data, and more. \n",
    "- Examples open data sources include open government data portals, weather datasets, and publicly accessible geospatial information."
   ]
  },
  {
   "cell_type": "markdown",
   "id": "ec7a160b-e9ee-42ad-ac4e-3645f1a6c8c5",
   "metadata": {},
   "source": [
    "# OPEN DATA SOURCES\n",
    "- [Hong Kong Government Open Data](https://data.gov.hk/en/)\n",
    "- [US Government Open Data](https://data.gov/)\n",
    "- [UK Government Open Data](https://www.data.gov.uk/)\n",
    "- [EU Open Data](https://data.europa.eu/en)\n",
    "- [World Bank](https://data.worldbank.org/)\n",
    "- [Kaggle](https://www.kaggle.com/datasets)\n",
    "- [Harvard Dataverse](https://dataverse.harvard.edu/)"
   ]
  },
  {
   "cell_type": "markdown",
   "id": "645127a9-ae4f-48bf-af86-b5a533131f6a",
   "metadata": {},
   "source": [
    "# READING LIVE CSV DATA DIRECTLY FROM THE WEB"
   ]
  },
  {
   "cell_type": "markdown",
   "id": "d2fb1ab6-bd08-4495-8229-5981c09368ee",
   "metadata": {},
   "source": [
    "In this section, we will write codes to read **live** (the latest version) data from Hong Kong Gov Open Data portal.\n",
    "\n",
    "Search for **ugc** (university grant committee) on Government Open Data website\n",
    "\n",
    "[Click here to search dataset from ugc](https://data.gov.hk/en-datasets/search/ugc)\n",
    "[![search ugc](./images/data-gov-hk-search-ugc.png)](https://data.gov.hk/en-datasets/search/ugc)"
   ]
  },
  {
   "cell_type": "markdown",
   "id": "df61757d-7516-4e92-8f4b-08ea7ae20332",
   "metadata": {},
   "source": [
    "Importing pandas  \n",
    "```\n",
    "import requests\n",
    "import pandas as pd\n",
    "from io import StringIO\n",
    "```\n",
    "\n",
    "Declaring url - url means universal resource location, it actually means a web resource address   \n",
    "```\n",
    "url = 'https://res.data.gov.hk/api/get-download-file?name=https%3A%2F%2Fwww.ugcs.gov.hk%2Fdatagovhk%2FGraduates2(Eng).csv'\n",
    "```\n",
    "\n",
    "Create a HTTP request and store the response\n",
    "```\n",
    "response = requests.get(url)\n",
    "```\n",
    "\n",
    "Use pandas `read_csv()` function to read the response.text.  We have to convert it to `StringIO()` format first.  Compared to pre-download approach, with this approach, we will always get latest copy of date when we run the codes.\n",
    "```\n",
    "ugra = pd.read_csv(StringIO(response.text))\n",
    "```\n",
    "\n",
    "Explore the DataFrame of university graduate by using Pandas functions\n",
    "- `shape` attribute: `ugra.shape`\n",
    "- `columns` attribute: `ugra.shape`\n",
    "- `head()` function: `ugra.head()`\n",
    "- `tail()` function: `ugra.tail()`\n",
    "- `info()` function: `ugra.info()`\n",
    "- `describe()` function: `ugra.describe()`\n",
    "- `unique()` function: `ugra['Academic Year'].unique()`\n",
    "- filtering rows using `[ ]` operator: `ugra[ugra['Academic Year']=='2023/24']`\n",
    "- more complex filtering: `ugra[(ugra['Academic Year']=='2023/24') & (ugra['Level of Study']=='Taught Postgraduate')]`\n"
   ]
  },
  {
   "cell_type": "code",
   "execution_count": 44,
   "id": "e1a1cd48-40b6-494b-a5bd-ac91187d8ea0",
   "metadata": {},
   "outputs": [],
   "source": [
    "import requests\n",
    "import pandas as pd\n",
    "from io import StringIO"
   ]
  },
  {
   "cell_type": "code",
   "execution_count": 46,
   "id": "5f3c20b3-ec17-4e9b-a2a4-5f041cdec64b",
   "metadata": {},
   "outputs": [
    {
     "data": {
      "text/plain": [
       "'https://res.data.gov.hk/api/get-download-file?name=https%3A%2F%2Fwww.ugcs.gov.hk%2Fdatagovhk%2FGraduates2(Eng).csv'"
      ]
     },
     "execution_count": 46,
     "metadata": {},
     "output_type": "execute_result"
    }
   ],
   "source": [
    "url = \"https://res.data.gov.hk/api/get-download-file?name=https%3A%2F%2Fwww.ugcs.gov.hk%2Fdatagovhk%2FGraduates2(Eng).csv\"\n",
    "url"
   ]
  },
  {
   "cell_type": "code",
   "execution_count": 48,
   "id": "139f6123-7b56-4867-8eaa-ca6941ab922c",
   "metadata": {},
   "outputs": [],
   "source": [
    "response = requests.get(url)"
   ]
  },
  {
   "cell_type": "code",
   "execution_count": 49,
   "id": "a59dc433-0710-4acc-91cd-8bb98cde5ee5",
   "metadata": {},
   "outputs": [],
   "source": [
    "ugra = pd.read_csv(StringIO(response.text))"
   ]
  },
  {
   "cell_type": "code",
   "execution_count": 50,
   "id": "49446c26-5bd7-4fa8-8cd6-ad71ace5cbc7",
   "metadata": {
    "scrolled": true
   },
   "outputs": [
    {
     "data": {
      "text/html": [
       "<div>\n",
       "<style scoped>\n",
       "    .dataframe tbody tr th:only-of-type {\n",
       "        vertical-align: middle;\n",
       "    }\n",
       "\n",
       "    .dataframe tbody tr th {\n",
       "        vertical-align: top;\n",
       "    }\n",
       "\n",
       "    .dataframe thead th {\n",
       "        text-align: right;\n",
       "    }\n",
       "</style>\n",
       "<table border=\"1\" class=\"dataframe\">\n",
       "  <thead>\n",
       "    <tr style=\"text-align: right;\">\n",
       "      <th></th>\n",
       "      <th>Academic Year</th>\n",
       "      <th>Level of Study</th>\n",
       "      <th>Broad Academic Programme Category</th>\n",
       "      <th>Sex</th>\n",
       "      <th>Number of Graduates (Headcount)</th>\n",
       "    </tr>\n",
       "  </thead>\n",
       "  <tbody>\n",
       "    <tr>\n",
       "      <th>0</th>\n",
       "      <td>2009/10</td>\n",
       "      <td>Sub-degree</td>\n",
       "      <td>Arts and Humanities</td>\n",
       "      <td>Male</td>\n",
       "      <td>158</td>\n",
       "    </tr>\n",
       "    <tr>\n",
       "      <th>1</th>\n",
       "      <td>2009/10</td>\n",
       "      <td>Sub-degree</td>\n",
       "      <td>Arts and Humanities</td>\n",
       "      <td>Female</td>\n",
       "      <td>475</td>\n",
       "    </tr>\n",
       "  </tbody>\n",
       "</table>\n",
       "</div>"
      ],
      "text/plain": [
       "  Academic Year Level of Study Broad Academic Programme Category     Sex  \\\n",
       "0       2009/10     Sub-degree               Arts and Humanities    Male   \n",
       "1       2009/10     Sub-degree               Arts and Humanities  Female   \n",
       "\n",
       "   Number of Graduates (Headcount)  \n",
       "0                              158  \n",
       "1                              475  "
      ]
     },
     "execution_count": 50,
     "metadata": {},
     "output_type": "execute_result"
    }
   ],
   "source": [
    "ugra.head(2)"
   ]
  },
  {
   "cell_type": "code",
   "execution_count": 54,
   "id": "d1b2d1c5-beda-4cba-b86b-f64a3d283d5c",
   "metadata": {},
   "outputs": [
    {
     "data": {
      "text/plain": [
       "(803, 5)"
      ]
     },
     "execution_count": 54,
     "metadata": {},
     "output_type": "execute_result"
    }
   ],
   "source": [
    "ugra.shape"
   ]
  },
  {
   "cell_type": "code",
   "execution_count": 56,
   "id": "a63d2515-0e82-4ab3-a9e2-6cd09c380f4b",
   "metadata": {},
   "outputs": [
    {
     "data": {
      "text/plain": [
       "Index(['Academic Year', 'Level of Study', 'Broad Academic Programme Category',\n",
       "       'Sex', 'Number of Graduates (Headcount)'],\n",
       "      dtype='object')"
      ]
     },
     "execution_count": 56,
     "metadata": {},
     "output_type": "execute_result"
    }
   ],
   "source": [
    "ugra.columns"
   ]
  },
  {
   "cell_type": "code",
   "execution_count": 58,
   "id": "33b4d239-0d47-4571-bd9b-cd72579016a9",
   "metadata": {
    "scrolled": true
   },
   "outputs": [
    {
     "name": "stdout",
     "output_type": "stream",
     "text": [
      "<class 'pandas.core.frame.DataFrame'>\n",
      "RangeIndex: 803 entries, 0 to 802\n",
      "Data columns (total 5 columns):\n",
      " #   Column                             Non-Null Count  Dtype \n",
      "---  ------                             --------------  ----- \n",
      " 0   Academic Year                      803 non-null    object\n",
      " 1   Level of Study                     803 non-null    object\n",
      " 2   Broad Academic Programme Category  803 non-null    object\n",
      " 3   Sex                                803 non-null    object\n",
      " 4   Number of Graduates (Headcount)    803 non-null    int64 \n",
      "dtypes: int64(1), object(4)\n",
      "memory usage: 31.5+ KB\n"
     ]
    }
   ],
   "source": [
    "ugra.info()"
   ]
  },
  {
   "cell_type": "code",
   "execution_count": 60,
   "id": "2174959a-693e-491f-81e9-f002fcdef24e",
   "metadata": {
    "scrolled": true
   },
   "outputs": [
    {
     "data": {
      "text/html": [
       "<div>\n",
       "<style scoped>\n",
       "    .dataframe tbody tr th:only-of-type {\n",
       "        vertical-align: middle;\n",
       "    }\n",
       "\n",
       "    .dataframe tbody tr th {\n",
       "        vertical-align: top;\n",
       "    }\n",
       "\n",
       "    .dataframe thead th {\n",
       "        text-align: right;\n",
       "    }\n",
       "</style>\n",
       "<table border=\"1\" class=\"dataframe\">\n",
       "  <thead>\n",
       "    <tr style=\"text-align: right;\">\n",
       "      <th></th>\n",
       "      <th>Number of Graduates (Headcount)</th>\n",
       "    </tr>\n",
       "  </thead>\n",
       "  <tbody>\n",
       "    <tr>\n",
       "      <th>count</th>\n",
       "      <td>803.000000</td>\n",
       "    </tr>\n",
       "    <tr>\n",
       "      <th>mean</th>\n",
       "      <td>508.037360</td>\n",
       "    </tr>\n",
       "    <tr>\n",
       "      <th>std</th>\n",
       "      <td>693.152892</td>\n",
       "    </tr>\n",
       "    <tr>\n",
       "      <th>min</th>\n",
       "      <td>1.000000</td>\n",
       "    </tr>\n",
       "    <tr>\n",
       "      <th>25%</th>\n",
       "      <td>62.000000</td>\n",
       "    </tr>\n",
       "    <tr>\n",
       "      <th>50%</th>\n",
       "      <td>160.000000</td>\n",
       "    </tr>\n",
       "    <tr>\n",
       "      <th>75%</th>\n",
       "      <td>729.500000</td>\n",
       "    </tr>\n",
       "    <tr>\n",
       "      <th>max</th>\n",
       "      <td>2878.000000</td>\n",
       "    </tr>\n",
       "  </tbody>\n",
       "</table>\n",
       "</div>"
      ],
      "text/plain": [
       "       Number of Graduates (Headcount)\n",
       "count                       803.000000\n",
       "mean                        508.037360\n",
       "std                         693.152892\n",
       "min                           1.000000\n",
       "25%                          62.000000\n",
       "50%                         160.000000\n",
       "75%                         729.500000\n",
       "max                        2878.000000"
      ]
     },
     "execution_count": 60,
     "metadata": {},
     "output_type": "execute_result"
    }
   ],
   "source": [
    "ugra.describe()"
   ]
  },
  {
   "cell_type": "code",
   "execution_count": 62,
   "id": "8caa6896-a18a-4fce-99f9-5fb21e95edb3",
   "metadata": {},
   "outputs": [
    {
     "data": {
      "text/plain": [
       "array(['2009/10', '2010/11', '2011/12', '2012/13', '2013/14', '2014/15',\n",
       "       '2015/16', '2016/17', '2017/18', '2018/19', '2019/20', '2020/21',\n",
       "       '2021/22', '2022/23', '2023/24'], dtype=object)"
      ]
     },
     "execution_count": 62,
     "metadata": {},
     "output_type": "execute_result"
    }
   ],
   "source": [
    "ugra['Academic Year'].unique()"
   ]
  },
  {
   "cell_type": "code",
   "execution_count": 64,
   "id": "6ad19c27-8995-40fb-ada2-d8c8cc189880",
   "metadata": {},
   "outputs": [
    {
     "data": {
      "text/plain": [
       "array(['Sub-degree', 'Undergraduate', 'Taught Postgraduate',\n",
       "       'Research Postgraduate'], dtype=object)"
      ]
     },
     "execution_count": 64,
     "metadata": {},
     "output_type": "execute_result"
    }
   ],
   "source": [
    "ugra['Level of Study'].unique()"
   ]
  },
  {
   "cell_type": "code",
   "execution_count": 66,
   "id": "135b0484-2f88-4db8-b6f7-25027225ac92",
   "metadata": {},
   "outputs": [
    {
     "data": {
      "text/plain": [
       "array(['Arts and Humanities', 'Business and Management', 'Education',\n",
       "       'Engineering and Technology', 'Medicine, Dentistry and Health',\n",
       "       'Sciences', 'Social Sciences'], dtype=object)"
      ]
     },
     "execution_count": 66,
     "metadata": {},
     "output_type": "execute_result"
    }
   ],
   "source": [
    "ugra['Broad Academic Programme Category'].unique()"
   ]
  },
  {
   "cell_type": "code",
   "execution_count": 68,
   "id": "be45750a-f7e5-492c-91e2-4396c2887852",
   "metadata": {},
   "outputs": [
    {
     "data": {
      "text/plain": [
       "array(['Male', 'Female'], dtype=object)"
      ]
     },
     "execution_count": 68,
     "metadata": {},
     "output_type": "execute_result"
    }
   ],
   "source": [
    "ugra['Sex'].unique()"
   ]
  },
  {
   "cell_type": "code",
   "execution_count": 72,
   "id": "273e8973-1fbc-483e-a605-7bc0b9d35f18",
   "metadata": {
    "scrolled": true
   },
   "outputs": [
    {
     "data": {
      "text/html": [
       "<div>\n",
       "<style scoped>\n",
       "    .dataframe tbody tr th:only-of-type {\n",
       "        vertical-align: middle;\n",
       "    }\n",
       "\n",
       "    .dataframe tbody tr th {\n",
       "        vertical-align: top;\n",
       "    }\n",
       "\n",
       "    .dataframe thead th {\n",
       "        text-align: right;\n",
       "    }\n",
       "</style>\n",
       "<table border=\"1\" class=\"dataframe\">\n",
       "  <thead>\n",
       "    <tr style=\"text-align: right;\">\n",
       "      <th></th>\n",
       "      <th>Academic Year</th>\n",
       "      <th>Level of Study</th>\n",
       "      <th>Broad Academic Programme Category</th>\n",
       "      <th>Sex</th>\n",
       "      <th>Number of Graduates (Headcount)</th>\n",
       "    </tr>\n",
       "  </thead>\n",
       "  <tbody>\n",
       "    <tr>\n",
       "      <th>753</th>\n",
       "      <td>2023/24</td>\n",
       "      <td>Sub-degree</td>\n",
       "      <td>Arts and Humanities</td>\n",
       "      <td>Male</td>\n",
       "      <td>11</td>\n",
       "    </tr>\n",
       "    <tr>\n",
       "      <th>754</th>\n",
       "      <td>2023/24</td>\n",
       "      <td>Sub-degree</td>\n",
       "      <td>Arts and Humanities</td>\n",
       "      <td>Female</td>\n",
       "      <td>42</td>\n",
       "    </tr>\n",
       "    <tr>\n",
       "      <th>755</th>\n",
       "      <td>2023/24</td>\n",
       "      <td>Sub-degree</td>\n",
       "      <td>Education</td>\n",
       "      <td>Male</td>\n",
       "      <td>538</td>\n",
       "    </tr>\n",
       "    <tr>\n",
       "      <th>756</th>\n",
       "      <td>2023/24</td>\n",
       "      <td>Sub-degree</td>\n",
       "      <td>Education</td>\n",
       "      <td>Female</td>\n",
       "      <td>1191</td>\n",
       "    </tr>\n",
       "    <tr>\n",
       "      <th>757</th>\n",
       "      <td>2023/24</td>\n",
       "      <td>Sub-degree</td>\n",
       "      <td>Engineering and Technology</td>\n",
       "      <td>Male</td>\n",
       "      <td>65</td>\n",
       "    </tr>\n",
       "    <tr>\n",
       "      <th>758</th>\n",
       "      <td>2023/24</td>\n",
       "      <td>Sub-degree</td>\n",
       "      <td>Engineering and Technology</td>\n",
       "      <td>Female</td>\n",
       "      <td>13</td>\n",
       "    </tr>\n",
       "    <tr>\n",
       "      <th>759</th>\n",
       "      <td>2023/24</td>\n",
       "      <td>Sub-degree</td>\n",
       "      <td>Sciences</td>\n",
       "      <td>Male</td>\n",
       "      <td>63</td>\n",
       "    </tr>\n",
       "    <tr>\n",
       "      <th>760</th>\n",
       "      <td>2023/24</td>\n",
       "      <td>Sub-degree</td>\n",
       "      <td>Sciences</td>\n",
       "      <td>Female</td>\n",
       "      <td>89</td>\n",
       "    </tr>\n",
       "    <tr>\n",
       "      <th>761</th>\n",
       "      <td>2023/24</td>\n",
       "      <td>Sub-degree</td>\n",
       "      <td>Social Sciences</td>\n",
       "      <td>Male</td>\n",
       "      <td>6</td>\n",
       "    </tr>\n",
       "    <tr>\n",
       "      <th>762</th>\n",
       "      <td>2023/24</td>\n",
       "      <td>Sub-degree</td>\n",
       "      <td>Social Sciences</td>\n",
       "      <td>Female</td>\n",
       "      <td>16</td>\n",
       "    </tr>\n",
       "    <tr>\n",
       "      <th>763</th>\n",
       "      <td>2023/24</td>\n",
       "      <td>Undergraduate</td>\n",
       "      <td>Arts and Humanities</td>\n",
       "      <td>Male</td>\n",
       "      <td>984</td>\n",
       "    </tr>\n",
       "    <tr>\n",
       "      <th>764</th>\n",
       "      <td>2023/24</td>\n",
       "      <td>Undergraduate</td>\n",
       "      <td>Arts and Humanities</td>\n",
       "      <td>Female</td>\n",
       "      <td>2204</td>\n",
       "    </tr>\n",
       "    <tr>\n",
       "      <th>765</th>\n",
       "      <td>2023/24</td>\n",
       "      <td>Undergraduate</td>\n",
       "      <td>Business and Management</td>\n",
       "      <td>Male</td>\n",
       "      <td>1959</td>\n",
       "    </tr>\n",
       "    <tr>\n",
       "      <th>766</th>\n",
       "      <td>2023/24</td>\n",
       "      <td>Undergraduate</td>\n",
       "      <td>Business and Management</td>\n",
       "      <td>Female</td>\n",
       "      <td>2604</td>\n",
       "    </tr>\n",
       "    <tr>\n",
       "      <th>767</th>\n",
       "      <td>2023/24</td>\n",
       "      <td>Undergraduate</td>\n",
       "      <td>Education</td>\n",
       "      <td>Male</td>\n",
       "      <td>282</td>\n",
       "    </tr>\n",
       "    <tr>\n",
       "      <th>768</th>\n",
       "      <td>2023/24</td>\n",
       "      <td>Undergraduate</td>\n",
       "      <td>Education</td>\n",
       "      <td>Female</td>\n",
       "      <td>958</td>\n",
       "    </tr>\n",
       "    <tr>\n",
       "      <th>769</th>\n",
       "      <td>2023/24</td>\n",
       "      <td>Undergraduate</td>\n",
       "      <td>Engineering and Technology</td>\n",
       "      <td>Male</td>\n",
       "      <td>2637</td>\n",
       "    </tr>\n",
       "    <tr>\n",
       "      <th>770</th>\n",
       "      <td>2023/24</td>\n",
       "      <td>Undergraduate</td>\n",
       "      <td>Engineering and Technology</td>\n",
       "      <td>Female</td>\n",
       "      <td>1067</td>\n",
       "    </tr>\n",
       "    <tr>\n",
       "      <th>771</th>\n",
       "      <td>2023/24</td>\n",
       "      <td>Undergraduate</td>\n",
       "      <td>Medicine, Dentistry and Health</td>\n",
       "      <td>Male</td>\n",
       "      <td>803</td>\n",
       "    </tr>\n",
       "    <tr>\n",
       "      <th>772</th>\n",
       "      <td>2023/24</td>\n",
       "      <td>Undergraduate</td>\n",
       "      <td>Medicine, Dentistry and Health</td>\n",
       "      <td>Female</td>\n",
       "      <td>1332</td>\n",
       "    </tr>\n",
       "    <tr>\n",
       "      <th>773</th>\n",
       "      <td>2023/24</td>\n",
       "      <td>Undergraduate</td>\n",
       "      <td>Sciences</td>\n",
       "      <td>Male</td>\n",
       "      <td>2322</td>\n",
       "    </tr>\n",
       "    <tr>\n",
       "      <th>774</th>\n",
       "      <td>2023/24</td>\n",
       "      <td>Undergraduate</td>\n",
       "      <td>Sciences</td>\n",
       "      <td>Female</td>\n",
       "      <td>1289</td>\n",
       "    </tr>\n",
       "    <tr>\n",
       "      <th>775</th>\n",
       "      <td>2023/24</td>\n",
       "      <td>Undergraduate</td>\n",
       "      <td>Social Sciences</td>\n",
       "      <td>Male</td>\n",
       "      <td>1227</td>\n",
       "    </tr>\n",
       "    <tr>\n",
       "      <th>776</th>\n",
       "      <td>2023/24</td>\n",
       "      <td>Undergraduate</td>\n",
       "      <td>Social Sciences</td>\n",
       "      <td>Female</td>\n",
       "      <td>1923</td>\n",
       "    </tr>\n",
       "    <tr>\n",
       "      <th>777</th>\n",
       "      <td>2023/24</td>\n",
       "      <td>Taught Postgraduate</td>\n",
       "      <td>Arts and Humanities</td>\n",
       "      <td>Male</td>\n",
       "      <td>19</td>\n",
       "    </tr>\n",
       "    <tr>\n",
       "      <th>778</th>\n",
       "      <td>2023/24</td>\n",
       "      <td>Taught Postgraduate</td>\n",
       "      <td>Arts and Humanities</td>\n",
       "      <td>Female</td>\n",
       "      <td>38</td>\n",
       "    </tr>\n",
       "    <tr>\n",
       "      <th>779</th>\n",
       "      <td>2023/24</td>\n",
       "      <td>Taught Postgraduate</td>\n",
       "      <td>Education</td>\n",
       "      <td>Male</td>\n",
       "      <td>350</td>\n",
       "    </tr>\n",
       "    <tr>\n",
       "      <th>780</th>\n",
       "      <td>2023/24</td>\n",
       "      <td>Taught Postgraduate</td>\n",
       "      <td>Education</td>\n",
       "      <td>Female</td>\n",
       "      <td>647</td>\n",
       "    </tr>\n",
       "    <tr>\n",
       "      <th>781</th>\n",
       "      <td>2023/24</td>\n",
       "      <td>Taught Postgraduate</td>\n",
       "      <td>Engineering and Technology</td>\n",
       "      <td>Male</td>\n",
       "      <td>63</td>\n",
       "    </tr>\n",
       "    <tr>\n",
       "      <th>782</th>\n",
       "      <td>2023/24</td>\n",
       "      <td>Taught Postgraduate</td>\n",
       "      <td>Engineering and Technology</td>\n",
       "      <td>Female</td>\n",
       "      <td>80</td>\n",
       "    </tr>\n",
       "    <tr>\n",
       "      <th>783</th>\n",
       "      <td>2023/24</td>\n",
       "      <td>Taught Postgraduate</td>\n",
       "      <td>Medicine, Dentistry and Health</td>\n",
       "      <td>Male</td>\n",
       "      <td>22</td>\n",
       "    </tr>\n",
       "    <tr>\n",
       "      <th>784</th>\n",
       "      <td>2023/24</td>\n",
       "      <td>Taught Postgraduate</td>\n",
       "      <td>Medicine, Dentistry and Health</td>\n",
       "      <td>Female</td>\n",
       "      <td>77</td>\n",
       "    </tr>\n",
       "    <tr>\n",
       "      <th>785</th>\n",
       "      <td>2023/24</td>\n",
       "      <td>Taught Postgraduate</td>\n",
       "      <td>Sciences</td>\n",
       "      <td>Male</td>\n",
       "      <td>13</td>\n",
       "    </tr>\n",
       "    <tr>\n",
       "      <th>786</th>\n",
       "      <td>2023/24</td>\n",
       "      <td>Taught Postgraduate</td>\n",
       "      <td>Sciences</td>\n",
       "      <td>Female</td>\n",
       "      <td>26</td>\n",
       "    </tr>\n",
       "    <tr>\n",
       "      <th>787</th>\n",
       "      <td>2023/24</td>\n",
       "      <td>Taught Postgraduate</td>\n",
       "      <td>Social Sciences</td>\n",
       "      <td>Male</td>\n",
       "      <td>122</td>\n",
       "    </tr>\n",
       "    <tr>\n",
       "      <th>788</th>\n",
       "      <td>2023/24</td>\n",
       "      <td>Taught Postgraduate</td>\n",
       "      <td>Social Sciences</td>\n",
       "      <td>Female</td>\n",
       "      <td>164</td>\n",
       "    </tr>\n",
       "    <tr>\n",
       "      <th>789</th>\n",
       "      <td>2023/24</td>\n",
       "      <td>Research Postgraduate</td>\n",
       "      <td>Arts and Humanities</td>\n",
       "      <td>Male</td>\n",
       "      <td>106</td>\n",
       "    </tr>\n",
       "    <tr>\n",
       "      <th>790</th>\n",
       "      <td>2023/24</td>\n",
       "      <td>Research Postgraduate</td>\n",
       "      <td>Arts and Humanities</td>\n",
       "      <td>Female</td>\n",
       "      <td>145</td>\n",
       "    </tr>\n",
       "    <tr>\n",
       "      <th>791</th>\n",
       "      <td>2023/24</td>\n",
       "      <td>Research Postgraduate</td>\n",
       "      <td>Business and Management</td>\n",
       "      <td>Male</td>\n",
       "      <td>72</td>\n",
       "    </tr>\n",
       "    <tr>\n",
       "      <th>792</th>\n",
       "      <td>2023/24</td>\n",
       "      <td>Research Postgraduate</td>\n",
       "      <td>Business and Management</td>\n",
       "      <td>Female</td>\n",
       "      <td>108</td>\n",
       "    </tr>\n",
       "    <tr>\n",
       "      <th>793</th>\n",
       "      <td>2023/24</td>\n",
       "      <td>Research Postgraduate</td>\n",
       "      <td>Education</td>\n",
       "      <td>Male</td>\n",
       "      <td>25</td>\n",
       "    </tr>\n",
       "    <tr>\n",
       "      <th>794</th>\n",
       "      <td>2023/24</td>\n",
       "      <td>Research Postgraduate</td>\n",
       "      <td>Education</td>\n",
       "      <td>Female</td>\n",
       "      <td>67</td>\n",
       "    </tr>\n",
       "    <tr>\n",
       "      <th>795</th>\n",
       "      <td>2023/24</td>\n",
       "      <td>Research Postgraduate</td>\n",
       "      <td>Engineering and Technology</td>\n",
       "      <td>Male</td>\n",
       "      <td>734</td>\n",
       "    </tr>\n",
       "    <tr>\n",
       "      <th>796</th>\n",
       "      <td>2023/24</td>\n",
       "      <td>Research Postgraduate</td>\n",
       "      <td>Engineering and Technology</td>\n",
       "      <td>Female</td>\n",
       "      <td>316</td>\n",
       "    </tr>\n",
       "    <tr>\n",
       "      <th>797</th>\n",
       "      <td>2023/24</td>\n",
       "      <td>Research Postgraduate</td>\n",
       "      <td>Medicine, Dentistry and Health</td>\n",
       "      <td>Male</td>\n",
       "      <td>174</td>\n",
       "    </tr>\n",
       "    <tr>\n",
       "      <th>798</th>\n",
       "      <td>2023/24</td>\n",
       "      <td>Research Postgraduate</td>\n",
       "      <td>Medicine, Dentistry and Health</td>\n",
       "      <td>Female</td>\n",
       "      <td>271</td>\n",
       "    </tr>\n",
       "    <tr>\n",
       "      <th>799</th>\n",
       "      <td>2023/24</td>\n",
       "      <td>Research Postgraduate</td>\n",
       "      <td>Sciences</td>\n",
       "      <td>Male</td>\n",
       "      <td>731</td>\n",
       "    </tr>\n",
       "    <tr>\n",
       "      <th>800</th>\n",
       "      <td>2023/24</td>\n",
       "      <td>Research Postgraduate</td>\n",
       "      <td>Sciences</td>\n",
       "      <td>Female</td>\n",
       "      <td>348</td>\n",
       "    </tr>\n",
       "    <tr>\n",
       "      <th>801</th>\n",
       "      <td>2023/24</td>\n",
       "      <td>Research Postgraduate</td>\n",
       "      <td>Social Sciences</td>\n",
       "      <td>Male</td>\n",
       "      <td>121</td>\n",
       "    </tr>\n",
       "    <tr>\n",
       "      <th>802</th>\n",
       "      <td>2023/24</td>\n",
       "      <td>Research Postgraduate</td>\n",
       "      <td>Social Sciences</td>\n",
       "      <td>Female</td>\n",
       "      <td>150</td>\n",
       "    </tr>\n",
       "  </tbody>\n",
       "</table>\n",
       "</div>"
      ],
      "text/plain": [
       "    Academic Year         Level of Study Broad Academic Programme Category  \\\n",
       "753       2023/24             Sub-degree               Arts and Humanities   \n",
       "754       2023/24             Sub-degree               Arts and Humanities   \n",
       "755       2023/24             Sub-degree                         Education   \n",
       "756       2023/24             Sub-degree                         Education   \n",
       "757       2023/24             Sub-degree        Engineering and Technology   \n",
       "758       2023/24             Sub-degree        Engineering and Technology   \n",
       "759       2023/24             Sub-degree                          Sciences   \n",
       "760       2023/24             Sub-degree                          Sciences   \n",
       "761       2023/24             Sub-degree                   Social Sciences   \n",
       "762       2023/24             Sub-degree                   Social Sciences   \n",
       "763       2023/24          Undergraduate               Arts and Humanities   \n",
       "764       2023/24          Undergraduate               Arts and Humanities   \n",
       "765       2023/24          Undergraduate           Business and Management   \n",
       "766       2023/24          Undergraduate           Business and Management   \n",
       "767       2023/24          Undergraduate                         Education   \n",
       "768       2023/24          Undergraduate                         Education   \n",
       "769       2023/24          Undergraduate        Engineering and Technology   \n",
       "770       2023/24          Undergraduate        Engineering and Technology   \n",
       "771       2023/24          Undergraduate    Medicine, Dentistry and Health   \n",
       "772       2023/24          Undergraduate    Medicine, Dentistry and Health   \n",
       "773       2023/24          Undergraduate                          Sciences   \n",
       "774       2023/24          Undergraduate                          Sciences   \n",
       "775       2023/24          Undergraduate                   Social Sciences   \n",
       "776       2023/24          Undergraduate                   Social Sciences   \n",
       "777       2023/24    Taught Postgraduate               Arts and Humanities   \n",
       "778       2023/24    Taught Postgraduate               Arts and Humanities   \n",
       "779       2023/24    Taught Postgraduate                         Education   \n",
       "780       2023/24    Taught Postgraduate                         Education   \n",
       "781       2023/24    Taught Postgraduate        Engineering and Technology   \n",
       "782       2023/24    Taught Postgraduate        Engineering and Technology   \n",
       "783       2023/24    Taught Postgraduate    Medicine, Dentistry and Health   \n",
       "784       2023/24    Taught Postgraduate    Medicine, Dentistry and Health   \n",
       "785       2023/24    Taught Postgraduate                          Sciences   \n",
       "786       2023/24    Taught Postgraduate                          Sciences   \n",
       "787       2023/24    Taught Postgraduate                   Social Sciences   \n",
       "788       2023/24    Taught Postgraduate                   Social Sciences   \n",
       "789       2023/24  Research Postgraduate               Arts and Humanities   \n",
       "790       2023/24  Research Postgraduate               Arts and Humanities   \n",
       "791       2023/24  Research Postgraduate           Business and Management   \n",
       "792       2023/24  Research Postgraduate           Business and Management   \n",
       "793       2023/24  Research Postgraduate                         Education   \n",
       "794       2023/24  Research Postgraduate                         Education   \n",
       "795       2023/24  Research Postgraduate        Engineering and Technology   \n",
       "796       2023/24  Research Postgraduate        Engineering and Technology   \n",
       "797       2023/24  Research Postgraduate    Medicine, Dentistry and Health   \n",
       "798       2023/24  Research Postgraduate    Medicine, Dentistry and Health   \n",
       "799       2023/24  Research Postgraduate                          Sciences   \n",
       "800       2023/24  Research Postgraduate                          Sciences   \n",
       "801       2023/24  Research Postgraduate                   Social Sciences   \n",
       "802       2023/24  Research Postgraduate                   Social Sciences   \n",
       "\n",
       "        Sex  Number of Graduates (Headcount)  \n",
       "753    Male                               11  \n",
       "754  Female                               42  \n",
       "755    Male                              538  \n",
       "756  Female                             1191  \n",
       "757    Male                               65  \n",
       "758  Female                               13  \n",
       "759    Male                               63  \n",
       "760  Female                               89  \n",
       "761    Male                                6  \n",
       "762  Female                               16  \n",
       "763    Male                              984  \n",
       "764  Female                             2204  \n",
       "765    Male                             1959  \n",
       "766  Female                             2604  \n",
       "767    Male                              282  \n",
       "768  Female                              958  \n",
       "769    Male                             2637  \n",
       "770  Female                             1067  \n",
       "771    Male                              803  \n",
       "772  Female                             1332  \n",
       "773    Male                             2322  \n",
       "774  Female                             1289  \n",
       "775    Male                             1227  \n",
       "776  Female                             1923  \n",
       "777    Male                               19  \n",
       "778  Female                               38  \n",
       "779    Male                              350  \n",
       "780  Female                              647  \n",
       "781    Male                               63  \n",
       "782  Female                               80  \n",
       "783    Male                               22  \n",
       "784  Female                               77  \n",
       "785    Male                               13  \n",
       "786  Female                               26  \n",
       "787    Male                              122  \n",
       "788  Female                              164  \n",
       "789    Male                              106  \n",
       "790  Female                              145  \n",
       "791    Male                               72  \n",
       "792  Female                              108  \n",
       "793    Male                               25  \n",
       "794  Female                               67  \n",
       "795    Male                              734  \n",
       "796  Female                              316  \n",
       "797    Male                              174  \n",
       "798  Female                              271  \n",
       "799    Male                              731  \n",
       "800  Female                              348  \n",
       "801    Male                              121  \n",
       "802  Female                              150  "
      ]
     },
     "execution_count": 72,
     "metadata": {},
     "output_type": "execute_result"
    }
   ],
   "source": [
    "ugra[ugra['Academic Year']=='2023/24']"
   ]
  },
  {
   "cell_type": "code",
   "execution_count": 74,
   "id": "2f848988-41c4-4cb3-83b0-d3481a064412",
   "metadata": {
    "scrolled": true
   },
   "outputs": [
    {
     "data": {
      "text/html": [
       "<div>\n",
       "<style scoped>\n",
       "    .dataframe tbody tr th:only-of-type {\n",
       "        vertical-align: middle;\n",
       "    }\n",
       "\n",
       "    .dataframe tbody tr th {\n",
       "        vertical-align: top;\n",
       "    }\n",
       "\n",
       "    .dataframe thead th {\n",
       "        text-align: right;\n",
       "    }\n",
       "</style>\n",
       "<table border=\"1\" class=\"dataframe\">\n",
       "  <thead>\n",
       "    <tr style=\"text-align: right;\">\n",
       "      <th></th>\n",
       "      <th>Academic Year</th>\n",
       "      <th>Level of Study</th>\n",
       "      <th>Broad Academic Programme Category</th>\n",
       "      <th>Sex</th>\n",
       "      <th>Number of Graduates (Headcount)</th>\n",
       "    </tr>\n",
       "  </thead>\n",
       "  <tbody>\n",
       "    <tr>\n",
       "      <th>777</th>\n",
       "      <td>2023/24</td>\n",
       "      <td>Taught Postgraduate</td>\n",
       "      <td>Arts and Humanities</td>\n",
       "      <td>Male</td>\n",
       "      <td>19</td>\n",
       "    </tr>\n",
       "    <tr>\n",
       "      <th>778</th>\n",
       "      <td>2023/24</td>\n",
       "      <td>Taught Postgraduate</td>\n",
       "      <td>Arts and Humanities</td>\n",
       "      <td>Female</td>\n",
       "      <td>38</td>\n",
       "    </tr>\n",
       "    <tr>\n",
       "      <th>779</th>\n",
       "      <td>2023/24</td>\n",
       "      <td>Taught Postgraduate</td>\n",
       "      <td>Education</td>\n",
       "      <td>Male</td>\n",
       "      <td>350</td>\n",
       "    </tr>\n",
       "    <tr>\n",
       "      <th>780</th>\n",
       "      <td>2023/24</td>\n",
       "      <td>Taught Postgraduate</td>\n",
       "      <td>Education</td>\n",
       "      <td>Female</td>\n",
       "      <td>647</td>\n",
       "    </tr>\n",
       "    <tr>\n",
       "      <th>781</th>\n",
       "      <td>2023/24</td>\n",
       "      <td>Taught Postgraduate</td>\n",
       "      <td>Engineering and Technology</td>\n",
       "      <td>Male</td>\n",
       "      <td>63</td>\n",
       "    </tr>\n",
       "    <tr>\n",
       "      <th>782</th>\n",
       "      <td>2023/24</td>\n",
       "      <td>Taught Postgraduate</td>\n",
       "      <td>Engineering and Technology</td>\n",
       "      <td>Female</td>\n",
       "      <td>80</td>\n",
       "    </tr>\n",
       "    <tr>\n",
       "      <th>783</th>\n",
       "      <td>2023/24</td>\n",
       "      <td>Taught Postgraduate</td>\n",
       "      <td>Medicine, Dentistry and Health</td>\n",
       "      <td>Male</td>\n",
       "      <td>22</td>\n",
       "    </tr>\n",
       "    <tr>\n",
       "      <th>784</th>\n",
       "      <td>2023/24</td>\n",
       "      <td>Taught Postgraduate</td>\n",
       "      <td>Medicine, Dentistry and Health</td>\n",
       "      <td>Female</td>\n",
       "      <td>77</td>\n",
       "    </tr>\n",
       "    <tr>\n",
       "      <th>785</th>\n",
       "      <td>2023/24</td>\n",
       "      <td>Taught Postgraduate</td>\n",
       "      <td>Sciences</td>\n",
       "      <td>Male</td>\n",
       "      <td>13</td>\n",
       "    </tr>\n",
       "    <tr>\n",
       "      <th>786</th>\n",
       "      <td>2023/24</td>\n",
       "      <td>Taught Postgraduate</td>\n",
       "      <td>Sciences</td>\n",
       "      <td>Female</td>\n",
       "      <td>26</td>\n",
       "    </tr>\n",
       "    <tr>\n",
       "      <th>787</th>\n",
       "      <td>2023/24</td>\n",
       "      <td>Taught Postgraduate</td>\n",
       "      <td>Social Sciences</td>\n",
       "      <td>Male</td>\n",
       "      <td>122</td>\n",
       "    </tr>\n",
       "    <tr>\n",
       "      <th>788</th>\n",
       "      <td>2023/24</td>\n",
       "      <td>Taught Postgraduate</td>\n",
       "      <td>Social Sciences</td>\n",
       "      <td>Female</td>\n",
       "      <td>164</td>\n",
       "    </tr>\n",
       "  </tbody>\n",
       "</table>\n",
       "</div>"
      ],
      "text/plain": [
       "    Academic Year       Level of Study Broad Academic Programme Category  \\\n",
       "777       2023/24  Taught Postgraduate               Arts and Humanities   \n",
       "778       2023/24  Taught Postgraduate               Arts and Humanities   \n",
       "779       2023/24  Taught Postgraduate                         Education   \n",
       "780       2023/24  Taught Postgraduate                         Education   \n",
       "781       2023/24  Taught Postgraduate        Engineering and Technology   \n",
       "782       2023/24  Taught Postgraduate        Engineering and Technology   \n",
       "783       2023/24  Taught Postgraduate    Medicine, Dentistry and Health   \n",
       "784       2023/24  Taught Postgraduate    Medicine, Dentistry and Health   \n",
       "785       2023/24  Taught Postgraduate                          Sciences   \n",
       "786       2023/24  Taught Postgraduate                          Sciences   \n",
       "787       2023/24  Taught Postgraduate                   Social Sciences   \n",
       "788       2023/24  Taught Postgraduate                   Social Sciences   \n",
       "\n",
       "        Sex  Number of Graduates (Headcount)  \n",
       "777    Male                               19  \n",
       "778  Female                               38  \n",
       "779    Male                              350  \n",
       "780  Female                              647  \n",
       "781    Male                               63  \n",
       "782  Female                               80  \n",
       "783    Male                               22  \n",
       "784  Female                               77  \n",
       "785    Male                               13  \n",
       "786  Female                               26  \n",
       "787    Male                              122  \n",
       "788  Female                              164  "
      ]
     },
     "execution_count": 74,
     "metadata": {},
     "output_type": "execute_result"
    }
   ],
   "source": [
    "ugra[(ugra['Academic Year']=='2023/24') & (ugra['Level of Study']=='Taught Postgraduate')]"
   ]
  },
  {
   "cell_type": "markdown",
   "id": "b02c7d8a-ff10-47b2-9344-33f5c3b7cb6c",
   "metadata": {},
   "source": [
    "# INTRODUCTION TO JSON FORMAT\n",
    "JSON (**J**ava**S**cript **O**bject **N**otation) is a lightweight data format used to store and exchange structured information in a human-readable way.  \n",
    "\n",
    "It is widely used in web applications, APIs, and data storage because of its simplicity and compatibility with most programming languages."
   ]
  },
  {
   "cell_type": "markdown",
   "id": "42aeafe8-23dd-42ad-908f-b03f4aaf766f",
   "metadata": {},
   "source": [
    "## Basic JSON Structure\n",
    "JSON is **complex** plain text data.  Unlike regular python variable being a simple data point (e.g. `age = 20`), JSON is NOT a single simple data point.  Instead it is a collection of data wrapped together an known as an **dictionary** (also widely referred as **object**).\n",
    "\n",
    "JSON object describe data in the manner of `key`-`value` pairs and supports various data types like **strings**, **numbers**, **arrays**, and **objects**. Yes, a JSON object can contain another JSON object and therefore JSON is **nested data structure**.  And this is why JSON is categorized as **semi-structured data** while CSV or EXCEL are usually **strict two-dimensional** data structure (contains **rows** with fixed number of **columns** for each row, widely known as **tabular data**).\n",
    "\n",
    "A `customer.json` JSON text file (You can find this file at our **data** sub-folder\n",
    "![JSON Example](./images/customer-json.png)\n",
    "\n",
    "In Jupyter Lab, if you double click to open it, it will give a prettified preview mode like below.\n",
    "![Prettified JSON](./images/json-jupyter-lab-preview.png)\n",
    "\n",
    "\n",
    "If you wish to open in source-code mode, **right-click** at the JSON file and choose **Open with -> Editor**.  And it will give you source code edit mode in Jupyter Lab windows like below.\n",
    "![Raw JSON](./images/json-source.png)\n",
    "\n",
    "**Reminder**: JSON file is tricky to edit.   \n",
    "\n",
    "JSON is very strict syntax, each the symbol (or pair of symbols) like `{ }`, `[ ]`, `,`, `:`,  `\" \"` is parts of the syntax and has it distinct meaning.  \n",
    "\n",
    "It's not right to use them interchangely."
   ]
  },
  {
   "cell_type": "markdown",
   "id": "886de369-b90b-423d-a3c8-78948b01fbef",
   "metadata": {},
   "source": [
    "## JSON Object\n",
    "An object is an **unordered** set of name/value pairs.  \n",
    "\n",
    "An object begins with `{` (left brace) and ends with `}` (right brace).  \n",
    "\n",
    "Each **name** is followed by `:` (colon, to seperate name from value) \n",
    "\n",
    "Each name/value pairs are separated by `,` (comma.  except the last pair). \n",
    "\n",
    "![JSON Object](https://www.json.org/img/object.png)"
   ]
  },
  {
   "attachments": {},
   "cell_type": "markdown",
   "id": "6df82982-2f0d-44b0-bcdc-1f9e8dca8bfc",
   "metadata": {},
   "source": [
    "## JSON Array\n",
    "\n",
    "An array is an **ordered** collection of values.  \n",
    "\n",
    "An array begins with `[` (left bracket) and ends with `]` (right bracket). \n",
    "\n",
    "Values are separated by `,` comma.\n",
    "\n",
    "An array can contain a collection of simple **value** or a colletion of **object**.\n",
    "\n",
    "![JSON Array](https://www.json.org/img/array.png)"
   ]
  },
  {
   "cell_type": "markdown",
   "id": "e4eabb77-2d1b-41e8-9b67-faee3ca57e29",
   "metadata": {},
   "source": [
    "## JSON Value\n",
    "\n",
    "A value can be a `string` (wrapped by a pair of **double quotes**, e.g.: `\"string\"`), or a `number`, or `true` or `false` or `null`, or an `object` or an `array`. \n",
    "\n",
    "These structures can be nested.\n",
    "\n",
    "![JSON Value](https://www.json.org/img/value.png)"
   ]
  },
  {
   "cell_type": "markdown",
   "id": "a3267179-9c7b-445b-ac6d-4bc0770a103b",
   "metadata": {},
   "source": [
    "## JSON Playground\n",
    "A online place for you to practice and have better understanding about JSON syntax. \n",
    "It will constantly check and prompt if your JSON codes are correct while you press your keystrokes so that once you miss just a `coma` you will immediately know.\n",
    "\n",
    "Click to open -> [JSON-LD Playground](https://json-ld.org/playground/)\n",
    "![JSON Playground Picture](./images/json-playground.png)"
   ]
  },
  {
   "cell_type": "markdown",
   "id": "4aa6c2b1-b3a3-4cad-8155-6509b9bb8ccb",
   "metadata": {},
   "source": [
    "# ACESSING JSON DATA and NESTED DATA\n",
    "In this section, we will load a local json file (you will find it at **.\\data\\customer.json**)\n",
    "\n",
    "We need to import `json` package to handle json data  \n",
    "```\n",
    "import json\n",
    "```\n",
    "\n",
    "\n",
    "Use the file `open()` function to open a local file and use to `json.load()` to load the data as python `dict` type.  And make the json object accessible in the name of `customer`\n",
    "```\n",
    "with open('./data/customer.json', 'r') as file:\n",
    "    customer = json.load(file)\n",
    "customer\n",
    "```\n",
    "  \n",
    "To prettify the object display with proper indentation/alignment\n",
    "```\n",
    "print(json.dumps(customer, indent=4))\n",
    "```\n",
    "\n",
    "Use `[ ]` operator together with key (in string type and therefore must be in `' '` (single quoted) or `\" \"` (double quoted)\n",
    "```\n",
    "customer['firstName']\n",
    "```\n",
    "**Reminder**:   \n",
    "- You can use `Tab` key to prompt/complete long **key**\n",
    "- key is case-sentive: `'firstName'` is not the same to `'firstname'`"
   ]
  },
  {
   "cell_type": "markdown",
   "id": "725341b3-17dc-4e39-9d8d-65e2c27861ea",
   "metadata": {},
   "source": [
    "## import `json` package/library"
   ]
  },
  {
   "cell_type": "code",
   "execution_count": 91,
   "id": "ede01563-4d3f-45fe-80fc-727aaadf66d6",
   "metadata": {},
   "outputs": [],
   "source": [
    "import json"
   ]
  },
  {
   "cell_type": "markdown",
   "id": "e313b560-542d-4ff2-b5d0-90bf8cb8ad37",
   "metadata": {},
   "source": [
    "## open file : `customer.json`"
   ]
  },
  {
   "cell_type": "code",
   "execution_count": 93,
   "id": "e23c3907-261f-40fa-bf9e-59c11d8ee3a4",
   "metadata": {},
   "outputs": [
    {
     "name": "stdout",
     "output_type": "stream",
     "text": [
      "{'firstName': 'Peter', 'lastName': 'Pan', 'age': 18, 'tel': ['111', '222'], 'address': {'building': 'Cyberport 4', 'street': 'Information Cres', 'district': 'Southern District'}}\n"
     ]
    }
   ],
   "source": [
    "with open('./data/customer.json', 'r') as file:\n",
    "    customer = json.load(file)\n",
    "print(customer)"
   ]
  },
  {
   "cell_type": "markdown",
   "id": "56372d97-aac6-4cb6-a05c-7583a98c1e73",
   "metadata": {},
   "source": [
    "## Making reference to `customer` object"
   ]
  },
  {
   "cell_type": "code",
   "execution_count": 95,
   "id": "d2039c1b-d67c-4c66-a866-5dbe6c01f265",
   "metadata": {},
   "outputs": [
    {
     "data": {
      "text/plain": [
       "{'firstName': 'Peter',\n",
       " 'lastName': 'Pan',\n",
       " 'age': 18,\n",
       " 'tel': ['111', '222'],\n",
       " 'address': {'building': 'Cyberport 4',\n",
       "  'street': 'Information Cres',\n",
       "  'district': 'Southern District'}}"
      ]
     },
     "execution_count": 95,
     "metadata": {},
     "output_type": "execute_result"
    }
   ],
   "source": [
    "customer"
   ]
  },
  {
   "cell_type": "markdown",
   "id": "7529e23c-3848-4795-be90-2fe97d3a1230",
   "metadata": {},
   "source": [
    "---\n",
    "**use `print()` function to display `customer` object**"
   ]
  },
  {
   "cell_type": "code",
   "execution_count": 97,
   "id": "a5a86e9c-aef8-4dd3-8d44-4ac8dfa2e3c3",
   "metadata": {},
   "outputs": [
    {
     "name": "stdout",
     "output_type": "stream",
     "text": [
      "{'firstName': 'Peter', 'lastName': 'Pan', 'age': 18, 'tel': ['111', '222'], 'address': {'building': 'Cyberport 4', 'street': 'Information Cres', 'district': 'Southern District'}}\n"
     ]
    }
   ],
   "source": [
    "print(customer)"
   ]
  },
  {
   "cell_type": "markdown",
   "id": "d937a469-970f-45a5-89f8-f7e0f6b27aaf",
   "metadata": {},
   "source": [
    "---\n",
    "**use `json.dump()` function with `indent` parameter to print out nicely**"
   ]
  },
  {
   "cell_type": "code",
   "execution_count": 99,
   "id": "97d9539e-2218-4469-bd99-d84fce990590",
   "metadata": {},
   "outputs": [
    {
     "name": "stdout",
     "output_type": "stream",
     "text": [
      "{\n",
      "    \"firstName\": \"Peter\",\n",
      "    \"lastName\": \"Pan\",\n",
      "    \"age\": 18,\n",
      "    \"tel\": [\n",
      "        \"111\",\n",
      "        \"222\"\n",
      "    ],\n",
      "    \"address\": {\n",
      "        \"building\": \"Cyberport 4\",\n",
      "        \"street\": \"Information Cres\",\n",
      "        \"district\": \"Southern District\"\n",
      "    }\n",
      "}\n"
     ]
    }
   ],
   "source": [
    "print(json.dumps(customer, indent=4))"
   ]
  },
  {
   "cell_type": "markdown",
   "id": "25275cea-5f75-434d-999d-9d0de79268f0",
   "metadata": {},
   "source": [
    "---\n",
    "**check the type of `customer`**"
   ]
  },
  {
   "cell_type": "code",
   "execution_count": 101,
   "id": "b3c03e05-57b0-4212-bb17-1db6ff091d09",
   "metadata": {},
   "outputs": [
    {
     "data": {
      "text/plain": [
       "dict"
      ]
     },
     "execution_count": 101,
     "metadata": {},
     "output_type": "execute_result"
    }
   ],
   "source": [
    "type(customer)"
   ]
  },
  {
   "cell_type": "markdown",
   "id": "c1ca875c-b177-413d-bf60-f2becf58ad0b",
   "metadata": {},
   "source": [
    "## accessing string attribute: using `firstName` key\n",
    "**reminder**: key is case sensitive"
   ]
  },
  {
   "cell_type": "code",
   "execution_count": 103,
   "id": "69eb215e-9c4d-439c-93a7-1708e7573a00",
   "metadata": {},
   "outputs": [
    {
     "data": {
      "text/plain": [
       "'Peter'"
      ]
     },
     "execution_count": 103,
     "metadata": {},
     "output_type": "execute_result"
    }
   ],
   "source": [
    "customer[\"firstName\"]"
   ]
  },
  {
   "cell_type": "markdown",
   "id": "4cc0bc9f-bb35-4a75-b7a3-3a9e59afe3a2",
   "metadata": {},
   "source": [
    "The cell below will produce an KeyError which complains the key is NOT found."
   ]
  },
  {
   "cell_type": "code",
   "execution_count": 108,
   "id": "edac108c-00a3-452e-835d-590cbc7b899b",
   "metadata": {},
   "outputs": [
    {
     "ename": "KeyError",
     "evalue": "'firstname'",
     "output_type": "error",
     "traceback": [
      "\u001b[0;31m---------------------------------------------------------------------------\u001b[0m",
      "\u001b[0;31mKeyError\u001b[0m                                  Traceback (most recent call last)",
      "Cell \u001b[0;32mIn[108], line 1\u001b[0m\n\u001b[0;32m----> 1\u001b[0m customer[\u001b[38;5;124m\"\u001b[39m\u001b[38;5;124mfirstname\u001b[39m\u001b[38;5;124m\"\u001b[39m]\n",
      "\u001b[0;31mKeyError\u001b[0m: 'firstname'"
     ]
    }
   ],
   "source": [
    "customer[\"firstname\"] # key is case sensitive, this will produce an error"
   ]
  },
  {
   "cell_type": "markdown",
   "id": "eee5bb0c-b3ed-465f-9511-b765e7d39893",
   "metadata": {},
   "source": [
    "---\n",
    "**check type using `type()` function**\n",
    "rememember: in most case, codes crash due to type-mismatching or type error"
   ]
  },
  {
   "cell_type": "code",
   "execution_count": 110,
   "id": "1049af99-6151-4d96-9beb-aad291665bde",
   "metadata": {},
   "outputs": [
    {
     "data": {
      "text/plain": [
       "str"
      ]
     },
     "execution_count": 110,
     "metadata": {},
     "output_type": "execute_result"
    }
   ],
   "source": [
    "type(customer[\"firstName\"])"
   ]
  },
  {
   "cell_type": "markdown",
   "id": "0172c17d-5101-4dc5-967b-7ff72b9d7f61",
   "metadata": {},
   "source": [
    "---\n",
    "**since `firstName` is a `str` type, you can call any functions that are associated to string**  \n",
    "such as: `upper()`, `lower()`, `len()`"
   ]
  },
  {
   "cell_type": "code",
   "execution_count": 113,
   "id": "0a526993-c8f6-4f7f-96b9-21fa916b638e",
   "metadata": {},
   "outputs": [
    {
     "data": {
      "text/plain": [
       "'PETER'"
      ]
     },
     "execution_count": 113,
     "metadata": {},
     "output_type": "execute_result"
    }
   ],
   "source": [
    "customer[\"firstName\"].upper()"
   ]
  },
  {
   "cell_type": "code",
   "execution_count": 115,
   "id": "f1f8e5c4-8d7a-48db-8705-5c0be140bc69",
   "metadata": {},
   "outputs": [
    {
     "data": {
      "text/plain": [
       "5"
      ]
     },
     "execution_count": 115,
     "metadata": {},
     "output_type": "execute_result"
    }
   ],
   "source": [
    "len(customer[\"firstName\"])"
   ]
  },
  {
   "cell_type": "markdown",
   "id": "4269d1fe-48c7-4800-966a-017c1abac880",
   "metadata": {},
   "source": [
    "## accessing number attribute: using `age` key"
   ]
  },
  {
   "cell_type": "code",
   "execution_count": 118,
   "id": "bb2ebbff-ee4a-4980-955c-d54c1a5dea8b",
   "metadata": {},
   "outputs": [
    {
     "data": {
      "text/plain": [
       "18"
      ]
     },
     "execution_count": 118,
     "metadata": {},
     "output_type": "execute_result"
    }
   ],
   "source": [
    "customer['age']"
   ]
  },
  {
   "cell_type": "markdown",
   "id": "815d3377-ee22-48d4-b2cc-e4d7bef92a71",
   "metadata": {},
   "source": [
    "---\n",
    "**check type**"
   ]
  },
  {
   "cell_type": "code",
   "execution_count": 121,
   "id": "cf659281-2590-4639-85d7-8c54b5a7494d",
   "metadata": {},
   "outputs": [
    {
     "data": {
      "text/plain": [
       "int"
      ]
     },
     "execution_count": 121,
     "metadata": {},
     "output_type": "execute_result"
    }
   ],
   "source": [
    "type(customer['age'])"
   ]
  },
  {
   "cell_type": "markdown",
   "id": "5d23efe7-c77e-4ccb-92b9-c0d9767deca9",
   "metadata": {},
   "source": [
    "---\n",
    "**since `age` is a number, you can do any operations or caluculation that you can do to a number**  \n",
    "e.g.: `+`, `-`, `*`, `/`, `%`, `>`, `<`, `>=`, `<=`, `==`, `!=`"
   ]
  },
  {
   "cell_type": "code",
   "execution_count": 124,
   "id": "14a2f64f-db42-49a0-bfa5-24a1f3fb27dc",
   "metadata": {},
   "outputs": [
    {
     "data": {
      "text/plain": [
       "28"
      ]
     },
     "execution_count": 124,
     "metadata": {},
     "output_type": "execute_result"
    }
   ],
   "source": [
    "customer['age'] + 10"
   ]
  },
  {
   "cell_type": "code",
   "execution_count": 126,
   "id": "e307fccc-b94d-4f24-b76a-ec2a2cd07366",
   "metadata": {},
   "outputs": [
    {
     "data": {
      "text/plain": [
       "False"
      ]
     },
     "execution_count": 126,
     "metadata": {},
     "output_type": "execute_result"
    }
   ],
   "source": [
    "customer['age'] >18"
   ]
  },
  {
   "cell_type": "code",
   "execution_count": 128,
   "id": "bdeac29d-3213-4dac-b119-50f8812988d5",
   "metadata": {},
   "outputs": [
    {
     "data": {
      "text/plain": [
       "True"
      ]
     },
     "execution_count": 128,
     "metadata": {},
     "output_type": "execute_result"
    }
   ],
   "source": [
    "customer['age'] ==18"
   ]
  },
  {
   "cell_type": "code",
   "execution_count": 130,
   "id": "b77e61ba-c90c-49e2-ac62-6ddad763f627",
   "metadata": {},
   "outputs": [
    {
     "data": {
      "text/plain": [
       "True"
      ]
     },
     "execution_count": 130,
     "metadata": {},
     "output_type": "execute_result"
    }
   ],
   "source": [
    "customer['age'] >=18"
   ]
  },
  {
   "cell_type": "code",
   "execution_count": 132,
   "id": "c88b0060-6418-42aa-a981-5731f72349b4",
   "metadata": {},
   "outputs": [
    {
     "data": {
      "text/plain": [
       "False"
      ]
     },
     "execution_count": 132,
     "metadata": {},
     "output_type": "execute_result"
    }
   ],
   "source": [
    "customer['age'] !=18"
   ]
  },
  {
   "cell_type": "markdown",
   "id": "61480609-7008-4da1-838d-f9588537e538",
   "metadata": {},
   "source": [
    "## acessing `list` attribute: using `tel` key**  "
   ]
  },
  {
   "cell_type": "code",
   "execution_count": 135,
   "id": "2eeb7f42-015e-4014-8469-898de9b49a23",
   "metadata": {},
   "outputs": [
    {
     "data": {
      "text/plain": [
       "['111', '222']"
      ]
     },
     "execution_count": 135,
     "metadata": {},
     "output_type": "execute_result"
    }
   ],
   "source": [
    "customer['tel']"
   ]
  },
  {
   "cell_type": "markdown",
   "id": "4beadc72-a928-40ef-b465-75823a02378d",
   "metadata": {},
   "source": [
    "--- \n",
    "**check type**"
   ]
  },
  {
   "cell_type": "code",
   "execution_count": 138,
   "id": "480fcd1e-765c-4356-83db-676f78a232cb",
   "metadata": {
    "scrolled": true
   },
   "outputs": [
    {
     "data": {
      "text/plain": [
       "list"
      ]
     },
     "execution_count": 138,
     "metadata": {},
     "output_type": "execute_result"
    }
   ],
   "source": [
    "type(customer['tel'])"
   ]
  },
  {
   "cell_type": "markdown",
   "id": "75e62a92-a3b3-470a-807e-478a43a995d7",
   "metadata": {},
   "source": [
    "---\n",
    "**accessing an element in list**  \n",
    "Use `[ ]` operator together with index number (NOT string) to refer to the position of element in the list  \n",
    "Python is 0-based indexing (means first element is at index `0`  \n",
    "**correct**: `customer['tel'][0]`  \n",
    "**wrong**: `customer['tel'][\"0\"]`  "
   ]
  },
  {
   "cell_type": "code",
   "execution_count": 141,
   "id": "2baa98f9-2cfb-4b3d-8d3d-c21f7a202c03",
   "metadata": {},
   "outputs": [
    {
     "data": {
      "text/plain": [
       "'111'"
      ]
     },
     "execution_count": 141,
     "metadata": {},
     "output_type": "execute_result"
    }
   ],
   "source": [
    "customer['tel'][0]"
   ]
  },
  {
   "cell_type": "code",
   "execution_count": 143,
   "id": "1d78bd07-e324-4db8-a0d4-32698ca8ff7c",
   "metadata": {},
   "outputs": [
    {
     "data": {
      "text/plain": [
       "'222'"
      ]
     },
     "execution_count": 143,
     "metadata": {},
     "output_type": "execute_result"
    }
   ],
   "source": [
    "customer['tel'][1]"
   ]
  },
  {
   "cell_type": "markdown",
   "id": "380d7e5c-e616-4816-95d9-89b6f388c58f",
   "metadata": {},
   "source": [
    "below will generate an erro as `tel` is a list of number  \n",
    "and therefore an index number (**NOT string**) is expected to tell which tel number you want (0-based)"
   ]
  },
  {
   "cell_type": "code",
   "execution_count": 149,
   "id": "c30ee2b3-c3d0-4075-98a4-90cd921f3036",
   "metadata": {},
   "outputs": [
    {
     "ename": "SyntaxError",
     "evalue": "unterminated string literal (detected at line 1) (1963794490.py, line 1)",
     "output_type": "error",
     "traceback": [
      "\u001b[0;36m  Cell \u001b[0;32mIn[149], line 1\u001b[0;36m\u001b[0m\n\u001b[0;31m    customer['tel'][\"0']\u001b[0m\n\u001b[0m                    ^\u001b[0m\n\u001b[0;31mSyntaxError\u001b[0m\u001b[0;31m:\u001b[0m unterminated string literal (detected at line 1)\n"
     ]
    }
   ],
   "source": [
    "customer['tel'][\"0']"
   ]
  },
  {
   "cell_type": "code",
   "execution_count": 151,
   "id": "87d5e7a9-033e-48ae-8fc7-f1582ff01e8b",
   "metadata": {},
   "outputs": [
    {
     "data": {
      "text/plain": [
       "str"
      ]
     },
     "execution_count": 151,
     "metadata": {},
     "output_type": "execute_result"
    }
   ],
   "source": [
    "type(customer['tel'][0])"
   ]
  },
  {
   "cell_type": "markdown",
   "id": "007e1c6d-8ea0-4dbe-be23-ef72882df1e6",
   "metadata": {},
   "source": [
    "## acessing `object` attribute: using `address` key\n",
    "Remember: \n",
    "- JSON is nested data structure, we can have object inside object inside object.  You just need to use multiple level of `[ ]` operator together with the right `key' to access.\n",
    "- key is always indentified by `string` for object\n",
    "- To beginner, you can access the data level-by-level, don't type long statement for multiple level if you aren't very confident"
   ]
  },
  {
   "cell_type": "code",
   "execution_count": 154,
   "id": "7994b1e0-6a6a-46c3-b1c2-168cf113e0a2",
   "metadata": {},
   "outputs": [
    {
     "data": {
      "text/plain": [
       "{'building': 'Cyberport 4',\n",
       " 'street': 'Information Cres',\n",
       " 'district': 'Southern District'}"
      ]
     },
     "execution_count": 154,
     "metadata": {},
     "output_type": "execute_result"
    }
   ],
   "source": [
    "customer['address']"
   ]
  },
  {
   "cell_type": "code",
   "execution_count": 156,
   "id": "107d3618-bbc9-427f-adb9-031b3dbae2f7",
   "metadata": {},
   "outputs": [
    {
     "name": "stdout",
     "output_type": "stream",
     "text": [
      "{\n",
      "    \"building\": \"Cyberport 4\",\n",
      "    \"street\": \"Information Cres\",\n",
      "    \"district\": \"Southern District\"\n",
      "}\n"
     ]
    }
   ],
   "source": [
    "print(json.dumps(customer['address'], indent=4))"
   ]
  },
  {
   "cell_type": "markdown",
   "id": "7aaa1fbc-e9b3-4e11-a05d-282f0d9d8878",
   "metadata": {},
   "source": [
    "---\n",
    "**check type**"
   ]
  },
  {
   "cell_type": "code",
   "execution_count": 159,
   "id": "a5f0e940-6749-4358-a4e7-2e0aa58b7429",
   "metadata": {},
   "outputs": [
    {
     "data": {
      "text/plain": [
       "dict"
      ]
     },
     "execution_count": 159,
     "metadata": {},
     "output_type": "execute_result"
    }
   ],
   "source": [
    "type(customer['address'])"
   ]
  },
  {
   "cell_type": "code",
   "execution_count": 161,
   "id": "3a2901ce-ef93-4f71-93a3-9cf9336885d3",
   "metadata": {
    "scrolled": true
   },
   "outputs": [
    {
     "data": {
      "text/plain": [
       "'Cyberport 4'"
      ]
     },
     "execution_count": 161,
     "metadata": {},
     "output_type": "execute_result"
    }
   ],
   "source": [
    "customer['address']['building']"
   ]
  },
  {
   "cell_type": "markdown",
   "id": "b90c21cb-f13b-40ac-8d41-45eaae800462",
   "metadata": {},
   "source": [
    "---\n",
    "**Use formatted string: `f\" \"` for together with `print()` function to display complex  sentence that includes values from `customer` \n",
    "object**  \n",
    "We use `{ }` to include variable's value in a formatted string"
   ]
  },
  {
   "cell_type": "code",
   "execution_count": 164,
   "id": "bbe8f86a-a731-43bc-b62f-569ee57c7226",
   "metadata": {},
   "outputs": [
    {
     "name": "stdout",
     "output_type": "stream",
     "text": [
      "The customer is Peter Pan and contact phone number is 111.\n"
     ]
    }
   ],
   "source": [
    "print(f\"The customer is {customer['firstName']} {customer['lastName']} and contact phone number is {customer['tel'][0]}.\")"
   ]
  },
  {
   "cell_type": "markdown",
   "id": "6fb18cf0-d3a2-4e2e-90e0-9f4353de5ff7",
   "metadata": {},
   "source": [
    "# READING JSON DATA DIRECTLY FROM THE WEB\n",
    "We usually read JSON data from the original web data source.  And therefore we will need a library named `requests` to handle HTTP request.\n",
    "\n",
    "Below is a simple diagram that shows how HTTP protocol works\n",
    "![HTTP Protocol](https://miro.medium.com/v2/resize:fit:853/1*8-fT6K1o6nHiBRxKppcqOg.png)"
   ]
  },
  {
   "cell_type": "markdown",
   "id": "4f720013-e16f-4b92-9f70-9e51bb4c4677",
   "metadata": {},
   "source": [
    "## Import `request` library\n",
    "\n",
    "Import requests library to handle HTTP (HpyerText Transfer Protocol, a web protocol)\n",
    "```\n",
    "import requests\n",
    "```"
   ]
  },
  {
   "cell_type": "code",
   "execution_count": 168,
   "id": "bbd616d0-b9e3-4bbe-bf53-cb14c37657e3",
   "metadata": {},
   "outputs": [],
   "source": [
    "import requests"
   ]
  },
  {
   "cell_type": "markdown",
   "id": "6b56f7ba-a9c9-47a0-b23e-b189b4fcd47d",
   "metadata": {},
   "source": [
    "## Specify the url of your data source\n",
    "- url (uniform resource locator) is the web address of the target data source (open data or private data)  \n",
    "- Tt's a pubicly accessible web resource that DOESN'T return regular webpage to view in a web browser, but for application programming purpose\n",
    "- If it's open data, it requires NO authentication.  If it's private data, it usually requires account pre-registration and an API key is required to access the data \n",
    "- Returned data is mostly in JSON or XML formats (Choose JSON format whenever you can as JSON data is more popular nowadays and is easier to process in programming)\n",
    "- JSON data (and XML data) are NOT structured, so one CANNNOT use pandas `DataFrame` directly to store/represent online open data\n",
    "\n",
    "Below is an url example.  It's simple a string that you can copy and paste to a browser address bar and it will show up data (usually in JSON).  You can install **Firefox** browser to view JSON data link in a much organized format as Firefox is JSON friendly.\n",
    "\n",
    "```\n",
    "url = \"https://jsonplaceholder.typicode.com/users\"\n",
    "```\n",
    "\n",
    "Click [here](https://www.mozilla.org/en-US/firefox/new/?xv=refresh-new&v=b) to download and install Firefox\n",
    "![Firefox Logo](https://firefox-dev.tools/photon/images/product-identity-assets/firefox-dont-1.png)\n",
    "\n",
    "\n",
    "In the above line of code, we use a variable named `url` to store the address and refer to it in later coding."
   ]
  },
  {
   "cell_type": "code",
   "execution_count": 171,
   "id": "60b3b6d9-21ce-48bc-a461-64b8c017f6e2",
   "metadata": {},
   "outputs": [],
   "source": [
    "url = \"https://jsonplaceholder.typicode.com/users\""
   ]
  },
  {
   "cell_type": "markdown",
   "id": "850f2f21-af86-479c-8b97-9da61c69743e",
   "metadata": {},
   "source": [
    "## Fetch the url using `requests.get()` function and store it as response data named `response`\n",
    "```\n",
    "response = requests.get(url)\n",
    "```\n",
    "\n",
    "Parse the response data to JSON format by calling built-in `json()` function\n",
    "```\n",
    "json_data = response.json()\n",
    "```\n",
    "\n",
    "Display JSON content using `json.dumps()` together with `print()` function"
   ]
  },
  {
   "cell_type": "code",
   "execution_count": 174,
   "id": "1a568bb9-4d26-4062-bb95-ae947b76aee5",
   "metadata": {},
   "outputs": [],
   "source": [
    "response = requests.get(url)"
   ]
  },
  {
   "cell_type": "code",
   "execution_count": 176,
   "id": "831ae591-3384-40c9-bf12-f96ffca5ac21",
   "metadata": {},
   "outputs": [
    {
     "data": {
      "text/plain": [
       "requests.models.Response"
      ]
     },
     "execution_count": 176,
     "metadata": {},
     "output_type": "execute_result"
    }
   ],
   "source": [
    "type(response)"
   ]
  },
  {
   "cell_type": "code",
   "execution_count": 178,
   "id": "739f1d5b-b978-4a06-84dc-5ff62bd36bdc",
   "metadata": {},
   "outputs": [],
   "source": [
    "users = response.json()"
   ]
  },
  {
   "cell_type": "code",
   "execution_count": 180,
   "id": "37d3738e-f805-4151-9a61-9d7e20f5a972",
   "metadata": {
    "scrolled": true
   },
   "outputs": [
    {
     "name": "stdout",
     "output_type": "stream",
     "text": [
      "[{'id': 1, 'name': 'Leanne Graham', 'username': 'Bret', 'email': 'Sincere@april.biz', 'address': {'street': 'Kulas Light', 'suite': 'Apt. 556', 'city': 'Gwenborough', 'zipcode': '92998-3874', 'geo': {'lat': '-37.3159', 'lng': '81.1496'}}, 'phone': '1-770-736-8031 x56442', 'website': 'hildegard.org', 'company': {'name': 'Romaguera-Crona', 'catchPhrase': 'Multi-layered client-server neural-net', 'bs': 'harness real-time e-markets'}}, {'id': 2, 'name': 'Ervin Howell', 'username': 'Antonette', 'email': 'Shanna@melissa.tv', 'address': {'street': 'Victor Plains', 'suite': 'Suite 879', 'city': 'Wisokyburgh', 'zipcode': '90566-7771', 'geo': {'lat': '-43.9509', 'lng': '-34.4618'}}, 'phone': '010-692-6593 x09125', 'website': 'anastasia.net', 'company': {'name': 'Deckow-Crist', 'catchPhrase': 'Proactive didactic contingency', 'bs': 'synergize scalable supply-chains'}}, {'id': 3, 'name': 'Clementine Bauch', 'username': 'Samantha', 'email': 'Nathan@yesenia.net', 'address': {'street': 'Douglas Extension', 'suite': 'Suite 847', 'city': 'McKenziehaven', 'zipcode': '59590-4157', 'geo': {'lat': '-68.6102', 'lng': '-47.0653'}}, 'phone': '1-463-123-4447', 'website': 'ramiro.info', 'company': {'name': 'Romaguera-Jacobson', 'catchPhrase': 'Face to face bifurcated interface', 'bs': 'e-enable strategic applications'}}, {'id': 4, 'name': 'Patricia Lebsack', 'username': 'Karianne', 'email': 'Julianne.OConner@kory.org', 'address': {'street': 'Hoeger Mall', 'suite': 'Apt. 692', 'city': 'South Elvis', 'zipcode': '53919-4257', 'geo': {'lat': '29.4572', 'lng': '-164.2990'}}, 'phone': '493-170-9623 x156', 'website': 'kale.biz', 'company': {'name': 'Robel-Corkery', 'catchPhrase': 'Multi-tiered zero tolerance productivity', 'bs': 'transition cutting-edge web services'}}, {'id': 5, 'name': 'Chelsey Dietrich', 'username': 'Kamren', 'email': 'Lucio_Hettinger@annie.ca', 'address': {'street': 'Skiles Walks', 'suite': 'Suite 351', 'city': 'Roscoeview', 'zipcode': '33263', 'geo': {'lat': '-31.8129', 'lng': '62.5342'}}, 'phone': '(254)954-1289', 'website': 'demarco.info', 'company': {'name': 'Keebler LLC', 'catchPhrase': 'User-centric fault-tolerant solution', 'bs': 'revolutionize end-to-end systems'}}, {'id': 6, 'name': 'Mrs. Dennis Schulist', 'username': 'Leopoldo_Corkery', 'email': 'Karley_Dach@jasper.info', 'address': {'street': 'Norberto Crossing', 'suite': 'Apt. 950', 'city': 'South Christy', 'zipcode': '23505-1337', 'geo': {'lat': '-71.4197', 'lng': '71.7478'}}, 'phone': '1-477-935-8478 x6430', 'website': 'ola.org', 'company': {'name': 'Considine-Lockman', 'catchPhrase': 'Synchronised bottom-line interface', 'bs': 'e-enable innovative applications'}}, {'id': 7, 'name': 'Kurtis Weissnat', 'username': 'Elwyn.Skiles', 'email': 'Telly.Hoeger@billy.biz', 'address': {'street': 'Rex Trail', 'suite': 'Suite 280', 'city': 'Howemouth', 'zipcode': '58804-1099', 'geo': {'lat': '24.8918', 'lng': '21.8984'}}, 'phone': '210.067.6132', 'website': 'elvis.io', 'company': {'name': 'Johns Group', 'catchPhrase': 'Configurable multimedia task-force', 'bs': 'generate enterprise e-tailers'}}, {'id': 8, 'name': 'Nicholas Runolfsdottir V', 'username': 'Maxime_Nienow', 'email': 'Sherwood@rosamond.me', 'address': {'street': 'Ellsworth Summit', 'suite': 'Suite 729', 'city': 'Aliyaview', 'zipcode': '45169', 'geo': {'lat': '-14.3990', 'lng': '-120.7677'}}, 'phone': '586.493.6943 x140', 'website': 'jacynthe.com', 'company': {'name': 'Abernathy Group', 'catchPhrase': 'Implemented secondary concept', 'bs': 'e-enable extensible e-tailers'}}, {'id': 9, 'name': 'Glenna Reichert', 'username': 'Delphine', 'email': 'Chaim_McDermott@dana.io', 'address': {'street': 'Dayna Park', 'suite': 'Suite 449', 'city': 'Bartholomebury', 'zipcode': '76495-3109', 'geo': {'lat': '24.6463', 'lng': '-168.8889'}}, 'phone': '(775)976-6794 x41206', 'website': 'conrad.com', 'company': {'name': 'Yost and Sons', 'catchPhrase': 'Switchable contextually-based project', 'bs': 'aggregate real-time technologies'}}, {'id': 10, 'name': 'Clementina DuBuque', 'username': 'Moriah.Stanton', 'email': 'Rey.Padberg@karina.biz', 'address': {'street': 'Kattie Turnpike', 'suite': 'Suite 198', 'city': 'Lebsackbury', 'zipcode': '31428-2261', 'geo': {'lat': '-38.2386', 'lng': '57.2232'}}, 'phone': '024-648-3804', 'website': 'ambrose.net', 'company': {'name': 'Hoeger LLC', 'catchPhrase': 'Centralized empowering task-force', 'bs': 'target end-to-end models'}}]\n"
     ]
    }
   ],
   "source": [
    "print(users)"
   ]
  },
  {
   "cell_type": "code",
   "execution_count": 182,
   "id": "c9f6e4ba-62a3-4c87-9377-ede5a90bb5db",
   "metadata": {},
   "outputs": [
    {
     "name": "stdout",
     "output_type": "stream",
     "text": [
      "[\n",
      "    {\n",
      "        \"id\": 1,\n",
      "        \"name\": \"Leanne Graham\",\n",
      "        \"username\": \"Bret\",\n",
      "        \"email\": \"Sincere@april.biz\",\n",
      "        \"address\": {\n",
      "            \"street\": \"Kulas Light\",\n",
      "            \"suite\": \"Apt. 556\",\n",
      "            \"city\": \"Gwenborough\",\n",
      "            \"zipcode\": \"92998-3874\",\n",
      "            \"geo\": {\n",
      "                \"lat\": \"-37.3159\",\n",
      "                \"lng\": \"81.1496\"\n",
      "            }\n",
      "        },\n",
      "        \"phone\": \"1-770-736-8031 x56442\",\n",
      "        \"website\": \"hildegard.org\",\n",
      "        \"company\": {\n",
      "            \"name\": \"Romaguera-Crona\",\n",
      "            \"catchPhrase\": \"Multi-layered client-server neural-net\",\n",
      "            \"bs\": \"harness real-time e-markets\"\n",
      "        }\n",
      "    },\n",
      "    {\n",
      "        \"id\": 2,\n",
      "        \"name\": \"Ervin Howell\",\n",
      "        \"username\": \"Antonette\",\n",
      "        \"email\": \"Shanna@melissa.tv\",\n",
      "        \"address\": {\n",
      "            \"street\": \"Victor Plains\",\n",
      "            \"suite\": \"Suite 879\",\n",
      "            \"city\": \"Wisokyburgh\",\n",
      "            \"zipcode\": \"90566-7771\",\n",
      "            \"geo\": {\n",
      "                \"lat\": \"-43.9509\",\n",
      "                \"lng\": \"-34.4618\"\n",
      "            }\n",
      "        },\n",
      "        \"phone\": \"010-692-6593 x09125\",\n",
      "        \"website\": \"anastasia.net\",\n",
      "        \"company\": {\n",
      "            \"name\": \"Deckow-Crist\",\n",
      "            \"catchPhrase\": \"Proactive didactic contingency\",\n",
      "            \"bs\": \"synergize scalable supply-chains\"\n",
      "        }\n",
      "    },\n",
      "    {\n",
      "        \"id\": 3,\n",
      "        \"name\": \"Clementine Bauch\",\n",
      "        \"username\": \"Samantha\",\n",
      "        \"email\": \"Nathan@yesenia.net\",\n",
      "        \"address\": {\n",
      "            \"street\": \"Douglas Extension\",\n",
      "            \"suite\": \"Suite 847\",\n",
      "            \"city\": \"McKenziehaven\",\n",
      "            \"zipcode\": \"59590-4157\",\n",
      "            \"geo\": {\n",
      "                \"lat\": \"-68.6102\",\n",
      "                \"lng\": \"-47.0653\"\n",
      "            }\n",
      "        },\n",
      "        \"phone\": \"1-463-123-4447\",\n",
      "        \"website\": \"ramiro.info\",\n",
      "        \"company\": {\n",
      "            \"name\": \"Romaguera-Jacobson\",\n",
      "            \"catchPhrase\": \"Face to face bifurcated interface\",\n",
      "            \"bs\": \"e-enable strategic applications\"\n",
      "        }\n",
      "    },\n",
      "    {\n",
      "        \"id\": 4,\n",
      "        \"name\": \"Patricia Lebsack\",\n",
      "        \"username\": \"Karianne\",\n",
      "        \"email\": \"Julianne.OConner@kory.org\",\n",
      "        \"address\": {\n",
      "            \"street\": \"Hoeger Mall\",\n",
      "            \"suite\": \"Apt. 692\",\n",
      "            \"city\": \"South Elvis\",\n",
      "            \"zipcode\": \"53919-4257\",\n",
      "            \"geo\": {\n",
      "                \"lat\": \"29.4572\",\n",
      "                \"lng\": \"-164.2990\"\n",
      "            }\n",
      "        },\n",
      "        \"phone\": \"493-170-9623 x156\",\n",
      "        \"website\": \"kale.biz\",\n",
      "        \"company\": {\n",
      "            \"name\": \"Robel-Corkery\",\n",
      "            \"catchPhrase\": \"Multi-tiered zero tolerance productivity\",\n",
      "            \"bs\": \"transition cutting-edge web services\"\n",
      "        }\n",
      "    },\n",
      "    {\n",
      "        \"id\": 5,\n",
      "        \"name\": \"Chelsey Dietrich\",\n",
      "        \"username\": \"Kamren\",\n",
      "        \"email\": \"Lucio_Hettinger@annie.ca\",\n",
      "        \"address\": {\n",
      "            \"street\": \"Skiles Walks\",\n",
      "            \"suite\": \"Suite 351\",\n",
      "            \"city\": \"Roscoeview\",\n",
      "            \"zipcode\": \"33263\",\n",
      "            \"geo\": {\n",
      "                \"lat\": \"-31.8129\",\n",
      "                \"lng\": \"62.5342\"\n",
      "            }\n",
      "        },\n",
      "        \"phone\": \"(254)954-1289\",\n",
      "        \"website\": \"demarco.info\",\n",
      "        \"company\": {\n",
      "            \"name\": \"Keebler LLC\",\n",
      "            \"catchPhrase\": \"User-centric fault-tolerant solution\",\n",
      "            \"bs\": \"revolutionize end-to-end systems\"\n",
      "        }\n",
      "    },\n",
      "    {\n",
      "        \"id\": 6,\n",
      "        \"name\": \"Mrs. Dennis Schulist\",\n",
      "        \"username\": \"Leopoldo_Corkery\",\n",
      "        \"email\": \"Karley_Dach@jasper.info\",\n",
      "        \"address\": {\n",
      "            \"street\": \"Norberto Crossing\",\n",
      "            \"suite\": \"Apt. 950\",\n",
      "            \"city\": \"South Christy\",\n",
      "            \"zipcode\": \"23505-1337\",\n",
      "            \"geo\": {\n",
      "                \"lat\": \"-71.4197\",\n",
      "                \"lng\": \"71.7478\"\n",
      "            }\n",
      "        },\n",
      "        \"phone\": \"1-477-935-8478 x6430\",\n",
      "        \"website\": \"ola.org\",\n",
      "        \"company\": {\n",
      "            \"name\": \"Considine-Lockman\",\n",
      "            \"catchPhrase\": \"Synchronised bottom-line interface\",\n",
      "            \"bs\": \"e-enable innovative applications\"\n",
      "        }\n",
      "    },\n",
      "    {\n",
      "        \"id\": 7,\n",
      "        \"name\": \"Kurtis Weissnat\",\n",
      "        \"username\": \"Elwyn.Skiles\",\n",
      "        \"email\": \"Telly.Hoeger@billy.biz\",\n",
      "        \"address\": {\n",
      "            \"street\": \"Rex Trail\",\n",
      "            \"suite\": \"Suite 280\",\n",
      "            \"city\": \"Howemouth\",\n",
      "            \"zipcode\": \"58804-1099\",\n",
      "            \"geo\": {\n",
      "                \"lat\": \"24.8918\",\n",
      "                \"lng\": \"21.8984\"\n",
      "            }\n",
      "        },\n",
      "        \"phone\": \"210.067.6132\",\n",
      "        \"website\": \"elvis.io\",\n",
      "        \"company\": {\n",
      "            \"name\": \"Johns Group\",\n",
      "            \"catchPhrase\": \"Configurable multimedia task-force\",\n",
      "            \"bs\": \"generate enterprise e-tailers\"\n",
      "        }\n",
      "    },\n",
      "    {\n",
      "        \"id\": 8,\n",
      "        \"name\": \"Nicholas Runolfsdottir V\",\n",
      "        \"username\": \"Maxime_Nienow\",\n",
      "        \"email\": \"Sherwood@rosamond.me\",\n",
      "        \"address\": {\n",
      "            \"street\": \"Ellsworth Summit\",\n",
      "            \"suite\": \"Suite 729\",\n",
      "            \"city\": \"Aliyaview\",\n",
      "            \"zipcode\": \"45169\",\n",
      "            \"geo\": {\n",
      "                \"lat\": \"-14.3990\",\n",
      "                \"lng\": \"-120.7677\"\n",
      "            }\n",
      "        },\n",
      "        \"phone\": \"586.493.6943 x140\",\n",
      "        \"website\": \"jacynthe.com\",\n",
      "        \"company\": {\n",
      "            \"name\": \"Abernathy Group\",\n",
      "            \"catchPhrase\": \"Implemented secondary concept\",\n",
      "            \"bs\": \"e-enable extensible e-tailers\"\n",
      "        }\n",
      "    },\n",
      "    {\n",
      "        \"id\": 9,\n",
      "        \"name\": \"Glenna Reichert\",\n",
      "        \"username\": \"Delphine\",\n",
      "        \"email\": \"Chaim_McDermott@dana.io\",\n",
      "        \"address\": {\n",
      "            \"street\": \"Dayna Park\",\n",
      "            \"suite\": \"Suite 449\",\n",
      "            \"city\": \"Bartholomebury\",\n",
      "            \"zipcode\": \"76495-3109\",\n",
      "            \"geo\": {\n",
      "                \"lat\": \"24.6463\",\n",
      "                \"lng\": \"-168.8889\"\n",
      "            }\n",
      "        },\n",
      "        \"phone\": \"(775)976-6794 x41206\",\n",
      "        \"website\": \"conrad.com\",\n",
      "        \"company\": {\n",
      "            \"name\": \"Yost and Sons\",\n",
      "            \"catchPhrase\": \"Switchable contextually-based project\",\n",
      "            \"bs\": \"aggregate real-time technologies\"\n",
      "        }\n",
      "    },\n",
      "    {\n",
      "        \"id\": 10,\n",
      "        \"name\": \"Clementina DuBuque\",\n",
      "        \"username\": \"Moriah.Stanton\",\n",
      "        \"email\": \"Rey.Padberg@karina.biz\",\n",
      "        \"address\": {\n",
      "            \"street\": \"Kattie Turnpike\",\n",
      "            \"suite\": \"Suite 198\",\n",
      "            \"city\": \"Lebsackbury\",\n",
      "            \"zipcode\": \"31428-2261\",\n",
      "            \"geo\": {\n",
      "                \"lat\": \"-38.2386\",\n",
      "                \"lng\": \"57.2232\"\n",
      "            }\n",
      "        },\n",
      "        \"phone\": \"024-648-3804\",\n",
      "        \"website\": \"ambrose.net\",\n",
      "        \"company\": {\n",
      "            \"name\": \"Hoeger LLC\",\n",
      "            \"catchPhrase\": \"Centralized empowering task-force\",\n",
      "            \"bs\": \"target end-to-end models\"\n",
      "        }\n",
      "    }\n",
      "]\n"
     ]
    }
   ],
   "source": [
    "print(json.dumps(users, indent=4))"
   ]
  },
  {
   "cell_type": "code",
   "execution_count": 184,
   "id": "cbddccbd-9dd5-4ced-b4e2-54dcf339fc4b",
   "metadata": {},
   "outputs": [
    {
     "data": {
      "text/plain": [
       "[{'id': 1,\n",
       "  'name': 'Leanne Graham',\n",
       "  'username': 'Bret',\n",
       "  'email': 'Sincere@april.biz',\n",
       "  'address': {'street': 'Kulas Light',\n",
       "   'suite': 'Apt. 556',\n",
       "   'city': 'Gwenborough',\n",
       "   'zipcode': '92998-3874',\n",
       "   'geo': {'lat': '-37.3159', 'lng': '81.1496'}},\n",
       "  'phone': '1-770-736-8031 x56442',\n",
       "  'website': 'hildegard.org',\n",
       "  'company': {'name': 'Romaguera-Crona',\n",
       "   'catchPhrase': 'Multi-layered client-server neural-net',\n",
       "   'bs': 'harness real-time e-markets'}},\n",
       " {'id': 2,\n",
       "  'name': 'Ervin Howell',\n",
       "  'username': 'Antonette',\n",
       "  'email': 'Shanna@melissa.tv',\n",
       "  'address': {'street': 'Victor Plains',\n",
       "   'suite': 'Suite 879',\n",
       "   'city': 'Wisokyburgh',\n",
       "   'zipcode': '90566-7771',\n",
       "   'geo': {'lat': '-43.9509', 'lng': '-34.4618'}},\n",
       "  'phone': '010-692-6593 x09125',\n",
       "  'website': 'anastasia.net',\n",
       "  'company': {'name': 'Deckow-Crist',\n",
       "   'catchPhrase': 'Proactive didactic contingency',\n",
       "   'bs': 'synergize scalable supply-chains'}}]"
      ]
     },
     "execution_count": 184,
     "metadata": {},
     "output_type": "execute_result"
    }
   ],
   "source": [
    "users[0:2]"
   ]
  },
  {
   "cell_type": "code",
   "execution_count": 186,
   "id": "eaf939c8-345f-4fe3-b585-1813a13afd23",
   "metadata": {},
   "outputs": [
    {
     "data": {
      "text/plain": [
       "{'id': 1,\n",
       " 'name': 'Leanne Graham',\n",
       " 'username': 'Bret',\n",
       " 'email': 'Sincere@april.biz',\n",
       " 'address': {'street': 'Kulas Light',\n",
       "  'suite': 'Apt. 556',\n",
       "  'city': 'Gwenborough',\n",
       "  'zipcode': '92998-3874',\n",
       "  'geo': {'lat': '-37.3159', 'lng': '81.1496'}},\n",
       " 'phone': '1-770-736-8031 x56442',\n",
       " 'website': 'hildegard.org',\n",
       " 'company': {'name': 'Romaguera-Crona',\n",
       "  'catchPhrase': 'Multi-layered client-server neural-net',\n",
       "  'bs': 'harness real-time e-markets'}}"
      ]
     },
     "execution_count": 186,
     "metadata": {},
     "output_type": "execute_result"
    }
   ],
   "source": [
    "users[0]"
   ]
  },
  {
   "cell_type": "code",
   "execution_count": 188,
   "id": "e46fc03c-7a45-48fc-87f2-2475b3320219",
   "metadata": {},
   "outputs": [
    {
     "data": {
      "text/plain": [
       "'Leanne Graham'"
      ]
     },
     "execution_count": 188,
     "metadata": {},
     "output_type": "execute_result"
    }
   ],
   "source": [
    "users[0]['name']"
   ]
  },
  {
   "cell_type": "code",
   "execution_count": 190,
   "id": "4fa67727-fda1-4ec2-81a4-6cf33710428d",
   "metadata": {},
   "outputs": [
    {
     "data": {
      "text/plain": [
       "'Sincere@april.biz'"
      ]
     },
     "execution_count": 190,
     "metadata": {},
     "output_type": "execute_result"
    }
   ],
   "source": [
    "users[0]['email']"
   ]
  },
  {
   "cell_type": "code",
   "execution_count": 192,
   "id": "8fbb344d-42d6-4806-9448-3ac87fa57e6e",
   "metadata": {},
   "outputs": [
    {
     "data": {
      "text/plain": [
       "{'name': 'Romaguera-Crona',\n",
       " 'catchPhrase': 'Multi-layered client-server neural-net',\n",
       " 'bs': 'harness real-time e-markets'}"
      ]
     },
     "execution_count": 192,
     "metadata": {},
     "output_type": "execute_result"
    }
   ],
   "source": [
    "users[0]['company']"
   ]
  },
  {
   "cell_type": "code",
   "execution_count": 194,
   "id": "485d1688-e70c-4f8b-b28a-8c2d7f3938c2",
   "metadata": {},
   "outputs": [
    {
     "data": {
      "text/plain": [
       "'Romaguera-Crona'"
      ]
     },
     "execution_count": 194,
     "metadata": {},
     "output_type": "execute_result"
    }
   ],
   "source": [
    "users[0]['company']['name']"
   ]
  },
  {
   "cell_type": "code",
   "execution_count": null,
   "id": "d579c4a9-50db-420e-ac8d-64df8076bf42",
   "metadata": {},
   "outputs": [],
   "source": []
  },
  {
   "cell_type": "markdown",
   "id": "3bec31d4-3f9d-431d-87f2-5910068af21d",
   "metadata": {},
   "source": [
    "# Commercial Data API\n",
    "A Data **API** (**A**pplication **P**rogramming **I**nterface) allows applications to access, retrieve, and manipulate structured data from various sources, such as databases, cloud storage, or external data services. \n",
    "\n",
    "It acts as a bridge between users or applications and data repositories, enabling seamless interaction without requiring direct database access.\n",
    "\n",
    "Key Features of a Data API\n",
    "- **Standardized Access** – Provides a consistent way to query and retrieve data.\n",
    "- **RESTful or GraphQL-Based** – Commonly uses REST or GraphQL protocols for efficient data exchange.\n",
    "- **Authentication & Security** – Ensures data protection via authentication methods like API keys, OAuth, or tokens.\n",
    "- **Data Filtering & Querying** – Supports filtering, pagination, and query customization.\n",
    "- **Interoperability** – Allows different applications and platforms to integrate and interact with shared data."
   ]
  },
  {
   "cell_type": "markdown",
   "id": "29b524fe-a3c7-4f7e-ac9a-f6b004750378",
   "metadata": {},
   "source": [
    "## Some Commercial Data API\n",
    "Commercial data APIs provide businesses and developers with access to structured or semi-structured, real-time or historical data for various industries.   \n",
    "These APIs are often subscription-based or require payment for premium data access.\n",
    "\n",
    "Some Examples In the Market\n",
    "- [Alpha Vantage](https://www.alphavantage.co/) – Provides stock market data, financial indicators, and cryptocurrency trends.\n",
    "- [Futu](https://openapi.futunn.com/futu-api-doc/en/intro/intro.html) - penAPI provides wide varieties of market data and trading services for your programmed trading to meet the needs of every developer's programmed trading and help your Quant dreams.\n",
    "- [OpenWeather](https://openweathermap.org/api) - fast and easy-to-work weather APIs\n",
    "- [exchangerates](https://exchangeratesapi.io/) - Historical & Real-time Exchange Rates & Currency Conversion for Business\n"
   ]
  },
  {
   "cell_type": "markdown",
   "id": "c13389a3-431f-42f4-b5ac-c2b11dbc4d33",
   "metadata": {},
   "source": [
    "## Consuming Currency Exchange Rates API\n",
    "In this section, we will write code to retrieive currency exchange rate API.  \n",
    "\n",
    "Go to [https://exchangeratesapi.io/](https://exchangeratesapi.io/) to create a free account and copy your personal **API Key** in your account setting for later use.  You won't be able to connect to the API without a valid API key.\n",
    "\n",
    "Below is the API documentation page.  \n",
    "[https://exchangeratesapi.io/documentation/](https://exchangeratesapi.io/documentation/)\n"
   ]
  },
  {
   "cell_type": "code",
   "execution_count": 200,
   "id": "30ff77db-c4ef-46cf-b001-0c18e958d138",
   "metadata": {},
   "outputs": [],
   "source": [
    "import requests"
   ]
  },
  {
   "cell_type": "code",
   "execution_count": 202,
   "id": "49aa5adf-9c6d-4680-bf92-eee4414746af",
   "metadata": {},
   "outputs": [],
   "source": [
    "ex_api_key = 'Y'"
   ]
  },
  {
   "cell_type": "code",
   "execution_count": 204,
   "id": "bdca0300-4a1a-41f8-93e0-6fa70815f1bd",
   "metadata": {},
   "outputs": [
    {
     "data": {
      "text/plain": [
       "'https://api.exchangeratesapi.io/v1/latest?access_key=6e9dda309d99dbd132bfed5628c84144'"
      ]
     },
     "execution_count": 204,
     "metadata": {},
     "output_type": "execute_result"
    }
   ],
   "source": [
    "url = f\"https://api.exchangeratesapi.io/v1/latest?access_key={ex_api_key}\"\n",
    "url"
   ]
  },
  {
   "cell_type": "markdown",
   "id": "8a7e0761-efcb-453e-bb94-f245a46c7ee5",
   "metadata": {},
   "source": [
    "## Test your URL in browser before you moving on writing request codes\n",
    "\n",
    "Sometime, you might mistakenly configure your API url with invalid parameters.  Test the url link in browser to double confirm it's correct."
   ]
  },
  {
   "cell_type": "code",
   "execution_count": 207,
   "id": "403e41c4-2eb8-44f7-8884-585faa12337d",
   "metadata": {},
   "outputs": [
    {
     "data": {
      "text/plain": [
       "'https://api.exchangeratesapi.io/v1/latest?access_key=6e9dda309d99dbd132bfed5628c84144'"
      ]
     },
     "execution_count": 207,
     "metadata": {},
     "output_type": "execute_result"
    }
   ],
   "source": [
    "url"
   ]
  },
  {
   "cell_type": "code",
   "execution_count": 209,
   "id": "0db2bb86-540a-4cfc-bdb2-8901ca9fa526",
   "metadata": {},
   "outputs": [],
   "source": [
    "ex_response = requests.get(url)"
   ]
  },
  {
   "cell_type": "code",
   "execution_count": 211,
   "id": "6b2a7db2-2330-4bab-a670-60767abd18a8",
   "metadata": {},
   "outputs": [
    {
     "data": {
      "text/plain": [
       "{'success': True,\n",
       " 'timestamp': 1745763244,\n",
       " 'base': 'EUR',\n",
       " 'date': '2025-04-27',\n",
       " 'rates': {'AED': 4.17462,\n",
       "  'AFN': 81.26835,\n",
       "  'ALL': 98.998633,\n",
       "  'AMD': 443.632685,\n",
       "  'ANG': 2.048405,\n",
       "  'AOA': 1042.795414,\n",
       "  'ARS': 1322.593932,\n",
       "  'AUD': 1.773374,\n",
       "  'AWG': 2.045802,\n",
       "  'AZN': 1.936659,\n",
       "  'BAM': 1.957362,\n",
       "  'BBD': 2.294761,\n",
       "  'BDT': 138.08625,\n",
       "  'BGN': 1.955208,\n",
       "  'BHD': 0.428349,\n",
       "  'BIF': 3332.384619,\n",
       "  'BMD': 1.136557,\n",
       "  'BND': 1.49382,\n",
       "  'BOB': 7.85337,\n",
       "  'BRL': 6.467468,\n",
       "  'BSD': 1.136522,\n",
       "  'BTC': 1.196516e-05,\n",
       "  'BTN': 97.016687,\n",
       "  'BWP': 15.665706,\n",
       "  'BYN': 3.719087,\n",
       "  'BYR': 22276.513823,\n",
       "  'BZD': 2.282952,\n",
       "  'CAD': 1.57828,\n",
       "  'CDF': 3269.874405,\n",
       "  'CHF': 0.941226,\n",
       "  'CLF': 0.027691,\n",
       "  'CLP': 1062.624256,\n",
       "  'CNY': 8.28289,\n",
       "  'CNH': 8.284175,\n",
       "  'COP': 4799.622655,\n",
       "  'CRC': 575.266582,\n",
       "  'CUC': 1.136557,\n",
       "  'CUP': 30.118756,\n",
       "  'CVE': 110.591405,\n",
       "  'CZK': 24.979364,\n",
       "  'DJF': 201.989327,\n",
       "  'DKK': 7.466274,\n",
       "  'DOP': 67.114127,\n",
       "  'DZD': 150.469941,\n",
       "  'EGP': 57.668094,\n",
       "  'ERN': 17.048352,\n",
       "  'ETB': 149.007003,\n",
       "  'EUR': 1,\n",
       "  'FJD': 2.566289,\n",
       "  'FKP': 0.853612,\n",
       "  'GBP': 0.85372,\n",
       "  'GEL': 3.11461,\n",
       "  'GGP': 0.853612,\n",
       "  'GHS': 17.401128,\n",
       "  'GIP': 0.853612,\n",
       "  'GMD': 81.832496,\n",
       "  'GNF': 9836.899747,\n",
       "  'GTQ': 8.753099,\n",
       "  'GYD': 237.774944,\n",
       "  'HKD': 8.818715,\n",
       "  'HNL': 29.327529,\n",
       "  'HRK': 7.535717,\n",
       "  'HTG': 148.404937,\n",
       "  'HUF': 405.6944,\n",
       "  'IDR': 19098.700933,\n",
       "  'ILS': 4.118917,\n",
       "  'IMP': 0.853612,\n",
       "  'INR': 97.044735,\n",
       "  'IQD': 1488.889444,\n",
       "  'IRR': 47849.042846,\n",
       "  'ISK': 145.309229,\n",
       "  'JEP': 0.853612,\n",
       "  'JMD': 179.863508,\n",
       "  'JOD': 0.805937,\n",
       "  'JPY': 163.294847,\n",
       "  'KES': 147.18843,\n",
       "  'KGS': 99.392331,\n",
       "  'KHR': 4564.412618,\n",
       "  'KMF': 491.56514,\n",
       "  'KPW': 1022.901131,\n",
       "  'KRW': 1634.78968,\n",
       "  'KWD': 0.348639,\n",
       "  'KYD': 0.947068,\n",
       "  'KZT': 585.21465,\n",
       "  'LAK': 24578.041795,\n",
       "  'LBP': 101691.400184,\n",
       "  'LKR': 340.545232,\n",
       "  'LRD': 227.30436,\n",
       "  'LSL': 21.225243,\n",
       "  'LTL': 3.355957,\n",
       "  'LVL': 0.687492,\n",
       "  'LYD': 6.211328,\n",
       "  'MAD': 10.518878,\n",
       "  'MDL': 19.61591,\n",
       "  'MGA': 5128.716953,\n",
       "  'MKD': 61.492086,\n",
       "  'MMK': 2386.356727,\n",
       "  'MNT': 4060.891093,\n",
       "  'MOP': 9.080365,\n",
       "  'MRU': 44.98535,\n",
       "  'MUR': 51.520551,\n",
       "  'MVR': 17.514771,\n",
       "  'MWK': 1970.715729,\n",
       "  'MXN': 22.167182,\n",
       "  'MYR': 4.971344,\n",
       "  'MZN': 72.740028,\n",
       "  'NAD': 21.23131,\n",
       "  'NGN': 1828.402128,\n",
       "  'NIO': 41.823922,\n",
       "  'NOK': 11.862703,\n",
       "  'NPR': 155.224166,\n",
       "  'NZD': 1.905057,\n",
       "  'OMR': 0.437065,\n",
       "  'PAB': 1.136522,\n",
       "  'PEN': 4.1706,\n",
       "  'PGK': 4.606509,\n",
       "  'PHP': 63.868855,\n",
       "  'PKR': 319.316066,\n",
       "  'PLN': 4.272602,\n",
       "  'PYG': 9090.893438,\n",
       "  'QAR': 4.138247,\n",
       "  'RON': 4.981078,\n",
       "  'RSD': 117.563109,\n",
       "  'RUB': 93.501386,\n",
       "  'RWF': 1609.364468,\n",
       "  'SAR': 4.263154,\n",
       "  'SBD': 9.495151,\n",
       "  'SCR': 16.138737,\n",
       "  'SDG': 682.506553,\n",
       "  'SEK': 11.006534,\n",
       "  'SGD': 1.493554,\n",
       "  'SHP': 0.893155,\n",
       "  'SLE': 25.804007,\n",
       "  'SLL': 23833.009943,\n",
       "  'SOS': 649.546389,\n",
       "  'SRD': 41.917396,\n",
       "  'STD': 23524.431634,\n",
       "  'SVC': 9.94354,\n",
       "  'SYP': 14777.346815,\n",
       "  'SZL': 21.231301,\n",
       "  'THB': 38.086439,\n",
       "  'TJS': 12.024358,\n",
       "  'TMT': 3.989314,\n",
       "  'TND': 3.405167,\n",
       "  'TOP': 2.661934,\n",
       "  'TRY': 43.668564,\n",
       "  'TTD': 7.720262,\n",
       "  'TWD': 36.995952,\n",
       "  'TZS': 3057.338247,\n",
       "  'UAH': 47.529559,\n",
       "  'UGX': 4166.159113,\n",
       "  'USD': 1.136557,\n",
       "  'UYU': 47.446395,\n",
       "  'UZS': 14718.411298,\n",
       "  'VES': 94.688732,\n",
       "  'VND': 29574.913492,\n",
       "  'VUV': 137.048079,\n",
       "  'WST': 3.141419,\n",
       "  'XAF': 656.49524,\n",
       "  'XAG': 0.034334,\n",
       "  'XAU': 0.000342,\n",
       "  'XCD': 3.071602,\n",
       "  'XDR': 0.817135,\n",
       "  'XOF': 654.092541,\n",
       "  'XPF': 119.331742,\n",
       "  'YER': 278.57416,\n",
       "  'ZAR': 21.240547,\n",
       "  'ZMK': 10230.379394,\n",
       "  'ZMW': 31.736741,\n",
       "  'ZWL': 365.970835}}"
      ]
     },
     "execution_count": 211,
     "metadata": {},
     "output_type": "execute_result"
    }
   ],
   "source": [
    "ex_data = ex_response.json()\n",
    "ex_data"
   ]
  },
  {
   "cell_type": "markdown",
   "id": "bf780e9f-c91d-476b-951d-4b54e5c59e22",
   "metadata": {},
   "source": [
    "## Retrieve Data\n",
    "\n",
    "Use `[ ]` operator and correct nested key to retrieve HKD rate from the exchange dictionary `ex_data`.  \n",
    "In this case, we need to use two keys in nested way and they are `rates` and `HKD`"
   ]
  },
  {
   "cell_type": "code",
   "execution_count": 214,
   "id": "762c6daf-27d1-4c72-8c57-1dd70cd3a590",
   "metadata": {},
   "outputs": [
    {
     "data": {
      "text/plain": [
       "8.818715"
      ]
     },
     "execution_count": 214,
     "metadata": {},
     "output_type": "execute_result"
    }
   ],
   "source": [
    "hkd_rate = ex_data['rates']['HKD']\n",
    "hkd_rate"
   ]
  },
  {
   "cell_type": "markdown",
   "id": "fb1d4015-7af5-488f-b537-8ffdac831318",
   "metadata": {},
   "source": [
    "## Use the live exchange rate for sales amount calculation\n",
    "\n",
    "Assume we have list of `product_retail_price` in EURO currency and we won't be change to HKD so that user from HKD region can have an instant referencing while buying.  \n",
    "\n",
    "First we need to import numpy\n",
    "```\n",
    "import numpy as np\n",
    "```"
   ]
  },
  {
   "cell_type": "code",
   "execution_count": 217,
   "id": "b7eb9b36-7228-4fbb-904f-336b086aa0bf",
   "metadata": {},
   "outputs": [],
   "source": [
    "import numpy as np"
   ]
  },
  {
   "cell_type": "markdown",
   "id": "8cd5fad3-eba5-41fe-8f79-f432afd0b2de",
   "metadata": {},
   "source": [
    "**Let's check numpy's version**  \n",
    "`np.__version__`"
   ]
  },
  {
   "cell_type": "code",
   "execution_count": 220,
   "id": "ff6bae71-aba9-411f-8c07-e617aeb9459c",
   "metadata": {},
   "outputs": [
    {
     "data": {
      "text/plain": [
       "'1.26.4'"
      ]
     },
     "execution_count": 220,
     "metadata": {},
     "output_type": "execute_result"
    }
   ],
   "source": [
    "np.__version__"
   ]
  },
  {
   "cell_type": "code",
   "execution_count": 222,
   "id": "2e9e2c17-f54d-4ee8-89c3-987de33d55af",
   "metadata": {},
   "outputs": [
    {
     "data": {
      "text/plain": [
       "array([100., 200., 300., 400., 500., 600.])"
      ]
     },
     "execution_count": 222,
     "metadata": {},
     "output_type": "execute_result"
    }
   ],
   "source": [
    "product_retail_price_euro = np.array([100.0, 200.0, 300.0, 400.0, 500.0, 600.0])\n",
    "product_retail_price_euro"
   ]
  },
  {
   "cell_type": "code",
   "execution_count": 224,
   "id": "b4f04d48-b548-4c7a-b375-d34b988620ad",
   "metadata": {},
   "outputs": [
    {
     "data": {
      "text/plain": [
       "numpy.ndarray"
      ]
     },
     "execution_count": 224,
     "metadata": {},
     "output_type": "execute_result"
    }
   ],
   "source": [
    "type(product_retail_price_euro)"
   ]
  },
  {
   "cell_type": "code",
   "execution_count": 226,
   "id": "84ea3f7a-b5bb-44e1-9832-8c3b5446cc62",
   "metadata": {},
   "outputs": [
    {
     "data": {
      "text/plain": [
       "array([ 881.8715, 1763.743 , 2645.6145, 3527.486 , 4409.3575, 5291.229 ])"
      ]
     },
     "execution_count": 226,
     "metadata": {},
     "output_type": "execute_result"
    }
   ],
   "source": [
    "product_retail_price_euro = product_retail_price_euro * hkd_rate\n",
    "product_retail_price_euro"
   ]
  },
  {
   "cell_type": "markdown",
   "id": "05df3c69-2c3f-4935-8fe3-16986e44025e",
   "metadata": {},
   "source": [
    "# EXERCISE 3: READING HONG KONG WEATHER FORECAST API \n",
    "In this exercise, we will explore the open weather api from Hong Kong Observatory Station. This exercise weighs 10 marks.\n",
    "\n",
    "Go to Moodel and download the exercise description to understand the requirements.\n",
    "\n",
    "Follow instructor's guidance to complete this exercise.  \n",
    "\n",
    "Or, if you are confident enough, you can try to independantly finish the exercise by referring the syntax/codes from this chapter's notebook."
   ]
  },
  {
   "cell_type": "code",
   "execution_count": null,
   "id": "bd00e259-5d1d-4eaa-93db-9497b907187e",
   "metadata": {},
   "outputs": [],
   "source": []
  }
 ],
 "metadata": {
  "kernelspec": {
   "display_name": "Python [conda env:base] *",
   "language": "python",
   "name": "conda-base-py"
  },
  "language_info": {
   "codemirror_mode": {
    "name": "ipython",
    "version": 3
   },
   "file_extension": ".py",
   "mimetype": "text/x-python",
   "name": "python",
   "nbconvert_exporter": "python",
   "pygments_lexer": "ipython3",
   "version": "3.12.4"
  },
  "toc": {
   "base_numbering": 1,
   "nav_menu": {},
   "number_sections": true,
   "sideBar": true,
   "skip_h1_title": false,
   "title_cell": "Table of Contents",
   "title_sidebar": "Contents",
   "toc_cell": false,
   "toc_position": {},
   "toc_section_display": true,
   "toc_window_display": true
  }
 },
 "nbformat": 4,
 "nbformat_minor": 5
}
