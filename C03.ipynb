{
 "cells": [
  {
   "cell_type": "markdown",
   "id": "23f1aeb0-1824-4a5c-a0df-6ef5ccc61528",
   "metadata": {},
   "source": [
    "---\n",
    "# INTERMEDIATE PYTHON PROGRAMMING\n",
    "# CHAPTER 3 - Workflow, Open Data Landscape & Consuming JSON Data\n",
    "---\n"
   ]
  },
  {
   "cell_type": "markdown",
   "id": "22034dbd-ba11-443e-9d0d-6f51bcf02129",
   "metadata": {},
   "source": [
    "# WHAT IS DATA SCIENCE WORKFLOW?\n",
    "\n",
    "Workflow is the preferred step-by-step procedure to complete a complex data science task.\n",
    "\n",
    "![R Data Science Workflow](https://d33wubrfki0l68.cloudfront.net/571b056757d68e6df81a3e3853f54d3c76ad6efc/32d37/diagrams/data-science.png)\n",
    "\n",
    "Some common steps in data science include: **exploring data**; **wrangling data**; **visualizing data** and **modeling** (for machine learning).\n",
    "\n",
    "These steps are NOT necessarily carried out in linear. They are usually iterative. Company/team might have very different steps for the sake of intended productivity and efficiency consideration.\n"
   ]
  },
  {
   "cell_type": "markdown",
   "id": "96b54e46-74a9-4d5c-8a53-45dc962690e8",
   "metadata": {},
   "source": [
    "# COMMON DATA FORMATS\n",
    "\n",
    "![](https://www.researchgate.net/publication/236860222/figure/fig4/AS:669293989593114@1536583530877/Unstructured-semi-structured-and-structured-data.png)\n",
    "\n",
    "## Structured Data Formats\n",
    "- **CSV (Comma-Separated Values)** – Stores tabular data in plain text, with values separated by commas.\n",
    "- **Excel** - Excel is a commonly used data source in data science projects due to its accessibility, familiarity, and ability to handle structured tabular data.\n",
    "- **SQL Databases** – Relational database storage where data is organized into tables with relationships.\n",
    "\n",
    "## Semi-Structured &\n",
    "- **JSON (JavaScript Object Notation)** – A lightweight, human-readable format often used in APIs and web applications.\n",
    "- **XML (eXtensible Markup Language)** – A structured format used for storing and transporting data.\n",
    "- **YAML (Yet Another Markup Language)** – A human-friendly format used for configuration files.\n",
    "\n",
    "\n",
    "##  Unstructured Formats\n",
    "- **Binary Formats** – Includes images (PNG, JPEG), videos (MP4), and other non-text data types.\n",
    "- **TXT Files** – Simple unformatted text files for storing raw data.\n",
    "\n",
    "Each format has specific advantages. CSV (structured) is simple and widely supported, JSON (semi-structure) is flexible and commonly used in web apps."
   ]
  },
  {
   "cell_type": "markdown",
   "id": "cfb1de8b-ee30-493f-a5f2-c3b8447e6010",
   "metadata": {},
   "source": [
    "# OPEN DATA LANDSCAPE\n",
    "- Open data refers to publicly available data that can be freely accessed, used, and shared by anyone, without restrictions or costly barriers. \n",
    "- It is typically structured or (at least semi-structure) in a way that enables easy analysis\n",
    "- It is often released by governments, organizations, or researchers to promote transparency, innovation, and collaboration. \n",
    "- Open data can cover various domains, including government statistics, scientific research, environmental data, and more. \n",
    "- Examples open data sources include open government data portals, weather datasets, and publicly accessible geospatial information."
   ]
  },
  {
   "cell_type": "markdown",
   "id": "ec7a160b-e9ee-42ad-ac4e-3645f1a6c8c5",
   "metadata": {},
   "source": [
    "# OPEN DATA SOURCES\n",
    "- [Hong Kong Government Open Data](https://data.gov.hk/en/)\n",
    "- [US Government Open Data](https://data.gov/)\n",
    "- [UK Government Open Data](https://www.data.gov.uk/)\n",
    "- [EU Open Data](https://data.europa.eu/en)\n",
    "- [World Bank](https://data.worldbank.org/)\n",
    "- [Kaggle](https://www.kaggle.com/datasets)\n",
    "- [Harvard Dataverse](https://dataverse.harvard.edu/)"
   ]
  },
  {
   "cell_type": "markdown",
   "id": "645127a9-ae4f-48bf-af86-b5a533131f6a",
   "metadata": {},
   "source": [
    "# READING LIVE CSV DATA DIRECTLY FROM THE WEB"
   ]
  },
  {
   "cell_type": "markdown",
   "id": "d2fb1ab6-bd08-4495-8229-5981c09368ee",
   "metadata": {},
   "source": [
    "In this section, we will write codes to read **live** (the latest version) data from Hong Kong Gov Open Data portal.\n",
    "\n",
    "Search for **ugc** (university grant committee) on Government Open Data website\n",
    "\n",
    "[Click here to search dataset from ugc](https://data.gov.hk/en-datasets/search/ugc)\n",
    "[![search ugc](./images/data-gov-hk-search-ugc.png)](https://data.gov.hk/en-datasets/search/ugc)"
   ]
  },
  {
   "cell_type": "markdown",
   "id": "df61757d-7516-4e92-8f4b-08ea7ae20332",
   "metadata": {},
   "source": [
    "Importing pandas  \n",
    "```\n",
    "import requests\n",
    "import pandas as pd\n",
    "from io import StringIO\n",
    "```\n",
    "\n",
    "Declaring url - url means universal resource location, it actually means a web resource address   \n",
    "```\n",
    "url = 'https://res.data.gov.hk/api/get-download-file?name=https%3A%2F%2Fwww.ugcs.gov.hk%2Fdatagovhk%2FGraduates2(Eng).csv'\n",
    "```\n",
    "\n",
    "Create a HTTP request and store the response\n",
    "```\n",
    "response = requests.get(url)\n",
    "```\n",
    "\n",
    "Use pandas `read_csv()` function to read the response.text.  We have to convert it to `StringIO()` format first.  Compared to pre-download approach, with this approach, we will always get latest copy of date when we run the codes.\n",
    "```\n",
    "ugra = pd.read_csv(StringIO(response.text))\n",
    "```\n",
    "\n",
    "Explore the DataFrame of university graduate by using Pandas functions\n",
    "- `shape` attribute: `ugra.shape`\n",
    "- `columns` attribute: `ugra.shape`\n",
    "- `head()` function: `ugra.head()`\n",
    "- `tail()` function: `ugra.tail()`\n",
    "- `info()` function: `ugra.info()`\n",
    "- `describe()` function: `ugra.describe()`\n",
    "- `unique()` function: `ugra['Academic Year'].unique()`\n",
    "- filtering rows using `[ ]` operator: `ugra[ugra['Academic Year']=='2023/24']`\n",
    "- more complex filtering: `ugra[(ugra['Academic Year']=='2023/24') & (ugra['Level of Study']=='Taught Postgraduate')]`\n"
   ]
  },
  {
   "cell_type": "code",
   "execution_count": null,
   "id": "e1a1cd48-40b6-494b-a5bd-ac91187d8ea0",
   "metadata": {},
   "outputs": [],
   "source": [
    "import requests\n",
    "import pandas as pd\n",
    "from io import StringIO"
   ]
  },
  {
   "cell_type": "code",
   "execution_count": null,
   "id": "5f3c20b3-ec17-4e9b-a2a4-5f041cdec64b",
   "metadata": {},
   "outputs": [],
   "source": [
    "url = \"https://res.data.gov.hk/api/get-download-file?name=https%3A%2F%2Fwww.ugcs.gov.hk%2Fdatagovhk%2FGraduates2(Eng).csv\"\n",
    "url"
   ]
  },
  {
   "cell_type": "code",
   "execution_count": null,
   "id": "139f6123-7b56-4867-8eaa-ca6941ab922c",
   "metadata": {},
   "outputs": [],
   "source": [
    "response = requests.get(url)"
   ]
  },
  {
   "cell_type": "code",
   "execution_count": null,
   "id": "a59dc433-0710-4acc-91cd-8bb98cde5ee5",
   "metadata": {},
   "outputs": [],
   "source": [
    "ugra = pd.read_csv(StringIO(response.text))"
   ]
  },
  {
   "cell_type": "code",
   "execution_count": null,
   "id": "49446c26-5bd7-4fa8-8cd6-ad71ace5cbc7",
   "metadata": {
    "scrolled": true
   },
   "outputs": [],
   "source": [
    "ugra.head(2)"
   ]
  },
  {
   "cell_type": "code",
   "execution_count": null,
   "id": "d1b2d1c5-beda-4cba-b86b-f64a3d283d5c",
   "metadata": {},
   "outputs": [],
   "source": [
    "ugra.shape"
   ]
  },
  {
   "cell_type": "code",
   "execution_count": null,
   "id": "a63d2515-0e82-4ab3-a9e2-6cd09c380f4b",
   "metadata": {},
   "outputs": [],
   "source": [
    "ugra.columns"
   ]
  },
  {
   "cell_type": "code",
   "execution_count": null,
   "id": "33b4d239-0d47-4571-bd9b-cd72579016a9",
   "metadata": {
    "scrolled": true
   },
   "outputs": [],
   "source": [
    "ugra.info()"
   ]
  },
  {
   "cell_type": "code",
   "execution_count": null,
   "id": "2174959a-693e-491f-81e9-f002fcdef24e",
   "metadata": {
    "scrolled": true
   },
   "outputs": [],
   "source": [
    "ugra.describe()"
   ]
  },
  {
   "cell_type": "code",
   "execution_count": null,
   "id": "8caa6896-a18a-4fce-99f9-5fb21e95edb3",
   "metadata": {},
   "outputs": [],
   "source": [
    "ugra['Academic Year'].unique()"
   ]
  },
  {
   "cell_type": "code",
   "execution_count": null,
   "id": "6ad19c27-8995-40fb-ada2-d8c8cc189880",
   "metadata": {},
   "outputs": [],
   "source": [
    "ugra['Level of Study'].unique()"
   ]
  },
  {
   "cell_type": "code",
   "execution_count": null,
   "id": "135b0484-2f88-4db8-b6f7-25027225ac92",
   "metadata": {},
   "outputs": [],
   "source": [
    "ugra['Broad Academic Programme Category'].unique()"
   ]
  },
  {
   "cell_type": "code",
   "execution_count": null,
   "id": "be45750a-f7e5-492c-91e2-4396c2887852",
   "metadata": {},
   "outputs": [],
   "source": [
    "ugra['Sex'].unique()"
   ]
  },
  {
   "cell_type": "code",
   "execution_count": null,
   "id": "273e8973-1fbc-483e-a605-7bc0b9d35f18",
   "metadata": {
    "scrolled": true
   },
   "outputs": [],
   "source": [
    "ugra[ugra['Academic Year']=='2023/24']"
   ]
  },
  {
   "cell_type": "code",
   "execution_count": null,
   "id": "2f848988-41c4-4cb3-83b0-d3481a064412",
   "metadata": {
    "scrolled": true
   },
   "outputs": [],
   "source": [
    "ugra[(ugra['Academic Year']=='2023/24') & (ugra['Level of Study']=='Taught Postgraduate')]"
   ]
  },
  {
   "cell_type": "markdown",
   "id": "b02c7d8a-ff10-47b2-9344-33f5c3b7cb6c",
   "metadata": {},
   "source": [
    "# INTRODUCTION TO JSON FORMAT\n",
    "JSON (**J**ava**S**cript **O**bject **N**otation) is a lightweight data format used to store and exchange structured information in a human-readable way.  \n",
    "\n",
    "It is widely used in web applications, APIs, and data storage because of its simplicity and compatibility with most programming languages."
   ]
  },
  {
   "cell_type": "markdown",
   "id": "42aeafe8-23dd-42ad-908f-b03f4aaf766f",
   "metadata": {},
   "source": [
    "## Basic JSON Structure\n",
    "JSON is **complex** plain text data.  Unlike regular python variable being a simple data point (e.g. `age = 20`), JSON is NOT a single simple data point.  Instead it is a collection of data wrapped together an known as an **dictionary** (also widely referred as **object**).\n",
    "\n",
    "JSON object describe data in the manner of `key`-`value` pairs and supports various data types like **strings**, **numbers**, **arrays**, and **objects**. Yes, a JSON object can contain another JSON object and therefore JSON is **nested data structure**.  And this is why JSON is categorized as **semi-structured data** while CSV or EXCEL are usually **strict two-dimensional** data structure (contains **rows** with fixed number of **columns** for each row, widely known as **tabular data**).\n",
    "\n",
    "A `customer.json` JSON text file (You can find this file at our **data** sub-folder\n",
    "![JSON Example](./images/customer-json.png)\n",
    "\n",
    "In Jupyter Lab, if you double click to open it, it will give a prettified preview mode like below.\n",
    "![Prettified JSON](./images/json-jupyter-lab-preview.png)\n",
    "\n",
    "\n",
    "If you wish to open in source-code mode, **right-click** at the JSON file and choose **Open with -> Editor**.  And it will give you source code edit mode in Jupyter Lab windows like below.\n",
    "![Raw JSON](./images/json-source.png)\n",
    "\n",
    "**Reminder**: JSON file is tricky to edit.   \n",
    "\n",
    "JSON is very strict syntax, each the symbol (or pair of symbols) like `{ }`, `[ ]`, `,`, `:`,  `\" \"` is parts of the syntax and has it distinct meaning.  \n",
    "\n",
    "It's not right to use them interchangely."
   ]
  },
  {
   "cell_type": "markdown",
   "id": "886de369-b90b-423d-a3c8-78948b01fbef",
   "metadata": {},
   "source": [
    "## JSON Object\n",
    "An object is an **unordered** set of name/value pairs.  \n",
    "\n",
    "An object begins with `{` (left brace) and ends with `}` (right brace).  \n",
    "\n",
    "Each **name** is followed by `:` (colon, to seperate name from value) \n",
    "\n",
    "Each name/value pairs are separated by `,` (comma.  except the last pair). \n",
    "\n",
    "![JSON Object](https://www.json.org/img/object.png)"
   ]
  },
  {
   "attachments": {},
   "cell_type": "markdown",
   "id": "6df82982-2f0d-44b0-bcdc-1f9e8dca8bfc",
   "metadata": {},
   "source": [
    "## JSON Array\n",
    "\n",
    "An array is an **ordered** collection of values.  \n",
    "\n",
    "An array begins with `[` (left bracket) and ends with `]` (right bracket). \n",
    "\n",
    "Values are separated by `,` comma.\n",
    "\n",
    "An array can contain a collection of simple **value** or a colletion of **object**.\n",
    "\n",
    "![JSON Array](https://www.json.org/img/array.png)"
   ]
  },
  {
   "cell_type": "markdown",
   "id": "e4eabb77-2d1b-41e8-9b67-faee3ca57e29",
   "metadata": {},
   "source": [
    "## JSON Value\n",
    "\n",
    "A value can be a `string` (wrapped by a pair of **double quotes**, e.g.: `\"string\"`), or a `number`, or `true` or `false` or `null`, or an `object` or an `array`. \n",
    "\n",
    "These structures can be nested.\n",
    "\n",
    "![JSON Value](https://www.json.org/img/value.png)"
   ]
  },
  {
   "cell_type": "markdown",
   "id": "a3267179-9c7b-445b-ac6d-4bc0770a103b",
   "metadata": {},
   "source": [
    "## JSON Playground\n",
    "A online place for you to practice and have better understanding about JSON syntax. \n",
    "It will constantly check and prompt if your JSON codes are correct while you press your keystrokes so that once you miss just a `coma` you will immediately know.\n",
    "\n",
    "Click to open -> [JSON-LD Playground](https://json-ld.org/playground/)\n",
    "![JSON Playground Picture](./images/json-playground.png)"
   ]
  },
  {
   "cell_type": "markdown",
   "id": "4aa6c2b1-b3a3-4cad-8155-6509b9bb8ccb",
   "metadata": {},
   "source": [
    "# ACESSING JSON DATA and NESTED DATA\n",
    "In this section, we will load a local json file (you will find it at **.\\data\\customer.json**)\n",
    "\n",
    "We need to import `json` package to handle json data  \n",
    "```\n",
    "import json\n",
    "```\n",
    "\n",
    "\n",
    "Use the file `open()` function to open a local file and use to `json.load()` to load the data as python `dict` type.  And make the json object accessible in the name of `customer`\n",
    "```\n",
    "with open('./data/customer.json', 'r') as file:\n",
    "    customer = json.load(file)\n",
    "customer\n",
    "```\n",
    "  \n",
    "To prettify the object display with proper indentation/alignment\n",
    "```\n",
    "print(json.dumps(customer, indent=4))\n",
    "```\n",
    "\n",
    "Use `[ ]` operator together with key (in string type and therefore must be in `' '` (single quoted) or `\" \"` (double quoted)\n",
    "```\n",
    "customer['firstName']\n",
    "```\n",
    "**Reminder**:   \n",
    "- You can use `Tab` key to prompt/complete long **key**\n",
    "- key is case-sentive: `'firstName'` is not the same to `'firstname'`"
   ]
  },
  {
   "cell_type": "markdown",
   "id": "725341b3-17dc-4e39-9d8d-65e2c27861ea",
   "metadata": {},
   "source": [
    "## import `json` package/library"
   ]
  },
  {
   "cell_type": "code",
   "execution_count": null,
   "id": "ede01563-4d3f-45fe-80fc-727aaadf66d6",
   "metadata": {},
   "outputs": [],
   "source": [
    "import json"
   ]
  },
  {
   "cell_type": "markdown",
   "id": "e313b560-542d-4ff2-b5d0-90bf8cb8ad37",
   "metadata": {},
   "source": [
    "## open file : `customer.json`"
   ]
  },
  {
   "cell_type": "code",
   "execution_count": null,
   "id": "e23c3907-261f-40fa-bf9e-59c11d8ee3a4",
   "metadata": {},
   "outputs": [],
   "source": [
    "with open('./data/customer.json', 'r') as file:\n",
    "    customer = json.load(file)\n",
    "print(customer)"
   ]
  },
  {
   "cell_type": "markdown",
   "id": "56372d97-aac6-4cb6-a05c-7583a98c1e73",
   "metadata": {},
   "source": [
    "## Making reference to `customer` object"
   ]
  },
  {
   "cell_type": "code",
   "execution_count": null,
   "id": "d2039c1b-d67c-4c66-a866-5dbe6c01f265",
   "metadata": {},
   "outputs": [],
   "source": [
    "customer"
   ]
  },
  {
   "cell_type": "markdown",
   "id": "7529e23c-3848-4795-be90-2fe97d3a1230",
   "metadata": {},
   "source": [
    "---\n",
    "**use `print()` function to display `customer` object**"
   ]
  },
  {
   "cell_type": "code",
   "execution_count": null,
   "id": "a5a86e9c-aef8-4dd3-8d44-4ac8dfa2e3c3",
   "metadata": {},
   "outputs": [],
   "source": [
    "print(customer)"
   ]
  },
  {
   "cell_type": "markdown",
   "id": "d937a469-970f-45a5-89f8-f7e0f6b27aaf",
   "metadata": {},
   "source": [
    "---\n",
    "**use `json.dump()` function with `indent` parameter to print out nicely**"
   ]
  },
  {
   "cell_type": "code",
   "execution_count": null,
   "id": "97d9539e-2218-4469-bd99-d84fce990590",
   "metadata": {},
   "outputs": [],
   "source": [
    "print(json.dumps(customer, indent=4))"
   ]
  },
  {
   "cell_type": "markdown",
   "id": "25275cea-5f75-434d-999d-9d0de79268f0",
   "metadata": {},
   "source": [
    "---\n",
    "**check the type of `customer`**"
   ]
  },
  {
   "cell_type": "code",
   "execution_count": null,
   "id": "b3c03e05-57b0-4212-bb17-1db6ff091d09",
   "metadata": {},
   "outputs": [],
   "source": [
    "type(customer)"
   ]
  },
  {
   "cell_type": "markdown",
   "id": "c1ca875c-b177-413d-bf60-f2becf58ad0b",
   "metadata": {},
   "source": [
    "## accessing string attribute: using `firstName` key\n",
    "**reminder**: key is case sensitive"
   ]
  },
  {
   "cell_type": "code",
   "execution_count": null,
   "id": "69eb215e-9c4d-439c-93a7-1708e7573a00",
   "metadata": {},
   "outputs": [],
   "source": [
    "customer[\"firstName\"]"
   ]
  },
  {
   "cell_type": "markdown",
   "id": "4cc0bc9f-bb35-4a75-b7a3-3a9e59afe3a2",
   "metadata": {},
   "source": [
    "The cell below will produce an KeyError which complains the key is NOT found."
   ]
  },
  {
   "cell_type": "code",
   "execution_count": null,
   "id": "edac108c-00a3-452e-835d-590cbc7b899b",
   "metadata": {},
   "outputs": [],
   "source": [
    "customer[\"firstname\"] # key is case sensitive, this will produce an error"
   ]
  },
  {
   "cell_type": "markdown",
   "id": "eee5bb0c-b3ed-465f-9511-b765e7d39893",
   "metadata": {},
   "source": [
    "---\n",
    "**check type using `type()` function**\n",
    "rememember: in most case, codes crash due to type-mismatching or type error"
   ]
  },
  {
   "cell_type": "code",
   "execution_count": null,
   "id": "1049af99-6151-4d96-9beb-aad291665bde",
   "metadata": {},
   "outputs": [],
   "source": [
    "type(customer[\"firstName\"])"
   ]
  },
  {
   "cell_type": "markdown",
   "id": "0172c17d-5101-4dc5-967b-7ff72b9d7f61",
   "metadata": {},
   "source": [
    "---\n",
    "**since `firstName` is a `str` type, you can call any functions that are associated to string**  \n",
    "such as: `upper()`, `lower()`, `len()`"
   ]
  },
  {
   "cell_type": "code",
   "execution_count": null,
   "id": "0a526993-c8f6-4f7f-96b9-21fa916b638e",
   "metadata": {},
   "outputs": [],
   "source": [
    "customer[\"firstName\"].upper()"
   ]
  },
  {
   "cell_type": "code",
   "execution_count": null,
   "id": "f1f8e5c4-8d7a-48db-8705-5c0be140bc69",
   "metadata": {},
   "outputs": [],
   "source": [
    "len(customer[\"firstName\"])"
   ]
  },
  {
   "cell_type": "markdown",
   "id": "4269d1fe-48c7-4800-966a-017c1abac880",
   "metadata": {},
   "source": [
    "## accessing number attribute: using `age` key"
   ]
  },
  {
   "cell_type": "code",
   "execution_count": null,
   "id": "bb2ebbff-ee4a-4980-955c-d54c1a5dea8b",
   "metadata": {},
   "outputs": [],
   "source": [
    "customer['age']"
   ]
  },
  {
   "cell_type": "markdown",
   "id": "815d3377-ee22-48d4-b2cc-e4d7bef92a71",
   "metadata": {},
   "source": [
    "---\n",
    "**check type**"
   ]
  },
  {
   "cell_type": "code",
   "execution_count": null,
   "id": "cf659281-2590-4639-85d7-8c54b5a7494d",
   "metadata": {},
   "outputs": [],
   "source": [
    "type(customer['age'])"
   ]
  },
  {
   "cell_type": "markdown",
   "id": "5d23efe7-c77e-4ccb-92b9-c0d9767deca9",
   "metadata": {},
   "source": [
    "---\n",
    "**since `age` is a number, you can do any operations or caluculation that you can do to a number**  \n",
    "e.g.: `+`, `-`, `*`, `/`, `%`, `>`, `<`, `>=`, `<=`, `==`, `!=`"
   ]
  },
  {
   "cell_type": "code",
   "execution_count": null,
   "id": "14a2f64f-db42-49a0-bfa5-24a1f3fb27dc",
   "metadata": {},
   "outputs": [],
   "source": [
    "customer['age'] + 10"
   ]
  },
  {
   "cell_type": "code",
   "execution_count": null,
   "id": "e307fccc-b94d-4f24-b76a-ec2a2cd07366",
   "metadata": {},
   "outputs": [],
   "source": [
    "customer['age'] >18"
   ]
  },
  {
   "cell_type": "code",
   "execution_count": null,
   "id": "bdeac29d-3213-4dac-b119-50f8812988d5",
   "metadata": {},
   "outputs": [],
   "source": [
    "customer['age'] ==18"
   ]
  },
  {
   "cell_type": "code",
   "execution_count": null,
   "id": "b77e61ba-c90c-49e2-ac62-6ddad763f627",
   "metadata": {},
   "outputs": [],
   "source": [
    "customer['age'] >=18"
   ]
  },
  {
   "cell_type": "code",
   "execution_count": null,
   "id": "c88b0060-6418-42aa-a981-5731f72349b4",
   "metadata": {},
   "outputs": [],
   "source": [
    "customer['age'] !=18"
   ]
  },
  {
   "cell_type": "markdown",
   "id": "61480609-7008-4da1-838d-f9588537e538",
   "metadata": {},
   "source": [
    "## acessing `list` attribute: using `tel` key**  "
   ]
  },
  {
   "cell_type": "code",
   "execution_count": null,
   "id": "2eeb7f42-015e-4014-8469-898de9b49a23",
   "metadata": {},
   "outputs": [],
   "source": [
    "customer['tel']"
   ]
  },
  {
   "cell_type": "markdown",
   "id": "4beadc72-a928-40ef-b465-75823a02378d",
   "metadata": {},
   "source": [
    "--- \n",
    "**check type**"
   ]
  },
  {
   "cell_type": "code",
   "execution_count": null,
   "id": "480fcd1e-765c-4356-83db-676f78a232cb",
   "metadata": {
    "scrolled": true
   },
   "outputs": [],
   "source": [
    "type(customer['tel'])"
   ]
  },
  {
   "cell_type": "markdown",
   "id": "75e62a92-a3b3-470a-807e-478a43a995d7",
   "metadata": {},
   "source": [
    "---\n",
    "**accessing an element in list**  \n",
    "Use `[ ]` operator together with index number (NOT string) to refer to the position of element in the list  \n",
    "Python is 0-based indexing (means first element is at index `0`  \n",
    "**correct**: `customer['tel'][0]`  \n",
    "**wrong**: `customer['tel'][\"0\"]`  "
   ]
  },
  {
   "cell_type": "code",
   "execution_count": null,
   "id": "2baa98f9-2cfb-4b3d-8d3d-c21f7a202c03",
   "metadata": {},
   "outputs": [],
   "source": [
    "customer['tel'][0]"
   ]
  },
  {
   "cell_type": "code",
   "execution_count": null,
   "id": "1d78bd07-e324-4db8-a0d4-32698ca8ff7c",
   "metadata": {},
   "outputs": [],
   "source": [
    "customer['tel'][1]"
   ]
  },
  {
   "cell_type": "markdown",
   "id": "380d7e5c-e616-4816-95d9-89b6f388c58f",
   "metadata": {},
   "source": [
    "below will generate an erro as `tel` is a list of number  \n",
    "and therefore an index number (**NOT string**) is expected to tell which tel number you want (0-based)"
   ]
  },
  {
   "cell_type": "code",
   "execution_count": null,
   "id": "c30ee2b3-c3d0-4075-98a4-90cd921f3036",
   "metadata": {},
   "outputs": [],
   "source": [
    "customer['tel'][\"0']"
   ]
  },
  {
   "cell_type": "code",
   "execution_count": null,
   "id": "87d5e7a9-033e-48ae-8fc7-f1582ff01e8b",
   "metadata": {},
   "outputs": [],
   "source": [
    "type(customer['tel'][0])"
   ]
  },
  {
   "cell_type": "markdown",
   "id": "007e1c6d-8ea0-4dbe-be23-ef72882df1e6",
   "metadata": {},
   "source": [
    "## acessing `object` attribute: using `address` key\n",
    "Remember: \n",
    "- JSON is nested data structure, we can have object inside object inside object.  You just need to use multiple level of `[ ]` operator together with the right `key' to access.\n",
    "- key is always indentified by `string` for object\n",
    "- To beginner, you can access the data level-by-level, don't type long statement for multiple level if you aren't very confident"
   ]
  },
  {
   "cell_type": "code",
   "execution_count": null,
   "id": "7994b1e0-6a6a-46c3-b1c2-168cf113e0a2",
   "metadata": {},
   "outputs": [],
   "source": [
    "customer['address']"
   ]
  },
  {
   "cell_type": "code",
   "execution_count": null,
   "id": "107d3618-bbc9-427f-adb9-031b3dbae2f7",
   "metadata": {},
   "outputs": [],
   "source": [
    "print(json.dumps(customer['address'], indent=4))"
   ]
  },
  {
   "cell_type": "markdown",
   "id": "7aaa1fbc-e9b3-4e11-a05d-282f0d9d8878",
   "metadata": {},
   "source": [
    "---\n",
    "**check type**"
   ]
  },
  {
   "cell_type": "code",
   "execution_count": null,
   "id": "a5f0e940-6749-4358-a4e7-2e0aa58b7429",
   "metadata": {},
   "outputs": [],
   "source": [
    "type(customer['address'])"
   ]
  },
  {
   "cell_type": "code",
   "execution_count": null,
   "id": "3a2901ce-ef93-4f71-93a3-9cf9336885d3",
   "metadata": {
    "scrolled": true
   },
   "outputs": [],
   "source": [
    "customer['address']['building']"
   ]
  },
  {
   "cell_type": "markdown",
   "id": "b90c21cb-f13b-40ac-8d41-45eaae800462",
   "metadata": {},
   "source": [
    "---\n",
    "**Use formatted string: `f\" \"` for together with `print()` function to display complex  sentence that includes values from `customer` \n",
    "object**  \n",
    "We use `{ }` to include variable's value in a formatted string"
   ]
  },
  {
   "cell_type": "code",
   "execution_count": null,
   "id": "bbe8f86a-a731-43bc-b62f-569ee57c7226",
   "metadata": {},
   "outputs": [],
   "source": [
    "print(f\"The customer is {customer['firstName']} {customer['lastName']} and contact phone number is {customer['tel'][0]}.\")"
   ]
  },
  {
   "cell_type": "markdown",
   "id": "6fb18cf0-d3a2-4e2e-90e0-9f4353de5ff7",
   "metadata": {},
   "source": [
    "# READING JSON DATA DIRECTLY FROM THE WEB\n",
    "We usually read JSON data from the original web data source.  And therefore we will need a library named `requests` to handle HTTP request.\n",
    "\n",
    "Below is a simple diagram that shows how HTTP protocol works\n",
    "![HTTP Protocol](https://miro.medium.com/v2/resize:fit:853/1*8-fT6K1o6nHiBRxKppcqOg.png)"
   ]
  },
  {
   "cell_type": "markdown",
   "id": "4f720013-e16f-4b92-9f70-9e51bb4c4677",
   "metadata": {},
   "source": [
    "## Import `request` library\n",
    "\n",
    "Import requests library to handle HTTP (HpyerText Transfer Protocol, a web protocol)\n",
    "```\n",
    "import requests\n",
    "```"
   ]
  },
  {
   "cell_type": "code",
   "execution_count": null,
   "id": "bbd616d0-b9e3-4bbe-bf53-cb14c37657e3",
   "metadata": {},
   "outputs": [],
   "source": [
    "import requests"
   ]
  },
  {
   "cell_type": "markdown",
   "id": "6b56f7ba-a9c9-47a0-b23e-b189b4fcd47d",
   "metadata": {},
   "source": [
    "## Specify the url of your data source\n",
    "- url (uniform resource locator) is the web address of the target data source (open data or private data)  \n",
    "- Tt's a pubicly accessible web resource that DOESN'T return regular webpage to view in a web browser, but for application programming purpose\n",
    "- If it's open data, it requires NO authentication.  If it's private data, it usually requires account pre-registration and an API key is required to access the data \n",
    "- Returned data is mostly in JSON or XML formats (Choose JSON format whenever you can as JSON data is more popular nowadays and is easier to process in programming)\n",
    "- JSON data (and XML data) are NOT structured, so one CANNNOT use pandas `DataFrame` directly to store/represent online open data\n",
    "\n",
    "Below is an url example.  It's simple a string that you can copy and paste to a browser address bar and it will show up data (usually in JSON).  You can install **Firefox** browser to view JSON data link in a much organized format as Firefox is JSON friendly.\n",
    "\n",
    "```\n",
    "url = \"https://jsonplaceholder.typicode.com/users\"\n",
    "```\n",
    "\n",
    "Click [here](https://www.mozilla.org/en-US/firefox/new/?xv=refresh-new&v=b) to download and install Firefox\n",
    "![Firefox Logo](https://firefox-dev.tools/photon/images/product-identity-assets/firefox-dont-1.png)\n",
    "\n",
    "\n",
    "In the above line of code, we use a variable named `url` to store the address and refer to it in later coding."
   ]
  },
  {
   "cell_type": "code",
   "execution_count": null,
   "id": "60b3b6d9-21ce-48bc-a461-64b8c017f6e2",
   "metadata": {},
   "outputs": [],
   "source": [
    "url = \"https://jsonplaceholder.typicode.com/users\""
   ]
  },
  {
   "cell_type": "markdown",
   "id": "850f2f21-af86-479c-8b97-9da61c69743e",
   "metadata": {},
   "source": [
    "## Fetch the url using `requests.get()` function and store it as response data named `response`\n",
    "```\n",
    "response = requests.get(url)\n",
    "```\n",
    "\n",
    "Parse the response data to JSON format by calling built-in `json()` function\n",
    "```\n",
    "json_data = response.json()\n",
    "```\n",
    "\n",
    "Display JSON content using `json.dumps()` together with `print()` function"
   ]
  },
  {
   "cell_type": "code",
   "execution_count": null,
   "id": "1a568bb9-4d26-4062-bb95-ae947b76aee5",
   "metadata": {},
   "outputs": [],
   "source": [
    "response = requests.get(url)"
   ]
  },
  {
   "cell_type": "code",
   "execution_count": null,
   "id": "831ae591-3384-40c9-bf12-f96ffca5ac21",
   "metadata": {},
   "outputs": [],
   "source": [
    "type(response)"
   ]
  },
  {
   "cell_type": "code",
   "execution_count": null,
   "id": "739f1d5b-b978-4a06-84dc-5ff62bd36bdc",
   "metadata": {},
   "outputs": [],
   "source": [
    "users = response.json()"
   ]
  },
  {
   "cell_type": "code",
   "execution_count": null,
   "id": "37d3738e-f805-4151-9a61-9d7e20f5a972",
   "metadata": {
    "scrolled": true
   },
   "outputs": [],
   "source": [
    "print(users)"
   ]
  },
  {
   "cell_type": "code",
   "execution_count": null,
   "id": "c9f6e4ba-62a3-4c87-9377-ede5a90bb5db",
   "metadata": {},
   "outputs": [],
   "source": [
    "print(json.dumps(users, indent=4))"
   ]
  },
  {
   "cell_type": "code",
   "execution_count": null,
   "id": "cbddccbd-9dd5-4ced-b4e2-54dcf339fc4b",
   "metadata": {},
   "outputs": [],
   "source": [
    "users[0:2]"
   ]
  },
  {
   "cell_type": "code",
   "execution_count": null,
   "id": "eaf939c8-345f-4fe3-b585-1813a13afd23",
   "metadata": {},
   "outputs": [],
   "source": [
    "users[0]"
   ]
  },
  {
   "cell_type": "code",
   "execution_count": null,
   "id": "e46fc03c-7a45-48fc-87f2-2475b3320219",
   "metadata": {},
   "outputs": [],
   "source": [
    "users[0]['name']"
   ]
  },
  {
   "cell_type": "code",
   "execution_count": null,
   "id": "4fa67727-fda1-4ec2-81a4-6cf33710428d",
   "metadata": {},
   "outputs": [],
   "source": [
    "users[0]['email']"
   ]
  },
  {
   "cell_type": "code",
   "execution_count": null,
   "id": "8fbb344d-42d6-4806-9448-3ac87fa57e6e",
   "metadata": {},
   "outputs": [],
   "source": [
    "users[0]['company']"
   ]
  },
  {
   "cell_type": "code",
   "execution_count": null,
   "id": "485d1688-e70c-4f8b-b28a-8c2d7f3938c2",
   "metadata": {},
   "outputs": [],
   "source": [
    "users[0]['company']['name']"
   ]
  },
  {
   "cell_type": "code",
   "execution_count": null,
   "id": "d579c4a9-50db-420e-ac8d-64df8076bf42",
   "metadata": {},
   "outputs": [],
   "source": []
  },
  {
   "cell_type": "markdown",
   "id": "3bec31d4-3f9d-431d-87f2-5910068af21d",
   "metadata": {},
   "source": [
    "# Commercial Data API\n",
    "A Data **API** (**A**pplication **P**rogramming **I**nterface) allows applications to access, retrieve, and manipulate structured data from various sources, such as databases, cloud storage, or external data services. \n",
    "\n",
    "It acts as a bridge between users or applications and data repositories, enabling seamless interaction without requiring direct database access.\n",
    "\n",
    "Key Features of a Data API\n",
    "- **Standardized Access** – Provides a consistent way to query and retrieve data.\n",
    "- **RESTful or GraphQL-Based** – Commonly uses REST or GraphQL protocols for efficient data exchange.\n",
    "- **Authentication & Security** – Ensures data protection via authentication methods like API keys, OAuth, or tokens.\n",
    "- **Data Filtering & Querying** – Supports filtering, pagination, and query customization.\n",
    "- **Interoperability** – Allows different applications and platforms to integrate and interact with shared data."
   ]
  },
  {
   "cell_type": "markdown",
   "id": "29b524fe-a3c7-4f7e-ac9a-f6b004750378",
   "metadata": {},
   "source": [
    "## Some Commercial Data API\n",
    "Commercial data APIs provide businesses and developers with access to structured or semi-structured, real-time or historical data for various industries.   \n",
    "These APIs are often subscription-based or require payment for premium data access.\n",
    "\n",
    "Some Examples In the Market\n",
    "- [Alpha Vantage](https://www.alphavantage.co/) – Provides stock market data, financial indicators, and cryptocurrency trends.\n",
    "- [Futu](https://openapi.futunn.com/futu-api-doc/en/intro/intro.html) - penAPI provides wide varieties of market data and trading services for your programmed trading to meet the needs of every developer's programmed trading and help your Quant dreams.\n",
    "- [OpenWeather](https://openweathermap.org/api) - fast and easy-to-work weather APIs\n",
    "- [exchangerates](https://exchangeratesapi.io/) - Historical & Real-time Exchange Rates & Currency Conversion for Business\n"
   ]
  },
  {
   "cell_type": "markdown",
   "id": "c13389a3-431f-42f4-b5ac-c2b11dbc4d33",
   "metadata": {},
   "source": [
    "## Consuming Currency Exchange Rates API\n",
    "In this section, we will write code to retrieive currency exchange rate API.  \n",
    "\n",
    "Go to [https://exchangeratesapi.io/](https://exchangeratesapi.io/) to create a free account and copy your personal **API Key** in your account setting for later use.  You won't be able to connect to the API without a valid API key.\n",
    "\n",
    "Below is the API documentation page.  \n",
    "[https://exchangeratesapi.io/documentation/](https://exchangeratesapi.io/documentation/)\n"
   ]
  },
  {
   "cell_type": "code",
   "execution_count": null,
   "id": "30ff77db-c4ef-46cf-b001-0c18e958d138",
   "metadata": {},
   "outputs": [],
   "source": [
    "import requests"
   ]
  },
  {
   "cell_type": "code",
   "execution_count": null,
   "id": "49aa5adf-9c6d-4680-bf92-eee4414746af",
   "metadata": {},
   "outputs": [],
   "source": [
    "ex_api_key = 'Put-Your-Key-Here'"
   ]
  },
  {
   "cell_type": "code",
   "execution_count": null,
   "id": "bdca0300-4a1a-41f8-93e0-6fa70815f1bd",
   "metadata": {},
   "outputs": [],
   "source": [
    "url = f\"https://api.exchangeratesapi.io/v1/latest?access_key={ex_api_key}\"\n",
    "url"
   ]
  },
  {
   "cell_type": "markdown",
   "id": "8a7e0761-efcb-453e-bb94-f245a46c7ee5",
   "metadata": {},
   "source": [
    "## Test your URL in browser before you moving on writing request codes\n",
    "\n",
    "Sometime, you might mistakenly configure your API url with invalid parameters.  Test the url link in browser to double confirm it's correct."
   ]
  },
  {
   "cell_type": "code",
   "execution_count": null,
   "id": "403e41c4-2eb8-44f7-8884-585faa12337d",
   "metadata": {},
   "outputs": [],
   "source": [
    "url"
   ]
  },
  {
   "cell_type": "code",
   "execution_count": null,
   "id": "0db2bb86-540a-4cfc-bdb2-8901ca9fa526",
   "metadata": {},
   "outputs": [],
   "source": [
    "ex_response = requests.get(url)"
   ]
  },
  {
   "cell_type": "code",
   "execution_count": null,
   "id": "6b2a7db2-2330-4bab-a670-60767abd18a8",
   "metadata": {},
   "outputs": [],
   "source": [
    "ex_data = ex_response.json()\n",
    "ex_data"
   ]
  },
  {
   "cell_type": "markdown",
   "id": "bf780e9f-c91d-476b-951d-4b54e5c59e22",
   "metadata": {},
   "source": [
    "## Retrieve Data\n",
    "\n",
    "Use `[ ]` operator and correct nested key to retrieve HKD rate from the exchange dictionary `ex_data`.  \n",
    "In this case, we need to use two keys in nested way and they are `rates` and `HKD`"
   ]
  },
  {
   "cell_type": "code",
   "execution_count": null,
   "id": "762c6daf-27d1-4c72-8c57-1dd70cd3a590",
   "metadata": {},
   "outputs": [],
   "source": [
    "hkd_rate = ex_data['rates']['HKD']\n",
    "hkd_rate"
   ]
  },
  {
   "cell_type": "markdown",
   "id": "fb1d4015-7af5-488f-b537-8ffdac831318",
   "metadata": {},
   "source": [
    "## Use the live exchange rate for sales amount calculation\n",
    "\n",
    "Assume we have list of `product_retail_price` in EURO currency and we won't be change to HKD so that user from HKD region can have an instant referencing while buying.  \n",
    "\n",
    "First we need to import numpy\n",
    "```\n",
    "import numpy as np\n",
    "```"
   ]
  },
  {
   "cell_type": "code",
   "execution_count": null,
   "id": "b7eb9b36-7228-4fbb-904f-336b086aa0bf",
   "metadata": {},
   "outputs": [],
   "source": [
    "import numpy as np"
   ]
  },
  {
   "cell_type": "markdown",
   "id": "8cd5fad3-eba5-41fe-8f79-f432afd0b2de",
   "metadata": {},
   "source": [
    "**Let's check numpy's version**  \n",
    "`np.__version__`"
   ]
  },
  {
   "cell_type": "code",
   "execution_count": null,
   "id": "ff6bae71-aba9-411f-8c07-e617aeb9459c",
   "metadata": {},
   "outputs": [],
   "source": [
    "np.__version__"
   ]
  },
  {
   "cell_type": "code",
   "execution_count": null,
   "id": "2e9e2c17-f54d-4ee8-89c3-987de33d55af",
   "metadata": {},
   "outputs": [],
   "source": [
    "product_retail_price_euro = np.array([100.0, 200.0, 300.0, 400.0, 500.0, 600.0])\n",
    "product_retail_price_euro"
   ]
  },
  {
   "cell_type": "code",
   "execution_count": null,
   "id": "b4f04d48-b548-4c7a-b375-d34b988620ad",
   "metadata": {},
   "outputs": [],
   "source": [
    "type(product_retail_price_euro)"
   ]
  },
  {
   "cell_type": "code",
   "execution_count": null,
   "id": "84ea3f7a-b5bb-44e1-9832-8c3b5446cc62",
   "metadata": {},
   "outputs": [],
   "source": [
    "product_retail_price_euro = product_retail_price_euro * hkd_rate\n",
    "product_retail_price_euro"
   ]
  },
  {
   "cell_type": "markdown",
   "id": "05df3c69-2c3f-4935-8fe3-16986e44025e",
   "metadata": {},
   "source": [
    "# EXERCISE 3: CONSUMING HK GOV OPEN DATA\n",
    "This exercise weighs **10 marks**.\n",
    "\n",
    "Go to Moodel and download the **Exercise 3 Description** to understand the requirements."
   ]
  },
  {
   "cell_type": "code",
   "execution_count": null,
   "id": "bd00e259-5d1d-4eaa-93db-9497b907187e",
   "metadata": {},
   "outputs": [],
   "source": []
  }
 ],
 "metadata": {
  "kernelspec": {
   "display_name": "Python [conda env:base] *",
   "language": "python",
   "name": "conda-base-py"
  },
  "language_info": {
   "codemirror_mode": {
    "name": "ipython",
    "version": 3
   },
   "file_extension": ".py",
   "mimetype": "text/x-python",
   "name": "python",
   "nbconvert_exporter": "python",
   "pygments_lexer": "ipython3",
   "version": "3.12.4"
  },
  "toc": {
   "base_numbering": 1,
   "nav_menu": {},
   "number_sections": true,
   "sideBar": true,
   "skip_h1_title": false,
   "title_cell": "Table of Contents",
   "title_sidebar": "Contents",
   "toc_cell": false,
   "toc_position": {},
   "toc_section_display": true,
   "toc_window_display": true
  }
 },
 "nbformat": 4,
 "nbformat_minor": 5
}
