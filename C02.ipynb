{
 "cells": [
  {
   "cell_type": "markdown",
   "metadata": {},
   "source": [
    "---\n",
    "# INTERMEDIATE PYTHON PROGRAMMING\n",
    "# CHAPTER 2 - Using Pandas `DataFrame`\n",
    "---\n"
   ]
  },
  {
   "cell_type": "markdown",
   "metadata": {},
   "source": [
    "# USING PANDAS\n",
    "- `pandas` is a fast, powerful, flexible and easy to use open source data analysis and manipulation add-on for Python\n",
    "- `pandas` is built on top of `numpy` and therefore quite often these two are used together."
   ]
  },
  {
   "cell_type": "markdown",
   "metadata": {},
   "source": [
    "## Import `pandas`\n",
    "To import `numpy` and `pandas`\n",
    "\n",
    "**import numpy using alias `np`**  \n",
    "`import numpy as np`\n",
    "\n",
    "**import pandas using alias `pd`**  \n",
    "`import pandas as pd`\n",
    "\n"
   ]
  },
  {
   "cell_type": "code",
   "execution_count": null,
   "metadata": {},
   "outputs": [],
   "source": []
  },
  {
   "cell_type": "code",
   "execution_count": null,
   "metadata": {},
   "outputs": [],
   "source": []
  },
  {
   "cell_type": "markdown",
   "metadata": {},
   "source": [
    "## Check Installed Version\n",
    "\n",
    "To check the version of `numpy` and `pandas`, type the following commands\n",
    "\n",
    "```\n",
    "print(np.__version__)\n",
    "print(pd.__version__)\n",
    "```"
   ]
  },
  {
   "cell_type": "code",
   "execution_count": null,
   "metadata": {},
   "outputs": [],
   "source": []
  },
  {
   "cell_type": "code",
   "execution_count": null,
   "metadata": {},
   "outputs": [],
   "source": []
  },
  {
   "cell_type": "markdown",
   "metadata": {},
   "source": [
    "## Some Handy Features\n",
    "\n",
    "Some quickhands to speed up your code typing\n",
    "\n",
    "**Creating array**\n",
    "\n",
    "The following statement involves too many special characters to type and therefore it will be slow to enter.\n",
    "\n",
    "```\n",
    "l = ['A', 'B', 'C', 'D', 'E']\n",
    "``` \n",
    "\n",
    "Using `list()` function would pick a character a time and make it a independant list member.\n",
    "```\n",
    "l = list('ABCDE')\n",
    "```\n",
    "\n",
    "Use `split()` function to separate strings with SPACES in-between\n",
    "```\n",
    "l = 'A B C D E'.split()\n",
    "```\n",
    "\n",
    "**Generates a range of dates**:\n",
    "```\n",
    "dates = pd.date_range('20210101', periods=7) \n",
    "type(dates) # returns pandas.core.indexes.datetimes.DatetimeIndex\n",
    "```"
   ]
  },
  {
   "cell_type": "code",
   "execution_count": null,
   "metadata": {},
   "outputs": [],
   "source": []
  },
  {
   "cell_type": "code",
   "execution_count": null,
   "metadata": {},
   "outputs": [],
   "source": []
  },
  {
   "cell_type": "code",
   "execution_count": null,
   "metadata": {},
   "outputs": [],
   "source": []
  },
  {
   "cell_type": "code",
   "execution_count": null,
   "metadata": {},
   "outputs": [],
   "source": []
  },
  {
   "cell_type": "code",
   "execution_count": null,
   "metadata": {},
   "outputs": [],
   "source": []
  },
  {
   "cell_type": "markdown",
   "metadata": {},
   "source": [
    "## Use `type()` function to check type\n",
    "\n",
    "**Remember**: you can use `type()` function to verify the type of a variable or the returned object from a function call.\n",
    "\n",
    "**Example**:\n",
    "```\n",
    "type(dates)\n",
    "```"
   ]
  },
  {
   "cell_type": "code",
   "execution_count": null,
   "metadata": {},
   "outputs": [],
   "source": []
  },
  {
   "cell_type": "code",
   "execution_count": null,
   "metadata": {},
   "outputs": [],
   "source": []
  },
  {
   "cell_type": "markdown",
   "metadata": {},
   "source": [
    "# DELETE VARIABLE FROM KERNEL\n",
    "\n",
    "Use the following command to delete variable from environment\n",
    "\n",
    "`del varaialb_name`\n",
    "\n",
    "e.g.:\n",
    "\n",
    "```\n",
    "greeting = \"hello from Sunny\"\n",
    "print(greeting)\n",
    "del greeting\n",
    "```\n",
    "\n",
    "After deleting, you won't be able to access `greeting` variable\n",
    "```\n",
    "print(greeting) # since greeting is deleted, this line will throw an error\n",
    "\n",
    "```"
   ]
  },
  {
   "cell_type": "code",
   "execution_count": null,
   "metadata": {},
   "outputs": [],
   "source": []
  },
  {
   "cell_type": "code",
   "execution_count": null,
   "metadata": {},
   "outputs": [],
   "source": []
  },
  {
   "cell_type": "code",
   "execution_count": null,
   "metadata": {},
   "outputs": [],
   "source": []
  },
  {
   "cell_type": "markdown",
   "metadata": {},
   "source": [
    "# USING PANDAS `DataFrame`\n",
    "\n",
    "A `DataFrame` is a two dimensional data structure.  \n",
    "\n",
    "It's one of the most widely used type for data science.\n",
    "\n",
    "**To declare a dataframe, use `pd.DataFrame()` function**:\n",
    "```\n",
    "students = pd.DataFrame({\n",
    "    \"StudentID\": [\"1001\", \"1002\", \"1003\", \"1004\", \"1005\"],\n",
    "    \"Name\": [\"Andy\", \"Ben\", \"Cathy\", \"Debra\", \"Eva\"],\n",
    "    \"Age\": [20, 22, 23, 22, 21],\n",
    "    \"Sex\": [\"male\", \"male\", \"female\", \"female\", \"female\"],\n",
    "    \"Year\": [1, 3, 4, 3, 2]\n",
    "})\n",
    "students.set_index('StudentID', inplace=True)\n",
    "```\n",
    "\n",
    "**Check the type by using `type()` function**\n",
    "```\n",
    "print(type(students)) # it returns pandas.core.frame.DataFrame\n",
    "\n",
    "```\n",
    "**In real situation**\n",
    "- It's NOT commont to load data like above.  This is justa a easy example of `DataFrame`\n",
    "- Instead, we usually import data from external files like **csv**, **excel**, **json**"
   ]
  },
  {
   "cell_type": "code",
   "execution_count": null,
   "metadata": {},
   "outputs": [],
   "source": []
  },
  {
   "cell_type": "code",
   "execution_count": null,
   "metadata": {},
   "outputs": [],
   "source": []
  },
  {
   "cell_type": "code",
   "execution_count": null,
   "metadata": {},
   "outputs": [],
   "source": []
  },
  {
   "cell_type": "markdown",
   "metadata": {},
   "source": [
    "# `DataFrame` INFORMATION\n",
    "Use the following function or properties to query your data-frame  \n",
    "* `students.shape`   # returns the dimension of data-frame in the form of tuple\n",
    "* `students.shape[0]`   #  retrieves the first elememnt of the returned tuple.  it represents the number of row\n",
    "* `students.info()`   #  returns the detailed information for a data-frame\n",
    "* `students.describe()`   #  shows the basic statistical summary such as min, max, average of a column (only for numeric columns)\n"
   ]
  },
  {
   "cell_type": "code",
   "execution_count": null,
   "metadata": {},
   "outputs": [],
   "source": []
  },
  {
   "cell_type": "code",
   "execution_count": null,
   "metadata": {},
   "outputs": [],
   "source": []
  },
  {
   "cell_type": "code",
   "execution_count": null,
   "metadata": {},
   "outputs": [],
   "source": []
  },
  {
   "cell_type": "code",
   "execution_count": null,
   "metadata": {},
   "outputs": [],
   "source": []
  },
  {
   "cell_type": "markdown",
   "metadata": {},
   "source": [
    "## Converting pandas data-frame to numpy array\n",
    "\n",
    "Many functions only accept numpy array or python dictionary as arguments.\n",
    "\n",
    "In these cases, type conversion is required.\n",
    "\n",
    "To convert dataframe to numpy array\n",
    "```\n",
    "students.to_numpy()\n",
    "students.values\n",
    "```\n",
    "\n",
    "To convert dataframe to Python dictionary\n",
    "```\n",
    "students.to_dict()\n",
    "```"
   ]
  },
  {
   "cell_type": "code",
   "execution_count": null,
   "metadata": {},
   "outputs": [],
   "source": []
  },
  {
   "cell_type": "code",
   "execution_count": null,
   "metadata": {},
   "outputs": [],
   "source": []
  },
  {
   "cell_type": "code",
   "execution_count": null,
   "metadata": {},
   "outputs": [],
   "source": []
  },
  {
   "cell_type": "code",
   "execution_count": null,
   "metadata": {},
   "outputs": [],
   "source": []
  },
  {
   "cell_type": "markdown",
   "metadata": {},
   "source": [
    "# SELECTING / RETRIEVING COLUMN(S)"
   ]
  },
  {
   "cell_type": "markdown",
   "metadata": {},
   "source": [
    "## To Select a Column \n",
    "\n",
    "Specify a **column name** (in string) to indicate which column you want to retrieve\n",
    "\n",
    "**Example**\n",
    "```\n",
    "students['Name']  # the key is case-sensitive\n",
    "name = students['Name']\n",
    "print(type(name))  # returns pandas.core.series.Series\n",
    "```\n",
    "\n",
    "A Pandas `Series` is like a column in a table.\n",
    "\n",
    "It is a one-dimensional array holding data of any type."
   ]
  },
  {
   "cell_type": "code",
   "execution_count": null,
   "metadata": {},
   "outputs": [],
   "source": []
  },
  {
   "cell_type": "code",
   "execution_count": null,
   "metadata": {},
   "outputs": [],
   "source": []
  },
  {
   "cell_type": "markdown",
   "metadata": {},
   "source": [
    "## Retrieving Multiple Columns\n",
    "Use `[]` (square bracket) with a column names (in string) to indicate which columns you want to retrieve\n",
    "\n",
    "**Example**\n",
    "\n",
    "* `columns = ['Name', 'Year']` # declare the columns you want in a list\n",
    "* `print(students[columns])` # pass the column list as paramenter to the dataframe\n",
    "* `print(type(students[columns]))` # Returns **pandas.core.frame.DataFrame**\n",
    "\n",
    "A quick hand to write the above code is using **double** square brackets `[[ ]]`\n",
    "```\n",
    "name_and_year = students[['Name', 'Year']] # doubled square bracket are used here\n",
    "print(type(name_and_year)) # Returns **pandas.core.frame.DataFrame**\n",
    "```\n",
    "**Below is a mistake**\n",
    "```\n",
    "name_and_year = students['Name', 'Year'] # this is a mistake\n",
    "```"
   ]
  },
  {
   "cell_type": "code",
   "execution_count": null,
   "metadata": {},
   "outputs": [],
   "source": []
  },
  {
   "cell_type": "code",
   "execution_count": null,
   "metadata": {},
   "outputs": [],
   "source": []
  },
  {
   "cell_type": "code",
   "execution_count": null,
   "metadata": {},
   "outputs": [],
   "source": []
  },
  {
   "cell_type": "markdown",
   "metadata": {},
   "source": [
    "# SELECTING / RETRIEVING ROW(S)"
   ]
  },
  {
   "cell_type": "markdown",
   "metadata": {},
   "source": [
    "## Use `loc[]` to Locate Row\n",
    "Pandas use the `loc` attribute to return one or more row(s)\n",
    "\n",
    "Example:\n",
    "```\n",
    "students.loc[0]  # specify by row number\n",
    "students.loc[1]  # specify by row number\n",
    "type(students.loc[0])  # returns pandas.core.series.Series\n",
    "```\n",
    "\n",
    "A Pandas Series is a one-dimensional array holding data of any type."
   ]
  },
  {
   "cell_type": "code",
   "execution_count": null,
   "metadata": {},
   "outputs": [],
   "source": []
  },
  {
   "cell_type": "code",
   "execution_count": null,
   "metadata": {},
   "outputs": [],
   "source": []
  },
  {
   "cell_type": "code",
   "execution_count": null,
   "metadata": {},
   "outputs": [],
   "source": []
  },
  {
   "cell_type": "markdown",
   "metadata": {},
   "source": [
    "## Alternative to Locate Multiple Rows\n",
    "Provide a list of row number: `[0, 2]`\n",
    "\n",
    "**Example**:\n",
    "```\n",
    "rows = [0, 2]  # defines a list of row number separated by comma\n",
    "students.loc[rows]  # use the defined row numbers as parameter for loc[]\n",
    "```\n",
    "\n",
    "**Or simplified it by one liner**:\n",
    "```\n",
    "students.loc[[0, 2]]\n",
    "type(students.loc[[0, 2]])  # returns DataFrame\n",
    "```\n",
    "\n",
    "**Below is a mistake**\n",
    "```\n",
    "students.loc[0, 2]  # have to use double pairs of squar brackets\n",
    "```\n"
   ]
  },
  {
   "cell_type": "code",
   "execution_count": null,
   "metadata": {},
   "outputs": [],
   "source": []
  },
  {
   "cell_type": "code",
   "execution_count": null,
   "metadata": {},
   "outputs": [],
   "source": []
  },
  {
   "cell_type": "markdown",
   "metadata": {},
   "source": [
    "## Retrieving Rows with Range\n",
    "- Provide the starting row number and ending row number\n",
    "- Use `:` to separate the starting row number and ending row number\n",
    "\n",
    "**Using `loc[]` function**:\n",
    "\n",
    "* `students.loc[0:2]`  # selecting from row 0 to 2 (inclusive)\n",
    "* `students.loc[:2]`  # omitting the starting index. selecting from row 0 to 2 \n",
    "* `students.loc[2:]`  # omitting the ending index. selecting from row 2 all the way to the end\n",
    "* `students.loc[0:2, 'Age']`  # selecting from row 0 to 2 (inclusive) and extract only Age column\n",
    "\n",
    "**Using `iloc[]` function**:\n",
    "\n",
    "* `students.iloc[0:2]`  # selecting from row 0 to 2 (exclusive)\n",
    "* `students.iloc[:2]`  # omitting the starting index. selecting from row 0 to 2 (exclusive)\n",
    "* `students.iloc[2:]`  # omitting the ending index. selecting from row 2 all the way to the end\n",
    "* `students.iloc[0:2, 2]`  # selecting from row 0 to 2 (exclusive) and extract only 2nd column\n",
    "\n",
    "Short hand:\n",
    "(Works a bit different. It's exclusive. The end index is NOT included in the result)\n",
    "\n",
    "* `students[0:2]`  # selecting from row 0 to 2) (exclusive)\n",
    "* `students[:2]`  # omitting the starting index. selecting from row 0 to 2 (exclusive)\n",
    "* `students[2:]`  # from position 2 to the end\n",
    "* `students[0:2]['Age']`  # selecting from row 0 to 2 (exclusive) and extract only 2nd column\n",
    "\n"
   ]
  },
  {
   "cell_type": "code",
   "execution_count": null,
   "metadata": {},
   "outputs": [],
   "source": []
  },
  {
   "cell_type": "code",
   "execution_count": null,
   "metadata": {},
   "outputs": [],
   "source": []
  },
  {
   "cell_type": "code",
   "execution_count": null,
   "metadata": {},
   "outputs": [],
   "source": []
  },
  {
   "cell_type": "code",
   "execution_count": null,
   "metadata": {},
   "outputs": [],
   "source": []
  },
  {
   "cell_type": "code",
   "execution_count": null,
   "metadata": {},
   "outputs": [],
   "source": []
  },
  {
   "cell_type": "code",
   "execution_count": null,
   "metadata": {},
   "outputs": [],
   "source": []
  },
  {
   "cell_type": "markdown",
   "metadata": {},
   "source": [
    "# FILTERING ROW(S)\n",
    "1. Scans through each row\n",
    "2. Performs a logical operation (check whether is True of False) on a column's value of each row \n",
    "3. Returns `True` or `False` as result for the comparison operation on each row\n",
    "\n",
    "**Example**:\n",
    "\n",
    "* `students['Age']<23` # this returns a Series of True/False\n",
    "* `filter = students['Age']<23` # this gets a Series of True/False and store them in a variable named filter\n",
    "* `print(filter)`\n",
    "* `type(filter)` # It's a Pandas Series of True/False\n",
    "* `students[filter]` # use the filter as parameters. A True means that row will stay.  A False means that row will be kicked out.\n",
    "\n",
    "\n",
    "**It's common to code in one-liner manner**\n",
    "```\n",
    "students[students['Age']<23]\n",
    "```\n"
   ]
  },
  {
   "cell_type": "code",
   "execution_count": null,
   "metadata": {},
   "outputs": [],
   "source": []
  },
  {
   "cell_type": "code",
   "execution_count": null,
   "metadata": {},
   "outputs": [],
   "source": []
  },
  {
   "cell_type": "code",
   "execution_count": null,
   "metadata": {},
   "outputs": [],
   "source": []
  },
  {
   "cell_type": "code",
   "execution_count": null,
   "metadata": {},
   "outputs": [],
   "source": []
  },
  {
   "cell_type": "code",
   "execution_count": null,
   "metadata": {},
   "outputs": [],
   "source": []
  },
  {
   "cell_type": "markdown",
   "metadata": {},
   "source": [
    "## Filtering Rows with Multiple Conditions\n",
    "**Example**:\n",
    "\n",
    "* `filter = students['Age']<23`\n",
    "* `filter2 = students['Year']==3`\n",
    "* `students[filter & filter2]`   # &: AND logical operator\n",
    "* `students[filter | filter2]`   # |: OR logical operator\n",
    "\n",
    "\n",
    "**Or in one-liner**\n",
    "\n",
    "* `students[(students['Age']<23) & (students['Year']==3)]`   # make sure you include the a pair of `( )` for each logical operation\n",
    "* `students[(students['Age']<23) | (students['Year']==3)]`   # make sure you include the a pair of `( )` for each logical operation\n"
   ]
  },
  {
   "cell_type": "code",
   "execution_count": null,
   "metadata": {},
   "outputs": [],
   "source": []
  },
  {
   "cell_type": "code",
   "execution_count": null,
   "metadata": {},
   "outputs": [],
   "source": []
  },
  {
   "cell_type": "code",
   "execution_count": null,
   "metadata": {},
   "outputs": [],
   "source": []
  },
  {
   "cell_type": "code",
   "execution_count": null,
   "metadata": {},
   "outputs": [],
   "source": []
  },
  {
   "cell_type": "code",
   "execution_count": null,
   "metadata": {},
   "outputs": [],
   "source": []
  },
  {
   "cell_type": "code",
   "execution_count": null,
   "metadata": {},
   "outputs": [],
   "source": []
  },
  {
   "cell_type": "markdown",
   "metadata": {},
   "source": [
    "## Practice One-liner Approach"
   ]
  },
  {
   "cell_type": "markdown",
   "metadata": {},
   "source": [
    "**Challenge**: Retrieve students who are younger than 23 and who is a year 3 student"
   ]
  },
  {
   "cell_type": "code",
   "execution_count": null,
   "metadata": {},
   "outputs": [],
   "source": []
  },
  {
   "cell_type": "code",
   "execution_count": null,
   "metadata": {},
   "outputs": [],
   "source": []
  },
  {
   "cell_type": "markdown",
   "metadata": {},
   "source": [
    "## `concat()` Function\n",
    "\n",
    "You can use `concat()` function to merge multiple `Series` to form a data-frame\n",
    "\n",
    "A Truth Table for AND operation\n",
    "```\n",
    "pd.concat([filter, filter2, (filter & filter2)], axis=1)\n",
    "```\n",
    "\n",
    "A Truth Table for OR operation\n",
    "```\n",
    "pd.concat([filter, filter2, (filter | filter2)], axis=1)\n",
    "\n",
    "```"
   ]
  },
  {
   "cell_type": "code",
   "execution_count": null,
   "metadata": {},
   "outputs": [],
   "source": []
  },
  {
   "cell_type": "code",
   "execution_count": null,
   "metadata": {},
   "outputs": [],
   "source": []
  },
  {
   "cell_type": "code",
   "execution_count": null,
   "metadata": {},
   "outputs": [],
   "source": []
  },
  {
   "cell_type": "code",
   "execution_count": null,
   "metadata": {},
   "outputs": [],
   "source": []
  },
  {
   "cell_type": "code",
   "execution_count": null,
   "metadata": {},
   "outputs": [],
   "source": []
  },
  {
   "cell_type": "code",
   "execution_count": null,
   "metadata": {},
   "outputs": [],
   "source": []
  },
  {
   "cell_type": "markdown",
   "metadata": {},
   "source": [
    "## Restricting Rows and Columns\n",
    "You can apply both **row filtering** and **columns selecting** in chain\n",
    "\n",
    "Example:\n",
    "\n",
    "* `students[students['Year']==3]` # row filtering only\n",
    "* `students[students['Year']==3][['Name', 'Year']]` # row filtering and followed by column selecting.\n",
    "\n",
    "**Note**: The code can easily become difficult to read\n"
   ]
  },
  {
   "cell_type": "code",
   "execution_count": null,
   "metadata": {},
   "outputs": [],
   "source": []
  },
  {
   "cell_type": "code",
   "execution_count": null,
   "metadata": {},
   "outputs": [],
   "source": []
  },
  {
   "cell_type": "code",
   "execution_count": null,
   "metadata": {},
   "outputs": [],
   "source": [
    "students.loc[0:2, ['Age', 'Sex']]"
   ]
  },
  {
   "cell_type": "code",
   "execution_count": null,
   "metadata": {},
   "outputs": [],
   "source": []
  },
  {
   "cell_type": "code",
   "execution_count": null,
   "metadata": {},
   "outputs": [],
   "source": []
  },
  {
   "cell_type": "markdown",
   "metadata": {},
   "source": [
    "# PRACTICING: Row/Column Selecting\n",
    "\n",
    "You have 5 minutes to practice the rows and column Selecting statements"
   ]
  },
  {
   "cell_type": "markdown",
   "metadata": {},
   "source": [
    "## Load the external **graduates.csv** file\n",
    "```\n",
    "df = pd.read_csv('./data/graduates.csv')\n",
    "```"
   ]
  },
  {
   "cell_type": "code",
   "execution_count": null,
   "metadata": {},
   "outputs": [],
   "source": []
  },
  {
   "cell_type": "markdown",
   "metadata": {
    "jp-MarkdownHeadingCollapsed": true
   },
   "source": [
    "**Use `head()`, `info()` and `describe()` function to query the DataFrame**\n",
    "```\n",
    "df.head() # returns the first 5 rows for previewing\n",
    "df.info() # information about a DataFrame\n",
    "df.desribe() # Simple statistical summary\n",
    "```\n",
    "\n",
    "**Redminder**: you can use `Tab` key for code prompts and completion"
   ]
  },
  {
   "cell_type": "code",
   "execution_count": null,
   "metadata": {},
   "outputs": [],
   "source": []
  },
  {
   "cell_type": "code",
   "execution_count": null,
   "metadata": {},
   "outputs": [],
   "source": []
  },
  {
   "cell_type": "code",
   "execution_count": null,
   "metadata": {},
   "outputs": [],
   "source": []
  },
  {
   "cell_type": "code",
   "execution_count": null,
   "metadata": {},
   "outputs": [],
   "source": []
  },
  {
   "cell_type": "code",
   "execution_count": null,
   "metadata": {},
   "outputs": [],
   "source": []
  },
  {
   "cell_type": "markdown",
   "metadata": {},
   "source": [
    "### Challenge #1\n",
    "**Select all the rows that `LevelOfStudy` is  `'Undergraduate'`**\n",
    "\n",
    "Hints: use `==` to check if the value of `LevelOfStudy` is equivalent to `'Undergraduate'`"
   ]
  },
  {
   "cell_type": "code",
   "execution_count": null,
   "metadata": {},
   "outputs": [],
   "source": []
  },
  {
   "cell_type": "code",
   "execution_count": null,
   "metadata": {},
   "outputs": [],
   "source": []
  },
  {
   "cell_type": "markdown",
   "metadata": {},
   "source": [
    "### Challenge #2\n",
    "**Select all the rows that `LevelOfStudy` is  'Undergraduate' and `ProgrammeCategory` is 'Business and Management'**\n",
    "\n",
    "Hints: \n",
    "* Use `&` to put together mutilple logical expression\n",
    "* Use `()` to wrap each logical expression"
   ]
  },
  {
   "cell_type": "code",
   "execution_count": null,
   "metadata": {},
   "outputs": [],
   "source": []
  },
  {
   "cell_type": "code",
   "execution_count": null,
   "metadata": {},
   "outputs": [],
   "source": []
  },
  {
   "cell_type": "markdown",
   "metadata": {},
   "source": [
    "### Challenge #3\n",
    "**Select all the rows that `LevelOfStudy` is  'Undergraduate' and `ProgrammeCategory` is 'Business and Management' and for rows of 'male' only**\n",
    "\n",
    "Hints: \n",
    "* Use `&` to put together mutilple logical expression\n",
    "* Use `()` to wrap each logical expression"
   ]
  },
  {
   "cell_type": "code",
   "execution_count": null,
   "metadata": {},
   "outputs": [],
   "source": []
  },
  {
   "cell_type": "code",
   "execution_count": null,
   "metadata": {},
   "outputs": [],
   "source": []
  },
  {
   "cell_type": "markdown",
   "metadata": {},
   "source": [
    "### Challenge #4\n",
    "- Select all the rows that `LevelOfStudy` is  `Undergraduate` and `ProgrammeCategory` is `Business and Management` and for rows of male only.  \n",
    "- Show only the `AcademicYear` and `Headcount`\n",
    "\n",
    "Hints: \n",
    "* Use `&` to put together mutilple logical expression\n",
    "* Use `()` to wrap each logical expression"
   ]
  },
  {
   "cell_type": "code",
   "execution_count": null,
   "metadata": {},
   "outputs": [],
   "source": []
  },
  {
   "cell_type": "code",
   "execution_count": null,
   "metadata": {},
   "outputs": [],
   "source": []
  },
  {
   "cell_type": "markdown",
   "metadata": {},
   "source": [
    "# READING EXTERNAL DATA SOURCE\n",
    "\n",
    "use `pd.read_xxx()` funtion to read file of various types.\n",
    "\n",
    "Type `pd.read_` + `TAB` to see the complete list of read functions.\n",
    "\n",
    "## Loading HKIRD Tax Allowance\n",
    "the dot `./` means current path (current working directory)\n",
    "```\n",
    "allowance_df = pd.read_csv('./data/allowance.csv') \n",
    "```"
   ]
  },
  {
   "cell_type": "code",
   "execution_count": null,
   "metadata": {},
   "outputs": [],
   "source": []
  },
  {
   "cell_type": "markdown",
   "metadata": {
    "jp-MarkdownHeadingCollapsed": true
   },
   "source": [
    "**Querying the DataFrame**:\n",
    "```\n",
    "allowance_df.head()  # return the first 5 rows\n",
    "allowance_df.tail()  # return the last 5 rows\n",
    "allowance_df.head(8)\n",
    "allowance_df.tail(8)\n",
    "allowance_df.info()  # the table meta data\n",
    "allowance_df.describe()  # basic statistic information\n",
    "```\n",
    "**Handling Empty Values**:\n",
    "- The `info()` method also tells us how many Non-Null values there are present in each column\n",
    "- Empty values, or Null values, can be bad when analyzing data, and you should consider removing rows with empty values or replace the empty value with an average value of the column\n",
    "- This process is a called data tidying."
   ]
  },
  {
   "cell_type": "code",
   "execution_count": null,
   "metadata": {},
   "outputs": [],
   "source": []
  },
  {
   "cell_type": "code",
   "execution_count": null,
   "metadata": {},
   "outputs": [],
   "source": []
  },
  {
   "cell_type": "code",
   "execution_count": null,
   "metadata": {},
   "outputs": [],
   "source": []
  },
  {
   "cell_type": "code",
   "execution_count": null,
   "metadata": {},
   "outputs": [],
   "source": []
  },
  {
   "cell_type": "code",
   "execution_count": null,
   "metadata": {},
   "outputs": [],
   "source": []
  },
  {
   "cell_type": "code",
   "execution_count": null,
   "metadata": {},
   "outputs": [],
   "source": []
  },
  {
   "cell_type": "code",
   "execution_count": null,
   "metadata": {},
   "outputs": [],
   "source": []
  },
  {
   "cell_type": "markdown",
   "metadata": {},
   "source": [
    "# TIDYING DATA\n",
    "\n",
    "**Garbage In, Garbage Out**  \n",
    "Before you actually use the data for data science purpose (analysis, data visualization and machine learning), your need to fix\n",
    "bad data in your data set.\n",
    "\n",
    "**Bad data refers to**:\n",
    "- Empty cells\n",
    "- Data in wrong format\n",
    "- Wrong data\n",
    "- Duplicates"
   ]
  },
  {
   "cell_type": "markdown",
   "metadata": {},
   "source": [
    "## Rename Columns: `rename()`\n",
    "\n",
    "Call `rename()` function with dictionay object\n",
    "\n",
    "Example:\n",
    "```\n",
    "students.rename(columns={'Name': 'StudentName', 'Sex': 'Gender'})  # non-destructiv - it generates a few data-frame\n",
    "```"
   ]
  },
  {
   "cell_type": "code",
   "execution_count": null,
   "metadata": {},
   "outputs": [],
   "source": []
  },
  {
   "cell_type": "code",
   "execution_count": null,
   "metadata": {},
   "outputs": [],
   "source": []
  },
  {
   "cell_type": "code",
   "execution_count": null,
   "metadata": {},
   "outputs": [],
   "source": []
  },
  {
   "cell_type": "code",
   "execution_count": null,
   "metadata": {},
   "outputs": [],
   "source": []
  },
  {
   "cell_type": "code",
   "execution_count": null,
   "metadata": {},
   "outputs": [],
   "source": []
  },
  {
   "cell_type": "code",
   "execution_count": null,
   "metadata": {},
   "outputs": [],
   "source": []
  },
  {
   "cell_type": "markdown",
   "metadata": {},
   "source": [
    "## Delete Columns\n",
    "\n",
    "Call `drop()` function to delete the columns that your don't want\n",
    "\n",
    "Example:\n",
    "```\n",
    "students.drop(columns=['Age', 'Year']) # non-destructiv - it generates a few data-frame\n",
    "```\n",
    "\n",
    "**Reminder**: this statement returns a new dataframe"
   ]
  },
  {
   "cell_type": "code",
   "execution_count": null,
   "metadata": {},
   "outputs": [],
   "source": []
  },
  {
   "cell_type": "code",
   "execution_count": null,
   "metadata": {},
   "outputs": [],
   "source": []
  },
  {
   "cell_type": "code",
   "execution_count": null,
   "metadata": {},
   "outputs": [],
   "source": []
  },
  {
   "cell_type": "code",
   "execution_count": null,
   "metadata": {},
   "outputs": [],
   "source": []
  },
  {
   "cell_type": "markdown",
   "metadata": {},
   "source": [
    "## Replacing the existing data-frame variable\n",
    "\n",
    "We usually tend to replace the old dataframe variable with the **processed data frame** (for the sake of less memory consumption) and therefore the code will go like\n",
    "\n",
    "```\n",
    "students\n",
    "students = students.rename(columns={'Name': 'StudentName', 'Sex': 'Gender'})\n",
    "students = students.drop(columns=['Age', 'Year'])\n",
    "\n",
    "```"
   ]
  },
  {
   "cell_type": "code",
   "execution_count": null,
   "metadata": {},
   "outputs": [],
   "source": []
  },
  {
   "cell_type": "code",
   "execution_count": null,
   "metadata": {},
   "outputs": [],
   "source": []
  },
  {
   "cell_type": "code",
   "execution_count": null,
   "metadata": {},
   "outputs": [],
   "source": []
  },
  {
   "cell_type": "markdown",
   "metadata": {},
   "source": [
    "## Drop Rows with Empty Values\n",
    "\n",
    "Empty values cause noise to your data. One of the fixing is removing them.\n",
    "\n",
    "You can remove the rows with empty value by `dropna()` function\n",
    "\n",
    "```\n",
    "cleaned_df = allowance_df.dropna()\n",
    "print(allowance_df.shape[0])\n",
    "print(cleaned_df.shape[0])\n",
    "cleaned_df\n",
    "cleaned_df.info()\n",
    "cleaned_df.describe()\n",
    "```"
   ]
  },
  {
   "cell_type": "code",
   "execution_count": null,
   "metadata": {},
   "outputs": [],
   "source": []
  },
  {
   "cell_type": "code",
   "execution_count": null,
   "metadata": {},
   "outputs": [],
   "source": []
  },
  {
   "cell_type": "code",
   "execution_count": null,
   "metadata": {},
   "outputs": [],
   "source": []
  },
  {
   "cell_type": "code",
   "execution_count": null,
   "metadata": {},
   "outputs": [],
   "source": []
  },
  {
   "cell_type": "code",
   "execution_count": null,
   "metadata": {},
   "outputs": [],
   "source": []
  },
  {
   "cell_type": "code",
   "execution_count": null,
   "metadata": {},
   "outputs": [],
   "source": []
  },
  {
   "cell_type": "markdown",
   "metadata": {},
   "source": [
    "## Replacing empty cells with mean or median\n",
    "\n",
    "An alternative approach to fix rows will empty values is using `fillna()` function to fill in the missing values for these rows.\n",
    "\n",
    "Type `allowance_df` to verify if there are any missing values (`NaN`) in the DataFrame\n",
    "\n",
    "**Describe the column's statistical summary**  \n",
    "`allowance_df[\"Personal_Disability_Allowance\"].describe()`\n",
    "\n",
    "**Retrieve the mean value of the column**  \n",
    "`x = allowance_df[\"Personal_Disability_Allowance\"].mean()`\n",
    "\n",
    "**Fill in the missing value using `fillna()` function**  \n",
    "`allowance_df[\"Personal_Disability_Allowance\"].fillna(x)`\n",
    "\n",
    "**Describe the column's statistical summary**  \n",
    "`allowance_df[\"Personal_Disability_Allowance\"].describe()`\n",
    "\n"
   ]
  },
  {
   "cell_type": "code",
   "execution_count": null,
   "metadata": {},
   "outputs": [],
   "source": []
  },
  {
   "cell_type": "code",
   "execution_count": null,
   "metadata": {},
   "outputs": [],
   "source": []
  },
  {
   "cell_type": "code",
   "execution_count": null,
   "metadata": {},
   "outputs": [],
   "source": []
  },
  {
   "cell_type": "code",
   "execution_count": null,
   "metadata": {},
   "outputs": [],
   "source": []
  },
  {
   "cell_type": "markdown",
   "metadata": {},
   "source": [
    "# AGGREGATION FUNCTIONS\n",
    "\n",
    "aggregation functions provide summary information about a column.\n",
    "\n",
    "```\n",
    "allowance_df = pd.read_csv('./data/allowance.csv')\n",
    "allowance_df.info()\n",
    "```\n",
    "\n",
    "* `allowance_df['Basic'].max()` # returns the maximum value for the column\n",
    "* `allowance_df['Basic'].min()` # returns the minimum value for the column\n",
    "* `allowance_df['Basic'].median()` # returns the median for the column\n",
    "* `allowance_df['Basic'].mean()` # returns the mean value for the column\n",
    "* `allowance_df['Basic'].std()` # returns the standard deviation for the column\n",
    "* `allowance_df['Basic'].sum()` # returns the standard deviation for the column\n"
   ]
  },
  {
   "cell_type": "code",
   "execution_count": null,
   "metadata": {},
   "outputs": [],
   "source": []
  },
  {
   "cell_type": "code",
   "execution_count": null,
   "metadata": {},
   "outputs": [],
   "source": []
  },
  {
   "cell_type": "code",
   "execution_count": null,
   "metadata": {},
   "outputs": [],
   "source": []
  },
  {
   "cell_type": "code",
   "execution_count": null,
   "metadata": {},
   "outputs": [],
   "source": []
  },
  {
   "cell_type": "code",
   "execution_count": null,
   "metadata": {},
   "outputs": [],
   "source": []
  },
  {
   "cell_type": "code",
   "execution_count": null,
   "metadata": {},
   "outputs": [],
   "source": []
  },
  {
   "cell_type": "markdown",
   "metadata": {},
   "source": [
    "# FINDING COLUMNS' RELATIONSHIP\n",
    "The `corr()` method calculates the relationship between each column in your data set.\n",
    "```\n",
    "df.corr() # make sure all the columns are number type\n",
    "```\n",
    "The Result of the `corr()` method is a table with a lot of numbers that represents how well the relationship is between two columns.\n",
    "- The number varies from `-1` to `1`.\n",
    "- `1` means that there is a 1 to 1 relationship (a perfect correlation).\n",
    "- `0.7` or above is also a good relationship, and if you increase one value, the other will probably increase as well.\n",
    "- `-0.7` or below would be just as good relationship as 0.7, but if you increase one value, the other will go down.\n",
    "- `0.2` means NOT a good relationship, meaning that if one value goes up does not mean that the other will.\n",
    "\n",
    "**Example**:\n",
    "```\n",
    "allowance_df.head()\n",
    "allowance_df.corr() # Produce errors as the some columns are NOT number and therefore not fitting for calculation\n",
    "allowance_df[['Basic', 'Married_Person', 'Child']].corr()\n",
    "```"
   ]
  },
  {
   "cell_type": "code",
   "execution_count": null,
   "metadata": {},
   "outputs": [],
   "source": []
  },
  {
   "cell_type": "code",
   "execution_count": null,
   "metadata": {},
   "outputs": [],
   "source": []
  },
  {
   "cell_type": "code",
   "execution_count": null,
   "metadata": {},
   "outputs": [],
   "source": []
  },
  {
   "cell_type": "markdown",
   "metadata": {},
   "source": [
    "# GROUPBY and GROUPS' AGGREGATION"
   ]
  },
  {
   "cell_type": "markdown",
   "metadata": {},
   "source": [
    "## Loading **graduates.csv** File  \n",
    "`gra = pd.read_csv('./data/graduates.csv')`\n",
    "\n",
    "**Use `info()` function to show summary about the DataFrame**  \n",
    "`gra.info()`"
   ]
  },
  {
   "cell_type": "code",
   "execution_count": null,
   "metadata": {},
   "outputs": [],
   "source": [
    "gra = pd.read_csv('./data/graduates.csv')"
   ]
  },
  {
   "cell_type": "code",
   "execution_count": null,
   "metadata": {},
   "outputs": [],
   "source": []
  },
  {
   "cell_type": "markdown",
   "metadata": {},
   "source": [
    "## `Groupby()`: divide data into groups"
   ]
  },
  {
   "cell_type": "markdown",
   "metadata": {},
   "source": [
    "**`unique()` function**: show unique values of a column\n",
    "```\n",
    "gra[\"LevelOfStudy\"].unique()\n",
    "gra[\"ProgrammeCategory\"].unique()\n",
    "```\n",
    "\n",
    "**`groupby()` function**: divide rows in the groups\n",
    "```\n",
    "gra.groupby('LevelOfStudy')\n",
    "gra.groupby('ProgrammeCategory')\n",
    "group_by_level = gra.groupby('LevelOfStudy')  # save the grouping as a variable\n",
    "group_by_category = gra.groupby('ProgrammeCategory')  # save the grouping as a variable\n",
    "group_by_level.groups  # Display groups and rows belongs to that groups\n",
    "```\n",
    "\n",
    "**Those integer numbers in the list are the row number.**\n",
    "```\n",
    "group_by_level.first()  # gives you a preview of the first few groups\n",
    "group_by_level.last()  # gives you a previous of the last few groups\n",
    "group_by_level.size()  # return the number of row (group size) in each group\n",
    "group_by_level.get_group(\"Sub-degree\")  # get a group by provide the KEY of the group\n",
    "```"
   ]
  },
  {
   "cell_type": "code",
   "execution_count": null,
   "metadata": {},
   "outputs": [],
   "source": []
  },
  {
   "cell_type": "code",
   "execution_count": null,
   "metadata": {},
   "outputs": [],
   "source": []
  },
  {
   "cell_type": "code",
   "execution_count": null,
   "metadata": {},
   "outputs": [],
   "source": []
  },
  {
   "cell_type": "code",
   "execution_count": null,
   "metadata": {},
   "outputs": [],
   "source": []
  },
  {
   "cell_type": "markdown",
   "metadata": {},
   "source": [
    "## `describe()` function\n",
    "\n",
    "**Show the basic statistics summary of numberic column.**\n",
    "\n",
    "`\n",
    "group_by_level.describe()\n",
    "`\n"
   ]
  },
  {
   "cell_type": "code",
   "execution_count": null,
   "metadata": {},
   "outputs": [],
   "source": []
  },
  {
   "cell_type": "markdown",
   "metadata": {},
   "source": [
    "## `unique()` function\n",
    "\n",
    "This function list the unique values for a column.\n",
    "\n",
    "Examples:\n",
    "```\n",
    "gra[\"LevelOfStudy\"].unique()\n",
    "gra[\"ProgrammeCategory\"].unique()\n",
    "```"
   ]
  },
  {
   "cell_type": "code",
   "execution_count": null,
   "metadata": {},
   "outputs": [],
   "source": []
  },
  {
   "cell_type": "code",
   "execution_count": null,
   "metadata": {},
   "outputs": [],
   "source": []
  },
  {
   "cell_type": "markdown",
   "metadata": {},
   "source": [
    "## `value_counts()` function\n",
    "\n",
    "This function returns the number of row for each distinct value\n",
    "\n",
    "Example:\n",
    "```\n",
    "gra[\"LevelOfStudy\"].value_counts()\n",
    "gra['ProgrammeCategory'].value_counts()\n",
    "```\n",
    "\n",
    "\n",
    "```\n",
    "list(gra.groupby('LevelOfStudy'))\n",
    "group_by_level = gra.groupby('LevelOfStudy')\n",
    "group_by_level.groups\n",
    "group_by_category = gra.groupby('ProgrammeCategory')\n",
    "group_by_category\n",
    "\n",
    "group_by_level.groups # Display groups and rows belongs to that groups\n",
    "\n",
    "for group_key, group_data in group_by_level:\n",
    "    print(group_key)\n",
    "    print(group_data.head())\n",
    "    \n",
    "group_by_level.size()    \n",
    "```"
   ]
  },
  {
   "cell_type": "code",
   "execution_count": null,
   "metadata": {},
   "outputs": [],
   "source": []
  },
  {
   "cell_type": "code",
   "execution_count": null,
   "metadata": {},
   "outputs": [],
   "source": []
  },
  {
   "cell_type": "code",
   "execution_count": null,
   "metadata": {},
   "outputs": [],
   "source": []
  },
  {
   "cell_type": "code",
   "execution_count": null,
   "metadata": {},
   "outputs": [],
   "source": []
  },
  {
   "cell_type": "code",
   "execution_count": null,
   "metadata": {},
   "outputs": [],
   "source": []
  },
  {
   "cell_type": "code",
   "execution_count": null,
   "metadata": {},
   "outputs": [],
   "source": []
  },
  {
   "cell_type": "code",
   "execution_count": null,
   "metadata": {},
   "outputs": [],
   "source": []
  },
  {
   "cell_type": "code",
   "execution_count": null,
   "metadata": {},
   "outputs": [],
   "source": []
  },
  {
   "cell_type": "code",
   "execution_count": null,
   "metadata": {},
   "outputs": [],
   "source": []
  },
  {
   "cell_type": "markdown",
   "metadata": {},
   "source": [
    "## Those integer numbers in the list are the row number.\n",
    "\n",
    "**Group Info**\n",
    "```\n",
    "group_by_level.first() # gives you a preview of the first few groups\n",
    "group_by_level.last() # gives you a previous of the last few groups\n",
    "group_by_level.size() # return the number of row (group size) in each group\n",
    "```\n",
    "\n",
    "**To get a group**\n",
    "```\n",
    "group_by_level.get_group(\"Sub-degree\") # get a group by provide the KEY of the group\n",
    "```\n",
    "\n",
    "\n",
    "**To loop through the groups**\n",
    "```\n",
    "for group_key, group_data in group_by_level:\n",
    "    print(group_key)\n",
    "    print(group_data.head())\n",
    "```"
   ]
  },
  {
   "cell_type": "code",
   "execution_count": null,
   "metadata": {},
   "outputs": [],
   "source": []
  },
  {
   "cell_type": "code",
   "execution_count": null,
   "metadata": {},
   "outputs": [],
   "source": []
  },
  {
   "cell_type": "markdown",
   "metadata": {},
   "source": [
    "## Group Aggregated Data\n",
    "\n",
    "An aggregated function returns a single aggregated value for each group.\n",
    "\n",
    "**Using a column name (Returns as Series)**:\n",
    "```\n",
    "group_by_level.Headcount.sum() # summation of each group\n",
    "group_by_level.Headcount.mean() # mean value of each group\n",
    "group_by_level.Headcount.max() # max value of each group\n",
    "group_by_level.Headcount.min() # min value of each group\n",
    "```\n",
    "\n",
    "**Using agg() function (Returns as data-frame)**:\n",
    "```\n",
    "group_by_level.Headcount.agg(['max', 'min', 'count', 'median', 'mean']) \n",
    "```\n",
    "\n",
    "**Without column (Returns as data-frame)**:\n",
    "\n",
    "- we don’t actually have to specify a column like Headcout. \n",
    "- Without a column, it will perform the aggregation across all of the **numeric** columns\n",
    "\n",
    "```\n",
    "group_by_level.agg('sum') # summation of each group\n",
    "group_by_level.agg('max') # max value of each group\n",
    "group_by_level.agg('min') # min value of each group\n",
    "```\n"
   ]
  },
  {
   "cell_type": "code",
   "execution_count": null,
   "metadata": {},
   "outputs": [],
   "source": []
  },
  {
   "cell_type": "code",
   "execution_count": null,
   "metadata": {},
   "outputs": [],
   "source": []
  },
  {
   "cell_type": "code",
   "execution_count": null,
   "metadata": {},
   "outputs": [],
   "source": []
  },
  {
   "cell_type": "code",
   "execution_count": null,
   "metadata": {},
   "outputs": [],
   "source": []
  },
  {
   "cell_type": "markdown",
   "metadata": {},
   "source": [
    "## Aggregated values of the whole data-frame\n",
    "\n",
    "Aggregated functions can also be applied to a complete column of a dataframe\n",
    "```\n",
    "gra[\"Headcount\"].sum()\n",
    "gra[\"Headcount\"].mean()\n",
    "gra[\"Headcount\"].max()\n",
    "gra[\"Headcount\"].min()\n",
    "gra[\"Headcount\"].std()\n",
    "```"
   ]
  },
  {
   "cell_type": "code",
   "execution_count": null,
   "metadata": {},
   "outputs": [],
   "source": []
  },
  {
   "cell_type": "code",
   "execution_count": null,
   "metadata": {},
   "outputs": [],
   "source": []
  },
  {
   "cell_type": "code",
   "execution_count": null,
   "metadata": {},
   "outputs": [],
   "source": []
  },
  {
   "cell_type": "code",
   "execution_count": null,
   "metadata": {},
   "outputs": [],
   "source": []
  },
  {
   "cell_type": "code",
   "execution_count": null,
   "metadata": {},
   "outputs": [],
   "source": []
  },
  {
   "cell_type": "markdown",
   "metadata": {},
   "source": [
    "## Group by with multiple columns\n",
    "\n",
    "**Example**:\n",
    "```\n",
    "gra['LevelOfStudy'].unique()\n",
    "gra['ProgrammeCategory'].unique()\n",
    "group_by_level_category = gra.groupby(['LevelOfStudy', 'ProgrammeCategory'])\n",
    "group_by_level_category.groups\n",
    "group_by_level_category.ngroups # number of groups\n",
    "```\n",
    "\n"
   ]
  },
  {
   "cell_type": "code",
   "execution_count": null,
   "metadata": {},
   "outputs": [],
   "source": []
  },
  {
   "cell_type": "code",
   "execution_count": null,
   "metadata": {},
   "outputs": [],
   "source": []
  },
  {
   "cell_type": "code",
   "execution_count": null,
   "metadata": {},
   "outputs": [],
   "source": []
  },
  {
   "cell_type": "code",
   "execution_count": null,
   "metadata": {},
   "outputs": [],
   "source": []
  },
  {
   "cell_type": "code",
   "execution_count": null,
   "metadata": {},
   "outputs": [],
   "source": []
  },
  {
   "cell_type": "markdown",
   "metadata": {},
   "source": [
    "## More on Multiple Columns Groupby\n",
    "\n",
    "**Example**:\n",
    "\n",
    "```\n",
    "group_by_level_category_year = gra.groupby(['LevelOfStudy', 'ProgrammeCategory', 'AcademicYear'])\n",
    "group_by_level_category_year.get_group(('Undergraduate', 'Arts and Humanities', '2020/21' ))\n",
    "```"
   ]
  },
  {
   "cell_type": "code",
   "execution_count": null,
   "metadata": {},
   "outputs": [],
   "source": []
  },
  {
   "cell_type": "code",
   "execution_count": null,
   "metadata": {},
   "outputs": [],
   "source": []
  },
  {
   "cell_type": "markdown",
   "metadata": {},
   "source": [
    "## Groups Filtration\n",
    "\n",
    "Filtration is a process in which we discard some groups, according to a group-wise computation that evaluates `True` or `False`.\n",
    "\n",
    "* `group_by_level.Headcount.size()` # returns number of rows\n",
    "* `group_by_level.Headcount.sum()` # returns the summation of group\n"
   ]
  },
  {
   "cell_type": "code",
   "execution_count": null,
   "metadata": {},
   "outputs": [],
   "source": []
  },
  {
   "cell_type": "code",
   "execution_count": null,
   "metadata": {},
   "outputs": [],
   "source": []
  },
  {
   "cell_type": "markdown",
   "metadata": {},
   "source": [
    "# EXERCISE: Groupby\n",
    "\n",
    "You have 5 minutes to practice `groupby()`\n",
    "\n",
    "Group the graduates by LevelOfStudy and Sex.  Show the **total headcount** for each group.\n",
    "\n"
   ]
  },
  {
   "cell_type": "code",
   "execution_count": null,
   "metadata": {},
   "outputs": [],
   "source": []
  },
  {
   "cell_type": "code",
   "execution_count": null,
   "metadata": {},
   "outputs": [],
   "source": []
  },
  {
   "cell_type": "markdown",
   "metadata": {},
   "source": [
    "# COMBINING MULTIPLE DATAFRAME\n",
    "- **Concatenation**: combining together Series, DataFrame\n",
    "- **Joining**: join operations is very similar to relational databases like SQL"
   ]
  },
  {
   "cell_type": "markdown",
   "metadata": {},
   "source": [
    "## Reading Excel Files\n",
    "```\n",
    "left = pd.read_excel('./data/Students.xlsx', sheet_name=0)\n",
    "right = pd.read_excel('./data/Students.xlsx', sheet_name=1)\n",
    "```"
   ]
  },
  {
   "cell_type": "code",
   "execution_count": null,
   "metadata": {},
   "outputs": [],
   "source": []
  },
  {
   "cell_type": "code",
   "execution_count": null,
   "metadata": {},
   "outputs": [],
   "source": []
  },
  {
   "cell_type": "code",
   "execution_count": null,
   "metadata": {},
   "outputs": [],
   "source": []
  },
  {
   "cell_type": "code",
   "execution_count": null,
   "metadata": {},
   "outputs": [],
   "source": []
  },
  {
   "cell_type": "markdown",
   "metadata": {},
   "source": [
    "## Using `merge()` function\n",
    "\n",
    "**Matches rows based on a key column\tCombining datasets using a common identifier (e.g., `AcademicYear`)**\n",
    "\n",
    "```\n",
    "joined = pd.merge(left, right, on='AcademicYear')\n",
    "joined\n",
    "```"
   ]
  },
  {
   "cell_type": "code",
   "execution_count": null,
   "metadata": {},
   "outputs": [],
   "source": []
  },
  {
   "cell_type": "code",
   "execution_count": null,
   "metadata": {},
   "outputs": [],
   "source": []
  },
  {
   "cell_type": "markdown",
   "metadata": {},
   "source": [
    "## using `concat()` function\n",
    "\n",
    "**Appending new rows or columns without matching keys**\n",
    "```\n",
    "df1 = pd.read_excel('./data/Students.xlsx', sheet_name=0)\n",
    "df2 = pd.read_excel('./data/Students.xlsx', sheet_name=0)\n",
    "concatencate1 = pd.concat([df1, df2])\n",
    "concatencate1\n",
    "concatencate2 = pd.concat([df1, df2], axis=1)\n",
    "concatencate2\n",
    "```"
   ]
  },
  {
   "cell_type": "code",
   "execution_count": null,
   "metadata": {},
   "outputs": [],
   "source": []
  },
  {
   "cell_type": "code",
   "execution_count": null,
   "metadata": {},
   "outputs": [],
   "source": []
  },
  {
   "cell_type": "code",
   "execution_count": null,
   "metadata": {},
   "outputs": [],
   "source": []
  },
  {
   "cell_type": "code",
   "execution_count": null,
   "metadata": {},
   "outputs": [],
   "source": []
  },
  {
   "cell_type": "code",
   "execution_count": null,
   "metadata": {},
   "outputs": [],
   "source": []
  }
 ],
 "metadata": {
  "kernelspec": {
   "display_name": "Python [conda env:base] *",
   "language": "python",
   "name": "conda-base-py"
  },
  "language_info": {
   "codemirror_mode": {
    "name": "ipython",
    "version": 3
   },
   "file_extension": ".py",
   "mimetype": "text/x-python",
   "name": "python",
   "nbconvert_exporter": "python",
   "pygments_lexer": "ipython3",
   "version": "3.12.4"
  },
  "toc": {
   "base_numbering": 1,
   "nav_menu": {},
   "number_sections": true,
   "sideBar": true,
   "skip_h1_title": false,
   "title_cell": "Table of Contents",
   "title_sidebar": "Contents",
   "toc_cell": false,
   "toc_position": {
    "height": "calc(100% - 180px)",
    "left": "10px",
    "top": "150px",
    "width": "250.875px"
   },
   "toc_section_display": true,
   "toc_window_display": true
  }
 },
 "nbformat": 4,
 "nbformat_minor": 4
}
