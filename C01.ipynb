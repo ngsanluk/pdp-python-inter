{
 "cells": [
  {
   "cell_type": "markdown",
   "id": "2e20b387-5272-49d9-9675-bc403a164263",
   "metadata": {},
   "source": [
    "---\n",
    "# INTERMEDIATE PYTHON PROGRAMMING\n",
    "# CHAPTER 1 - Basic Python Syntax & Use of Markdown\n",
    "---"
   ]
  },
  {
   "cell_type": "markdown",
   "id": "ac01e6f9-5209-4e13-9be2-68b8017c1e72",
   "metadata": {},
   "source": [
    "# SHOWING TABLE OF CONTENTS\n",
    "**Table of Contents** lets you show the ordered contents list (particularyly useful if you have a logn notebook) and lets you quickly navigate to various parts of notebook.  \n",
    "\n",
    "In **Jupyter Lab**, to show the table of contentin, follow these steps\n",
    "![Table of Content](./images/toc.png)\n",
    "\n",
    "\n",
    "\n",
    "While in **Jupyter Notebook**, go to notebook main menu, and choose **View -> Table of Contents**"
   ]
  },
  {
   "cell_type": "markdown",
   "id": "240f330f-5521-430f-80d1-fe695adde347",
   "metadata": {},
   "source": [
    "# RECAP on Jupyter Notebook Usage and Python Basic Syntax"
   ]
  },
  {
   "cell_type": "markdown",
   "id": "523a79ec-831f-4271-85fb-de489951e3ed",
   "metadata": {},
   "source": [
    "## Hello World!\n",
    "\n",
    "Type the following command to display `Hello, World!` greeting.\n",
    "\n",
    "`print()` is a built-in Python function to produce screen outputs\n",
    "\n",
    "```\n",
    "print(\"Hello, World!\")\n",
    "```\n",
    "To run a CELL\n",
    "- Press `▶ Run` Button\n",
    "- HOLD `SHIFT` + PRESS `ENTER`\n",
    "\n",
    "It should print out the following texts right below the code cell:\n",
    "\n",
    "```\n",
    "Hello, World!\n",
    "```"
   ]
  },
  {
   "cell_type": "code",
   "execution_count": 34,
   "id": "bf28c75b-4ccd-40bb-92b0-4c53921c1cd3",
   "metadata": {},
   "outputs": [
    {
     "name": "stdout",
     "output_type": "stream",
     "text": [
      "Hello, World!\n"
     ]
    }
   ],
   "source": [
    "print(\"Hello, World!\")"
   ]
  },
  {
   "cell_type": "code",
   "execution_count": 24,
   "id": "992a1245-252b-48af-bbed-e1d43a2fb43c",
   "metadata": {},
   "outputs": [],
   "source": [
    "# print something else here use print() function again\n"
   ]
  },
  {
   "cell_type": "markdown",
   "id": "745abff2-3407-4b99-8b41-4426cd096e67",
   "metadata": {},
   "source": [
    "## To Run a Cell\n",
    "Use mouse cursor to select a cell, and followed by either option below.\n",
    "- Press ```▶ Run``` button\n",
    "- ```SHIFT``` + ```ENTER``` to run and move on to the next cell\n",
    "-  ```CMD``` + ```ENTER``` (Mac) or ```CTRL``` + ```ENTER``` (Win)  to run and stay at the current cell\n",
    "\n",
    "To learn more keyboard shortcut, from menu choose **Help -> Show Keyboard Shortcuts**"
   ]
  },
  {
   "cell_type": "code",
   "execution_count": 373,
   "id": "710e86ce-8a79-4c72-81b2-b148ab87cd20",
   "metadata": {},
   "outputs": [
    {
     "name": "stdout",
     "output_type": "stream",
     "text": [
      "161\n"
     ]
    }
   ],
   "source": [
    "import random\n",
    "print(random.randrange(100,200))"
   ]
  },
  {
   "cell_type": "markdown",
   "id": "ff218501-6585-46b4-bc13-0423d223facf",
   "metadata": {},
   "source": [
    "## Navigate between Cells\n",
    "Use keyboard ```UP``` and ```DOWN``` key to move between cells"
   ]
  },
  {
   "cell_type": "markdown",
   "id": "dd5513ce-f36e-4b72-8cfd-5d881a7bfded",
   "metadata": {},
   "source": [
    "## Variables\n",
    "A variable can have a short name (like ```x``` and ```y```) or a more descriptive name (```age```, ```customer_name```, ```total_volume```).\n",
    "```\n",
    "x = 10\n",
    "y = 20\n",
    "customer_name = \"Johnny\"\n",
    "```\n",
    "- after declaring a variable, type variable in an empty cell will display its value\n",
    "- or use ```print()```"
   ]
  },
  {
   "cell_type": "code",
   "execution_count": 131,
   "id": "f4f1214c-55e3-4d24-9843-07ffa58937db",
   "metadata": {},
   "outputs": [],
   "source": [
    "x = 10"
   ]
  },
  {
   "cell_type": "code",
   "execution_count": 133,
   "id": "7b3e8f7d-687f-415f-baa1-f8451b8c54c7",
   "metadata": {},
   "outputs": [
    {
     "name": "stdout",
     "output_type": "stream",
     "text": [
      "10\n"
     ]
    }
   ],
   "source": [
    "print(x)"
   ]
  },
  {
   "cell_type": "code",
   "execution_count": 135,
   "id": "ddc9d2c8-a0bd-4d71-97fa-e8ed1f6bf5b3",
   "metadata": {},
   "outputs": [
    {
     "data": {
      "text/plain": [
       "10"
      ]
     },
     "execution_count": 135,
     "metadata": {},
     "output_type": "execute_result"
    }
   ],
   "source": [
    "x"
   ]
  },
  {
   "cell_type": "markdown",
   "id": "486c4cd2-0dcd-4fa7-b147-c130ef3714f1",
   "metadata": {},
   "source": [
    "If you refer to variable that doesn't exist yet or type the wrong name (case sensitive), it shows the following errro message \n",
    "\n",
    "`name ... is not defined`"
   ]
  },
  {
   "cell_type": "code",
   "execution_count": 143,
   "id": "67539c94-4e93-4692-a7e5-effeb72b80c9",
   "metadata": {},
   "outputs": [
    {
     "ename": "NameError",
     "evalue": "name 'y' is not defined",
     "output_type": "error",
     "traceback": [
      "\u001b[0;31m---------------------------------------------------------------------------\u001b[0m",
      "\u001b[0;31mNameError\u001b[0m                                 Traceback (most recent call last)",
      "Cell \u001b[0;32mIn[143], line 1\u001b[0m\n\u001b[0;32m----> 1\u001b[0m \u001b[38;5;28mprint\u001b[39m(y)\n",
      "\u001b[0;31mNameError\u001b[0m: name 'y' is not defined"
     ]
    }
   ],
   "source": [
    "print(y)"
   ]
  },
  {
   "cell_type": "code",
   "execution_count": 145,
   "id": "5e5b93c0-1e39-4e0a-a998-da107938bee9",
   "metadata": {},
   "outputs": [
    {
     "ename": "NameError",
     "evalue": "name 'X' is not defined",
     "output_type": "error",
     "traceback": [
      "\u001b[0;31m---------------------------------------------------------------------------\u001b[0m",
      "\u001b[0;31mNameError\u001b[0m                                 Traceback (most recent call last)",
      "Cell \u001b[0;32mIn[145], line 1\u001b[0m\n\u001b[0;32m----> 1\u001b[0m \u001b[38;5;28mprint\u001b[39m(X)\n",
      "\u001b[0;31mNameError\u001b[0m: name 'X' is not defined"
     ]
    }
   ],
   "source": [
    "print(X)"
   ]
  },
  {
   "cell_type": "markdown",
   "id": "a88c8bbf-14ca-43e7-814a-21c5e2cc471d",
   "metadata": {},
   "source": [
    "## Variables Naming Rules\n",
    "- A variable name must start with a **letter** or the **underscore character**\n",
    "- A variable name CANNOT start with a number\n",
    "- A variable name can only contain alpha-numeric characters and underscores (```A-Z```, ```a-z```, ```0-9```, and``` _``` )\n",
    "- Variable names are case-sensitive (```age```, ```Age``` and ```AGE``` are three different variables)\n"
   ]
  },
  {
   "cell_type": "code",
   "execution_count": 150,
   "id": "7469d720-4411-44ad-a02b-1aa176f68a81",
   "metadata": {},
   "outputs": [],
   "source": [
    "address = \"Cyberport\""
   ]
  },
  {
   "cell_type": "code",
   "execution_count": 152,
   "id": "df012601-41b9-44ba-a871-90d066300957",
   "metadata": {},
   "outputs": [
    {
     "data": {
      "text/plain": [
       "'Cyberport'"
      ]
     },
     "execution_count": 152,
     "metadata": {},
     "output_type": "execute_result"
    }
   ],
   "source": [
    "address"
   ]
  },
  {
   "cell_type": "markdown",
   "id": "b16fca3f-e84f-4197-b9b4-3b689301e240",
   "metadata": {},
   "source": [
    "### Legal Variable Names\n",
    "```\n",
    "myname = \"John\"\n",
    "my_name = \"John\"\n",
    "_my_name = \"John\"\n",
    "myName = \"John\"\n",
    "MYNAME = \"John\"\n",
    "myName2 = \"John\"\n",
    "```"
   ]
  },
  {
   "cell_type": "markdown",
   "id": "67e0b33a-d685-401d-a4e6-35c4b84d90a9",
   "metadata": {},
   "source": [
    "### Illegal Variable Names\n",
    "```\n",
    "2myname = \"John\"\n",
    "my-name = \"John\"\n",
    "my name = \"John\"\n",
    "```\n",
    "Try typing the above to the cell below"
   ]
  },
  {
   "cell_type": "markdown",
   "id": "90b26ab7-f105-45d7-af05-9ac702af0cc4",
   "metadata": {},
   "source": [
    "### Making Comments in your code cell\n",
    "In your code cell, start your lines with #\n",
    "\n",
    "Example: <br>\n",
    "```# This is a comment```\n",
    "\n",
    "n = 100 ```# This is also a comment```\n",
    "\n",
    "If you type above code to a cell, it will stay there, but those line(s) will be ignored when executing\n",
    "- Comments can be used to explain Python codes/logics.\n",
    "- Comments can be used to make the code more readable.\n",
    "- Comments can be used to prevent execution when testing/debugging."
   ]
  },
  {
   "cell_type": "code",
   "execution_count": 194,
   "id": "f00c3575-b2e3-43cf-9fe1-c838fefa628b",
   "metadata": {},
   "outputs": [],
   "source": [
    "# declare a customer's name\n",
    "customer_name = \"Casey\""
   ]
  },
  {
   "cell_type": "code",
   "execution_count": 196,
   "id": "5df91813-62b3-40dc-96ee-3ba8a92704bd",
   "metadata": {},
   "outputs": [
    {
     "data": {
      "text/plain": [
       "'Casey'"
      ]
     },
     "execution_count": 196,
     "metadata": {},
     "output_type": "execute_result"
    }
   ],
   "source": [
    "customer_name"
   ]
  },
  {
   "cell_type": "code",
   "execution_count": 200,
   "id": "58729023-0c5f-4c70-84ba-38d638932b79",
   "metadata": {},
   "outputs": [
    {
     "data": {
      "text/plain": [
       "'CASEY'"
      ]
     },
     "execution_count": 200,
     "metadata": {},
     "output_type": "execute_result"
    }
   ],
   "source": [
    "customer_name.upper() # this line will display customer name in upper-case"
   ]
  },
  {
   "cell_type": "markdown",
   "id": "5e97220c-f4f1-4b41-a750-34cd7bd178bd",
   "metadata": {},
   "source": [
    "## Celll Mode\n",
    "- **Edit Mode**: click **inside** a cell to enter edit mode.\n",
    "- **Command Mode**: click **outside** a cell to enter Command Mode.\n",
    "- While in Edit Mode, press ```ESC``` key to enter Command Mode\n",
    "- While in Command Mode, press `ENTER` key to enter Edit Mode"
   ]
  },
  {
   "cell_type": "markdown",
   "id": "ff8fa04b-a92b-471e-b69d-d36bc4efbffb",
   "metadata": {},
   "source": [
    "## A Few Keyboard Shortcuts\n",
    "Programming is a keyboard-intensive activity, picking up a few keyboard shortcuts will reducing your hand-switching between keyboard and mouse/trackpad and therefore will greatly increase your coding productivity.\n",
    "\n",
    "Make sure you are in **Command Mode** when you plan to use keyboard shortcuts.  When you are in editing mode, all the keyboard pressing becomes editing of the cell contents."
   ]
  },
  {
   "cell_type": "markdown",
   "id": "63931c38-cb8b-4bc9-ab2f-747baf67399c",
   "metadata": {},
   "source": [
    "### Shortcut for Inserting a Cell\n",
    "In **Command Mode**, Press `A` to insert above, Press `B` to insert below"
   ]
  },
  {
   "cell_type": "code",
   "execution_count": 451,
   "id": "793365e2-e5f2-455a-98e4-27f137702f62",
   "metadata": {},
   "outputs": [],
   "source": [
    "# Move this cell active cell by clicking the OUTSIDE area of cell\n",
    "# Make sure you are in Command mode\n",
    "# press A to insert a cell above this cell\n",
    "# press B to insert a cell below this cell"
   ]
  },
  {
   "cell_type": "markdown",
   "id": "dec0a5d1-603b-4894-80b8-f8a288587a1e",
   "metadata": {},
   "source": [
    "### Shortcut for Deleting a Cell\n",
    "In **Command Mode**, Press ```D```, ```D``` (Press D TWICE)"
   ]
  },
  {
   "cell_type": "code",
   "execution_count": null,
   "id": "c47a23ba-7ca8-44c9-b6e0-8c51aadcf403",
   "metadata": {},
   "outputs": [],
   "source": [
    "# cell to delete - 1"
   ]
  },
  {
   "cell_type": "code",
   "execution_count": null,
   "id": "f5bb38bd-3895-4cfe-b832-059c6efe370a",
   "metadata": {
    "jp-MarkdownHeadingCollapsed": true
   },
   "outputs": [],
   "source": [
    "# cell to delete - 2"
   ]
  },
  {
   "cell_type": "code",
   "execution_count": null,
   "id": "bdf6d2da-8474-460a-bf42-6cc56794ff23",
   "metadata": {
    "jp-MarkdownHeadingCollapsed": true
   },
   "outputs": [],
   "source": [
    "# cell to delete - 3"
   ]
  },
  {
   "cell_type": "markdown",
   "id": "b6efb1c6-1322-4b35-a94c-cb533cc8cb93",
   "metadata": {},
   "source": [
    "### Shortcut to **UNDO** action/actions\n",
    "In **Command Mode**, Press ```Z```"
   ]
  },
  {
   "cell_type": "markdown",
   "id": "a8d740eb-cecc-4654-b7bc-64de73dc27e8",
   "metadata": {},
   "source": [
    "## Cell Types\n",
    "There are TWO cell types.\n",
    "- **Code**: let you type python code(s) and python comments\n",
    "- **Markdown**: let you create descriptive texts (a.k.a notes) for your data analysis project.  That's why we are calling it notebooks.\n",
    "\n",
    "When you create a new cell, by default it is a **code** shell.\n",
    "\n",
    "You can change a cell from **code** to **markdown** by pressing `m` key (make sure you are in **Command** mode)\n",
    "\n",
    "You can change a cell from **markdown** to **code** by pressing `y` key (make sure you are in **Command** mode)\n",
    "\n",
    "Note: if you see a pair of square brackets `[ ]` in front a cell, that indicates it's a **code** cell. "
   ]
  },
  {
   "cell_type": "markdown",
   "id": "0e13861d-95b5-46cf-b3e6-053449fbd2aa",
   "metadata": {},
   "source": [
    "## Editting Markdown Cell\n",
    "You can double-click a markdown cell to enter markdown editting mode.  \n",
    "Once you are done editting the markdown cell, press `RUN` to render the markdown cell to display rich descriptive notes.\n"
   ]
  },
  {
   "cell_type": "markdown",
   "id": "cc8ec527-5ab0-4326-bf51-2dcb698e46fa",
   "metadata": {},
   "source": [
    "## Use `TAB` Key and `ENTER` key for Code Completion\n",
    "\n",
    "## Variable Name Completion\n",
    "We've previously defined `customer_name` variable, to refer to this long variable name, you can just type the first few characters of the variable and press `TAB` to prompt for options of code completion.\n",
    "\n",
    "e.g.<br>\n",
    "`cu`+`TAB` <br>\n",
    "wait for the code completion options and press `ENTER` to complete the code"
   ]
  },
  {
   "cell_type": "code",
   "execution_count": 204,
   "id": "24ed8f9f-5792-4078-b5aa-f9eb2a6a90ac",
   "metadata": {},
   "outputs": [],
   "source": [
    "customer_name"
   ]
  },
  {
   "cell_type": "markdown",
   "id": "4242b6bd-d25f-4947-b544-bef80054c0b8",
   "metadata": {},
   "source": [
    "## Function Name Completion\n",
    "\n",
    "If you like to call a built-in function without typing the full function name, type below to get prompts of code completion.\n",
    "\n",
    "`customer_name.u`+`TAB`\n",
    "\n",
    "Remember to append `()` to the end of the function name to invoke the function.  Without the pair of parenthese, the will instead shows the function desription."
   ]
  },
  {
   "cell_type": "code",
   "execution_count": 221,
   "id": "fe02b3c8-7365-43eb-b377-f14170303610",
   "metadata": {},
   "outputs": [
    {
     "data": {
      "text/plain": [
       "'CASEY'"
      ]
     },
     "execution_count": 221,
     "metadata": {},
     "output_type": "execute_result"
    }
   ],
   "source": [
    "customer_name.upper()"
   ]
  },
  {
   "cell_type": "markdown",
   "id": "7caca4c4-0e9a-447d-a3fa-dd0d2ea90883",
   "metadata": {},
   "source": [
    "## String Interpolation\n",
    "Add a preceeding `f` to the string and use `{}` to refer to a variable.\n",
    "```\n",
    "first_name = \"James\"\n",
    "last_name = \"Bond\"\n",
    "print(f\"My name is {last_name}. {first_name} {last_name}.\")\n",
    "```"
   ]
  },
  {
   "cell_type": "code",
   "execution_count": 245,
   "id": "580c06e7-6044-4c02-a9a5-d950eca65a48",
   "metadata": {},
   "outputs": [
    {
     "name": "stdout",
     "output_type": "stream",
     "text": [
      "My name is Bond. James Bond.\n"
     ]
    }
   ],
   "source": [
    "first_name = \"James\"\n",
    "last_name = \"Bond\"\n",
    "print(f\"My name is {last_name}. {first_name} {last_name}.\")"
   ]
  },
  {
   "cell_type": "markdown",
   "id": "149d6618-085d-47dd-bdaa-26c22927194f",
   "metadata": {},
   "source": [
    "## Python Data Types\n",
    "- Text Type:\t```str```\n",
    "- Numeric Types:\t```int```, ```float```, ```complex```\n",
    "- Sequence Types:\t```list```, ```tuple```, ```range```\n",
    "- Mapping Type:\t```dict```\n",
    "- Set Types:\t```set```, ```frozenset```\n",
    "- Boolean Type:\t```bool```\n",
    "- Binary Types:\t```bytes```, ```bytearray```, ```memoryview```"
   ]
  },
  {
   "cell_type": "code",
   "execution_count": 249,
   "id": "c538eb0a-b2f1-4b84-a756-f4d34bb2d708",
   "metadata": {},
   "outputs": [],
   "source": [
    "x = 100\n",
    "y = 20.5\n",
    "my_name = \"James Bond\""
   ]
  },
  {
   "cell_type": "markdown",
   "id": "29822cb3-24ab-4dcc-bd49-f902b5709726",
   "metadata": {},
   "source": [
    "## Type Checking\n",
    "You can use `type()` function to check verify the type of a variable."
   ]
  },
  {
   "cell_type": "code",
   "execution_count": 252,
   "id": "bcccc011-f0d6-40f0-94b3-25003606b4b5",
   "metadata": {},
   "outputs": [
    {
     "data": {
      "text/plain": [
       "int"
      ]
     },
     "execution_count": 252,
     "metadata": {},
     "output_type": "execute_result"
    }
   ],
   "source": [
    "type(x)"
   ]
  },
  {
   "cell_type": "code",
   "execution_count": 254,
   "id": "fac02a62-5084-42fd-9322-5eb0b5335d9c",
   "metadata": {},
   "outputs": [
    {
     "data": {
      "text/plain": [
       "float"
      ]
     },
     "execution_count": 254,
     "metadata": {},
     "output_type": "execute_result"
    }
   ],
   "source": [
    "type(y)"
   ]
  },
  {
   "cell_type": "code",
   "execution_count": 256,
   "id": "2192141b-2017-41f6-9588-9c2561a38923",
   "metadata": {},
   "outputs": [
    {
     "data": {
      "text/plain": [
       "str"
      ]
     },
     "execution_count": 256,
     "metadata": {},
     "output_type": "execute_result"
    }
   ],
   "source": [
    "type(my_name)"
   ]
  },
  {
   "cell_type": "markdown",
   "id": "f554f696-fd93-4365-a290-2e0a9834f9e4",
   "metadata": {},
   "source": [
    "## Type Confusion Errors\n",
    "Typing is a challenging concept to beginner.  Many programming errors rooted to programmer's confusion in types."
   ]
  },
  {
   "cell_type": "code",
   "execution_count": 265,
   "id": "d1727f62-5978-429e-be4e-04017ae788f0",
   "metadata": {},
   "outputs": [
    {
     "name": "stdout",
     "output_type": "stream",
     "text": [
      "120.5\n"
     ]
    }
   ],
   "source": [
    "# the line below works\n",
    "print(x + y) # it is okay to add a float number to an int"
   ]
  },
  {
   "cell_type": "code",
   "execution_count": 263,
   "id": "c3fd0baa-add9-43ca-9ec9-7f8fec8320f7",
   "metadata": {},
   "outputs": [
    {
     "ename": "TypeError",
     "evalue": "unsupported operand type(s) for +: 'int' and 'str'",
     "output_type": "error",
     "traceback": [
      "\u001b[0;31m---------------------------------------------------------------------------\u001b[0m",
      "\u001b[0;31mTypeError\u001b[0m                                 Traceback (most recent call last)",
      "Cell \u001b[0;32mIn[263], line 2\u001b[0m\n\u001b[1;32m      1\u001b[0m \u001b[38;5;66;03m# the line below doesn't work\u001b[39;00m\n\u001b[0;32m----> 2\u001b[0m \u001b[38;5;28mprint\u001b[39m(x \u001b[38;5;241m+\u001b[39m my_name)\n",
      "\u001b[0;31mTypeError\u001b[0m: unsupported operand type(s) for +: 'int' and 'str'"
     ]
    }
   ],
   "source": [
    "# the line below doesn't work\n",
    "print(x + my_name) # it is NOT okay to add a string to an integer number\n"
   ]
  },
  {
   "cell_type": "code",
   "execution_count": null,
   "id": "359f0ff8-98bd-4bc3-9359-9619ee826395",
   "metadata": {},
   "outputs": [],
   "source": []
  },
  {
   "cell_type": "markdown",
   "id": "8033c4fc-8f39-4072-b1e0-74dc7d254479",
   "metadata": {},
   "source": [
    "## More on Type Confusion\n",
    "\n",
    "declare `i` is a number\n",
    "```\n",
    "i = 10\n",
    "```"
   ]
  },
  {
   "cell_type": "code",
   "execution_count": 329,
   "id": "f94ac206-a4db-4510-8f7d-629d06900253",
   "metadata": {},
   "outputs": [],
   "source": [
    "i = 10"
   ]
  },
  {
   "cell_type": "code",
   "execution_count": 293,
   "id": "b6254d4a-476a-42fe-96a7-9aac5a616af2",
   "metadata": {},
   "outputs": [
    {
     "data": {
      "text/plain": [
       "20"
      ]
     },
     "execution_count": 293,
     "metadata": {},
     "output_type": "execute_result"
    }
   ],
   "source": [
    "# the result is 20\n",
    "i + i"
   ]
  },
  {
   "cell_type": "markdown",
   "id": "b6e6c212-5d28-4bd4-ae9f-378a50f132c4",
   "metadata": {
    "jp-MarkdownHeadingCollapsed": true
   },
   "source": [
    "declare `j` is a string\n",
    "```\n",
    "j = \"10\"\n",
    "```"
   ]
  },
  {
   "cell_type": "code",
   "execution_count": 331,
   "id": "88349028-bd30-419b-a6fb-e96fe16cd90a",
   "metadata": {},
   "outputs": [],
   "source": [
    "j = \"10\""
   ]
  },
  {
   "cell_type": "code",
   "execution_count": 302,
   "id": "719b0637-d800-4acc-9d28-fcc962314af0",
   "metadata": {},
   "outputs": [
    {
     "data": {
      "text/plain": [
       "'1010'"
      ]
     },
     "execution_count": 302,
     "metadata": {},
     "output_type": "execute_result"
    }
   ],
   "source": [
    "# the result is '1010'\n",
    "# j is a string, when + is applied, it concatenates two string\n",
    "j + j"
   ]
  },
  {
   "cell_type": "markdown",
   "id": "3db177f1-517a-4c8a-bdb9-34ce2afb5a7c",
   "metadata": {},
   "source": [
    "Type the following code\n",
    "\n",
    "`i/3` \n",
    "\n",
    "It gives 3.333333333333..."
   ]
  },
  {
   "cell_type": "code",
   "execution_count": 320,
   "id": "8450c909-745a-48de-bf9e-3df0ebc3f4a3",
   "metadata": {},
   "outputs": [
    {
     "data": {
      "text/plain": [
       "3.3333333333333335"
      ]
     },
     "execution_count": 320,
     "metadata": {},
     "output_type": "execute_result"
    }
   ],
   "source": [
    "i/3"
   ]
  },
  {
   "cell_type": "markdown",
   "id": "9f2e7ce7-58f9-4764-ba3b-42eeef122da3",
   "metadata": {},
   "source": [
    "Type the following code\n",
    "\n",
    "`j/3` \n",
    "\n",
    "It produces an error"
   ]
  },
  {
   "cell_type": "code",
   "execution_count": 324,
   "id": "7aea4092-b352-4860-b52e-4acb16fce0fd",
   "metadata": {},
   "outputs": [
    {
     "ename": "TypeError",
     "evalue": "unsupported operand type(s) for /: 'str' and 'int'",
     "output_type": "error",
     "traceback": [
      "\u001b[0;31m---------------------------------------------------------------------------\u001b[0m",
      "\u001b[0;31mTypeError\u001b[0m                                 Traceback (most recent call last)",
      "Cell \u001b[0;32mIn[324], line 1\u001b[0m\n\u001b[0;32m----> 1\u001b[0m j\u001b[38;5;241m/\u001b[39m\u001b[38;5;241m3\u001b[39m\n",
      "\u001b[0;31mTypeError\u001b[0m: unsupported operand type(s) for /: 'str' and 'int'"
     ]
    }
   ],
   "source": [
    "j/3"
   ]
  },
  {
   "cell_type": "markdown",
   "id": "b5eb0d51-c97b-4333-9581-eb647e122ff9",
   "metadata": {},
   "source": [
    "### Always use `type()` function to verify the type of variables\n",
    "```\n",
    "type(i)\n",
    "type(j)\n",
    "```"
   ]
  },
  {
   "cell_type": "code",
   "execution_count": 306,
   "id": "4330ee30-e6b5-4d70-8d59-71e98dd06205",
   "metadata": {},
   "outputs": [
    {
     "data": {
      "text/plain": [
       "int"
      ]
     },
     "execution_count": 306,
     "metadata": {},
     "output_type": "execute_result"
    }
   ],
   "source": [
    "type(i)"
   ]
  },
  {
   "cell_type": "code",
   "execution_count": 347,
   "id": "ebc6e46a-897a-4da1-9c9c-d4b34e43d0e6",
   "metadata": {},
   "outputs": [
    {
     "data": {
      "text/plain": [
       "str"
      ]
     },
     "execution_count": 347,
     "metadata": {},
     "output_type": "execute_result"
    }
   ],
   "source": [
    "type(j)"
   ]
  },
  {
   "cell_type": "markdown",
   "id": "aca7e514-4165-4bf0-a15a-6bd89f97bbfe",
   "metadata": {},
   "source": [
    "## Type Conversion\n",
    "\n",
    "Use the following type casting function to force a conversion of data type\n",
    "\n",
    "```\n",
    "int()\n",
    "float()\n",
    "str()\n",
    "bool()\n",
    "bytes()\n",
    "```"
   ]
  },
  {
   "cell_type": "code",
   "execution_count": 343,
   "id": "f8f79502-32d5-45ca-aadd-aec0ee659d8a",
   "metadata": {},
   "outputs": [
    {
     "data": {
      "text/plain": [
       "'1010'"
      ]
     },
     "execution_count": 343,
     "metadata": {},
     "output_type": "execute_result"
    }
   ],
   "source": [
    "# j + j produces 1010\n",
    "j + j"
   ]
  },
  {
   "cell_type": "code",
   "execution_count": 341,
   "id": "a07784ea-13e8-4286-b795-0ea4de93a2e5",
   "metadata": {},
   "outputs": [
    {
     "data": {
      "text/plain": [
       "20"
      ]
     },
     "execution_count": 341,
     "metadata": {},
     "output_type": "execute_result"
    }
   ],
   "source": [
    "# int(j) + int(j) produces 20\n",
    "int(j) + int(j)"
   ]
  },
  {
   "cell_type": "markdown",
   "id": "c8247ab5-ea15-4329-89d4-68fd6eb3216a",
   "metadata": {},
   "source": [
    "## Operators\n",
    "Operators are used to perform operations on variables and values.\n",
    "- Arithmetic operators: ```+, -, *, /, %, **, //```\n",
    "- Assignment operators: ```=, +=```\n",
    "- Comparison operators: ```==, !=, >=```\n",
    "- Logical operators: ```and, or, not```\n",
    "- Identity operators: ```is, is not```\n",
    "- Membership operators: ```in, not in```\n",
    "- Bitwise operators: ```&,|, ^, ~, <<, >>```"
   ]
  },
  {
   "cell_type": "markdown",
   "id": "b531fe35-a75b-48b0-9391-0073c3f005d8",
   "metadata": {},
   "source": [
    "## Arithmetic Operators\n",
    "\n",
    "- ```+```\tAddition\t```x + y```\n",
    "- ```-```\tSubtraction\t```x - y```\n",
    "- ```*```\tMultiplication\t```x * y```\n",
    "- ```/```\tDivision\t```x / y```\n",
    "- ```%```\tModulus\t```x % y```\n",
    "- ```**```\tExponentiation\t```x ** y```\n",
    "- ```//```\tFloor division\t```x // y```"
   ]
  },
  {
   "cell_type": "markdown",
   "id": "65229f22-635c-4924-b99f-97169a4df680",
   "metadata": {},
   "source": [
    "## Comparison Operators\n",
    "- Equal\t```x == y```\n",
    "- Not equal\t```x != y```\n",
    "- Greater than\t```x > y```\n",
    "- Less than\t```x < y```\n",
    "- Greater than or equal to\t```x >= y```\n",
    "- Less than or equal to\t```x <= y```\n"
   ]
  },
  {
   "cell_type": "markdown",
   "id": "efd589ce-4d38-4893-9be0-af5ba99cd098",
   "metadata": {},
   "source": [
    "## Logical Operators\n",
    "\n",
    "- ```and``` \tReturns True if both statements are true\t```x < 5 and  x < 10```\t\n",
    "- ```or```\tReturns True if one of the statements is true\t```x < 5 or x < 4```\t\n",
    "- ```not```\tReverse the result, returns False if the result is true\t```not(x < 5 and x < 10)```"
   ]
  },
  {
   "cell_type": "markdown",
   "id": "2e113a9b-23b9-44bb-ba2c-1a6233d593f1",
   "metadata": {},
   "source": [
    "## Looping\n",
    "\n",
    "```\n",
    "students = [\"April\", \"Ben\", \"Cathy\", \"Danny\", \"Eve\"]\n",
    "for student in students:\n",
    "    print(student)\n",
    "```"
   ]
  },
  {
   "cell_type": "code",
   "execution_count": 397,
   "id": "c7174b1f-d483-48ff-8f95-689dbeca2dd5",
   "metadata": {},
   "outputs": [
    {
     "name": "stdout",
     "output_type": "stream",
     "text": [
      "April\n",
      "Ben\n",
      "Cathy\n",
      "Danny\n",
      "Eve\n"
     ]
    }
   ],
   "source": [
    "students = [\"April\", \"Ben\", \"Cathy\", \"Danny\", \"Eve\"]\n",
    "for student in students:\n",
    "    print(student)"
   ]
  },
  {
   "cell_type": "markdown",
   "id": "829c12cc-3484-4fbb-8088-10282d409c41",
   "metadata": {},
   "source": [
    "## Dictionary\n",
    "- A dictionary is a collection of related data. \n",
    "- In Python dictionaries are written with curly brackets **{ }**, and they have ***keys*** and ***values***.\n",
    "\n",
    "**Create and print a dictionary**:\n",
    "```\n",
    "client = {\n",
    "    \"id\": 888,\n",
    "    \"company\": \"ABC Co.\",\n",
    "    \"email\": \"hello@abc.com\"\n",
    "}\n",
    "\n",
    "client\n",
    "client[\"email\"]\n",
    "client.get(\"email\")\n",
    "client[\"email\"] = \"hi@abc.com\"\n",
    "```"
   ]
  },
  {
   "cell_type": "code",
   "execution_count": 403,
   "id": "1677a760-6e26-4d88-b6df-61374af043cc",
   "metadata": {},
   "outputs": [],
   "source": [
    "client = {\n",
    "    \"id\": 888,\n",
    "    \"company\": \"ABC Co.\",\n",
    "    \"email\": \"hello@abc.com\"\n",
    "}"
   ]
  },
  {
   "cell_type": "code",
   "execution_count": 405,
   "id": "d5129cdc-ba43-4235-b318-ae6ec45fa61b",
   "metadata": {},
   "outputs": [
    {
     "data": {
      "text/plain": [
       "{'id': 888, 'company': 'ABC Co.', 'email': 'hello@abc.com'}"
      ]
     },
     "execution_count": 405,
     "metadata": {},
     "output_type": "execute_result"
    }
   ],
   "source": [
    "client"
   ]
  },
  {
   "cell_type": "code",
   "execution_count": 407,
   "id": "e96b77a0-8044-49cc-9710-9fb2f76e853c",
   "metadata": {},
   "outputs": [
    {
     "data": {
      "text/plain": [
       "'hello@abc.com'"
      ]
     },
     "execution_count": 407,
     "metadata": {},
     "output_type": "execute_result"
    }
   ],
   "source": [
    "client[\"email\"]"
   ]
  },
  {
   "cell_type": "code",
   "execution_count": 412,
   "id": "abbaca9e-6381-4428-bef0-245abf87632b",
   "metadata": {},
   "outputs": [
    {
     "data": {
      "text/plain": [
       "'hello@abc.com'"
      ]
     },
     "execution_count": 412,
     "metadata": {},
     "output_type": "execute_result"
    }
   ],
   "source": [
    "client.get(\"email\")"
   ]
  },
  {
   "cell_type": "code",
   "execution_count": 415,
   "id": "29ffd0b3-0790-4594-aa1c-74188201eada",
   "metadata": {},
   "outputs": [],
   "source": [
    "client[\"email\"] = \"hi@abc.com\""
   ]
  },
  {
   "cell_type": "code",
   "execution_count": 417,
   "id": "194a728a-76be-44a5-85f9-432c04abd89c",
   "metadata": {},
   "outputs": [
    {
     "data": {
      "text/plain": [
       "{'id': 888, 'company': 'ABC Co.', 'email': 'hi@abc.com'}"
      ]
     },
     "execution_count": 417,
     "metadata": {},
     "output_type": "execute_result"
    }
   ],
   "source": [
    "client"
   ]
  },
  {
   "cell_type": "code",
   "execution_count": 419,
   "id": "626f9718-487b-42f0-874a-ddc5e933615a",
   "metadata": {},
   "outputs": [
    {
     "name": "stdout",
     "output_type": "stream",
     "text": [
      "{'id': 888, 'company': 'ABC Co.', 'email': 'hi@abc.com'}\n"
     ]
    }
   ],
   "source": [
    "print(client)"
   ]
  },
  {
   "cell_type": "markdown",
   "id": "e9280c97-9e9f-4dd5-b84f-dfa1e7a7184e",
   "metadata": {},
   "source": [
    "# BASIC NUMPY SYNTAX\n",
    "- NumPy is a python library used for working with arrays.\n",
    "- It also has functions for working in domain of linear algebra, fourier transform, and matrices.\n",
    "- NumPy stands for Numerical Python."
   ]
  },
  {
   "cell_type": "markdown",
   "id": "e7758706-b015-4fa3-9f9e-189d7c141787",
   "metadata": {},
   "source": [
    "## Installation of numpy\n",
    "numpy is already included in anaconda, so NO need to install\n",
    "\n",
    "If you use regular python, you can install with pip\n",
    "```\n",
    "pip install numpy\n",
    "```"
   ]
  },
  {
   "cell_type": "markdown",
   "id": "c8dd8517-32a1-4fef-80f8-d7800825a334",
   "metadata": {},
   "source": [
    "## import before you use it\n",
    "- Once NumPy is installed, **import** it in your applications by adding the `import` keyword:\n",
    "- You will see an error message if didn't import it first\n",
    "- NumPy is usually imported under the np alias.\n",
    "\n",
    "```\n",
    "import numpy as np\n",
    "print(np.__version__)\n",
    "\n",
    "```"
   ]
  },
  {
   "cell_type": "code",
   "execution_count": 463,
   "id": "9cb8c158-cd78-403a-8423-e6587ff3c1c0",
   "metadata": {},
   "outputs": [],
   "source": []
  },
  {
   "cell_type": "code",
   "execution_count": 465,
   "id": "02f4feb0-97e7-48f6-bf57-ad6c639c64bc",
   "metadata": {},
   "outputs": [
    {
     "data": {
      "text/plain": [
       "'1.26.4'"
      ]
     },
     "execution_count": 465,
     "metadata": {},
     "output_type": "execute_result"
    }
   ],
   "source": []
  },
  {
   "cell_type": "markdown",
   "id": "9005882d-6f5d-4a04-b93a-23d2d004707e",
   "metadata": {},
   "source": [
    "## Why `numpy`\n",
    "- In Python we have lists that serve the purpose of arrays, but they are slow to process.\n",
    "- NumPy aims to provide an array object that is up a lot faster.\n",
    "- The array object in NumPy is called `ndarray`, it provides a lot of supporting functions that make working with `ndarray` very easy.\n",
    "- Arrays are very frequently used in data science, where speed and resources are very important.\n",
    "- Pandas will built-on top of numpy and often used together with numpy\n",
    "\n",
    "Let's compare the experience of using a regular python list to numpy array\n",
    "\n",
    "`a_list = [1,2,3,4,5]` - Create a regular python list\n",
    "\n",
    "`np_list = np.array([1,2,3,4,5])` - create a numpy array\n",
    "\n",
    "`type(a_list)`  - it says 'list'\n",
    "\n",
    "`type(np_list)` - it says 'numpy.ndarray'\n",
    "\n",
    "`a_list + 100` - TypeError: a regular number CANNOT adds to a list\n",
    "\n",
    "`np_list + 100` - It smartly repetitively add 100 to each number in the array. A for lopp is quietly running behind the scene without bothering us to write one.\n",
    "\n"
   ]
  },
  {
   "cell_type": "code",
   "execution_count": 470,
   "id": "8fbe0093-4e50-4f1e-bddf-9d4c4d7e1c78",
   "metadata": {},
   "outputs": [],
   "source": [
    "a_list = [1,2,3,4,5]"
   ]
  },
  {
   "cell_type": "code",
   "execution_count": 483,
   "id": "6e9c8067-d8bc-4f29-aeb6-f86e6a2b10f0",
   "metadata": {},
   "outputs": [],
   "source": [
    "np_list = np.array([1,2,3,4,5])"
   ]
  },
  {
   "cell_type": "code",
   "execution_count": 485,
   "id": "7fcd14d0-10e7-4c5b-986f-54cb3bb16313",
   "metadata": {},
   "outputs": [
    {
     "data": {
      "text/plain": [
       "list"
      ]
     },
     "execution_count": 485,
     "metadata": {},
     "output_type": "execute_result"
    }
   ],
   "source": [
    "type(a_list)"
   ]
  },
  {
   "cell_type": "code",
   "execution_count": 487,
   "id": "5aa13127-2649-404a-92dc-f6dec8698a78",
   "metadata": {},
   "outputs": [
    {
     "data": {
      "text/plain": [
       "numpy.ndarray"
      ]
     },
     "execution_count": 487,
     "metadata": {},
     "output_type": "execute_result"
    }
   ],
   "source": [
    "type(np_list)"
   ]
  },
  {
   "cell_type": "code",
   "execution_count": 478,
   "id": "e55d3707-2f6c-4c76-bb7b-06c56e59eb1f",
   "metadata": {},
   "outputs": [
    {
     "ename": "TypeError",
     "evalue": "can only concatenate list (not \"int\") to list",
     "output_type": "error",
     "traceback": [
      "\u001b[0;31m---------------------------------------------------------------------------\u001b[0m",
      "\u001b[0;31mTypeError\u001b[0m                                 Traceback (most recent call last)",
      "Cell \u001b[0;32mIn[478], line 1\u001b[0m\n\u001b[0;32m----> 1\u001b[0m a_list \u001b[38;5;241m+\u001b[39m \u001b[38;5;241m100\u001b[39m\n",
      "\u001b[0;31mTypeError\u001b[0m: can only concatenate list (not \"int\") to list"
     ]
    }
   ],
   "source": [
    "a_list + 100"
   ]
  },
  {
   "cell_type": "code",
   "execution_count": 480,
   "id": "8573de6b-856a-4aeb-b795-a1f043dbd7ed",
   "metadata": {},
   "outputs": [
    {
     "data": {
      "text/plain": [
       "array([101, 102, 103, 104, 105])"
      ]
     },
     "execution_count": 480,
     "metadata": {},
     "output_type": "execute_result"
    }
   ],
   "source": [
    "np_list + 100"
   ]
  },
  {
   "cell_type": "markdown",
   "id": "7535f3ca-8bc2-42e3-bfcd-3307518c9e64",
   "metadata": {},
   "source": [
    "Try other arithmetic operators like below.  Again a for loop is quietly running behind the scene to repetitively performe the same operation to each element of the numpy array.  This fits out need in the use case of data science.\n",
    "\n",
    "```\n",
    "np_list * 100\n",
    "np_list / 100\n",
    "np_list > 3\n",
    "```"
   ]
  },
  {
   "cell_type": "code",
   "execution_count": 497,
   "id": "220ed4ba-d659-418d-a94a-512d55934894",
   "metadata": {},
   "outputs": [
    {
     "data": {
      "text/plain": [
       "array([100, 200, 300, 400, 500])"
      ]
     },
     "execution_count": 497,
     "metadata": {},
     "output_type": "execute_result"
    }
   ],
   "source": [
    "np_list * 100"
   ]
  },
  {
   "cell_type": "code",
   "execution_count": null,
   "id": "2f1412fb-7fb9-4dbc-a031-3dc0b42c2f16",
   "metadata": {},
   "outputs": [],
   "source": []
  },
  {
   "cell_type": "code",
   "execution_count": 499,
   "id": "902fd5da-32a5-4291-b8b7-c3c90286a2ef",
   "metadata": {},
   "outputs": [
    {
     "data": {
      "text/plain": [
       "array([False, False, False,  True,  True])"
      ]
     },
     "execution_count": 499,
     "metadata": {},
     "output_type": "execute_result"
    }
   ],
   "source": [
    "np_list > 3"
   ]
  },
  {
   "cell_type": "code",
   "execution_count": 502,
   "id": "77885c45-d3ad-4a6a-9830-9b7f6f452884",
   "metadata": {},
   "outputs": [
    {
     "data": {
      "text/plain": [
       "dtype('int64')"
      ]
     },
     "execution_count": 502,
     "metadata": {},
     "output_type": "execute_result"
    }
   ],
   "source": [
    "np_list.dtype"
   ]
  },
  {
   "cell_type": "markdown",
   "id": "72403049-6908-40f5-ac45-f087037a2f3a",
   "metadata": {},
   "source": [
    "## `arange()` method\n",
    "- `arange()` is one of the array creation routines based on numerical ranges. \n",
    "- It creates an instance of ndarray with evenly spaced values and returns the reference to it.\n",
    "\n",
    "**Syntax**:\n",
    "```\n",
    "numpy.arange([start, ]stop, [step, ], dtype=None) -> numpy.ndarray\n",
    "```\n",
    "\n",
    "**Example**:\n",
    "```\n",
    "np.arange(0, 20, 2)\n",
    "```\n"
   ]
  },
  {
   "cell_type": "code",
   "execution_count": null,
   "id": "ea8537b5-2e1a-42e1-93c3-672997ffceac",
   "metadata": {},
   "outputs": [],
   "source": []
  },
  {
   "cell_type": "markdown",
   "id": "408b04b6-00a1-4426-be10-02e9286c9119",
   "metadata": {},
   "source": [
    "## Iterating Arrays\n",
    "- Iterating means going through elements one by one.\n",
    "- As we deal with multi-dimensional arrays in numpy, we can do this using basic for loop of python.\n",
    "- If we iterate on a 1-D array it will go through each element one by one.\n",
    "```\n",
    "import numpy as np\n",
    "arr = np.array([1, 2, 3])\n",
    "for x in arr:\n",
    "    print(x)\n",
    "```\n",
    "\n",
    "**Note**: In a 2-D array it will go through all the rows for each loop"
   ]
  },
  {
   "cell_type": "code",
   "execution_count": null,
   "id": "fdb0a73c-b063-406d-965d-e0e319141407",
   "metadata": {},
   "outputs": [],
   "source": []
  },
  {
   "cell_type": "markdown",
   "id": "49ce081c-a4c2-4f01-a67f-10dd77762da6",
   "metadata": {},
   "source": [
    "## Filter\n",
    "- Getting some elements out of an existing array and creating a new array out of them is called filtering.\n",
    "- You filter an array using a index flag list: `[True, False, True, False]`\n",
    "- A boolean index list is a list of booleans corresponding to indexes in the array.\n",
    "- If the value at a matching position is `True`, that element is contained in the result, if the value at that index is `False`, that element is excluded from the result.\n",
    "\n",
    "**Example**:\n",
    "```\n",
    "import numpy as np\n",
    "arr = np.arange(101, 111) # create a list from 101 to 110\n",
    "x = [True, False, False, False, False, False, False, False, False, True]\n",
    "new_arr = arr[x]\n",
    "print(new_arr)\n",
    "```"
   ]
  },
  {
   "cell_type": "code",
   "execution_count": 525,
   "id": "94b579bc-20fd-497d-988c-9566c0781bd4",
   "metadata": {},
   "outputs": [
    {
     "name": "stdout",
     "output_type": "stream",
     "text": [
      "[101 110]\n"
     ]
    }
   ],
   "source": [
    "import numpy as np\n",
    "arr = np.arange(101, 111) # create a list from 101 to 110\n",
    "x = [True, False, False, False, False, False, False, False, False, True]\n",
    "new_arr = arr[x]\n",
    "print(new_arr)"
   ]
  },
  {
   "cell_type": "markdown",
   "id": "4ada0fed-57fa-4460-b10a-58a3aeefee1d",
   "metadata": {},
   "source": [
    "## More on Filtering\n",
    "\n",
    "```\n",
    "arr = np.arange(101, 111) # create a list from 101 to 110\n",
    "filter_flags = arr > 105\n",
    "new_arr = arr[filter_flags]\n",
    "print(filter_flags)\n",
    "print(newarr)\n",
    "```"
   ]
  },
  {
   "cell_type": "code",
   "execution_count": 533,
   "id": "f38b5cd4-6aa1-49c2-994a-25de8a59b731",
   "metadata": {},
   "outputs": [
    {
     "name": "stdout",
     "output_type": "stream",
     "text": [
      "[False False False False False  True  True  True  True  True]\n",
      "[106 107 108 109 110]\n"
     ]
    }
   ],
   "source": [
    "arr = np.arange(101, 111) # create a list from 101 to 110\n",
    "filter_flags = arr > 105\n",
    "new_arr = arr[filter_flags]\n",
    "print(filter_flags)\n",
    "print(new_arr)"
   ]
  },
  {
   "cell_type": "markdown",
   "id": "190a3814-ed86-4dad-8b6c-fad2f1c109e7",
   "metadata": {},
   "source": [
    "## Challenge\n",
    "retrieve all the even number from the array in the previous step\n",
    "\n",
    "**hint**: use `%` (modulus operator)  \n"
   ]
  },
  {
   "cell_type": "code",
   "execution_count": null,
   "id": "bbbcf653-7a00-4b55-baa2-a41805ea6f1c",
   "metadata": {},
   "outputs": [],
   "source": []
  },
  {
   "cell_type": "markdown",
   "id": "8e1439e6-fd0f-455c-8189-a3f55611974b",
   "metadata": {},
   "source": [
    "## Generating Random Array\n",
    "\n",
    "use the following code to import numpy's random class\n",
    "```\n",
    "from numpy import random\n",
    "```\n",
    "\n",
    "The `randint()` method takes a size parameter where you can specify the shape of an array.\n",
    "\n",
    "**Example**:\n",
    "```\n",
    "x=random.randint(100, size=(3))\n",
    "y=random.randint(100, size=(3,4))\n",
    "z=random.rand(4,5)\n",
    "print(x)\n",
    "print(y)\n",
    "print(z)\n",
    "```"
   ]
  },
  {
   "cell_type": "code",
   "execution_count": 549,
   "id": "fb06799d-eccc-4b2a-8b89-dcb40e7f9f09",
   "metadata": {},
   "outputs": [],
   "source": [
    "# import here\n",
    "from numpy import random"
   ]
  },
  {
   "cell_type": "code",
   "execution_count": 574,
   "id": "74e1717f-e76b-4eea-879e-64ffba2ad08a",
   "metadata": {},
   "outputs": [
    {
     "data": {
      "text/plain": [
       "array([55,  1, 16])"
      ]
     },
     "execution_count": 574,
     "metadata": {},
     "output_type": "execute_result"
    }
   ],
   "source": [
    "random.randint(100, size=(3))"
   ]
  },
  {
   "cell_type": "markdown",
   "id": "bf1b26be-14be-431e-bcff-792020f730cc",
   "metadata": {},
   "source": [
    "**To keep running a same cell**:\n",
    "\n",
    "Hold `CMD` (Mac) / `CTRL` (Windows) + `ENTER`"
   ]
  },
  {
   "cell_type": "code",
   "execution_count": null,
   "id": "41f3ce2b-738f-4acd-80f8-391352d2fdfb",
   "metadata": {},
   "outputs": [],
   "source": []
  },
  {
   "cell_type": "markdown",
   "id": "4ee3f5b0-b1df-40c2-8a57-0f6650278810",
   "metadata": {},
   "source": [
    "## Generating random number from array\n",
    "- The choice() method allows you to generate a random value based on an array of values.\n",
    "- The choice() method takes an array as a parameter and randomly returns one of the values.\n",
    "\n",
    "```\n",
    "x = random.choice([\"A\", \"2\", \"3\", \"4\", \"5\", \"6\", \"7\", \"8\", \"9\", \"10\", \"J\", \"Q\", \"K\"])\n",
    "y = random.choice([\"A\", \"2\", \"3\", \"4\", \"5\", \"6\", \"7\", \"8\", \"9\", \"10\", \"J\", \"Q\", \"K\"], size=(3,2))\n",
    "z = random.choice([\"A\", \"2\", \"3\", \"4\", \"5\", \"6\", \"7\", \"8\", \"9\", \"10\", \"J\", \"Q\", \"K\"], size=(3,2))\n",
    "\n",
    "print(x)\n",
    "print(y)\n",
    "print(z)\n",
    "```"
   ]
  },
  {
   "cell_type": "code",
   "execution_count": 651,
   "id": "06297744-e654-4281-bf2c-34066c06bc86",
   "metadata": {},
   "outputs": [
    {
     "name": "stdout",
     "output_type": "stream",
     "text": [
      "3\n",
      "[['Q' 'K']\n",
      " ['Q' 'A']\n",
      " ['9' '5']]\n",
      "[['Q' 'Q']\n",
      " ['8' 'Q']\n",
      " ['9' 'J']]\n"
     ]
    }
   ],
   "source": [
    "x = random.choice([\"A\", \"2\", \"3\", \"4\", \"5\", \"6\", \"7\", \"8\", \"9\", \"10\", \"J\", \"Q\", \"K\"])\n",
    "y = random.choice([\"A\", \"2\", \"3\", \"4\", \"5\", \"6\", \"7\", \"8\", \"9\", \"10\", \"J\", \"Q\", \"K\"], size=(3,2))\n",
    "z = random.choice([\"A\", \"2\", \"3\", \"4\", \"5\", \"6\", \"7\", \"8\", \"9\", \"10\", \"J\", \"Q\", \"K\"], size=(3,2))\n",
    "\n",
    "print(x)\n",
    "print(y)\n",
    "print(z)"
   ]
  },
  {
   "cell_type": "markdown",
   "id": "df5adcc8-8f7a-4244-a0c2-3595acaca13d",
   "metadata": {},
   "source": [
    "# KEYBOARD SHORTCUTS\n",
    "\n",
    "Picking up a few keyboard shortcuts will speed up your code speed in great deal.  \n",
    "\n",
    "Most keyboard shortcuts are for **COMMAND MODE**. A small number are for **EDIT MODE**\n",
    "\n",
    "## Shortcuts in _command mode_\n",
    "\n",
    "| Key                    | Function                                    |\n",
    "| ---------------------- | ------------------------------------------- |\n",
    "| `Enter`                | enter _edit mode_ in the active cell        |\n",
    "|`Cmd+Enter` (Mac) or `Ctrl+Enter` (Windows) | run and stay at the current cell |\n",
    "| `Up`                   | to navigate to upper cell                   |\n",
    "| `Down`                 | to navigate to lower cell                   |\n",
    "| `A`                    | insert a new cell above the active cell     |\n",
    "| `B`                    | insert a new cell below the active cell     |\n",
    "| `M`                    | make the active cell a Markdown cell        |\n",
    "| `Y`                    | make the active cell a code cell            |\n",
    "| `Shift` + `Up Arrow`   | select the current cell and the cell above  |\n",
    "| `Shift` + `Down Arrow` | select the current cell and the cell below  |\n",
    "| `Ctrl` + `A`           | select all cells                            |\n",
    "| `X`                    | cut the selected cell or cells              |\n",
    "| `C`                    | copy the selected cell or cells             |\n",
    "| `V`                    | paste the cell(s)                           |\n",
    "| `Shift + M`            | merge multiple selected cells into one cell |\n",
    "| `DD` (`D` twice)       | delete the active cell                      |\n",
    "| `Z`                    | undo most recent command mode action        |\n",
    "\n",
    "## Shortcuts in _edit mode_\n",
    "\n",
    "| Key                         | Function                            |\n",
    "| --------------------------- | ----------------------------------- |\n",
    "| `Esc`                       | to enter _command mode_             |\n",
    "| `Tab`                       | for code completion                 |\n",
    "| `Shift` + `Tab`             | for tooltip help                    |\n",
    "| `Ctrl` + `Shift` + `-`      | split the active cell at the cursor |\n",
    "| `Ctrl` + `/` or `Cmd` + `/` | toggle comment      "
   ]
  },
  {
   "cell_type": "markdown",
   "id": "f7f5ee3a-d484-44b6-84b2-4d343252a969",
   "metadata": {},
   "source": [
    "## Multiple Lines/Cursors\n",
    "\n",
    "Press and hold `OPTION` (on Mac) or `ALT` (on Windows) to select mulple lines\n",
    "\n",
    "Press and hold `OPTION + CMD` (on Mac) or `ALT + CTRL` (on Windows) to add multiple cursors\n",
    "\n",
    "Press and hold `OPTION + SHFIT` (on Mac) or `ALT + SHIFT` (on Windows) to duplicate line(s)\n",
    "\n",
    "\n",
    "Try that with the following codes\n",
    "```\n",
    "greeting1 = 'I am April'\n",
    "greeting2 = 'I am Ben'\n",
    "greeting3 = 'I am Cathy'\n",
    "```\n",
    "\n",
    "```\n",
    "print(greeting1)\n",
    "print(greeting2)\n",
    "print(greeting3)\n",
    "```"
   ]
  },
  {
   "cell_type": "code",
   "execution_count": 663,
   "id": "23ed12b5-17c9-4a55-b946-288fe8b63d0a",
   "metadata": {},
   "outputs": [],
   "source": [
    "greeting1 = 'I am April.'\n",
    "greeting2 = 'I am Ben.'\n",
    "greeting3 = 'I am Cathy.'"
   ]
  },
  {
   "cell_type": "code",
   "execution_count": 669,
   "id": "d3c63b83-4064-42ee-8903-22e07336aa72",
   "metadata": {},
   "outputs": [
    {
     "name": "stdout",
     "output_type": "stream",
     "text": [
      "I am April.\n",
      "I am Ben.\n",
      "I am Cathy.\n"
     ]
    }
   ],
   "source": [
    "print(greeting1)\n",
    "print(greeting2)\n",
    "print(greeting3)"
   ]
  },
  {
   "cell_type": "markdown",
   "id": "acc8acdc-27f2-4e2a-bd4d-9fb8cb3f9ab2",
   "metadata": {},
   "source": [
    "# Help\n",
    "\n",
    "Prepend a `?` to a library name, method name or variable name, you can access the Docstring for quick reference\n",
    "\n",
    "**Example**\n",
    "\n",
    "```\n",
    "?print\n",
    "?str.upper\n",
    "?pd.read_csv\n",
    "?pd.read_excel\n",
    "```\n",
    "\n",
    "**Or use `SHIFT`+`TAB` to prompt quick reference**\n",
    "\n",
    "`print`+`SHIFT`+`TAB`\n",
    "\n",
    "`str.upper`+`SHIFT`+`TAB`\n"
   ]
  },
  {
   "cell_type": "code",
   "execution_count": null,
   "id": "f0eec64f-0ea3-40e0-a8e0-6c1b98f1804c",
   "metadata": {},
   "outputs": [],
   "source": []
  },
  {
   "cell_type": "code",
   "execution_count": null,
   "id": "bd769d18-25bf-4336-8d9b-0c95521ea881",
   "metadata": {},
   "outputs": [],
   "source": []
  },
  {
   "cell_type": "markdown",
   "id": "2fe87c90-49c2-4cca-aac9-3981c67f093f",
   "metadata": {},
   "source": [
    "# MASTERING MARKDOWND SYNTAX"
   ]
  },
  {
   "cell_type": "markdown",
   "id": "0fac64e2-7797-4de9-b125-6ecb9f215d04",
   "metadata": {},
   "source": [
    "## What is Markdown?\n",
    "\n",
    "Markdown is a lightweight markup language that you can use to add rich formatting to plaintext text documents.\n",
    "\n",
    "Markdown is widely used in Jupyter Notebook for adding rich descriptive contents and instructions."
   ]
  },
  {
   "cell_type": "markdown",
   "id": "6d79a227-78ab-4971-aab9-b74d8fd5f0f0",
   "metadata": {},
   "source": [
    "## Basic Syntax\n",
    "\n",
    "![Markdown Cheat Sheet](https://res.cloudinary.com/practicaldev/image/fetch/s--2rTn_7XO--/c_limit%2Cf_auto%2Cfl_progressive%2Cq_auto%2Cw_880/https://dev-to-uploads.s3.amazonaws.com/i/5zhubbpov3m3ly9a1t9c.png)"
   ]
  },
  {
   "cell_type": "markdown",
   "id": "bf8dd165-b9f7-42e8-9f47-b991b9a89b6c",
   "metadata": {},
   "source": [
    "### Various Heading \n",
    "\n",
    "Start with `#` to create heading of various sizes.  \n",
    "One `#` for heading size 1  \n",
    "Two `#` for heading size 2  \n",
    "and so on ...\n",
    "\n",
    "```\n",
    "# Heading 1 (biggest heading)\n",
    "## Heading 2\n",
    "### Heading 3\n",
    "#### Heading 4\n",
    "##### Heading 5\n",
    "###### Heading (smallest heading)\n",
    "```"
   ]
  },
  {
   "cell_type": "markdown",
   "id": "8f30ae8e-69e7-4511-af28-227e8bcf2c9a",
   "metadata": {
    "jp-MarkdownHeadingCollapsed": true
   },
   "source": []
  },
  {
   "cell_type": "markdown",
   "id": "d84ac4e3-e57d-4a4b-9e4f-a1f479c8de8c",
   "metadata": {},
   "source": [
    "### Bold Text\n",
    "Wrap text between a pair of `**` to make it bold.\n",
    "\n",
    "Example code:\n",
    "```\n",
    "This is **Bold** text.\n",
    "```"
   ]
  },
  {
   "cell_type": "markdown",
   "id": "c41eb947-f99d-4b77-a04e-4fe629b94447",
   "metadata": {
    "jp-MarkdownHeadingCollapsed": true
   },
   "source": []
  },
  {
   "cell_type": "markdown",
   "id": "53f6dfb5-84f6-44c6-a96f-0004e99830aa",
   "metadata": {},
   "source": [
    "### Italic Text\n",
    "Wrap text between a pair of `_` to make it italic.\n",
    "\n",
    "Example code:\n",
    "```\n",
    "This is _Italic_ text.\n",
    "```"
   ]
  },
  {
   "cell_type": "markdown",
   "id": "94d2f790-9823-43d2-93e8-f982e6c23270",
   "metadata": {
    "jp-MarkdownHeadingCollapsed": true
   },
   "source": []
  },
  {
   "cell_type": "markdown",
   "id": "08e3fbd9-cbd2-4147-8f05-51edda500715",
   "metadata": {},
   "source": [
    "### Unordered List\n",
    "Add a preceeding `-` to each list item\n",
    "\n",
    "```\n",
    "- item\n",
    "- item again\n",
    "- item again and again\n",
    "```"
   ]
  },
  {
   "cell_type": "markdown",
   "id": "3d8ea38b-95e8-4f1b-b4a9-7558895434e1",
   "metadata": {
    "jp-MarkdownHeadingCollapsed": true
   },
   "source": []
  },
  {
   "cell_type": "markdown",
   "id": "7f0b6572-b074-4152-b426-4f6ac3b6a45f",
   "metadata": {},
   "source": [
    "### Ordered List\n",
    "Add a preceeding number `1`+`.` to each list item\n",
    "\n",
    "```\n",
    "1. item\n",
    "2. item again\n",
    "3. item again and again\n",
    "```"
   ]
  },
  {
   "cell_type": "markdown",
   "id": "cec7c204-18a5-46dc-ab80-0f6af5d0935c",
   "metadata": {},
   "source": []
  },
  {
   "cell_type": "markdown",
   "id": "87a528b2-9493-4958-9c15-10d2bb527b25",
   "metadata": {},
   "source": [
    "item\n",
    "item again\n",
    "item again and again"
   ]
  },
  {
   "cell_type": "markdown",
   "id": "a5374e54-5ba4-4e05-9fd1-40108a3f5135",
   "metadata": {},
   "source": [
    "### Hyperlink\n",
    "\n",
    "Use a pair of square brackets and a pair of parentheses  \n",
    "**Syntax**: `[Display Text](Destination Link)`\n",
    "\n",
    "**Example**:\n",
    "```\n",
    "Apple Web Site: [Apple](https://www.apple.com)\n",
    "```"
   ]
  },
  {
   "cell_type": "markdown",
   "id": "1b9ede02-bc17-47a9-a5c9-194b83c4e170",
   "metadata": {},
   "source": []
  },
  {
   "attachments": {},
   "cell_type": "markdown",
   "id": "a3227d96-1b28-459c-bbd5-1683401b3aa6",
   "metadata": {},
   "source": [
    "### Add image to your \n",
    "\n",
    "Start with exclamation mark and followed by a pair of square brackets and a pair of parentheses.  \n",
    "\n",
    "**Syntax**:`![]()`\n",
    "\n",
    "**Example**:\n",
    "```\n",
    "![HKU Business School Logo](https://www.hkubs.hku.hk/ciec/wp-content/uploads/HKU_Business_School_Logo_Color.png)\n",
    "```"
   ]
  },
  {
   "cell_type": "markdown",
   "id": "5f849308-18b2-43a1-bd57-dac73b15c8eb",
   "metadata": {},
   "source": [
    "### Highlighting Program Codes\n",
    "\n",
    "**Inline Program Codse**: \n",
    "```\n",
    "a code statement here: `i = 100`\n",
    "```\n"
   ]
  },
  {
   "cell_type": "markdown",
   "id": "5e2f646a-6f70-4532-aa9d-b084ffa1d892",
   "metadata": {},
   "source": []
  },
  {
   "cell_type": "markdown",
   "id": "3b86028c-b576-4e97-960e-2746f03d0d51",
   "metadata": {
    "jp-MarkdownHeadingCollapsed": true
   },
   "source": [
    "## Markdown Playground \n",
    "\n",
    "The following page let you type markdown and provide instant live rendering/preview\n",
    "\n",
    "[dillinger.io](https://dillinger.io/)"
   ]
  },
  {
   "cell_type": "markdown",
   "id": "e05602e7-85eb-40cc-8697-1f54da533d97",
   "metadata": {},
   "source": [
    "## More on Markdown\n",
    "\n",
    "[More Markdown Syntax](https://www.markdownguide.org/basic-syntax/)"
   ]
  },
  {
   "cell_type": "markdown",
   "id": "fa7351c8-097c-407e-9fe2-62f1a9b3cb15",
   "metadata": {},
   "source": [
    "# EXERCISE #1 - Create Your Personal Profile Using Markdown\n",
    "\n",
    "Use markdown to build you online profile.\n",
    "- Go to **Moodle** to download the exercise description.\n",
    "- Follow the instructor's steps to build you online profile.  This only profile can be use for your Github account.\n",
    "- Submit your completed markdown personal profile to Moodle.\n",
    "- This exercise weighs 10 marks."
   ]
  },
  {
   "cell_type": "code",
   "execution_count": null,
   "id": "d18dd69f-28e3-49d7-8c3d-aba281283a9b",
   "metadata": {},
   "outputs": [],
   "source": []
  }
 ],
 "metadata": {
  "kernelspec": {
   "display_name": "Python [conda env:base] *",
   "language": "python",
   "name": "conda-base-py"
  },
  "language_info": {
   "codemirror_mode": {
    "name": "ipython",
    "version": 3
   },
   "file_extension": ".py",
   "mimetype": "text/x-python",
   "name": "python",
   "nbconvert_exporter": "python",
   "pygments_lexer": "ipython3",
   "version": "3.12.4"
  }
 },
 "nbformat": 4,
 "nbformat_minor": 5
}
